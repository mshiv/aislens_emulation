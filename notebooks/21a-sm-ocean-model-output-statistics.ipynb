{
 "cells": [
  {
   "cell_type": "markdown",
   "id": "395c628d-d8ab-4071-9c7d-f0c66ed67011",
   "metadata": {},
   "source": [
    "This notebook explores the ocean model simulation used as an input to the generator.\n",
    "We make use of the Southern Ocean Regionally Refined Mesh v 2.1 run of the E3SM / MPAS-Ocean model, a 1000 year simulation of the ocean circulation, provided at a monthly resolution.\n",
    "The notebook uses `dask` to chunk this dataset throughout the workflow to enable scalable computation."
   ]
  },
  {
   "cell_type": "code",
   "execution_count": 90,
   "id": "2349f859-1873-46d8-b695-506e1b0106aa",
   "metadata": {},
   "outputs": [],
   "source": [
    "import sys\n",
    "import os\n",
    "os.environ['USE_PYGEOS'] = '0'\n",
    "import gc\n",
    "import collections\n",
    "from pathlib import Path\n",
    "\n",
    "import cartopy.crs as ccrs\n",
    "import cartopy\n",
    "import matplotlib.pyplot as plt\n",
    "import seaborn as sns\n",
    "from matplotlib import rcParams, cycler\n",
    "from matplotlib import animation, rc\n",
    "from matplotlib.gridspec import GridSpec\n",
    "from mpl_toolkits.axes_grid1.inset_locator import inset_axes\n",
    "import geopandas as gpd\n",
    "\n",
    "import numpy as np\n",
    "import xarray as xr\n",
    "from xeofs.xarray import EOF\n",
    "import rioxarray\n",
    "\n",
    "import dask\n",
    "import distributed\n",
    "\n",
    "import scipy\n",
    "from scipy import signal\n",
    "import cftime\n",
    "from shapely.geometry import mapping\n",
    "from xarrayutils.utils import linear_trend, xr_linregress\n",
    "import pandas as pd"
   ]
  },
  {
   "cell_type": "code",
   "execution_count": null,
   "id": "e90b38f2-f027-46ba-b424-96ced44f0877",
   "metadata": {},
   "outputs": [],
   "source": [
    "client = distributed.Client()\n",
    "client"
   ]
  },
  {
   "cell_type": "code",
   "execution_count": 92,
   "id": "3033294e-a794-459c-a5ff-e00f153a952d",
   "metadata": {},
   "outputs": [],
   "source": []
  },
  {
   "cell_type": "code",
   "execution_count": 88,
   "id": "2810b82b-ac42-438e-aa08-7bc76629b7f1",
   "metadata": {},
   "outputs": [],
   "source": [
    "# File path directories\n",
    "\n",
    "# inDirName = os.path.abspath(os.path.join(os.getcwd(), os.pardir))\n",
    "\n",
    "# Get full path of the aislens_emulation directory. All file IO is relative to this path.\n",
    "main_dir = Path.cwd().parent\n",
    "\n",
    "dir_ext_data = 'data/external/'\n",
    "dir_interim_data = 'data/interim/'\n",
    "\n",
    "# DATASET FILEPATHS\n",
    "# Ocean model output - E3SM (SORRMv2.1.ISMF), data received from Darin Comeau / Matt Hoffman at LANL\n",
    "DIR_SORRMv21 = 'data/external/SORRMv2.1.ISMF/regridded_output/'\n",
    "\n",
    "# INTERIM GENERATED FILEPATHS\n",
    "DIR_SORRMv21_Interim = 'data/interim/SORRMv2.1.ISMF/iceShelves_dedraft/'\n",
    "\n",
    "# DATA FILENAMES\n",
    "FILE_SORRMv21 = 'Regridded_SORRMv2.1.ISMF.FULL.nc'\n",
    "\n",
    "# Ice shelf basin/catchment definitions\n",
    "FILE_iceShelvesShape = 'iceShelves.geojson'"
   ]
  },
  {
   "cell_type": "code",
   "execution_count": 74,
   "id": "780d0a92-42d9-4e52-8cab-bc79c7483d3f",
   "metadata": {},
   "outputs": [
    {
     "name": "stderr",
     "output_type": "stream",
     "text": [
      "/Users/smurugan9/opt/anaconda3/envs/aislens/lib/python3.10/site-packages/pyproj/crs/crs.py:141: FutureWarning: '+init=<authority>:<code>' syntax is deprecated. '<authority>:<code>' is the preferred initialization method. When making the change, be mindful of axis order changes: https://pyproj4.github.io/pyproj/stable/gotchas.html#axis-order-changes-in-proj-6\n",
      "  in_crs_string = _prepare_from_proj_string(in_crs_string)\n"
     ]
    }
   ],
   "source": [
    "SORRMv21 = xr.open_dataset(inDirName+DIR_SORRMv21+FILE_SORRMv21, chunks={\"Time\":36})\n",
    "\n",
    "ICESHELVES_MASK = gpd.read_file(inDirName+DIR_external+FILE_iceShelvesShape)\n",
    "icems = ICESHELVES_MASK.to_crs({'init': 'epsg:3031'});\n",
    "crs = ccrs.SouthPolarStereo();"
   ]
  },
  {
   "cell_type": "code",
   "execution_count": 75,
   "id": "0b5ac655-3949-4915-b119-ddf6d6ff2b88",
   "metadata": {},
   "outputs": [],
   "source": [
    "flux = SORRMv21.timeMonthly_avg_landIceFreshwaterFlux\n",
    "# ssh = SORRMv21.timeMonthly_avg_ssh"
   ]
  },
  {
   "cell_type": "markdown",
   "id": "c5fb4a0c-8bcf-43a6-998f-c90397fa7424",
   "metadata": {},
   "source": [
    "### Detrend and deseasonalize data"
   ]
  },
  {
   "cell_type": "code",
   "execution_count": null,
   "id": "0eb3e307-05d2-4bb6-b766-5dd5343e9e5e",
   "metadata": {},
   "outputs": [],
   "source": [
    "# Linear trend, if any\n",
    "# Debug for dask implementation, a \"consistent source of headaches\".\n",
    "# https://ncar.github.io/esds/posts/2022/dask-debug-detrend/\n",
    "\n",
    "def detrend_dim(data, dim, deg):\n",
    "    # detrend along a single dimension\n",
    "    p = data.polyfit(dim=dim, deg=deg)\n",
    "    fit = xr.polyval(data[dim], p.polyfit_coefficients)\n",
    "    return data - fit"
   ]
  },
  {
   "cell_type": "code",
   "execution_count": null,
   "id": "278964c4-0238-4014-b457-a8ff170b08bf",
   "metadata": {},
   "outputs": [],
   "source": [
    "p = flux.polyfit(dim='Time',deg=1)\n",
    "p.polyfit_coefficients"
   ]
  },
  {
   "cell_type": "code",
   "execution_count": null,
   "id": "0e1f2f6f-0332-45c8-a1a2-9b87529f014f",
   "metadata": {},
   "outputs": [],
   "source": [
    "fit = xr.polyval(flux['Time'], p.polyfit_coefficients)"
   ]
  },
  {
   "cell_type": "code",
   "execution_count": null,
   "id": "7a962d91-5f8d-44d8-a081-cdd309e75a67",
   "metadata": {},
   "outputs": [],
   "source": [
    "dim = 'Time'\n",
    "data = flux\n",
    "chunked_dim = xr.DataArray(dask.array.from_array(data[dim].data, chunks=data.chunksizes[dim]), dims=dim, name=dim)"
   ]
  },
  {
   "cell_type": "code",
   "execution_count": 76,
   "id": "3244945a-ea59-494a-b3be-37d0f89d05c4",
   "metadata": {},
   "outputs": [],
   "source": [
    "# polyval function defined below does not work for a Datetime vector time dimension, only for integers. \n",
    "# TODO: Modify function to convert that to a vector of floats or ints.\n",
    "\n",
    "def polyval(coord, coeffs, degree_dim=\"degree\"):\n",
    "    x = np.array(range(12000))# coord.data\n",
    "\n",
    "    deg_coord = coeffs[degree_dim]\n",
    "    N = int(deg_coord.max()) + 1\n",
    "\n",
    "    lhs = xr.DataArray(\n",
    "        np.stack([x ** (N - 1 - i) for i in range(N)], axis=1),\n",
    "        dims=(coord.name, degree_dim),\n",
    "        coords={coord.name: coord, degree_dim: np.arange(deg_coord.max() + 1)[::-1]},\n",
    "    )\n",
    "    return (lhs * coeffs).sum(degree_dim)\n",
    "\n",
    "\n",
    "# Function to detrend\n",
    "# Modified from source: https://gist.github.com/rabernat/1ea82bb067c3273a6166d1b1f77d490f\n",
    "def detrend_dim(da, dim, deg=1):\n",
    "    \"\"\"detrend along a single dimension.\"\"\"\n",
    "    # calculate polynomial coefficients\n",
    "    p = da.polyfit(dim=dim, deg=deg, skipna=False)\n",
    "    # first create a chunked version of the \"ocean_time\" dimension\n",
    "    chunked_dim = xr.DataArray(dask.array.from_array(da[dim].data, chunks=da.chunksizes[dim]), dims=dim, name=dim)\n",
    "    fit = polyval(chunked_dim, p.polyfit_coefficients)\n",
    "    # evaluate trend\n",
    "    # remove the trend\n",
    "    return da - fit"
   ]
  },
  {
   "cell_type": "code",
   "execution_count": 77,
   "id": "06f9f44c-aacd-4052-829d-d2c481160c09",
   "metadata": {},
   "outputs": [],
   "source": [
    "flux_detrend = detrend_dim(flux,\"Time\")"
   ]
  },
  {
   "cell_type": "code",
   "execution_count": 79,
   "id": "46346e95-e770-4ffa-b90c-99b37b167ec4",
   "metadata": {},
   "outputs": [
    {
     "name": "stderr",
     "output_type": "stream",
     "text": [
      "2023-10-31 15:42:54,773 - distributed.worker - WARNING - Compute Failed\n",
      "Key:       ('solve-triangular-d0271ab970130deee2ab1b77776e01e4', 0, 0)\n",
      "Function:  solve_triangular_safe\n",
      "args:      (array([[-1.        ,  0.98123351],\n",
      "       [ 0.        , -0.19282321]]), array([[0., 0., 0., ..., 0., 0., 0.],\n",
      "       [0., 0., 0., ..., 0., 0., 0.]]))\n",
      "kwargs:    {}\n",
      "Exception: \"ValueError('array must not contain infs or NaNs')\"\n",
      "\n"
     ]
    },
    {
     "ename": "ValueError",
     "evalue": "array must not contain infs or NaNs",
     "output_type": "error",
     "traceback": [
      "\u001b[0;31m---------------------------------------------------------------------------\u001b[0m",
      "\u001b[0;31mValueError\u001b[0m                                Traceback (most recent call last)",
      "Cell \u001b[0;32mIn[79], line 1\u001b[0m\n\u001b[0;32m----> 1\u001b[0m flux_detrend_computed \u001b[38;5;241m=\u001b[39m \u001b[43mflux_detrend\u001b[49m\u001b[38;5;241;43m.\u001b[39;49m\u001b[43mcompute\u001b[49m\u001b[43m(\u001b[49m\u001b[43m)\u001b[49m\n",
      "File \u001b[0;32m~/opt/anaconda3/envs/aislens/lib/python3.10/site-packages/xarray/core/dataarray.py:1101\u001b[0m, in \u001b[0;36mDataArray.compute\u001b[0;34m(self, **kwargs)\u001b[0m\n\u001b[1;32m   1082\u001b[0m \u001b[38;5;250m\u001b[39m\u001b[38;5;124;03m\"\"\"Manually trigger loading of this array's data from disk or a\u001b[39;00m\n\u001b[1;32m   1083\u001b[0m \u001b[38;5;124;03mremote source into memory and return a new array. The original is\u001b[39;00m\n\u001b[1;32m   1084\u001b[0m \u001b[38;5;124;03mleft unaltered.\u001b[39;00m\n\u001b[0;32m   (...)\u001b[0m\n\u001b[1;32m   1098\u001b[0m \u001b[38;5;124;03mdask.compute\u001b[39;00m\n\u001b[1;32m   1099\u001b[0m \u001b[38;5;124;03m\"\"\"\u001b[39;00m\n\u001b[1;32m   1100\u001b[0m new \u001b[38;5;241m=\u001b[39m \u001b[38;5;28mself\u001b[39m\u001b[38;5;241m.\u001b[39mcopy(deep\u001b[38;5;241m=\u001b[39m\u001b[38;5;28;01mFalse\u001b[39;00m)\n\u001b[0;32m-> 1101\u001b[0m \u001b[38;5;28;01mreturn\u001b[39;00m \u001b[43mnew\u001b[49m\u001b[38;5;241;43m.\u001b[39;49m\u001b[43mload\u001b[49m\u001b[43m(\u001b[49m\u001b[38;5;241;43m*\u001b[39;49m\u001b[38;5;241;43m*\u001b[39;49m\u001b[43mkwargs\u001b[49m\u001b[43m)\u001b[49m\n",
      "File \u001b[0;32m~/opt/anaconda3/envs/aislens/lib/python3.10/site-packages/xarray/core/dataarray.py:1075\u001b[0m, in \u001b[0;36mDataArray.load\u001b[0;34m(self, **kwargs)\u001b[0m\n\u001b[1;32m   1057\u001b[0m \u001b[38;5;28;01mdef\u001b[39;00m \u001b[38;5;21mload\u001b[39m(\u001b[38;5;28mself\u001b[39m: T_DataArray, \u001b[38;5;241m*\u001b[39m\u001b[38;5;241m*\u001b[39mkwargs) \u001b[38;5;241m-\u001b[39m\u001b[38;5;241m>\u001b[39m T_DataArray:\n\u001b[1;32m   1058\u001b[0m \u001b[38;5;250m    \u001b[39m\u001b[38;5;124;03m\"\"\"Manually trigger loading of this array's data from disk or a\u001b[39;00m\n\u001b[1;32m   1059\u001b[0m \u001b[38;5;124;03m    remote source into memory and return this array.\u001b[39;00m\n\u001b[1;32m   1060\u001b[0m \n\u001b[0;32m   (...)\u001b[0m\n\u001b[1;32m   1073\u001b[0m \u001b[38;5;124;03m    dask.compute\u001b[39;00m\n\u001b[1;32m   1074\u001b[0m \u001b[38;5;124;03m    \"\"\"\u001b[39;00m\n\u001b[0;32m-> 1075\u001b[0m     ds \u001b[38;5;241m=\u001b[39m \u001b[38;5;28;43mself\u001b[39;49m\u001b[38;5;241;43m.\u001b[39;49m\u001b[43m_to_temp_dataset\u001b[49m\u001b[43m(\u001b[49m\u001b[43m)\u001b[49m\u001b[38;5;241;43m.\u001b[39;49m\u001b[43mload\u001b[49m\u001b[43m(\u001b[49m\u001b[38;5;241;43m*\u001b[39;49m\u001b[38;5;241;43m*\u001b[39;49m\u001b[43mkwargs\u001b[49m\u001b[43m)\u001b[49m\n\u001b[1;32m   1076\u001b[0m     new \u001b[38;5;241m=\u001b[39m \u001b[38;5;28mself\u001b[39m\u001b[38;5;241m.\u001b[39m_from_temp_dataset(ds)\n\u001b[1;32m   1077\u001b[0m     \u001b[38;5;28mself\u001b[39m\u001b[38;5;241m.\u001b[39m_variable \u001b[38;5;241m=\u001b[39m new\u001b[38;5;241m.\u001b[39m_variable\n",
      "File \u001b[0;32m~/opt/anaconda3/envs/aislens/lib/python3.10/site-packages/xarray/core/dataset.py:747\u001b[0m, in \u001b[0;36mDataset.load\u001b[0;34m(self, **kwargs)\u001b[0m\n\u001b[1;32m    744\u001b[0m \u001b[38;5;28;01mimport\u001b[39;00m \u001b[38;5;21;01mdask\u001b[39;00m\u001b[38;5;21;01m.\u001b[39;00m\u001b[38;5;21;01marray\u001b[39;00m \u001b[38;5;28;01mas\u001b[39;00m \u001b[38;5;21;01mda\u001b[39;00m\n\u001b[1;32m    746\u001b[0m \u001b[38;5;66;03m# evaluate all the dask arrays simultaneously\u001b[39;00m\n\u001b[0;32m--> 747\u001b[0m evaluated_data \u001b[38;5;241m=\u001b[39m \u001b[43mda\u001b[49m\u001b[38;5;241;43m.\u001b[39;49m\u001b[43mcompute\u001b[49m\u001b[43m(\u001b[49m\u001b[38;5;241;43m*\u001b[39;49m\u001b[43mlazy_data\u001b[49m\u001b[38;5;241;43m.\u001b[39;49m\u001b[43mvalues\u001b[49m\u001b[43m(\u001b[49m\u001b[43m)\u001b[49m\u001b[43m,\u001b[49m\u001b[43m \u001b[49m\u001b[38;5;241;43m*\u001b[39;49m\u001b[38;5;241;43m*\u001b[39;49m\u001b[43mkwargs\u001b[49m\u001b[43m)\u001b[49m\n\u001b[1;32m    749\u001b[0m \u001b[38;5;28;01mfor\u001b[39;00m k, data \u001b[38;5;129;01min\u001b[39;00m \u001b[38;5;28mzip\u001b[39m(lazy_data, evaluated_data):\n\u001b[1;32m    750\u001b[0m     \u001b[38;5;28mself\u001b[39m\u001b[38;5;241m.\u001b[39mvariables[k]\u001b[38;5;241m.\u001b[39mdata \u001b[38;5;241m=\u001b[39m data\n",
      "File \u001b[0;32m~/opt/anaconda3/envs/aislens/lib/python3.10/site-packages/dask/base.py:599\u001b[0m, in \u001b[0;36mcompute\u001b[0;34m(traverse, optimize_graph, scheduler, get, *args, **kwargs)\u001b[0m\n\u001b[1;32m    596\u001b[0m     keys\u001b[38;5;241m.\u001b[39mappend(x\u001b[38;5;241m.\u001b[39m__dask_keys__())\n\u001b[1;32m    597\u001b[0m     postcomputes\u001b[38;5;241m.\u001b[39mappend(x\u001b[38;5;241m.\u001b[39m__dask_postcompute__())\n\u001b[0;32m--> 599\u001b[0m results \u001b[38;5;241m=\u001b[39m \u001b[43mschedule\u001b[49m\u001b[43m(\u001b[49m\u001b[43mdsk\u001b[49m\u001b[43m,\u001b[49m\u001b[43m \u001b[49m\u001b[43mkeys\u001b[49m\u001b[43m,\u001b[49m\u001b[43m \u001b[49m\u001b[38;5;241;43m*\u001b[39;49m\u001b[38;5;241;43m*\u001b[39;49m\u001b[43mkwargs\u001b[49m\u001b[43m)\u001b[49m\n\u001b[1;32m    600\u001b[0m \u001b[38;5;28;01mreturn\u001b[39;00m repack([f(r, \u001b[38;5;241m*\u001b[39ma) \u001b[38;5;28;01mfor\u001b[39;00m r, (f, a) \u001b[38;5;129;01min\u001b[39;00m \u001b[38;5;28mzip\u001b[39m(results, postcomputes)])\n",
      "File \u001b[0;32m~/opt/anaconda3/envs/aislens/lib/python3.10/site-packages/distributed/client.py:3144\u001b[0m, in \u001b[0;36mClient.get\u001b[0;34m(self, dsk, keys, workers, allow_other_workers, resources, sync, asynchronous, direct, retries, priority, fifo_timeout, actors, **kwargs)\u001b[0m\n\u001b[1;32m   3142\u001b[0m         should_rejoin \u001b[38;5;241m=\u001b[39m \u001b[38;5;28;01mFalse\u001b[39;00m\n\u001b[1;32m   3143\u001b[0m \u001b[38;5;28;01mtry\u001b[39;00m:\n\u001b[0;32m-> 3144\u001b[0m     results \u001b[38;5;241m=\u001b[39m \u001b[38;5;28;43mself\u001b[39;49m\u001b[38;5;241;43m.\u001b[39;49m\u001b[43mgather\u001b[49m\u001b[43m(\u001b[49m\u001b[43mpacked\u001b[49m\u001b[43m,\u001b[49m\u001b[43m \u001b[49m\u001b[43masynchronous\u001b[49m\u001b[38;5;241;43m=\u001b[39;49m\u001b[43masynchronous\u001b[49m\u001b[43m,\u001b[49m\u001b[43m \u001b[49m\u001b[43mdirect\u001b[49m\u001b[38;5;241;43m=\u001b[39;49m\u001b[43mdirect\u001b[49m\u001b[43m)\u001b[49m\n\u001b[1;32m   3145\u001b[0m \u001b[38;5;28;01mfinally\u001b[39;00m:\n\u001b[1;32m   3146\u001b[0m     \u001b[38;5;28;01mfor\u001b[39;00m f \u001b[38;5;129;01min\u001b[39;00m futures\u001b[38;5;241m.\u001b[39mvalues():\n",
      "File \u001b[0;32m~/opt/anaconda3/envs/aislens/lib/python3.10/site-packages/distributed/client.py:2313\u001b[0m, in \u001b[0;36mClient.gather\u001b[0;34m(self, futures, errors, direct, asynchronous)\u001b[0m\n\u001b[1;32m   2311\u001b[0m \u001b[38;5;28;01melse\u001b[39;00m:\n\u001b[1;32m   2312\u001b[0m     local_worker \u001b[38;5;241m=\u001b[39m \u001b[38;5;28;01mNone\u001b[39;00m\n\u001b[0;32m-> 2313\u001b[0m \u001b[38;5;28;01mreturn\u001b[39;00m \u001b[38;5;28;43mself\u001b[39;49m\u001b[38;5;241;43m.\u001b[39;49m\u001b[43msync\u001b[49m\u001b[43m(\u001b[49m\n\u001b[1;32m   2314\u001b[0m \u001b[43m    \u001b[49m\u001b[38;5;28;43mself\u001b[39;49m\u001b[38;5;241;43m.\u001b[39;49m\u001b[43m_gather\u001b[49m\u001b[43m,\u001b[49m\n\u001b[1;32m   2315\u001b[0m \u001b[43m    \u001b[49m\u001b[43mfutures\u001b[49m\u001b[43m,\u001b[49m\n\u001b[1;32m   2316\u001b[0m \u001b[43m    \u001b[49m\u001b[43merrors\u001b[49m\u001b[38;5;241;43m=\u001b[39;49m\u001b[43merrors\u001b[49m\u001b[43m,\u001b[49m\n\u001b[1;32m   2317\u001b[0m \u001b[43m    \u001b[49m\u001b[43mdirect\u001b[49m\u001b[38;5;241;43m=\u001b[39;49m\u001b[43mdirect\u001b[49m\u001b[43m,\u001b[49m\n\u001b[1;32m   2318\u001b[0m \u001b[43m    \u001b[49m\u001b[43mlocal_worker\u001b[49m\u001b[38;5;241;43m=\u001b[39;49m\u001b[43mlocal_worker\u001b[49m\u001b[43m,\u001b[49m\n\u001b[1;32m   2319\u001b[0m \u001b[43m    \u001b[49m\u001b[43masynchronous\u001b[49m\u001b[38;5;241;43m=\u001b[39;49m\u001b[43masynchronous\u001b[49m\u001b[43m,\u001b[49m\n\u001b[1;32m   2320\u001b[0m \u001b[43m\u001b[49m\u001b[43m)\u001b[49m\n",
      "File \u001b[0;32m~/opt/anaconda3/envs/aislens/lib/python3.10/site-packages/distributed/utils.py:338\u001b[0m, in \u001b[0;36mSyncMethodMixin.sync\u001b[0;34m(self, func, asynchronous, callback_timeout, *args, **kwargs)\u001b[0m\n\u001b[1;32m    336\u001b[0m     \u001b[38;5;28;01mreturn\u001b[39;00m future\n\u001b[1;32m    337\u001b[0m \u001b[38;5;28;01melse\u001b[39;00m:\n\u001b[0;32m--> 338\u001b[0m     \u001b[38;5;28;01mreturn\u001b[39;00m \u001b[43msync\u001b[49m\u001b[43m(\u001b[49m\n\u001b[1;32m    339\u001b[0m \u001b[43m        \u001b[49m\u001b[38;5;28;43mself\u001b[39;49m\u001b[38;5;241;43m.\u001b[39;49m\u001b[43mloop\u001b[49m\u001b[43m,\u001b[49m\u001b[43m \u001b[49m\u001b[43mfunc\u001b[49m\u001b[43m,\u001b[49m\u001b[43m \u001b[49m\u001b[38;5;241;43m*\u001b[39;49m\u001b[43margs\u001b[49m\u001b[43m,\u001b[49m\u001b[43m \u001b[49m\u001b[43mcallback_timeout\u001b[49m\u001b[38;5;241;43m=\u001b[39;49m\u001b[43mcallback_timeout\u001b[49m\u001b[43m,\u001b[49m\u001b[43m \u001b[49m\u001b[38;5;241;43m*\u001b[39;49m\u001b[38;5;241;43m*\u001b[39;49m\u001b[43mkwargs\u001b[49m\n\u001b[1;32m    340\u001b[0m \u001b[43m    \u001b[49m\u001b[43m)\u001b[49m\n",
      "File \u001b[0;32m~/opt/anaconda3/envs/aislens/lib/python3.10/site-packages/distributed/utils.py:405\u001b[0m, in \u001b[0;36msync\u001b[0;34m(loop, func, callback_timeout, *args, **kwargs)\u001b[0m\n\u001b[1;32m    403\u001b[0m \u001b[38;5;28;01mif\u001b[39;00m error:\n\u001b[1;32m    404\u001b[0m     typ, exc, tb \u001b[38;5;241m=\u001b[39m error\n\u001b[0;32m--> 405\u001b[0m     \u001b[38;5;28;01mraise\u001b[39;00m exc\u001b[38;5;241m.\u001b[39mwith_traceback(tb)\n\u001b[1;32m    406\u001b[0m \u001b[38;5;28;01melse\u001b[39;00m:\n\u001b[1;32m    407\u001b[0m     \u001b[38;5;28;01mreturn\u001b[39;00m result\n",
      "File \u001b[0;32m~/opt/anaconda3/envs/aislens/lib/python3.10/site-packages/distributed/utils.py:378\u001b[0m, in \u001b[0;36msync.<locals>.f\u001b[0;34m()\u001b[0m\n\u001b[1;32m    376\u001b[0m         future \u001b[38;5;241m=\u001b[39m asyncio\u001b[38;5;241m.\u001b[39mwait_for(future, callback_timeout)\n\u001b[1;32m    377\u001b[0m     future \u001b[38;5;241m=\u001b[39m asyncio\u001b[38;5;241m.\u001b[39mensure_future(future)\n\u001b[0;32m--> 378\u001b[0m     result \u001b[38;5;241m=\u001b[39m \u001b[38;5;28;01myield\u001b[39;00m future\n\u001b[1;32m    379\u001b[0m \u001b[38;5;28;01mexcept\u001b[39;00m \u001b[38;5;167;01mException\u001b[39;00m:\n\u001b[1;32m    380\u001b[0m     error \u001b[38;5;241m=\u001b[39m sys\u001b[38;5;241m.\u001b[39mexc_info()\n",
      "File \u001b[0;32m~/opt/anaconda3/envs/aislens/lib/python3.10/site-packages/tornado/gen.py:769\u001b[0m, in \u001b[0;36mRunner.run\u001b[0;34m(self)\u001b[0m\n\u001b[1;32m    766\u001b[0m exc_info \u001b[38;5;241m=\u001b[39m \u001b[38;5;28;01mNone\u001b[39;00m\n\u001b[1;32m    768\u001b[0m \u001b[38;5;28;01mtry\u001b[39;00m:\n\u001b[0;32m--> 769\u001b[0m     value \u001b[38;5;241m=\u001b[39m \u001b[43mfuture\u001b[49m\u001b[38;5;241;43m.\u001b[39;49m\u001b[43mresult\u001b[49m\u001b[43m(\u001b[49m\u001b[43m)\u001b[49m\n\u001b[1;32m    770\u001b[0m \u001b[38;5;28;01mexcept\u001b[39;00m \u001b[38;5;167;01mException\u001b[39;00m:\n\u001b[1;32m    771\u001b[0m     exc_info \u001b[38;5;241m=\u001b[39m sys\u001b[38;5;241m.\u001b[39mexc_info()\n",
      "File \u001b[0;32m~/opt/anaconda3/envs/aislens/lib/python3.10/site-packages/distributed/client.py:2176\u001b[0m, in \u001b[0;36mClient._gather\u001b[0;34m(self, futures, errors, direct, local_worker)\u001b[0m\n\u001b[1;32m   2174\u001b[0m         exc \u001b[38;5;241m=\u001b[39m CancelledError(key)\n\u001b[1;32m   2175\u001b[0m     \u001b[38;5;28;01melse\u001b[39;00m:\n\u001b[0;32m-> 2176\u001b[0m         \u001b[38;5;28;01mraise\u001b[39;00m exception\u001b[38;5;241m.\u001b[39mwith_traceback(traceback)\n\u001b[1;32m   2177\u001b[0m     \u001b[38;5;28;01mraise\u001b[39;00m exc\n\u001b[1;32m   2178\u001b[0m \u001b[38;5;28;01mif\u001b[39;00m errors \u001b[38;5;241m==\u001b[39m \u001b[38;5;124m\"\u001b[39m\u001b[38;5;124mskip\u001b[39m\u001b[38;5;124m\"\u001b[39m:\n",
      "File \u001b[0;32m~/opt/anaconda3/envs/aislens/lib/python3.10/site-packages/dask/array/utils.py:559\u001b[0m, in \u001b[0;36msolve_triangular_safe\u001b[0;34m()\u001b[0m\n\u001b[1;32m    558\u001b[0m \u001b[38;5;28;01mdef\u001b[39;00m \u001b[38;5;21msolve_triangular_safe\u001b[39m(a, b, lower\u001b[38;5;241m=\u001b[39m\u001b[38;5;28;01mFalse\u001b[39;00m):\n\u001b[0;32m--> 559\u001b[0m     \u001b[38;5;28;01mreturn\u001b[39;00m scipy_linalg_safe(\u001b[38;5;124m\"\u001b[39m\u001b[38;5;124msolve_triangular\u001b[39m\u001b[38;5;124m\"\u001b[39m, a, b, lower\u001b[38;5;241m=\u001b[39mlower)\n",
      "File \u001b[0;32m~/opt/anaconda3/envs/aislens/lib/python3.10/site-packages/dask/array/utils.py:555\u001b[0m, in \u001b[0;36mscipy_linalg_safe\u001b[0;34m()\u001b[0m\n\u001b[1;32m    551\u001b[0m     \u001b[38;5;28;01mimport\u001b[39;00m \u001b[38;5;21;01mscipy\u001b[39;00m\u001b[38;5;21;01m.\u001b[39;00m\u001b[38;5;21;01mlinalg\u001b[39;00m\n\u001b[1;32m    553\u001b[0m     func \u001b[38;5;241m=\u001b[39m \u001b[38;5;28mgetattr\u001b[39m(scipy\u001b[38;5;241m.\u001b[39mlinalg, func_name)\n\u001b[0;32m--> 555\u001b[0m \u001b[38;5;28;01mreturn\u001b[39;00m func(\u001b[38;5;241m*\u001b[39margs, \u001b[38;5;241m*\u001b[39m\u001b[38;5;241m*\u001b[39mkwargs)\n",
      "File \u001b[0;32m~/opt/anaconda3/envs/aislens/lib/python3.10/site-packages/scipy/linalg/_basic.py:338\u001b[0m, in \u001b[0;36msolve_triangular\u001b[0;34m()\u001b[0m\n\u001b[1;32m    270\u001b[0m \u001b[38;5;250m\u001b[39m\u001b[38;5;124;03m\"\"\"\u001b[39;00m\n\u001b[1;32m    271\u001b[0m \u001b[38;5;124;03mSolve the equation `a x = b` for `x`, assuming a is a triangular matrix.\u001b[39;00m\n\u001b[1;32m    272\u001b[0m \n\u001b[0;32m   (...)\u001b[0m\n\u001b[1;32m    334\u001b[0m \n\u001b[1;32m    335\u001b[0m \u001b[38;5;124;03m\"\"\"\u001b[39;00m\n\u001b[1;32m    337\u001b[0m a1 \u001b[38;5;241m=\u001b[39m _asarray_validated(a, check_finite\u001b[38;5;241m=\u001b[39mcheck_finite)\n\u001b[0;32m--> 338\u001b[0m b1 \u001b[38;5;241m=\u001b[39m _asarray_validated(b, check_finite\u001b[38;5;241m=\u001b[39mcheck_finite)\n\u001b[1;32m    339\u001b[0m \u001b[38;5;28;01mif\u001b[39;00m \u001b[38;5;28mlen\u001b[39m(a1\u001b[38;5;241m.\u001b[39mshape) \u001b[38;5;241m!=\u001b[39m \u001b[38;5;241m2\u001b[39m \u001b[38;5;129;01mor\u001b[39;00m a1\u001b[38;5;241m.\u001b[39mshape[\u001b[38;5;241m0\u001b[39m] \u001b[38;5;241m!=\u001b[39m a1\u001b[38;5;241m.\u001b[39mshape[\u001b[38;5;241m1\u001b[39m]:\n\u001b[1;32m    340\u001b[0m     \u001b[38;5;28;01mraise\u001b[39;00m \u001b[38;5;167;01mValueError\u001b[39;00m(\u001b[38;5;124m'\u001b[39m\u001b[38;5;124mexpected square matrix\u001b[39m\u001b[38;5;124m'\u001b[39m)\n",
      "File \u001b[0;32m~/opt/anaconda3/envs/aislens/lib/python3.10/site-packages/scipy/_lib/_util.py:252\u001b[0m, in \u001b[0;36m_asarray_validated\u001b[0;34m()\u001b[0m\n\u001b[1;32m    250\u001b[0m         \u001b[38;5;28;01mraise\u001b[39;00m \u001b[38;5;167;01mValueError\u001b[39;00m(\u001b[38;5;124m'\u001b[39m\u001b[38;5;124mmasked arrays are not supported\u001b[39m\u001b[38;5;124m'\u001b[39m)\n\u001b[1;32m    251\u001b[0m toarray \u001b[38;5;241m=\u001b[39m np\u001b[38;5;241m.\u001b[39masarray_chkfinite \u001b[38;5;28;01mif\u001b[39;00m check_finite \u001b[38;5;28;01melse\u001b[39;00m np\u001b[38;5;241m.\u001b[39masarray\n\u001b[0;32m--> 252\u001b[0m a \u001b[38;5;241m=\u001b[39m toarray(a)\n\u001b[1;32m    253\u001b[0m \u001b[38;5;28;01mif\u001b[39;00m \u001b[38;5;129;01mnot\u001b[39;00m objects_ok:\n\u001b[1;32m    254\u001b[0m     \u001b[38;5;28;01mif\u001b[39;00m a\u001b[38;5;241m.\u001b[39mdtype \u001b[38;5;129;01mis\u001b[39;00m np\u001b[38;5;241m.\u001b[39mdtype(\u001b[38;5;124m'\u001b[39m\u001b[38;5;124mO\u001b[39m\u001b[38;5;124m'\u001b[39m):\n",
      "File \u001b[0;32m~/opt/anaconda3/envs/aislens/lib/python3.10/site-packages/numpy/lib/function_base.py:627\u001b[0m, in \u001b[0;36masarray_chkfinite\u001b[0;34m()\u001b[0m\n\u001b[1;32m    625\u001b[0m a \u001b[38;5;241m=\u001b[39m asarray(a, dtype\u001b[38;5;241m=\u001b[39mdtype, order\u001b[38;5;241m=\u001b[39morder)\n\u001b[1;32m    626\u001b[0m \u001b[38;5;28;01mif\u001b[39;00m a\u001b[38;5;241m.\u001b[39mdtype\u001b[38;5;241m.\u001b[39mchar \u001b[38;5;129;01min\u001b[39;00m typecodes[\u001b[38;5;124m'\u001b[39m\u001b[38;5;124mAllFloat\u001b[39m\u001b[38;5;124m'\u001b[39m] \u001b[38;5;129;01mand\u001b[39;00m \u001b[38;5;129;01mnot\u001b[39;00m np\u001b[38;5;241m.\u001b[39misfinite(a)\u001b[38;5;241m.\u001b[39mall():\n\u001b[0;32m--> 627\u001b[0m     \u001b[38;5;28;01mraise\u001b[39;00m \u001b[38;5;167;01mValueError\u001b[39;00m(\n\u001b[1;32m    628\u001b[0m         \u001b[38;5;124m\"\u001b[39m\u001b[38;5;124marray must not contain infs or NaNs\u001b[39m\u001b[38;5;124m\"\u001b[39m)\n\u001b[1;32m    629\u001b[0m \u001b[38;5;28;01mreturn\u001b[39;00m a\n",
      "\u001b[0;31mValueError\u001b[0m: array must not contain infs or NaNs"
     ]
    }
   ],
   "source": [
    "flux_detrend_computed = flux_detrend.compute()"
   ]
  },
  {
   "cell_type": "code",
   "execution_count": null,
   "id": "0e526056-07aa-40ef-9fdd-766ed6c9d98f",
   "metadata": {},
   "outputs": [],
   "source": [
    "\"\"\"\n",
    "import scipy.signal as sps\n",
    "import scipy.linalg as spl\n",
    "\n",
    "\n",
    "def detrend(da, dim, detrend_type=\"constant\"):\n",
    "    \"\"\"\n",
    "    Detrend a DataArray\n",
    "\n",
    "    Parameters\n",
    "    ----------\n",
    "    da : xarray.DataArray\n",
    "        The data to detrend\n",
    "    dim : str or list\n",
    "        Dimensions along which to apply detrend.\n",
    "        Can be either one dimension or a list with two dimensions.\n",
    "        Higher-dimensional detrending is not supported.\n",
    "        If dask data are passed, the data must be chunked along dim.\n",
    "    detrend_type : {'constant', 'linear'}\n",
    "        If ``constant``, a constant offset will be removed from each dim.\n",
    "        If ``linear``, a linear least-squares fit will be estimated and removed\n",
    "        from the data.\n",
    "\n",
    "    Returns\n",
    "    -------\n",
    "    da : xarray.DataArray\n",
    "        The detrended data.\n",
    "\n",
    "    Notes\n",
    "    -----\n",
    "    This function will act lazily in the presence of dask arrays on the\n",
    "    input.\n",
    "    \"\"\"\n",
    "\n",
    "    if dim is None:\n",
    "        dim = list(da.dims)\n",
    "    else:\n",
    "        if isinstance(dim, str):\n",
    "            dim = [dim]\n",
    "\n",
    "    if detrend_type not in [\"constant\", \"linear\", None]:\n",
    "        raise NotImplementedError(\n",
    "            \"%s is not a valid detrending option. Valid \"\n",
    "            \"options are: 'constant','linear', or None.\" % detrend_type\n",
    "        )\n",
    "\n",
    "    if detrend_type is None:\n",
    "        return da\n",
    "    elif detrend_type == \"constant\":\n",
    "        return da - da.mean(dim=dim)\n",
    "    elif detrend_type == \"linear\":\n",
    "        data = da.data\n",
    "        axis_num = [da.get_axis_num(d) for d in dim]\n",
    "        chunks = getattr(data, \"chunks\", None)\n",
    "        if chunks:\n",
    "            axis_chunks = [data.chunks[a] for a in axis_num]\n",
    "            print(axis_chunks)\n",
    "            if not all([len(ac) == 1 for ac in axis_chunks]):\n",
    "                raise ValueError(\"Contiguous chunks required for detrending.\")\n",
    "        if len(dim) == 1:\n",
    "            dt = xr.apply_ufunc(\n",
    "                sps.detrend,\n",
    "                da,\n",
    "                axis_num[0],\n",
    "                output_dtypes=[da.dtype],\n",
    "                dask=\"parallelized\",\n",
    "            )\n",
    "        elif len(dim) == 2:\n",
    "            dt = xr.apply_ufunc(\n",
    "                _detrend_2d_ufunc,\n",
    "                da,\n",
    "                input_core_dims=[dim],\n",
    "                output_core_dims=[dim],\n",
    "                output_dtypes=[da.dtype],\n",
    "                vectorize=True,\n",
    "                dask=\"parallelized\",\n",
    "            )\n",
    "        else:  # pragma: no cover\n",
    "            raise NotImplementedError(\n",
    "                \"Only 1D and 2D detrending are implemented so far.\"\n",
    "            )\n",
    "\n",
    "    return dt\n",
    "\n",
    "\n",
    "def _detrend_2d_ufunc(arr):\n",
    "    assert arr.ndim == 2\n",
    "    N = arr.shape\n",
    "\n",
    "    col0 = np.ones(N[0] * N[1])\n",
    "    col1 = np.repeat(np.arange(N[0]), N[1]) + 1\n",
    "    col2 = np.tile(np.arange(N[1]), N[0]) + 1\n",
    "    G = np.stack([col0, col1, col2]).transpose()\n",
    "\n",
    "    d_obs = np.reshape(arr, (N[0] * N[1], 1))\n",
    "    m_est = np.dot(np.dot(spl.inv(np.dot(G.T, G)), G.T), d_obs)\n",
    "    d_est = np.dot(G, m_est)\n",
    "    linear_fit = np.reshape(d_est, N)\n",
    "    return arr - linear_fit\n",
    "\"\"\""
   ]
  },
  {
   "cell_type": "code",
   "execution_count": null,
   "id": "db694391-3c43-4bce-831f-9f23c1ca6d3d",
   "metadata": {},
   "outputs": [],
   "source": [
    "# Deseasonalize\n",
    "# Remove climatologies to isolate anomalies / deseasonalize\n",
    "def deseasonalize(data):\n",
    "    data_month = data.groupby(\"Time.month\")\n",
    "    data_clm = data_month.mean(\"Time\") # Climatologies\n",
    "    data_anm = data_month - data_clm # Deseasonalized anomalies\n",
    "    return data_anm"
   ]
  },
  {
   "cell_type": "code",
   "execution_count": null,
   "id": "ac9b76e6-9759-4dc3-8e6c-caf02f2679d9",
   "metadata": {},
   "outputs": [],
   "source": [
    "flux_detrend = detrend_dim(flux,\"Time\",1)\n",
    "# flux_clean = deseasonalize(flux_detrend)"
   ]
  },
  {
   "cell_type": "code",
   "execution_count": null,
   "id": "726dd04c-e064-4a3b-8d33-f68fded9b927",
   "metadata": {},
   "outputs": [],
   "source": [
    "# flux_detrend = flux_detrend.compute()"
   ]
  },
  {
   "cell_type": "markdown",
   "id": "8f5b0458-6247-4142-9e2e-6c5ca8693e37",
   "metadata": {},
   "source": [
    "### Temporal Standard Deviation"
   ]
  },
  {
   "cell_type": "code",
   "execution_count": null,
   "id": "3dd2860f-2b1a-4d69-b4a9-9f9b3f2d9f02",
   "metadata": {},
   "outputs": [],
   "source": [
    "# Standard deviation in time\n",
    "flux_std = flux.std('Time').compute()\n",
    "flux_std.where(flux_std!=0).plot()"
   ]
  },
  {
   "cell_type": "markdown",
   "id": "dddf9b67-c52f-46a5-bbcb-4c1afb5609dd",
   "metadata": {},
   "source": [
    "### Temporal Mean"
   ]
  },
  {
   "cell_type": "code",
   "execution_count": null,
   "id": "982f627f-8412-4f02-8c22-d7b95333d661",
   "metadata": {},
   "outputs": [],
   "source": [
    "# Time mean\n",
    "flux_tmean = flux.mean('Time').compute()\n",
    "flux_tmean.where(flux_std!=0).plot()"
   ]
  },
  {
   "cell_type": "markdown",
   "id": "6f15f715-2b06-470d-8da4-a3dd6071c758",
   "metadata": {},
   "source": [
    "### Cumulative melt rate (across the ice sheet)"
   ]
  },
  {
   "cell_type": "code",
   "execution_count": null,
   "id": "9d2c3294-d93e-48af-a930-f3c2623a93ad",
   "metadata": {},
   "outputs": [],
   "source": [
    "flux_ts = flux.sum(['x','y']).compute()"
   ]
  },
  {
   "cell_type": "code",
   "execution_count": null,
   "id": "ba14a11a-8bd6-482b-a918-28224b4a029b",
   "metadata": {},
   "outputs": [],
   "source": [
    "plt.figure(figsize=(25,8))\n",
    "flux_ts.plot()\n",
    "plt.xlabel('Time (Simulation years)')\n",
    "plt.title('Freshwater Flux - AIS Cumulative')"
   ]
  },
  {
   "cell_type": "markdown",
   "id": "f2d75235-40f8-4a05-bf3f-11dbfad676ed",
   "metadata": {},
   "source": [
    "### Mean freshwater flux in each catchment"
   ]
  },
  {
   "cell_type": "code",
   "execution_count": null,
   "id": "ccfe22a1-cf79-421b-bb9e-f4f404674e47",
   "metadata": {},
   "outputs": [],
   "source": [
    "def clip_data(total_data, basin):\n",
    "    clipped_data = total_data.rio.clip(icems.loc[[basin],'geometry'].apply(mapping))\n",
    "    #clipped_data = clipped_data.dropna('time',how='all')\n",
    "    #clipped_data = clipped_data.dropna('y',how='all')\n",
    "    #clipped_data = clipped_data.dropna('x',how='all')\n",
    "    # clipped_data = clipped_data.drop(\"month\")\n",
    "    return clipped_data"
   ]
  },
  {
   "cell_type": "code",
   "execution_count": null,
   "id": "905cef23-387a-4282-b07e-cf53adaadff7",
   "metadata": {},
   "outputs": [],
   "source": [
    "mean_flux = np.empty(len(icems[33:133]))\n",
    "\n",
    "for i in range(33,133):\n",
    "    clip_ds = clip_data(flux_tmean, i)\n",
    "    mean_flux[i-33] = clip_ds.mean()"
   ]
  },
  {
   "cell_type": "code",
   "execution_count": null,
   "id": "d8bd9d33-a30f-486f-8024-66dd4b3d17a9",
   "metadata": {},
   "outputs": [],
   "source": [
    "# flux_tmean.rio.write_crs(\"epsg:3031\",inplace=True);"
   ]
  },
  {
   "cell_type": "code",
   "execution_count": null,
   "id": "c32996ea-182a-4b76-9166-1d902165651d",
   "metadata": {},
   "outputs": [],
   "source": [
    "plt.figure(figsize=(25,8))\n",
    "plt.plot(mean_flux, marker='x', lw=0.0)\n",
    "\n"
   ]
  }
 ],
 "metadata": {
  "kernelspec": {
   "display_name": "Python 3 (ipykernel)",
   "language": "python",
   "name": "python3"
  },
  "language_info": {
   "codemirror_mode": {
    "name": "ipython",
    "version": 3
   },
   "file_extension": ".py",
   "mimetype": "text/x-python",
   "name": "python",
   "nbconvert_exporter": "python",
   "pygments_lexer": "ipython3",
   "version": "3.10.8"
  }
 },
 "nbformat": 4,
 "nbformat_minor": 5
}
