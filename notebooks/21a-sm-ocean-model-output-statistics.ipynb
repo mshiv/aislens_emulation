{
 "cells": [
  {
   "cell_type": "markdown",
   "id": "395c628d-d8ab-4071-9c7d-f0c66ed67011",
   "metadata": {},
   "source": [
    "This notebook explores the ocean model simulation used as an input to the generator.\n",
    "We make use of the Southern Ocean Regionally Refined Mesh v 2.1 run of the E3SM / MPAS-Ocean model, a 1000 year simulation of the ocean circulation, provided at a monthly resolution.\n",
    "The notebook uses `dask` to chunk this dataset throughout the workflow to enable scalable computation."
   ]
  },
  {
   "cell_type": "code",
   "execution_count": null,
   "id": "2349f859-1873-46d8-b695-506e1b0106aa",
   "metadata": {},
   "outputs": [],
   "source": [
    "import sys\n",
    "import os\n",
    "os.environ['USE_PYGEOS'] = '0'\n",
    "import gc\n",
    "import collections\n",
    "\n",
    "import cartopy.crs as ccrs\n",
    "import cartopy\n",
    "import matplotlib.pyplot as plt\n",
    "import seaborn as sns\n",
    "from matplotlib import rcParams, cycler\n",
    "from matplotlib import animation, rc\n",
    "from matplotlib.gridspec import GridSpec\n",
    "from mpl_toolkits.axes_grid1.inset_locator import inset_axes\n",
    "import geopandas as gpd\n",
    "\n",
    "import numpy as np\n",
    "import xarray as xr\n",
    "from xeofs.xarray import EOF\n",
    "import rioxarray\n",
    "\n",
    "import dask\n",
    "import distributed\n",
    "\n",
    "import scipy\n",
    "from scipy import signal\n",
    "import cftime\n",
    "from shapely.geometry import mapping\n",
    "from xarrayutils.utils import linear_trend, xr_linregress\n",
    "import pandas as pd"
   ]
  },
  {
   "cell_type": "code",
   "execution_count": null,
   "id": "e90b38f2-f027-46ba-b424-96ced44f0877",
   "metadata": {},
   "outputs": [],
   "source": [
    "client = distributed.Client()\n",
    "client"
   ]
  },
  {
   "cell_type": "code",
   "execution_count": null,
   "id": "2810b82b-ac42-438e-aa08-7bc76629b7f1",
   "metadata": {},
   "outputs": [],
   "source": [
    "# File path directories\n",
    "\n",
    "inDirName = '/Users/smurugan9/research/aislens/aislens_emulation/'\n",
    "DIR_external = 'data/external/'\n",
    "DIR_interim = 'data/interim/'\n",
    "\n",
    "# DATASET FILEPATHS\n",
    "# Ocean model output - E3SM (SORRMv2.1.ISMF), data received from Darin Comeau / Matt Hoffman at LANL\n",
    "DIR_SORRMv21 = 'data/external/SORRMv2.1.ISMF/regridded_output/'\n",
    "\n",
    "# INTERIM GENERATED FILEPATHS\n",
    "DIR_SORRMv21_Interim = 'data/interim/SORRMv2.1.ISMF/iceShelves_dedraft/'\n",
    "\n",
    "# DATA FILENAMES\n",
    "FILE_SORRMv21 = 'Regridded_SORRMv2.1.ISMF.FULL.nc'\n",
    "\n",
    "# Ice shelf basin/catchment definitions\n",
    "FILE_iceShelvesShape = 'iceShelves.geojson'"
   ]
  },
  {
   "cell_type": "code",
   "execution_count": null,
   "id": "780d0a92-42d9-4e52-8cab-bc79c7483d3f",
   "metadata": {},
   "outputs": [],
   "source": [
    "SORRMv21 = xr.open_dataset(inDirName+DIR_SORRMv21+FILE_SORRMv21, chunks={\"Time\":36})\n",
    "\n",
    "ICESHELVES_MASK = gpd.read_file(inDirName+DIR_external+FILE_iceShelvesShape)\n",
    "icems = ICESHELVES_MASK.to_crs({'init': 'epsg:3031'});\n",
    "crs = ccrs.SouthPolarStereo();"
   ]
  },
  {
   "cell_type": "code",
   "execution_count": null,
   "id": "0b5ac655-3949-4915-b119-ddf6d6ff2b88",
   "metadata": {},
   "outputs": [],
   "source": [
    "flux = SORRMv21.timeMonthly_avg_landIceFreshwaterFlux\n",
    "# ssh = SORRMv21.timeMonthly_avg_ssh"
   ]
  },
  {
   "cell_type": "markdown",
   "id": "c5fb4a0c-8bcf-43a6-998f-c90397fa7424",
   "metadata": {},
   "source": [
    "### Detrend and deseasonalize data"
   ]
  },
  {
   "cell_type": "code",
   "execution_count": null,
   "id": "0eb3e307-05d2-4bb6-b766-5dd5343e9e5e",
   "metadata": {},
   "outputs": [],
   "source": [
    "# Linear trend, if any\n",
    "# Debug for dask implementation, a \"consistent source of headaches\".\n",
    "# https://ncar.github.io/esds/posts/2022/dask-debug-detrend/\n",
    "\n",
    "def detrend_dim(data, dim, deg):\n",
    "    # detrend along a single dimension\n",
    "    p = data.polyfit(dim=dim, deg=deg)\n",
    "    fit = xr.polyval(data[dim], p.polyfit_coefficients)\n",
    "    return data - fit"
   ]
  },
  {
   "cell_type": "code",
   "execution_count": null,
   "id": "db694391-3c43-4bce-831f-9f23c1ca6d3d",
   "metadata": {},
   "outputs": [],
   "source": [
    "# Deseasonalize\n",
    "# Remove climatologies to isolate anomalies / deseasonalize\n",
    "def deseasonalize(data):\n",
    "    data_month = data.groupby(\"Time.month\")\n",
    "    data_clm = data_month.mean(\"Time\") # Climatologies\n",
    "    data_anm = data_month - data_clm # Deseasonalized anomalies\n",
    "    return data_anm"
   ]
  },
  {
   "cell_type": "code",
   "execution_count": null,
   "id": "ac9b76e6-9759-4dc3-8e6c-caf02f2679d9",
   "metadata": {},
   "outputs": [],
   "source": [
    "flux_detrend = detrend_dim(flux,\"Time\",1)\n",
    "# flux_clean = deseasonalize(flux_detrend)"
   ]
  },
  {
   "cell_type": "code",
   "execution_count": null,
   "id": "726dd04c-e064-4a3b-8d33-f68fded9b927",
   "metadata": {},
   "outputs": [],
   "source": [
    "# flux_detrend = flux_detrend.compute()"
   ]
  },
  {
   "cell_type": "markdown",
   "id": "8f5b0458-6247-4142-9e2e-6c5ca8693e37",
   "metadata": {},
   "source": [
    "### Temporal Standard Deviation"
   ]
  },
  {
   "cell_type": "code",
   "execution_count": null,
   "id": "3dd2860f-2b1a-4d69-b4a9-9f9b3f2d9f02",
   "metadata": {},
   "outputs": [],
   "source": [
    "# Standard deviation in time\n",
    "flux_std = flux.std('Time').compute()\n",
    "flux_std.where(flux_std!=0).plot()"
   ]
  },
  {
   "cell_type": "markdown",
   "id": "dddf9b67-c52f-46a5-bbcb-4c1afb5609dd",
   "metadata": {},
   "source": [
    "### Temporal Mean"
   ]
  },
  {
   "cell_type": "code",
   "execution_count": null,
   "id": "982f627f-8412-4f02-8c22-d7b95333d661",
   "metadata": {},
   "outputs": [],
   "source": [
    "# Time mean\n",
    "flux_tmean = flux.mean('Time').compute()\n",
    "flux_tmean.where(flux_std!=0).plot()"
   ]
  },
  {
   "cell_type": "markdown",
   "id": "6f15f715-2b06-470d-8da4-a3dd6071c758",
   "metadata": {},
   "source": [
    "### Cumulative melt rate (across the ice sheet)"
   ]
  },
  {
   "cell_type": "code",
   "execution_count": null,
   "id": "9d2c3294-d93e-48af-a930-f3c2623a93ad",
   "metadata": {},
   "outputs": [],
   "source": [
    "flux_ts = flux.sum(['x','y']).compute()"
   ]
  },
  {
   "cell_type": "code",
   "execution_count": null,
   "id": "ba14a11a-8bd6-482b-a918-28224b4a029b",
   "metadata": {},
   "outputs": [],
   "source": [
    "plt.figure(figsize=(25,8))\n",
    "flux_ts.plot()\n",
    "plt.xlabel('Time (Simulation years)')\n",
    "plt.title('Freshwater Flux - AIS Cumulative')"
   ]
  },
  {
   "cell_type": "markdown",
   "id": "f2d75235-40f8-4a05-bf3f-11dbfad676ed",
   "metadata": {},
   "source": [
    "### Mean freshwater flux in each catchment"
   ]
  },
  {
   "cell_type": "code",
   "execution_count": null,
   "id": "ccfe22a1-cf79-421b-bb9e-f4f404674e47",
   "metadata": {},
   "outputs": [],
   "source": [
    "def clip_data(total_data, basin):\n",
    "    clipped_data = total_data.rio.clip(icems.loc[[basin],'geometry'].apply(mapping))\n",
    "    #clipped_data = clipped_data.dropna('time',how='all')\n",
    "    #clipped_data = clipped_data.dropna('y',how='all')\n",
    "    #clipped_data = clipped_data.dropna('x',how='all')\n",
    "    # clipped_data = clipped_data.drop(\"month\")\n",
    "    return clipped_data"
   ]
  },
  {
   "cell_type": "code",
   "execution_count": null,
   "id": "905cef23-387a-4282-b07e-cf53adaadff7",
   "metadata": {},
   "outputs": [],
   "source": [
    "mean_flux = np.empty(len(icems[33:133]))\n",
    "\n",
    "for i in range(33,133):\n",
    "    clip_ds = clip_data(flux_tmean, i)\n",
    "    mean_flux[i-33] = clip_ds.mean()"
   ]
  },
  {
   "cell_type": "code",
   "execution_count": null,
   "id": "d8bd9d33-a30f-486f-8024-66dd4b3d17a9",
   "metadata": {},
   "outputs": [],
   "source": [
    "# flux_tmean.rio.write_crs(\"epsg:3031\",inplace=True);"
   ]
  },
  {
   "cell_type": "code",
   "execution_count": null,
   "id": "c32996ea-182a-4b76-9166-1d902165651d",
   "metadata": {},
   "outputs": [],
   "source": [
    "plt.figure(figsize=(25,8))\n",
    "plt.plot(mean_flux, marker='x', lw=0.0)\n",
    "\n"
   ]
  }
 ],
 "metadata": {
  "kernelspec": {
   "display_name": "Python 3 (ipykernel)",
   "language": "python",
   "name": "python3"
  },
  "language_info": {
   "codemirror_mode": {
    "name": "ipython",
    "version": 3
   },
   "file_extension": ".py",
   "mimetype": "text/x-python",
   "name": "python",
   "nbconvert_exporter": "python",
   "pygments_lexer": "ipython3",
   "version": "3.10.8"
  }
 },
 "nbformat": 4,
 "nbformat_minor": 5
}
