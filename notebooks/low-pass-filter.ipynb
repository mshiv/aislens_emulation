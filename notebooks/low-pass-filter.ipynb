{
 "cells": [
  {
   "cell_type": "code",
   "execution_count": null,
   "id": "dcddadd5",
   "metadata": {},
   "outputs": [],
   "source": [
    "import numpy as np\n",
    "from scipy import signal\n",
    "from scipy.signal import butter, lfilter, freqz, bessel\n",
    "import matplotlib.pyplot as plt\n",
    "import xeofs"
   ]
  },
  {
   "cell_type": "code",
   "execution_count": null,
   "id": "26507736",
   "metadata": {},
   "outputs": [],
   "source": [
    "def butter_lowpass(cutoff, fs, order=3):\n",
    "    return butter(order, cutoff, fs=fs, btype='low', analog=False)\n",
    "\n",
    "def butter_lowpass_filter(data, cutoff, fs, order=3):\n",
    "    b, a = butter_lowpass(cutoff, fs, order=order)\n",
    "    y = lfilter(b, a, data)\n",
    "    return y\n",
    "\n",
    "def butter_highpass(cutoff, fs, order=3):\n",
    "    return butter(order, cutoff, fs=fs, btype='high', analog=False)\n",
    "\n",
    "def butter_highpass_filter(data, cutoff, fs, order=3):\n",
    "    b, a = butter_lowpass(cutoff, fs, order=order)\n",
    "    y = lfilter(b, a, data)\n",
    "    return y\n",
    "\n",
    "def bessel_lowpass(cutoff, fs, norm, order=3):\n",
    "    return bessel(order, cutoff, fs=fs, btype='low', analog=False,norm=norm)\n",
    "\n",
    "def bessel_lowpass_filter(data, cutoff, fs, norm, order=3):\n",
    "    b, a = bessel_lowpass(cutoff, fs, order, norm)\n",
    "    y = lfilter(b, a, data)\n",
    "    return y\n",
    "\n",
    "def bessel_lowpass(cutoff, fs, norm, order=3):\n",
    "    return bessel(order, cutoff, fs=fs, btype='low', analog=False,norm=norm)\n",
    "\n",
    "def bessel_lowpass_filter(data, cutoff, fs, norm, order=3):\n",
    "    b, a = bessel_lowpass(cutoff, fs, order, norm)\n",
    "    y = lfilter(b, a, data)\n",
    "    return y"
   ]
  },
  {
   "cell_type": "code",
   "execution_count": null,
   "id": "f6c9eeff",
   "metadata": {},
   "outputs": [],
   "source": [
    "# Filter requirements.\n",
    "order = 1\n",
    "fs = 1.0       # sample rate, Hz\n",
    "cutoff = 1/24  # desired cutoff frequency of the filter, Hz"
   ]
  },
  {
   "cell_type": "code",
   "execution_count": null,
   "id": "bc590820",
   "metadata": {},
   "outputs": [],
   "source": [
    "# Get the filter coefficients so we can check its frequency response.\n",
    "bl, al = butter_lowpass(cutoff, fs, order=1)\n",
    "wl, hl = freqz(bl, al, fs=fs, worN=8000)\n",
    "\n",
    "bh, ah = butter_highpass(cutoff, fs, order=1)\n",
    "wh, hh = freqz(bh, ah, fs=fs, worN=8000)"
   ]
  },
  {
   "cell_type": "code",
   "execution_count": null,
   "id": "e65a9a99",
   "metadata": {},
   "outputs": [],
   "source": [
    "plt.figure(figsize=(15,8))\n",
    "plt.subplot(2, 1, 1)\n",
    "plt.plot(wl, np.abs(hl), 'b')\n",
    "plt.plot(cutoff, 0.5*np.sqrt(2), 'ko')\n",
    "plt.axvline(cutoff, color='k')\n",
    "plt.xlim(0, 0.5*fs)\n",
    "plt.title(\"Low pass Order={}\".format(1))\n",
    "plt.grid()\n",
    "\n",
    "\n",
    "\n",
    "plt.subplot(2, 1, 2)\n",
    "plt.plot(wh, np.abs(hh), 'b')\n",
    "plt.plot(cutoff, 0.5*np.sqrt(2), 'ko')\n",
    "plt.axvline(cutoff, color='k')\n",
    "plt.xlim(0, 0.5*fs)\n",
    "plt.title(\"High pass Order={}\".format(1))\n",
    "plt.xlabel('Frequency [Hz]')\n",
    "plt.grid()"
   ]
  },
  {
   "cell_type": "code",
   "execution_count": null,
   "id": "5aa64fc3",
   "metadata": {},
   "outputs": [],
   "source": [
    "# Plot the frequency response.\n",
    "w, h = freqz(b, a, fs=fs, worN=8000)\n",
    "\n",
    "plt.figure(figsize=(15,8))\n",
    "plt.suptitle(\"Lowpass Filter Frequency Response\")\n",
    "plt.subplot(2, 1, 1)\n",
    "plt.plot(w, np.abs(h), 'b')\n",
    "plt.plot(cutoff, 0.5*np.sqrt(2), 'ko')\n",
    "plt.axvline(cutoff, color='k')\n",
    "plt.xlim(0, 0.5*fs)\n",
    "plt.title(\"Order={}\".format(1))\n",
    "plt.grid()\n",
    "\n",
    "\n",
    "\n",
    "plt.subplot(2, 1, 2)\n",
    "plt.plot(w2, np.abs(h2), 'b')\n",
    "plt.plot(cutoff, 0.5*np.sqrt(2), 'ko')\n",
    "plt.axvline(cutoff, color='k')\n",
    "plt.xlim(0, 0.5*fs)\n",
    "plt.title(\"Order={}\".format(5))\n",
    "plt.xlabel('Frequency [Hz]')\n",
    "plt.grid()"
   ]
  },
  {
   "cell_type": "code",
   "execution_count": null,
   "id": "067b57de",
   "metadata": {},
   "outputs": [],
   "source": [
    "# Demonstrate the use of the filter.\n",
    "# First make some data to be filtered.\n",
    "T = 5.0         # seconds\n",
    "n = int(T * fs) # total number of samples\n",
    "t = np.linspace(0, T, n, endpoint=False)\n",
    "# \"Noisy\" data.  We want to recover the 1.2 Hz signal from this.\n",
    "data = np.sin(1.2*2*np.pi*t) + 1.5*np.cos(9*2*np.pi*t) + 0.5*np.sin(12.0*2*np.pi*t)"
   ]
  },
  {
   "cell_type": "code",
   "execution_count": null,
   "id": "e8803d0d",
   "metadata": {},
   "outputs": [],
   "source": [
    "# Filter the data\n",
    "y = butter_lowpass_filter(data, cutoff, fs, order)"
   ]
  },
  {
   "cell_type": "code",
   "execution_count": null,
   "id": "9369f924",
   "metadata": {},
   "outputs": [],
   "source": [
    "# Plot both the original and filtered signals.\n",
    "plt.figure(figsize=(20,8))\n",
    "# plt.subplot(2, 1, 2)\n",
    "plt.plot(t, data, 'b-', label='data')\n",
    "plt.plot(t, y, 'g-', linewidth=2, label='filtered data')\n",
    "plt.xlabel('Time [sec]')\n",
    "plt.grid()\n",
    "plt.legend()\n",
    "\n",
    "plt.subplots_adjust(hspace=0.35)\n",
    "plt.show()"
   ]
  },
  {
   "cell_type": "code",
   "execution_count": null,
   "id": "b1121856",
   "metadata": {},
   "outputs": [],
   "source": [
    "# Low pass shelf filter using cheby1\n",
    "\n",
    "import numpy as np\n",
    "import matplotlib.pyplot as plt\n",
    "from scipy.signal import cheby1, lfilter\n",
    "\n",
    "# Define the parameters of the filter\n",
    "sample_rate = 40000\n",
    "cutoff_frequency = 10000\n",
    "ripple = 1\n",
    "\n",
    "# Calculate the filter order and filter coefficients\n",
    "filter_order, filter_coefficients = cheby1(N=5, rp=ripple, Wn=cutoff_frequency/sample_rate, btype='highpass', output='ba')\n",
    "\n",
    "# Load a test signal\n",
    "test_signal = np.sin(2 * np.pi * 1000 * np.arange(100000) / sample_rate)\n",
    "\n",
    "# Apply the low-pass shelving filter to the test signal\n",
    "filtered_signal = lfilter(b=filter_coefficients, a=1, x=test_signal)\n",
    "\n",
    "# Plot the original and filtered signals\n",
    "plt.figure(figsize=(25,8))\n",
    "plt.plot(test_signal, label='Original Signal')\n",
    "plt.plot(filtered_signal, label='Filtered Signal')\n",
    "plt.xlim([0,1000])\n",
    "plt.legend()\n",
    "plt.show()"
   ]
  }
 ],
 "metadata": {
  "kernelspec": {
   "display_name": "Python 3 (ipykernel)",
   "language": "python",
   "name": "python3"
  },
  "language_info": {
   "codemirror_mode": {
    "name": "ipython",
    "version": 3
   },
   "file_extension": ".py",
   "mimetype": "text/x-python",
   "name": "python",
   "nbconvert_exporter": "python",
   "pygments_lexer": "ipython3",
   "version": "3.10.8"
  }
 },
 "nbformat": 4,
 "nbformat_minor": 5
}
