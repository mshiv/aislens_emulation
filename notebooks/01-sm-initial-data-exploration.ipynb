{
 "cells": [
  {
   "cell_type": "code",
   "execution_count": null,
   "id": "63b7ecae",
   "metadata": {},
   "outputs": [],
   "source": [
    "import sys\n",
    "import os\n",
    "import cartopy.crs as ccrs\n",
    "import matplotlib.pyplot as plt\n",
    "import numpy as np\n",
    "import xarray as xr\n",
    "import pandas as pd\n",
    "import geopandas as gpd\n",
    "import regionmask\n",
    "import rioxarray\n",
    "from shapely.geometry import mapping, Point, Polygon\n",
    "from xeofs.xarray import EOF"
   ]
  },
  {
   "cell_type": "code",
   "execution_count": null,
   "id": "d6cb4378",
   "metadata": {},
   "outputs": [],
   "source": [
    "from geometric_features import FeatureCollection, read_feature_collection\n",
    "from mpas_analysis.shared.analysis_task import AnalysisTask\n",
    "from mpas_analysis.shared.constants import constants\n",
    "from mpas_analysis.shared.plot import timeseries_analysis_plot, savefig, add_inset\n",
    "from mpas_analysis.shared.io import open_mpas_dataset, write_netcdf\n",
    "from mpas_analysis.shared.io.utility import build_config_full_path, make_directories, build_obs_path, decode_strings\n",
    "from mpas_analysis.shared.html import write_image_xml\n",
    "from mpas_analysis.ocean import time_series_antarctic_melt"
   ]
  },
  {
   "cell_type": "code",
   "execution_count": null,
   "id": "23f24e70",
   "metadata": {},
   "outputs": [],
   "source": []
  },
  {
   "cell_type": "code",
   "execution_count": null,
   "id": "e27336fd",
   "metadata": {},
   "outputs": [],
   "source": [
    "# Define project repo path\n",
    "inDirName = '/Users/smurugan9/research/aislens/aislens_emulation/'\n",
    "# Data file paths\n",
    "regriddedFluxSSH_filepath = 'data/interim/RegriddedFluxSSH.nc' # Data containing regridded flux and SSH for 150 years\n",
    "iceShelvesShape_filepath = 'data/interim/iceShelves.geojson' # File contains all defined ice shelves"
   ]
  },
  {
   "cell_type": "code",
   "execution_count": null,
   "id": "6caa4b98",
   "metadata": {},
   "outputs": [],
   "source": [
    "inDirName = '/Users/smurugan9/research/aislens/aislens_emulation/data/processed/E3SM_lowres_newrun_FluxSSH/'"
   ]
  },
  {
   "cell_type": "code",
   "execution_count": null,
   "id": "be0e7454",
   "metadata": {},
   "outputs": [],
   "source": [
    "inDirName = '/Users/smurugan9/research/aislens/aislens_emulation/data/raw/'"
   ]
  },
  {
   "cell_type": "code",
   "execution_count": null,
   "id": "b66fffd3",
   "metadata": {},
   "outputs": [],
   "source": [
    "inDirExt = '/Users/smurugan9/research/aislens/aislens_emulation/data/external/'\n",
    "oceanmesh = xr.open_dataset(inDirExt + 'ocean.ECwISC30to60E1r02.200408.nc')"
   ]
  },
  {
   "cell_type": "code",
   "execution_count": null,
   "id": "ea0ab637",
   "metadata": {},
   "outputs": [],
   "source": [
    "oceanmesh.data_vars"
   ]
  },
  {
   "cell_type": "code",
   "execution_count": null,
   "id": "c7b571a8",
   "metadata": {},
   "outputs": [],
   "source": [
    "CELL_ID=1\n",
    "\n",
    "f, ax = plt.subplots()\n",
    "ax.plot(oceanmesh.lonCell.isel(nCells=CELL_ID),\n",
    "        oceanmesh.latCell.isel(nCells=CELL_ID), 'ok')\n",
    "\n",
    "for i in range(6):\n",
    "    # Correct for zero-indexing.\n",
    "    nCell = oceanmesh.cellsOnCell.isel(nCells=CELL_ID, maxEdges=i) - 1\n",
    "    x = oceanmesh['lonCell'].isel(nCells=nCell)\n",
    "    y = oceanmesh['latCell'].isel(nCells=nCell)\n",
    "    ax.plot(x, y, 'or')\n",
    "    ax.text(x+0.0001, y-0.0001, str(i))"
   ]
  },
  {
   "cell_type": "code",
   "execution_count": null,
   "id": "8827aa63",
   "metadata": {},
   "outputs": [],
   "source": [
    "verts = pd.DataFrame({'x': oceanmesh.lonCell, 'y': oceanmesh.latCell})\n",
    "print(verts.head())"
   ]
  },
  {
   "cell_type": "code",
   "execution_count": null,
   "id": "5928ec78",
   "metadata": {},
   "outputs": [],
   "source": [
    "cell0 = oceanmesh.nCells # base cell\n",
    "cell1 = oceanmesh.cellsOnCell.isel(maxEdges=1)-1\n",
    "cell2 = oceanmesh.cellsOnCell.isel(maxEdges=2)-1"
   ]
  },
  {
   "cell_type": "code",
   "execution_count": null,
   "id": "89c3df6e",
   "metadata": {},
   "outputs": [],
   "source": [
    "tris = np.stack([cell0, cell1, cell2]).T\n",
    "# Remove any rows with -1 in them\n",
    "tris = tris[~np.any(tris==-1, axis=1)]\n",
    "tris = pd.DataFrame({'v0': tris[:, 0],\n",
    "                     'v1': tris[:, 1],\n",
    "                     'v2': tris[:, 2]})"
   ]
  },
  {
   "cell_type": "code",
   "execution_count": null,
   "id": "dcc2ec64",
   "metadata": {},
   "outputs": [],
   "source": []
  },
  {
   "cell_type": "code",
   "execution_count": null,
   "id": "b525a856",
   "metadata": {},
   "outputs": [],
   "source": [
    "areaCell = oceanmesh.areaCell\n",
    "landIceFrac = oceanmesh.landIceFraction"
   ]
  },
  {
   "cell_type": "code",
   "execution_count": null,
   "id": "665467db",
   "metadata": {},
   "outputs": [],
   "source": [
    "data = xr.open_dataset(inDirName + 'mpaso.hist.am.timeSeriesStatsMonthly.0001-01-01.nc')\n",
    "flux = data.timeMonthly_avg_landIceFreshwaterFlux\n",
    "ssh = data.timeMonthly_avg_ssh"
   ]
  },
  {
   "cell_type": "code",
   "execution_count": null,
   "id": "857785eb",
   "metadata": {},
   "outputs": [],
   "source": [
    "ds = xr.open_dataset(inDirName + regriddedFluxSSH_filepath)\n",
    "rgflux = ds.timeMonthly_avg_landIceFreshwaterFlux\n",
    "rgssh = ds.timeMonthly_avg_ssh"
   ]
  },
  {
   "cell_type": "code",
   "execution_count": null,
   "id": "d7e6a94c",
   "metadata": {},
   "outputs": [],
   "source": [
    "total_flux = constants.sec_per_year*(areaCell*flux).sum('nCells')\n",
    "total_area = (landIceFrac*areaCell).sum(dim='nCells')\n",
    "meltRates = ((1./constants.rho_fw)*(total_flux/total_area))"
   ]
  },
  {
   "cell_type": "code",
   "execution_count": null,
   "id": "63c40222",
   "metadata": {},
   "outputs": [],
   "source": [
    "# convert from kg/yr to GT/yr\n",
    "total_flux /= constants.kg_per_GT\n",
    "totalMeltFluxes = total_flux"
   ]
  },
  {
   "cell_type": "code",
   "execution_count": null,
   "id": "845afd18",
   "metadata": {},
   "outputs": [],
   "source": [
    "total_flux"
   ]
  },
  {
   "cell_type": "code",
   "execution_count": null,
   "id": "2a650c24",
   "metadata": {},
   "outputs": [],
   "source": [
    "1143.70347475/0.25156389"
   ]
  },
  {
   "cell_type": "code",
   "execution_count": null,
   "id": "ddc7c9bd",
   "metadata": {},
   "outputs": [],
   "source": []
  },
  {
   "cell_type": "code",
   "execution_count": null,
   "id": "81e3a341",
   "metadata": {},
   "outputs": [],
   "source": [
    "rgflts[0]"
   ]
  },
  {
   "cell_type": "code",
   "execution_count": null,
   "id": "3f8ada87",
   "metadata": {},
   "outputs": [],
   "source": [
    "rgflseries = rgflts*4546.37378500547"
   ]
  },
  {
   "cell_type": "code",
   "execution_count": null,
   "id": "628ad5e9",
   "metadata": {},
   "outputs": [],
   "source": [
    "plt.figure(figsize=(25,8))\n",
    "rgflseries[:1200].plot()"
   ]
  },
  {
   "cell_type": "code",
   "execution_count": null,
   "id": "5eeb8bfd",
   "metadata": {},
   "outputs": [],
   "source": [
    "ds = time_series_antarctic_melt.open_mpas_dataset(inDirName + 'mpaso.hist.am.timeSeriesStatsMonthly.0001-02-01.nc')"
   ]
  },
  {
   "cell_type": "code",
   "execution_count": null,
   "id": "a833a485",
   "metadata": {},
   "outputs": [],
   "source": []
  },
  {
   "cell_type": "code",
   "execution_count": null,
   "id": "24c4b82b",
   "metadata": {},
   "outputs": [],
   "source": [
    "%%time\n",
    "model = EOF(flux)\n",
    "model.solve()"
   ]
  },
  {
   "cell_type": "code",
   "execution_count": null,
   "id": "b486b453",
   "metadata": {},
   "outputs": [],
   "source": [
    "icems.name.values[0]"
   ]
  },
  {
   "cell_type": "code",
   "execution_count": null,
   "id": "185c59d8",
   "metadata": {},
   "outputs": [],
   "source": [
    "icems.name.values"
   ]
  },
  {
   "cell_type": "code",
   "execution_count": null,
   "id": "9dccadde",
   "metadata": {},
   "outputs": [],
   "source": [
    "data = xr.open_dataset(inDirName + regriddedFluxSSH_filepath)\n",
    "flux = data.timeMonthly_avg_landIceFreshwaterFlux\n",
    "ssh = data.timeMonthly_avg_ssh\n",
    "lat = data.lat\n",
    "lon = data.lon\n",
    "\n",
    "# Presents a sample plot of the entire ice sheet with the flux data at any time stamp\n",
    "\n",
    "# Time stamp\n",
    "ts = 1200\n",
    "\n",
    "\"\"\"\n",
    "\n",
    "plt.figure(figsize=(15,10))\n",
    "ax = plt.subplot(111,projection=ccrs.SouthPolarStereo())\n",
    "#ax.gridlines()\n",
    "# ax.coastlines(resolution='10m',linewidth=0.75) \n",
    "# flux[ts].plot.contourf(ax=ax,levels=30)\n",
    "flux[ts].plot()\n",
    "# flux.mean('time').plot()\n",
    "# icems.boundary.loc[[basin]].plot(ax=ax,color='blue',linewidth=0.25)\n",
    "\"\"\"\n",
    "\n",
    "\n",
    "# Read geoJSON region feature file as POLYGON (GeoDataFrame)\n",
    "iceshelvesmask = gpd.read_file(inDirName + iceShelvesShape_filepath)\n",
    "\n",
    "# convert to south polar stereographic projection\n",
    "icems = iceshelvesmask.to_crs({'init': 'epsg:3031'})\n",
    "crs = ccrs.SouthPolarStereo()\n",
    "\n",
    "#Masked data\n",
    "data.rio.write_crs(\"epsg:3031\",inplace=True)\n",
    "\n",
    "## Following section tests the code for 1 ice shelf / catchment:\n",
    "# Iceshelf chosen: \n",
    "#  34 : Amery\n",
    "# 103 : Ronne\n",
    "# 104 : Western Ross\n",
    "# 105 : Eastern Ross\n",
    "# 114 : Thwaites\n",
    "\n",
    "basin = 23\n",
    "\n",
    "\n",
    "for basin in range(34,133):\n",
    "    basinName = icems.name.values[basin]\n",
    "    \n",
    "    \n",
    "    ds = data.rio.clip(icems.loc[[basin],'geometry'].apply(mapping),icems.crs,drop=False)\n",
    "\n",
    "    flx = ds.timeMonthly_avg_landIceFreshwaterFlux\n",
    "    h = ds.timeMonthly_avg_ssh\n",
    "\n",
    "    # lmax = np.max(flx)\n",
    "    # lmin = np.min(flx)\n",
    "\n",
    "    flx_series = flx.sum(['y','x'])\n",
    "\n",
    "    def detrend_dim(data, dim, deg):\n",
    "        # detrend along a single dimension\n",
    "        p = data.polyfit(dim=dim, deg=deg)\n",
    "        fit = xr.polyval(data[dim], p.polyfit_coefficients)\n",
    "        return data - fit\n",
    "\n",
    "    flx_detrended = detrend_dim(flx, 'time', 1)\n",
    "\n",
    "    # Integrate flux across basin for time series\n",
    "    flx_detrended_series = flx_detrended.sum(['y','x'], skipna=True)\n",
    "\n",
    "    # Deseasonalize with monthly means\n",
    "    flx_monthly = flx_detrended.groupby(\"time.month\")\n",
    "    flx_deseasonalized = flx_monthly - flx_monthly.mean(\"time\")\n",
    "    flx_deseasonalized_series = flx_deseasonalized.sum(['y','x'], skipna=True)\n",
    "\n",
    "    plt.figure(figsize=(20,8))\n",
    "    ax1 = plt.subplot(121,projection=ccrs.SouthPolarStereo())\n",
    "    ax1.gridlines()\n",
    "    icems[34:133].boundary.plot(ax=ax1,linewidth=0.5)\n",
    "    ax1.coastlines(resolution='10m', zorder=6,linewidth=0.75)\n",
    "    icems.loc[[basin]].plot(ax=ax1)\n",
    "\n",
    "    # Presents a sample plot of the ice shelf under question with the flux data at any time stamp\n",
    "\n",
    "    # Time stamp\n",
    "    ts = 200\n",
    "\n",
    "    # plt.figure(figsize=(10,8))\n",
    "    ax2 = plt.subplot(122,projection=ccrs.SouthPolarStereo())\n",
    "    ax2.gridlines()\n",
    "    ax2.coastlines(resolution='10m', zorder=3,linewidth=0.75)\n",
    "    # flx[10].plot.contourf(ax=ax,levels=np.linspace(lmin,lmax,30))\n",
    "    flx[ts].plot.contourf(ax=ax2,levels=30,zorder=6)\n",
    "    # flx[ts].plot()\n",
    "    icems.boundary.loc[[basin]].plot(ax=ax2,color='blue',linewidth=0.25)\n",
    "\n",
    "    plt.savefig('catchment-map-{}.jpg'.format(basinName))\n",
    "    \n",
    "    # change this to remove first few datapoints\n",
    "    tstart = 24\n",
    "    plt.figure(figsize=(30, 24), dpi=80)\n",
    "    plt.subplot(311)\n",
    "    flx_detrended_series[800:900].plot()\n",
    "    plt.title('Raw Detrended Flux')\n",
    "    \n",
    "    plt.subplot(312)\n",
    "    seasonal_diff = flx_deseasonalized_series - flx_detrended_series\n",
    "    flx_deseasonalized_series[800:900].plot(label = 'Deseasonalized Trend')\n",
    "    # fl_sum.plot()\n",
    "    seasonal_diff[800:900].plot(label = 'Seasonal Cycle', linewidth=0.5)\n",
    "    plt.legend()\n",
    "\n",
    "    # plot autocorrelation\n",
    "    # plt.figure(figsize=(20, 10), dpi=80)\n",
    "\n",
    "    plt.subplot(313)\n",
    "    spinuptime = 60 # Ignore first few years of data in the phase randomization\n",
    "    n_realizations = 50 # Number of random Fourier realizations\n",
    "\n",
    "    new_fl = np.empty((n_realizations,flx_deseasonalized_series[spinuptime:].size))\n",
    "\n",
    "    # Time limits for plotting\n",
    "    t1 = 800\n",
    "    tf = 900\n",
    "\n",
    "    for i in range(n_realizations):    \n",
    "        fl = flx_deseasonalized_series[spinuptime:]\n",
    "        fl_fourier = np.fft.rfft(fl)\n",
    "        # random_phases = np.exp(np.random.uniform(0,np.pi)*1.0j)\n",
    "        random_phases = np.exp(np.random.uniform(0,2*np.pi,int(len(fl)/2+1))*1.0j)\n",
    "        fl_fourier_new = fl_fourier*random_phases\n",
    "        new_fl[i,:] = np.fft.irfft(fl_fourier_new)\n",
    "        plt.plot(new_fl[i,t1:tf],'b', linewidth=0.15)\n",
    "\n",
    "    plt.plot(new_fl[45,t1:tf],'b', linewidth=1, label='Randomized Output')\n",
    "    plt.plot(new_fl[10,t1:tf],'b', linewidth=1)\n",
    "    plt.plot(new_fl[40,t1:tf],'b', linewidth=1)\n",
    "    plt.plot(fl[t1:tf],'k', linewidth=3, label='MPAS Output')\n",
    "    plt.title('Deseasonalized Flux (Years: {:.1f} - {:.1f}): {}'.format((spinuptime+t1)/12,(spinuptime+tf)/12,basinName))\n",
    "    plt.ylabel('landIceFreshwaterFlux')\n",
    "    plt.legend()\n",
    "    \n",
    "    plt.savefig('deseasonalized_trend-{}.jpg'.format(basinName))\n"
   ]
  },
  {
   "cell_type": "code",
   "execution_count": null,
   "id": "e734e943",
   "metadata": {},
   "outputs": [],
   "source": [
    "plt.figure(figsize=(10,10))\n",
    "ax = plt.subplot(111,projection=ccrs.SouthPolarStereo())\n",
    "ax.gridlines()\n",
    "icems[34:133].boundary.plot(ax=ax,linewidth=0.5)\n",
    "ax.coastlines(resolution='10m', zorder=6,linewidth=0.75)\n",
    "icems.loc[[basin]].plot(ax=ax)\n",
    "\n",
    "# Mask data to chosen basin\n",
    "#  34 : Amery\n",
    "# 104 : Western Ross\n",
    "# 105 : Eastern Ross\n",
    "# 114 : Thwaites\n",
    "ds = data.rio.clip(icems.loc[[basin],'geometry'].apply(mapping),icems.crs,drop=False)\n",
    "\n",
    "flx = ds.timeMonthly_avg_landIceFreshwaterFlux\n",
    "h = ds.timeMonthly_avg_ssh\n",
    "\n",
    "# lmax = np.max(flx)\n",
    "# lmin = np.min(flx)\n",
    "\n",
    "flx_series = flx.sum(['y','x'])\n",
    "\n",
    "def detrend_dim(data, dim, deg):\n",
    "    # detrend along a single dimension\n",
    "    p = data.polyfit(dim=dim, deg=deg)\n",
    "    fit = xr.polyval(data[dim], p.polyfit_coefficients)\n",
    "    return data - fit\n",
    "\n",
    "flx_detrended = detrend_dim(flx, 'time', 1)\n",
    "\n",
    "# Integrate flux across basin for time series\n",
    "flx_detrended_series = flx_detrended.sum(['y','x'], skipna=True)\n",
    "\n",
    "# Deseasonalize with monthly means\n",
    "flx_monthly = flx_detrended.groupby(\"time.month\")\n",
    "flx_deseasonalized = flx_monthly - flx_monthly.mean(\"time\")\n",
    "flx_deseasonalized_series = flx_deseasonalized.sum(['y','x'], skipna=True)\n",
    "\n",
    "plt.figure(figsize=(30, 8), dpi=80)\n",
    "seasonal_diff = flx_deseasonalized_series - flx_detrended_series\n",
    "flx_deseasonalized_series[60:1200].plot(label = 'Deseasonalized Trend')\n",
    "# fl_sum.plot()\n",
    "seasonal_diff[60:1200].plot(label = 'Seasonal Cycle', linewidth=0.25)\n",
    "plt.legend()"
   ]
  },
  {
   "cell_type": "code",
   "execution_count": null,
   "id": "91fa6744",
   "metadata": {},
   "outputs": [],
   "source": [
    "plt.figure(figsize=(10,10))\n",
    "ax = plt.subplot(111,projection=ccrs.SouthPolarStereo())\n",
    "ax.gridlines()\n",
    "icems[6:32].boundary.plot(ax=ax,linewidth=0.5)\n",
    "ax.coastlines(resolution='10m', zorder=6,linewidth=0.75)\n",
    "icems.loc[[23]].plot(ax=ax)\n",
    "icems.loc[[13]].plot(ax=ax)"
   ]
  },
  {
   "cell_type": "code",
   "execution_count": null,
   "id": "4d04b110",
   "metadata": {},
   "outputs": [],
   "source": [
    "plt.figure(figsize=(20, 8), dpi=80)\n",
    "plt.scatter(flx.mean('time'),h.mean('time'))"
   ]
  },
  {
   "cell_type": "code",
   "execution_count": null,
   "id": "6bb9e823",
   "metadata": {},
   "outputs": [],
   "source": [
    "# plot autocorrelation\n",
    "plt.figure(figsize=(20, 8), dpi=80)\n",
    "\n",
    "fl = flx_deseasonalized_series[24:]\n",
    "plt.clf()\n",
    "fl_fourier = np.fft.rfft(fl)\n",
    "\n",
    "# random_phases = np.exp(np.random.uniform(0,np.pi,int(len(fl)/2+1))*1.0j)\n",
    "random_phases = np.exp(np.random.uniform(0,np.pi)*1.0j)\n",
    "\n",
    "fl_fourier_new = fl_fourier*random_phases\n",
    "\n",
    "new_fl = np.fft.irfft(fl_fourier_new)\n",
    "\n",
    "pd.plotting.autocorrelation_plot(fl)\n",
    "pd.plotting.autocorrelation_plot(new_fl)\n",
    "plt.ylabel('Autocorrelation')\n",
    "plt.title('ACF: {}, Monthly Means'.format(basinName))\n",
    "#plt.savefig('{}_flux_ACF_dedrafted.png'.format(basinName))"
   ]
  },
  {
   "cell_type": "code",
   "execution_count": null,
   "id": "0adc4743",
   "metadata": {},
   "outputs": [],
   "source": [
    "plt.figure(figsize=(20,8))\n",
    "ax1 = plt.subplot(121,projection=ccrs.SouthPolarStereo())\n",
    "ax1.gridlines()\n",
    "icems[34:133].boundary.plot(ax=ax1,linewidth=0.5)\n",
    "ax1.coastlines(resolution='10m', zorder=6,linewidth=0.75)\n",
    "icems.loc[[basin]].plot(ax=ax1)\n",
    "\n",
    "# Presents a sample plot of the ice shelf under question with the flux data at any time stamp\n",
    "\n",
    "# Time stamp\n",
    "ts = 200\n",
    "\n",
    "# plt.figure(figsize=(10,8))\n",
    "ax2 = plt.subplot(122,projection=ccrs.SouthPolarStereo())\n",
    "ax2.gridlines()\n",
    "ax2.coastlines(resolution='10m', zorder=3,linewidth=0.75)\n",
    "# flx[10].plot.contourf(ax=ax,levels=np.linspace(lmin,lmax,30))\n",
    "flx[ts].plot.contourf(ax=ax2,levels=30,zorder=6)\n",
    "# flx[ts].plot()\n",
    "icems.boundary.loc[[basin]].plot(ax=ax2,color='blue',linewidth=0.25)\n",
    "\n",
    "\n",
    "\n",
    "# change this to remove first few datapoints\n",
    "tstart = 24\n",
    "plt.figure(figsize=(30, 24), dpi=80)\n",
    "plt.subplot(311)\n",
    "flx_detrended_series[800:900].plot()\n",
    "plt.title('Raw Detrended Flux')\n",
    "\n",
    "\n",
    "plt.subplot(312)\n",
    "seasonal_diff = flx_deseasonalized_series - flx_detrended_series\n",
    "flx_deseasonalized_series[800:900].plot(label = 'Deseasonalized Trend')\n",
    "# fl_sum.plot()\n",
    "seasonal_diff[800:900].plot(label = 'Seasonal Cycle', linewidth=0.5)\n",
    "plt.legend()\n",
    "\n",
    "\n",
    "\n",
    "# plot autocorrelation\n",
    "# plt.figure(figsize=(20, 10), dpi=80)\n",
    "\n",
    "plt.subplot(313)\n",
    "spinuptime = 60 # Ignore first few years of data in the phase randomization\n",
    "n_realizations = 50 # Number of random Fourier realizations\n",
    "\n",
    "new_fl = np.empty((n_realizations,flx_deseasonalized_series[spinuptime:].size))\n",
    "\n",
    "# Time limits for plotting\n",
    "t1 = 800\n",
    "tf = 900\n",
    "\n",
    "for i in range(n_realizations):    \n",
    "    fl = flx_deseasonalized_series[spinuptime:]\n",
    "    fl_fourier = np.fft.rfft(fl)\n",
    "    # random_phases = np.exp(np.random.uniform(0,np.pi)*1.0j)\n",
    "    random_phases = np.exp(np.random.uniform(0,2*np.pi,int(len(fl)/2+1))*1.0j)\n",
    "    fl_fourier_new = fl_fourier*random_phases\n",
    "    new_fl[i,:] = np.fft.irfft(fl_fourier_new)\n",
    "    plt.plot(new_fl[i,t1:tf],'b', linewidth=0.15)\n",
    "\n",
    "plt.plot(new_fl[45,t1:tf],'b', linewidth=1, label='Randomized Output')\n",
    "plt.plot(new_fl[10,t1:tf],'b', linewidth=1)\n",
    "plt.plot(new_fl[40,t1:tf],'b', linewidth=1)\n",
    "plt.plot(fl[t1:tf],'k', linewidth=3, label='MPAS Output')\n",
    "plt.title('Deseasonalized Flux (Years: {:.1f} - {:.1f}): {}'.format((spinuptime+t1)/12,(spinuptime+tf)/12,basinName))\n",
    "plt.ylabel('landIceFreshwaterFlux')\n",
    "plt.legend()"
   ]
  },
  {
   "cell_type": "code",
   "execution_count": null,
   "id": "55c196a7",
   "metadata": {},
   "outputs": [],
   "source": [
    "x = np.linspace(0, 2 * np.pi, 400)\n",
    "y = np.sin(x ** 2)\n",
    "\n",
    "fig, axd = plt.subplot_mosaic([['left', 'right'],['bottom', 'bottom']],figsize=(15,16),\n",
    "                              constrained_layout=True)\n",
    "# axd['left'].plot(x, y, 'C0')\n",
    "\n",
    "axd['left'] = plt.subplot(121,projection=ccrs.SouthPolarStereo())\n",
    "axd['left'].gridlines()\n",
    "icems[34:133].boundary.plot(ax=axd['left'],linewidth=0.5)\n",
    "axd['left'].coastlines(resolution='10m', zorder=6,linewidth=0.75)\n",
    "icems.loc[[basin]].plot(ax=axd['left'])\n",
    "\n",
    "# Presents a sample plot of the ice shelf under question with the flux data at any time stamp\n",
    "\n",
    "\n",
    "\n",
    "\n",
    "# axd['right'].plot(x, y, 'C1')\n",
    "\n",
    "# Time stamp\n",
    "ts = 200\n",
    "\n",
    "# plt.figure(figsize=(10,8))\n",
    "axd['right'] = plt.subplot(122,projection=ccrs.SouthPolarStereo())\n",
    "axd['right'].gridlines()\n",
    "axd['right'].coastlines(resolution='10m', zorder=3,linewidth=0.75)\n",
    "# flx[10].plot.contourf(ax=ax,levels=np.linspace(lmin,lmax,30))\n",
    "flx[ts].plot.contourf(ax=axd['right'],levels=30,zorder=6)\n",
    "# flx[ts].plot()\n",
    "icems.boundary.loc[[basin]].plot(ax=axd['right'],color='blue',linewidth=0.25)\n",
    "\n",
    "\n",
    "\n",
    "\n",
    "# axd['bottom'].plot(x, y, 'C2')"
   ]
  }
 ],
 "metadata": {
  "kernelspec": {
   "display_name": "Python 3 (ipykernel)",
   "language": "python",
   "name": "python3"
  },
  "language_info": {
   "codemirror_mode": {
    "name": "ipython",
    "version": 3
   },
   "file_extension": ".py",
   "mimetype": "text/x-python",
   "name": "python",
   "nbconvert_exporter": "python",
   "pygments_lexer": "ipython3",
   "version": "3.10.8"
  }
 },
 "nbformat": 4,
 "nbformat_minor": 5
}
