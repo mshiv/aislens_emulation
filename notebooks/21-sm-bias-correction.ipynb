{
 "cells": [
  {
   "cell_type": "code",
   "execution_count": 1,
   "id": "f6d95c86-65d0-4dde-9c90-3f3730c45bbf",
   "metadata": {},
   "outputs": [],
   "source": [
    "import sys\n",
    "import os\n",
    "os.environ['USE_PYGEOS'] = '0'\n",
    "import gc\n",
    "import collections\n",
    "\n",
    "import cartopy.crs as ccrs\n",
    "import cartopy\n",
    "import matplotlib.pyplot as plt\n",
    "import seaborn as sns\n",
    "from matplotlib import rcParams, cycler\n",
    "from matplotlib import animation, rc\n",
    "from matplotlib.gridspec import GridSpec\n",
    "from mpl_toolkits.axes_grid1.inset_locator import inset_axes\n",
    "\n",
    "import numpy as np\n",
    "import xarray as xr\n",
    "# from xeofs.xarray import EOF\n",
    "import rioxarray\n",
    "\n",
    "import scipy\n",
    "from scipy import signal\n",
    "from shapely.geometry import mapping\n",
    "from xarrayutils.utils import linear_trend, xr_linregress\n",
    "import pandas as pd"
   ]
  },
  {
   "cell_type": "code",
   "execution_count": 3,
   "id": "f9bd7e4d-9cd9-4678-aa27-3ae30428f64e",
   "metadata": {},
   "outputs": [],
   "source": [
    "# File path directories\n",
    "\n",
    "inDirName = '/Users/smurugan9/research/aislens/aislens_emulation/'\n",
    "\n",
    "# Basal melt observations from Paolo et al., 2023\n",
    "DIR_basalMeltObs = 'data/external/'\n",
    "\n",
    "# Ocean model output - E3SM (SORRMv2.1.ISMF), data received from Darin Comeau / Matt Hoffman at LANL\n",
    "\n",
    "DIR_SORRMv21 = 'data/external/SORRMv2.1.ISMF/regridded_output/'\n",
    "\n",
    "# FILENAMES\n",
    "\n",
    "FILE_basalMeltObs = 'ANT_G1920V01_IceShelfMelt.nc'\n",
    "FILE_SORRMv21 = 'Regridded_SORRMv2.1.ISMF.FULL.nc'"
   ]
  },
  {
   "cell_type": "code",
   "execution_count": 4,
   "id": "8e3457d7-8120-43f1-9292-b8bf10d57d74",
   "metadata": {},
   "outputs": [],
   "source": [
    "MELT_OBS = xr.open_dataset(inDirName+DIR_basalMeltObs+FILE_basalMeltObs)\n",
    "SORRMv21 = xr.open_dataset(inDirName+DIR_SORRMv21+FILE_SORRMv21)"
   ]
  },
  {
   "cell_type": "code",
   "execution_count": null,
   "id": "2bb512f9-d47e-4feb-b2d7-a28c32791ce6",
   "metadata": {},
   "outputs": [],
   "source": [
    "# Dedraft both datasets (observations and model output)"
   ]
  },
  {
   "cell_type": "code",
   "execution_count": null,
   "id": "d056a994-7193-4e56-9ab2-cb5a19222bc6",
   "metadata": {},
   "outputs": [],
   "source": [
    "# Save linear regression interim files for MELT_OBS and SORRMv21"
   ]
  },
  {
   "cell_type": "code",
   "execution_count": null,
   "id": "d1759c1b-80d9-4cd7-b450-5892ec2a93f7",
   "metadata": {},
   "outputs": [],
   "source": [
    "# Plot dedrafted melt for MELT_OBS and SORRMv21 across ice shelves.\n",
    "# To save time, can use IMBIE definitions of ice shelves at first - \n",
    "# these are larger catchments with mostly similar behavior as the \n",
    "# refined catchment definitions of individual ice shelves"
   ]
  },
  {
   "cell_type": "code",
   "execution_count": null,
   "id": "bc35106d-8093-4b20-bfb6-548a0aadbc32",
   "metadata": {},
   "outputs": [],
   "source": [
    "# Compare PAOLO23 to SORRMv21\n",
    "# Spatiotemporal means"
   ]
  },
  {
   "cell_type": "code",
   "execution_count": null,
   "id": "cd99ea6b-2315-48d4-8d38-f5a1ab95c889",
   "metadata": {},
   "outputs": [],
   "source": []
  },
  {
   "cell_type": "code",
   "execution_count": null,
   "id": "42f6665e-8f80-4989-b947-caab47c72c15",
   "metadata": {},
   "outputs": [],
   "source": []
  },
  {
   "cell_type": "code",
   "execution_count": null,
   "id": "3ea3611b-22ca-4753-87f0-fc863bd43df3",
   "metadata": {},
   "outputs": [],
   "source": []
  }
 ],
 "metadata": {
  "kernelspec": {
   "display_name": "Python 3 (ipykernel)",
   "language": "python",
   "name": "python3"
  },
  "language_info": {
   "codemirror_mode": {
    "name": "ipython",
    "version": 3
   },
   "file_extension": ".py",
   "mimetype": "text/x-python",
   "name": "python",
   "nbconvert_exporter": "python",
   "pygments_lexer": "ipython3",
   "version": "3.10.8"
  }
 },
 "nbformat": 4,
 "nbformat_minor": 5
}
