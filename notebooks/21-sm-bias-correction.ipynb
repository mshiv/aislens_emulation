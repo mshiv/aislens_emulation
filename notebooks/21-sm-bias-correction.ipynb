{
 "cells": [
  {
   "cell_type": "code",
   "execution_count": 98,
   "id": "f6d95c86-65d0-4dde-9c90-3f3730c45bbf",
   "metadata": {},
   "outputs": [],
   "source": [
    "import sys\n",
    "import os\n",
    "os.environ['USE_PYGEOS'] = '0'\n",
    "import gc\n",
    "import collections\n",
    "\n",
    "import cartopy.crs as ccrs\n",
    "import cartopy\n",
    "import matplotlib.pyplot as plt\n",
    "import seaborn as sns\n",
    "from matplotlib import rcParams, cycler\n",
    "from matplotlib import animation, rc\n",
    "from matplotlib.gridspec import GridSpec\n",
    "from mpl_toolkits.axes_grid1.inset_locator import inset_axes\n",
    "import geopandas as gpd\n",
    "\n",
    "import numpy as np\n",
    "import xarray as xr\n",
    "# from xeofs.xarray import EOF\n",
    "import rioxarray\n",
    "\n",
    "import scipy\n",
    "from scipy import signal\n",
    "import cftime\n",
    "from shapely.geometry import mapping\n",
    "from xarrayutils.utils import linear_trend, xr_linregress\n",
    "import pandas as pd"
   ]
  },
  {
   "cell_type": "code",
   "execution_count": 99,
   "id": "f9bd7e4d-9cd9-4678-aa27-3ae30428f64e",
   "metadata": {},
   "outputs": [],
   "source": [
    "# File path directories\n",
    "\n",
    "inDirName = '/Users/smurugan9/research/aislens/aislens_emulation/'\n",
    "DIR_external = 'data/external/'\n",
    "\n",
    "# DATASET FILEPATHS\n",
    "# Basal melt observations from Paolo 2023\n",
    "DIR_basalMeltObs = 'data/external/Paolo2023/'\n",
    "# Ocean model output - E3SM (SORRMv2.1.ISMF), data received from Darin Comeau / Matt Hoffman at LANL\n",
    "DIR_SORRMv21 = 'data/external/SORRMv2.1.ISMF/regridded_output/'\n",
    "\n",
    "# INTERIM GENERATED FILEPATHS\n",
    "DIR_basalMeltObs_Interim = 'data/interim/Paolo2023/iceShelves_dedraft/'\n",
    "\n",
    "\n",
    "# DATA FILENAMES\n",
    "FILE_basalMeltObs = 'ANT_G1920V01_IceShelfMelt.nc'\n",
    "FILE_MeltDraftObs = 'ANT_G1920V01_IceShelfMeltDraft.nc'\n",
    "FILE_SORRMv21 = 'Regridded_SORRMv2.1.ISMF.FULL.nc'\n",
    "\n",
    "\n",
    "FILE_iceShelvesShape = 'iceShelves.geojson'"
   ]
  },
  {
   "cell_type": "code",
   "execution_count": 100,
   "id": "8e3457d7-8120-43f1-9292-b8bf10d57d74",
   "metadata": {},
   "outputs": [
    {
     "name": "stderr",
     "output_type": "stream",
     "text": [
      "/Users/smurugan9/opt/anaconda3/envs/aislens/lib/python3.10/site-packages/pyproj/crs/crs.py:141: FutureWarning: '+init=<authority>:<code>' syntax is deprecated. '<authority>:<code>' is the preferred initialization method. When making the change, be mindful of axis order changes: https://pyproj4.github.io/pyproj/stable/gotchas.html#axis-order-changes-in-proj-6\n",
      "  in_crs_string = _prepare_from_proj_string(in_crs_string)\n"
     ]
    }
   ],
   "source": [
    "MELTDRAFT_OBS = xr.open_dataset(inDirName+DIR_basalMeltObs+FILE_MeltDraftObs)\n",
    "SORRMv21 = xr.open_dataset(inDirName+DIR_SORRMv21+FILE_SORRMv21)\n",
    "\n",
    "ICESHELVES_MASK = gpd.read_file(inDirName+DIR_external+FILE_iceShelvesShape)\n",
    "icems = ICESHELVES_MASK.to_crs({'init': 'epsg:3031'});\n",
    "crs = ccrs.SouthPolarStereo();"
   ]
  },
  {
   "cell_type": "code",
   "execution_count": 13,
   "id": "941a132f-8443-4c8c-9494-887460a370cd",
   "metadata": {},
   "outputs": [],
   "source": [
    "# SORRMv21_ts = np.empty(SORRMv21.timeMonthly_avg_landIceFreshwaterFlux.shape[0])\n",
    "# for i in range(SORRMv21_ts.shape[0]):\n",
    "#     SORRMv21_ts[i] = SORRMv21.timeMonthly_avg_landIceFreshwaterFlux[i].mean(['x','y'])"
   ]
  },
  {
   "cell_type": "code",
   "execution_count": 30,
   "id": "5eb063ec-44d4-4d32-a22a-a247162c870e",
   "metadata": {},
   "outputs": [],
   "source": [
    "sorrm_ts = SORRMv21.timeMonthly_avg_landIceFreshwaterFlux.mean(['x','y'])"
   ]
  },
  {
   "cell_type": "code",
   "execution_count": 104,
   "id": "c62b9db7-e047-4cd5-adf7-a954bb42359e",
   "metadata": {},
   "outputs": [],
   "source": [
    "MELTDRAFT_OBS.rio.write_crs(\"epsg:3031\",inplace=True);\n",
    "h = MELTDRAFT_OBS.draft\n",
    "h_mean = h.mean('time')"
   ]
  },
  {
   "cell_type": "code",
   "execution_count": null,
   "id": "65c47d25-5e43-497f-9ea0-dd6a53009df1",
   "metadata": {},
   "outputs": [
    {
     "name": "stdout",
     "output_type": "stream",
     "text": [
      "extracting data for catchment IMBIE1\n",
      "calculating linear regression for catchment IMBIE1\n",
      "IMBIE1 file saved\n",
      "deleted interim variables\n",
      "extracting data for catchment IMBIE2\n",
      "calculating linear regression for catchment IMBIE2\n",
      "IMBIE2 file saved\n",
      "deleted interim variables\n",
      "extracting data for catchment IMBIE3\n",
      "calculating linear regression for catchment IMBIE3\n",
      "IMBIE3 file saved\n",
      "deleted interim variables\n",
      "extracting data for catchment IMBIE4\n",
      "calculating linear regression for catchment IMBIE4\n",
      "IMBIE4 file saved\n",
      "deleted interim variables\n",
      "extracting data for catchment IMBIE5\n",
      "calculating linear regression for catchment IMBIE5\n",
      "IMBIE5 file saved\n",
      "deleted interim variables\n",
      "extracting data for catchment IMBIE6\n",
      "calculating linear regression for catchment IMBIE6\n",
      "IMBIE6 file saved\n",
      "deleted interim variables\n",
      "extracting data for catchment IMBIE7\n",
      "calculating linear regression for catchment IMBIE7\n",
      "IMBIE7 file saved\n",
      "deleted interim variables\n",
      "extracting data for catchment IMBIE8\n",
      "calculating linear regression for catchment IMBIE8\n",
      "IMBIE8 file saved\n",
      "deleted interim variables\n",
      "extracting data for catchment IMBIE9\n",
      "calculating linear regression for catchment IMBIE9\n",
      "IMBIE9 file saved\n",
      "deleted interim variables\n",
      "extracting data for catchment IMBIE10\n",
      "calculating linear regression for catchment IMBIE10\n",
      "IMBIE10 file saved\n",
      "deleted interim variables\n",
      "extracting data for catchment IMBIE11\n",
      "calculating linear regression for catchment IMBIE11\n",
      "IMBIE11 file saved\n",
      "deleted interim variables\n",
      "extracting data for catchment IMBIE12\n",
      "calculating linear regression for catchment IMBIE12\n",
      "IMBIE12 file saved\n",
      "deleted interim variables\n",
      "extracting data for catchment IMBIE13\n",
      "calculating linear regression for catchment IMBIE13\n",
      "IMBIE13 file saved\n",
      "deleted interim variables\n",
      "extracting data for catchment IMBIE14\n",
      "calculating linear regression for catchment IMBIE14\n",
      "IMBIE14 file saved\n",
      "deleted interim variables\n",
      "extracting data for catchment IMBIE15\n",
      "calculating linear regression for catchment IMBIE15\n",
      "IMBIE15 file saved\n",
      "deleted interim variables\n",
      "extracting data for catchment IMBIE16\n",
      "calculating linear regression for catchment IMBIE16\n",
      "IMBIE16 file saved\n",
      "deleted interim variables\n",
      "extracting data for catchment IMBIE17\n",
      "calculating linear regression for catchment IMBIE17\n",
      "IMBIE17 file saved\n",
      "deleted interim variables\n",
      "extracting data for catchment IMBIE18\n",
      "calculating linear regression for catchment IMBIE18\n",
      "IMBIE18 file saved\n",
      "deleted interim variables\n",
      "extracting data for catchment IMBIE19\n",
      "calculating linear regression for catchment IMBIE19\n",
      "IMBIE19 file saved\n",
      "deleted interim variables\n",
      "extracting data for catchment IMBIE20\n",
      "calculating linear regression for catchment IMBIE20\n",
      "IMBIE20 file saved\n",
      "deleted interim variables\n",
      "extracting data for catchment IMBIE21\n",
      "calculating linear regression for catchment IMBIE21\n",
      "IMBIE21 file saved\n",
      "deleted interim variables\n",
      "extracting data for catchment IMBIE22\n",
      "calculating linear regression for catchment IMBIE22\n",
      "IMBIE22 file saved\n",
      "deleted interim variables\n",
      "extracting data for catchment IMBIE23\n",
      "calculating linear regression for catchment IMBIE23\n"
     ]
    }
   ],
   "source": [
    "for i in range(6,32):\n",
    "    print('extracting data for catchment {}'.format(icems.name.values[i]))\n",
    "    mlt = MELTDRAFT_OBS.melt.rio.clip(icems.loc[[i],'geometry'].apply(mapping),icems.crs,drop=False)\n",
    "    mlt_mean = mlt.mean('time')\n",
    "    #h = ds.timeMonthly_avg_ssh\n",
    "    #h_mean = h.mean('time')\n",
    "    # Dedraft: Linear Regression with SSH over chosen basin\n",
    "    print('calculating linear regression for catchment {}'.format(icems.name.values[i]))\n",
    "    mlt_rgrs = xr_linregress(h, mlt_mean, dim='time') # h = independent variable\n",
    "    mlt_prd = mlt_rgrs.slope*h_mean + mlt_rgrs.intercept\n",
    "    #flx_ddrft = flx - flx_prd\n",
    "    mlt_prd.to_netcdf(inDirName+DIR_basalMeltObs_Interim+'{}_rgrs.nc'.format(icems.name.values[i]))\n",
    "    print('{} file saved'.format(icems.name.values[i]))\n",
    "    del mlt, mlt_mean, mlt_rgrs, mlt_prd\n",
    "    print('deleted interim variables')\n",
    "    gc.collect()"
   ]
  },
  {
   "cell_type": "code",
   "execution_count": 47,
   "id": "2bb512f9-d47e-4feb-b2d7-a28c32791ce6",
   "metadata": {},
   "outputs": [
    {
     "data": {
      "text/plain": [
       "'IMBIE1'"
      ]
     },
     "execution_count": 47,
     "metadata": {},
     "output_type": "execute_result"
    }
   ],
   "source": [
    "# IMBIE ice shelves = 6 to 32"
   ]
  },
  {
   "cell_type": "code",
   "execution_count": null,
   "id": "d056a994-7193-4e56-9ab2-cb5a19222bc6",
   "metadata": {},
   "outputs": [],
   "source": [
    "# Save linear regression interim files for MELT_OBS and SORRMv21"
   ]
  },
  {
   "cell_type": "code",
   "execution_count": null,
   "id": "d1759c1b-80d9-4cd7-b450-5892ec2a93f7",
   "metadata": {},
   "outputs": [],
   "source": [
    "# Plot dedrafted melt for MELT_OBS and SORRMv21 across ice shelves.\n",
    "# To save time, can use IMBIE definitions of ice shelves at first - \n",
    "# these are larger catchments with mostly similar behavior as the \n",
    "# refined catchment definitions of individual ice shelves"
   ]
  },
  {
   "cell_type": "code",
   "execution_count": null,
   "id": "bc35106d-8093-4b20-bfb6-548a0aadbc32",
   "metadata": {},
   "outputs": [],
   "source": [
    "# Compare PAOLO23 to SORRMv21\n",
    "# Spatiotemporal means in a scatterplot"
   ]
  },
  {
   "cell_type": "code",
   "execution_count": 93,
   "id": "42f6665e-8f80-4989-b947-caab47c72c15",
   "metadata": {},
   "outputs": [
    {
     "name": "stderr",
     "output_type": "stream",
     "text": [
      "/Users/smurugan9/opt/anaconda3/envs/aislens/lib/python3.10/site-packages/pyproj/crs/crs.py:141: FutureWarning: '+init=<authority>:<code>' syntax is deprecated. '<authority>:<code>' is the preferred initialization method. When making the change, be mindful of axis order changes: https://pyproj4.github.io/pyproj/stable/gotchas.html#axis-order-changes-in-proj-6\n",
      "  in_crs_string = _prepare_from_proj_string(in_crs_string)\n"
     ]
    }
   ],
   "source": []
  },
  {
   "cell_type": "code",
   "execution_count": 49,
   "id": "8041688a-349b-46bb-8dff-0a1adafb08e3",
   "metadata": {},
   "outputs": [],
   "source": [
    "# Refer Paolo 2023, or captoolkit\n",
    "# Lines 260-261 in \n",
    "# https://github.com/nasa-jpl/captoolkit/blob/be9aa159f2eec912e55d7b031f16ac026c8bd045/captoolkit/cubethick.py#L260C66-L260C66\n",
    "\n",
    "# D = (1 - (rho_ocean - rho_ice) / rho_ocean) H\n",
    "\n",
    "# H_draft = H_freeb * ((rho_ocean / (rho_ocean - rho_ice)) - 1)\n",
    "# H = H_freeb * rho_ocean / (rho_ocean - rho_ice)\n",
    "\n",
    "H = melt.thickness\n",
    "rho_ocean = 1028.0\n",
    "rho_ice = 917.0\n",
    "H_draft = (H*(rho_ocean-rho_ice)/rho_ocean)*((rho_ocean / (rho_ocean - rho_ice)) - 1)\n",
    "melt['draft'] = H_draft\n",
    "\n",
    "\n",
    "# xarray raises an issue when saving the modified dataset with just the melt and draft variables, \n",
    "# delete grid_mapping attribute to proceed with writing the file\n",
    "# del ds.melt.attrs['grid_mapping']\n",
    "\n",
    "ds1 = melt.melt\n",
    "ds2 = melt.draft\n",
    "ds = xr.merge([ds1,ds2])\n",
    "ds.to_netcdf(inDirName+DIR_basalMeltObs+'ANT_G1920V01_IceShelfMeltDraft.nc')"
   ]
  },
  {
   "cell_type": "code",
   "execution_count": 76,
   "id": "3ea3611b-22ca-4753-87f0-fc863bd43df3",
   "metadata": {},
   "outputs": [
    {
     "name": "stdout",
     "output_type": "stream",
     "text": [
      "calculating linear regression for catchment IMBIE1\n"
     ]
    }
   ],
   "source": [
    "mlt = melt.melt.rio.clip(icems.loc[[i],'geometry'].apply(mapping),icems.crs,drop=False)\n",
    "mlt_mean = mlt.mean('time')\n",
    "#h = ds.timeMonthly_avg_ssh\n",
    "#h_mean = h.mean('time')\n",
    "# Dedraft: Linear Regression with SSH over chosen basin\n",
    "print('calculating linear regression for catchment {}'.format(icems.name.values[i]))\n",
    "mlt_rgrs = xr_linregress(h, mlt_mean, dim='time') # h = independent variable\n",
    "mlt_prd = mlt_rgrs.slope*h_mean + mlt_rgrs.intercept\n",
    "#flx_ddrft = flx - flx_prd"
   ]
  },
  {
   "cell_type": "code",
   "execution_count": null,
   "id": "d9778305-00d1-49b8-a677-598374f47050",
   "metadata": {},
   "outputs": [],
   "source": []
  },
  {
   "cell_type": "code",
   "execution_count": null,
   "id": "ec6a16b2-5e89-457c-b5d5-a68bd0935687",
   "metadata": {},
   "outputs": [],
   "source": []
  },
  {
   "cell_type": "code",
   "execution_count": 94,
   "id": "f93b85de-960a-490f-bbf8-47827f10b03d",
   "metadata": {},
   "outputs": [
    {
     "name": "stdout",
     "output_type": "stream",
     "text": [
      "extracting data for catchment IMBIE1\n",
      "calculating linear regression for catchment IMBIE1\n",
      "IMBIE1 file saved\n",
      "deleted interim variables\n",
      "extracting data for catchment IMBIE2\n",
      "calculating linear regression for catchment IMBIE2\n",
      "IMBIE2 file saved\n"
     ]
    },
    {
     "ename": "NameError",
     "evalue": "name 'ds' is not defined",
     "output_type": "error",
     "traceback": [
      "\u001b[0;31m---------------------------------------------------------------------------\u001b[0m",
      "\u001b[0;31mNameError\u001b[0m                                 Traceback (most recent call last)",
      "Cell \u001b[0;32mIn[94], line 14\u001b[0m\n\u001b[1;32m     12\u001b[0m mlt_prd\u001b[38;5;241m.\u001b[39mto_netcdf(inDirName\u001b[38;5;241m+\u001b[39mDIR_basalMeltObs_Interim\u001b[38;5;241m+\u001b[39m\u001b[38;5;124m'\u001b[39m\u001b[38;5;132;01m{}\u001b[39;00m\u001b[38;5;124m_rgrs.nc\u001b[39m\u001b[38;5;124m'\u001b[39m\u001b[38;5;241m.\u001b[39mformat(icems\u001b[38;5;241m.\u001b[39mname\u001b[38;5;241m.\u001b[39mvalues[i]))\n\u001b[1;32m     13\u001b[0m \u001b[38;5;28mprint\u001b[39m(\u001b[38;5;124m'\u001b[39m\u001b[38;5;132;01m{}\u001b[39;00m\u001b[38;5;124m file saved\u001b[39m\u001b[38;5;124m'\u001b[39m\u001b[38;5;241m.\u001b[39mformat(icems\u001b[38;5;241m.\u001b[39mname\u001b[38;5;241m.\u001b[39mvalues[i]))\n\u001b[0;32m---> 14\u001b[0m \u001b[38;5;28;01mdel\u001b[39;00m ds, mlt, mlt_mean, mlt_rgrs, mlt_prd\n\u001b[1;32m     15\u001b[0m \u001b[38;5;28mprint\u001b[39m(\u001b[38;5;124m'\u001b[39m\u001b[38;5;124mdeleted interim variables\u001b[39m\u001b[38;5;124m'\u001b[39m)\n\u001b[1;32m     16\u001b[0m gc\u001b[38;5;241m.\u001b[39mcollect()\n",
      "\u001b[0;31mNameError\u001b[0m: name 'ds' is not defined"
     ]
    }
   ],
   "source": []
  },
  {
   "cell_type": "code",
   "execution_count": 85,
   "id": "1f998a43-fb3f-4539-b813-29437e0bebe1",
   "metadata": {},
   "outputs": [
    {
     "data": {
      "text/plain": [
       "'data/interim/Paolo2023/iceShelves_dedraft/'"
      ]
     },
     "execution_count": 85,
     "metadata": {},
     "output_type": "execute_result"
    }
   ],
   "source": [
    "# Scatterplots of slope of ice shelves in Paolo vs. SORRM\n",
    "# Scatterplots of ice shelf spatiotemporal means in dedrafted version"
   ]
  }
 ],
 "metadata": {
  "kernelspec": {
   "display_name": "Python 3 (ipykernel)",
   "language": "python",
   "name": "python3"
  },
  "language_info": {
   "codemirror_mode": {
    "name": "ipython",
    "version": 3
   },
   "file_extension": ".py",
   "mimetype": "text/x-python",
   "name": "python",
   "nbconvert_exporter": "python",
   "pygments_lexer": "ipython3",
   "version": "3.10.8"
  }
 },
 "nbformat": 4,
 "nbformat_minor": 5
}
