{
 "cells": [
  {
   "cell_type": "code",
   "execution_count": null,
   "id": "9bc5197a",
   "metadata": {},
   "outputs": [],
   "source": [
    "import sys\n",
    "import os\n",
    "import cartopy.crs as ccrs\n",
    "import matplotlib.pyplot as plt\n",
    "from matplotlib import animation, rc\n",
    "from IPython.display import HTML, display # NOTE: will require ffmpeg installation\n",
    "import numpy as np\n",
    "import xarray as xr\n",
    "import pandas as pd\n",
    "import geopandas as gpd\n",
    "import rioxarray\n",
    "from shapely.geometry import mapping\n",
    "import seaborn as sns\n",
    "from scipy.stats import pearsonr\n",
    "# from mpl_toolkits.axes_grid1.inset_locator import zoomed_inset_axes (for inset plots)\n",
    "# from mpl_toolkits.axes_grid1.inset_locator import mark_inset (for inset plots)\n",
    "from xarrayutils.utils import linear_trend, xr_linregress\n",
    "from eofs.xarray import Eof"
   ]
  },
  {
   "cell_type": "code",
   "execution_count": null,
   "id": "1c78d416",
   "metadata": {},
   "outputs": [],
   "source": [
    "from eofs.standard import Eof"
   ]
  },
  {
   "cell_type": "code",
   "execution_count": null,
   "id": "1760df12",
   "metadata": {},
   "outputs": [],
   "source": [
    "# Define project repo path\n",
    "inDirName = '/Users/smurugan9/research/aislens/aislens_emulation/'\n",
    "\n",
    "# Data file paths\n",
    "regriddedFluxSSH_filepath = 'data/interim/RegriddedFluxSSH.nc' # Data containing regridded flux and SSH for 150 years\n",
    "iceShelvesShape_filepath = 'data/interim/iceShelves.geojson' # File contains all defined ice shelves\n",
    "figures_folderpath = 'reports/figures/' # Folder for output figures"
   ]
  },
  {
   "cell_type": "code",
   "execution_count": null,
   "id": "b560a799",
   "metadata": {},
   "outputs": [],
   "source": [
    "data = xr.open_dataset(inDirName + regriddedFluxSSH_filepath)"
   ]
  },
  {
   "cell_type": "code",
   "execution_count": null,
   "id": "49d8f1e9",
   "metadata": {},
   "outputs": [],
   "source": [
    "# Read geoJSON region feature file as GeoDataFrame\n",
    "iceshelvesmask = gpd.read_file(inDirName + iceShelvesShape_filepath)\n",
    "# Convert to south polar stereographic projection\n",
    "icems = iceshelvesmask.to_crs({'init': 'epsg:3031'});\n",
    "crs = ccrs.SouthPolarStereo();\n",
    "# Specify projection for data file\n",
    "data.rio.write_crs(\"epsg:3031\",inplace=True);"
   ]
  },
  {
   "cell_type": "code",
   "execution_count": null,
   "id": "b0b8fb85",
   "metadata": {},
   "outputs": [],
   "source": [
    "## Following section tests the code for 1 ice shelf / catchment:\n",
    "# Iceshelf chosen: \n",
    "#  34 : Amery\n",
    "# 103 : Ronne        #TODO: Split polygons for Ronne1, Ronne2 etc.\n",
    "# 104 : Western Ross #TODO: Split polygons for W-Ross1, W-Ross2 etc.\n",
    "# 105 : Eastern Ross #TODO: Split polygons for E-Ross1, E-Ross2 etc.\n",
    "# 114 : Thwaites\n",
    "\n",
    "basin = 34\n",
    "basinName = icems.name.values[basin]"
   ]
  },
  {
   "cell_type": "code",
   "execution_count": null,
   "id": "b82d943e",
   "metadata": {},
   "outputs": [],
   "source": [
    "# Mask data to chosen basin\n",
    "ds = data.rio.clip(icems.loc[[basin],'geometry'].apply(mapping),icems.crs,drop=False)"
   ]
  },
  {
   "cell_type": "code",
   "execution_count": null,
   "id": "2ea5a6c4",
   "metadata": {},
   "outputs": [],
   "source": [
    "dsn = ds.dropna('y',how='all')\n",
    "dsn = dsn.dropna('x',how='all')\n",
    "dsn = dsn.dropna('time',how='all')"
   ]
  },
  {
   "cell_type": "code",
   "execution_count": null,
   "id": "d2cbb554",
   "metadata": {},
   "outputs": [],
   "source": [
    "flxn = dsn.timeMonthly_avg_landIceFreshwaterFlux\n",
    "hn = dsn.timeMonthly_avg_ssh"
   ]
  },
  {
   "cell_type": "code",
   "execution_count": null,
   "id": "795acd76",
   "metadata": {},
   "outputs": [],
   "source": [
    "# Time mean of melt flux across spatial domain\n",
    "flxn_tmean = flxn.mean('time')\n",
    "flxn_mean = flxn.mean()\n",
    "# Time series of integrated melt flux across ice shelf basin\n",
    "flxn_ts = flxn.sum(['x','y']) - flxn_mean"
   ]
  },
  {
   "cell_type": "code",
   "execution_count": null,
   "id": "2a322026",
   "metadata": {},
   "outputs": [],
   "source": [
    "eps = flxn - flxn_tmean"
   ]
  },
  {
   "cell_type": "code",
   "execution_count": null,
   "id": "37430cf3",
   "metadata": {},
   "outputs": [],
   "source": [
    "eps_spatialmean = eps.mean(['x','y'])"
   ]
  },
  {
   "cell_type": "code",
   "execution_count": null,
   "id": "40c1be37",
   "metadata": {},
   "outputs": [],
   "source": [
    "reconstr = eps+flxn_tmean\n",
    "flxn.mean('time').plot()"
   ]
  },
  {
   "cell_type": "code",
   "execution_count": null,
   "id": "e69b139f",
   "metadata": {},
   "outputs": [],
   "source": []
  },
  {
   "cell_type": "code",
   "execution_count": null,
   "id": "d671ecd3",
   "metadata": {},
   "outputs": [],
   "source": [
    "reconstr.mean('time').plot()"
   ]
  },
  {
   "cell_type": "code",
   "execution_count": null,
   "id": "b2f7e1b6",
   "metadata": {},
   "outputs": [],
   "source": [
    "# (1) Phase randomization of raw data\n",
    "# Execute to test and validate that spatial variability information is retained\n",
    "\n",
    "# Plot phase randomized data\n",
    "plt.figure(figsize=(25, 8), dpi=80)\n",
    "\n",
    "spinuptime = 0 # Ignore first few years of data in the phase randomization\n",
    "n_realizations = 50 # Number of random Fourier realizations\n",
    "\n",
    "new_fl = np.empty((n_realizations,data.timeMonthly_avg_landIceFreshwaterFlux[spinuptime:].size))\n",
    "\n",
    "#new_fl = xr.DataArray(0, dims=[\"realization\", \"time\"])\n",
    "\n",
    "\n",
    "# Time limits for plotting\n",
    "t1 = 60\n",
    "tf = 800\n",
    "\n",
    "for i in range(n_realizations):    \n",
    "    fl = data.timeMonthly_avg_landIceFreshwaterFlux[spinuptime:]\n",
    "    fl_fourier = np.fft.rfft(fl)\n",
    "    random_phases = np.exp(np.random.uniform(0,2*np.pi,int(len(fl)/2+1))*1.0j)\n",
    "    fl_fourier_new = fl_fourier*random_phases\n",
    "    new_fl[i,:] = np.fft.irfft(fl_fourier_new)\n",
    "    plt.plot(new_fl[i,t1:tf],'b', linewidth=0.15)\n",
    "\n",
    "plt.plot(new_fl[8,t1:tf],'b', linewidth=1, label='Randomized Output')\n",
    "plt.plot(new_fl[28,t1:tf],'b', linewidth=1)\n",
    "plt.plot(new_fl[35,t1:tf],'b', linewidth=1)\n",
    "plt.plot(new_fl[45,t1:tf],'b', linewidth=1)\n",
    "plt.plot(fl[t1:tf],'k', linewidth=3, label='MPAS Output')\n",
    "plt.title('Deseasonalized & Detrended Flux (Years: {:.1f} - {:.1f}): {}'.format((spinuptime+t1)/12,(spinuptime+tf)/12,basinName))\n",
    "plt.ylabel('landIceFreshwaterFlux')\n",
    "plt.legend()"
   ]
  },
  {
   "cell_type": "code",
   "execution_count": null,
   "id": "1ce544d9",
   "metadata": {},
   "outputs": [],
   "source": [
    "flxn_ts = fl\n",
    "#(orig_ts+eps).plot()\n",
    "flxn.mean('time').plot(cmap='viridis')"
   ]
  },
  {
   "cell_type": "code",
   "execution_count": null,
   "id": "41c7b214",
   "metadata": {},
   "outputs": [],
   "source": [
    "flxn_reconstr = eps_spatialmean+flxn_tmean"
   ]
  },
  {
   "cell_type": "code",
   "execution_count": null,
   "id": "470f7c16",
   "metadata": {},
   "outputs": [],
   "source": [
    "flxn_reconstr.mean('time').plot(cmap='viridis',vmin=0)"
   ]
  },
  {
   "cell_type": "code",
   "execution_count": null,
   "id": "8d76fdbc",
   "metadata": {},
   "outputs": [],
   "source": [
    "flxn_k1_ts = eps_spatialmean[spinuptime:].copy(data=new_fl[8])\n",
    "flxn_k1 = flxn_k1_ts + flxn_tmean\n",
    "\n",
    "flxn_k2_ts = eps_spatialmean[spinuptime:].copy(data=new_fl[28])\n",
    "flxn_k2 = flxn_k2_ts + flxn_tmean\n",
    "\n",
    "flxn_k3_ts = eps_spatialmean[spinuptime:].copy(data=new_fl[35])\n",
    "flxn_k3 = flxn_k3_ts + flxn_tmean\n",
    "\n",
    "flxn_k4_ts = eps_spatialmean[spinuptime:].copy(data=new_fl[45])\n",
    "flxn_k4 = flxn_k4_ts + flxn_tmean\n",
    "\n",
    "flxn.plot()\n",
    "flxn_k1.plot()\n",
    "flxn_k2.plot()\n",
    "flxn_k3.plot()\n",
    "flxn_k4.plot()"
   ]
  },
  {
   "cell_type": "code",
   "execution_count": null,
   "id": "f5fdff66",
   "metadata": {},
   "outputs": [],
   "source": [
    "plt.figure(figsize=(25, 8), dpi=80)\n",
    "plt.plot(flxn_ts, 'k', linewidth=1.5)\n",
    "plt.plot(flxn_k1_ts, linewidth=0.5)\n",
    "plt.plot(flxn_k2_ts, linewidth=0.5)\n",
    "plt.plot(flxn_k3_ts, linewidth=0.5)\n",
    "plt.plot(flxn_k4_ts, linewidth=0.5)"
   ]
  },
  {
   "cell_type": "code",
   "execution_count": null,
   "id": "ac0ea653",
   "metadata": {},
   "outputs": [],
   "source": [
    "##==================================================\n",
    "##==============ANIMATION===========================\n",
    "##==================================================\n",
    "# Flux trend in time: Contourf animation\n",
    "\n",
    "# Get a handle on the figure and the axes\n",
    "fig, ax = plt.subplots(figsize=(15,8), subplot_kw={'projection': ccrs.SouthPolarStereo()})\n",
    "\n",
    "# vmin=-0.000005\n",
    "# vmax=0.0008\n",
    "\n",
    "# Plot the initial frame.\n",
    "# vmin = np.min(flux), vmax = np.max(flux) obtained manually. These should be modified to skip ocean flux values\n",
    "cax = flxn[1,:,:].plot(add_colorbar=True,\n",
    "                       cmap='coolwarm',vmax=5.5e-5, vmin=0,\n",
    "                       cbar_kwargs={'extend':'neither'})\n",
    "\n",
    "# Next we need to create a function that updates the values for the colormesh, as well as the title.\n",
    "def animate(frame):\n",
    "    cax.set_array(flxn[frame,:,:].values.flatten())\n",
    "    ax.set_title(\"time = \" + str(flxn.coords['time'].values[frame])[:7])\n",
    "\n",
    "# Finally, we use the animation module to create the animation.\n",
    "ani = animation.FuncAnimation(\n",
    "    fig,             # figure\n",
    "    animate,         # name of the function above\n",
    "    frames=500,       # Could also be iterable or list\n",
    "    interval=100     # ms between frames\n",
    ")"
   ]
  },
  {
   "cell_type": "code",
   "execution_count": null,
   "id": "2dab283d",
   "metadata": {},
   "outputs": [],
   "source": [
    "# View animation in browser / save to file\n",
    "HTML(ani.to_jshtml())\n",
    "# ani.save(inDirName+figures_folderpath+'AIS_flux.mp4')"
   ]
  },
  {
   "cell_type": "code",
   "execution_count": null,
   "id": "4920427a",
   "metadata": {},
   "outputs": [],
   "source": [
    "# View animation in browser / save to file\n",
    "HTML(ani2.to_jshtml())\n",
    "# ani.save(inDirName+figures_folderpath+'AIS_flux.mp4')"
   ]
  },
  {
   "cell_type": "code",
   "execution_count": null,
   "id": "4cb97cc3",
   "metadata": {},
   "outputs": [],
   "source": [
    "##==================================================\n",
    "##==============ANIMATION===========================\n",
    "##==================================================\n",
    "# Flux trend in time: Contourf animation\n",
    "\n",
    "# Get a handle on the figure and the axes\n",
    "fig, ax = plt.subplots(figsize=(15,8), subplot_kw={'projection': ccrs.SouthPolarStereo()})\n",
    "\n",
    "# vmin=-0.000005\n",
    "# vmax=0.0008\n",
    "\n",
    "# Plot the initial frame.\n",
    "# vmin = np.min(flux), vmax = np.max(flux) obtained manually. These should be modified to skip ocean flux values\n",
    "cax = flxn_k3[1,:,:].plot(add_colorbar=True, \n",
    "                       cmap='coolwarm', vmax=5.5e-5, vmin=0,\n",
    "                       cbar_kwargs={'extend':'neither'})\n",
    "\n",
    "# Next we need to create a function that updates the values for the colormesh, as well as the title.\n",
    "def animate(frame):\n",
    "    cax.set_array(flxn_k3[frame,:,:].values.flatten())\n",
    "    ax.set_title(\"time = \" + str(flxn_k3.coords['time'].values[frame])[:7])\n",
    "\n",
    "# Finally, we use the animation module to create the animation.\n",
    "ani2 = animation.FuncAnimation(\n",
    "    fig,             # figure\n",
    "    animate,         # name of the function above\n",
    "    frames=500,       # Could also be iterable or list\n",
    "    interval=100     # ms between frames\n",
    ")"
   ]
  },
  {
   "cell_type": "code",
   "execution_count": null,
   "id": "6bee8a0f",
   "metadata": {},
   "outputs": [],
   "source": [
    "# create a figure and axes\n",
    "fig, (ax1,ax2,ax3,ax4) = plt.subplots(4,1, figsize=(15,8), subplot_kw={'projection': ccrs.SouthPolarStereo()})\n",
    "\n",
    "# set up the subplots as needed\n",
    "\n",
    "cax = flxn[1,:,:].plot(ax = ax1, add_colorbar=True,\n",
    "                       cmap='coolwarm', vmax=5.5e-5, vmin=0,\n",
    "                       cbar_kwargs={'extend':'neither'})\n",
    "\n",
    "cax2 = flxn_k2[1,:,:].plot(ax = ax2, add_colorbar=True,\n",
    "                       cmap='coolwarm', vmax=5.5e-5, vmin=0,\n",
    "                       cbar_kwargs={'extend':'neither'})\n",
    "\n",
    "cax3 = flxn_k3[1,:,:].plot(ax = ax3, add_colorbar=True,\n",
    "                       cmap='coolwarm', vmax=5.5e-5, vmin=0,\n",
    "                       cbar_kwargs={'extend':'neither'})\n",
    "\n",
    "cax4 = flxn_k4[1,:,:].plot(ax = ax4, add_colorbar=True,\n",
    "                       cmap='coolwarm', vmax=5.5e-5, vmin=0,\n",
    "                       cbar_kwargs={'extend':'neither'})\n",
    "\n",
    "\n",
    "# Next we need to create a function that updates the values for the colormesh, as well as the title.\n",
    "def animate(frame):\n",
    "    cax.set_array(flxn[frame,:,:].values.flatten())\n",
    "    ax1.set_title(\"time = \" + str(flxn.coords['time'].values[frame])[:7])\n",
    "    #ax1.set_title('Original Data')\n",
    "    cax2.set_array(flxn_k2[frame,:,:].values.flatten())\n",
    "    #ax2.set_title(\"time = \" + str(flxn_k2.coords['time'].values[frame])[:7])\n",
    "    ax2.set_title('Phase Randomized Data, k=2')\n",
    "    cax3.set_array(flxn_k3[frame,:,:].values.flatten())\n",
    "    #ax3.set_title(\"time = \" + str(flxn_k3.coords['time'].values[frame])[:7])\n",
    "    ax3.set_title('Phase Randomized Data, k=3')\n",
    "    cax4.set_array(flxn_k4[frame,:,:].values.flatten())\n",
    "    #ax4.set_title(\"time = \" + str(flxn_k4.coords['time'].values[frame])[:7])\n",
    "    ax4.set_title('Phase Randomized Data, k=4')\n",
    "\n",
    "# Finally, we use the animation module to create the animation.\n",
    "ani3 = animation.FuncAnimation(\n",
    "    fig,             # figure\n",
    "    animate,         # name of the function above\n",
    "    frames=500,       # Could also be iterable or list\n",
    "    interval=100     # ms between frames\n",
    ")"
   ]
  },
  {
   "cell_type": "code",
   "execution_count": null,
   "id": "278c8546",
   "metadata": {},
   "outputs": [],
   "source": [
    "HTML(ani3.to_jshtml())"
   ]
  },
  {
   "cell_type": "code",
   "execution_count": null,
   "id": "64f590af",
   "metadata": {},
   "outputs": [],
   "source": [
    "ani3.save(inDirName+figures_folderpath+'phase_randomized.gif')"
   ]
  },
  {
   "cell_type": "code",
   "execution_count": null,
   "id": "1c91ef6f",
   "metadata": {},
   "outputs": [],
   "source": [
    "ani3.save(inDirName+figures_folderpath+'phase_randomized.mp4')"
   ]
  },
  {
   "cell_type": "code",
   "execution_count": null,
   "id": "f54e7bf1",
   "metadata": {},
   "outputs": [],
   "source": [
    "pcs"
   ]
  },
  {
   "cell_type": "code",
   "execution_count": null,
   "id": "a31fbf2d",
   "metadata": {},
   "outputs": [],
   "source": [
    "pcs.sum('mode').plot()"
   ]
  },
  {
   "cell_type": "code",
   "execution_count": null,
   "id": "4fda7ba9",
   "metadata": {},
   "outputs": [],
   "source": [
    "flxn_stack = flxn.stack(z=(\"x\", \"y\"))"
   ]
  },
  {
   "cell_type": "code",
   "execution_count": null,
   "id": "eef50958",
   "metadata": {},
   "outputs": [],
   "source": [
    "def get_time_space(df, time_dim, lumped_space_dims):\n",
    "    return df.set_index([time_dim]+lumped_space_dims).unstack(lumped_space_dims)"
   ]
  },
  {
   "cell_type": "code",
   "execution_count": null,
   "id": "e0ede7e5",
   "metadata": {},
   "outputs": [],
   "source": [
    "df = flxn.to_dataframe().reset_index() "
   ]
  },
  {
   "cell_type": "code",
   "execution_count": null,
   "id": "b439670e",
   "metadata": {},
   "outputs": [],
   "source": [
    "df_data = get_time_space(df, time_dim = \"time\", lumped_space_dims = [\"x\",\"y\"])"
   ]
  },
  {
   "cell_type": "code",
   "execution_count": null,
   "id": "a8e6c568",
   "metadata": {},
   "outputs": [],
   "source": [
    "data_solver = Eof(data.timeMonthly_avg_landIceFreshwaterFlux.to_numpy())"
   ]
  },
  {
   "cell_type": "code",
   "execution_count": null,
   "id": "5f5f9322",
   "metadata": {},
   "outputs": [],
   "source": [
    "data.timeMonthly_avg_landIceFreshwaterFlux.mean('time').plot()"
   ]
  },
  {
   "cell_type": "code",
   "execution_count": null,
   "id": "d964df84",
   "metadata": {},
   "outputs": [],
   "source": [
    "ais_pcs = data_solver.pcs()"
   ]
  },
  {
   "cell_type": "code",
   "execution_count": null,
   "id": "0f705e8d",
   "metadata": {},
   "outputs": [],
   "source": [
    "ais_eofs = data_solver.eofs()"
   ]
  },
  {
   "cell_type": "code",
   "execution_count": null,
   "id": "0ffa1a59",
   "metadata": {},
   "outputs": [],
   "source": [
    "ais_eigenvalues = data_solver.eigenvalues()"
   ]
  },
  {
   "cell_type": "code",
   "execution_count": null,
   "id": "84f06d5c",
   "metadata": {},
   "outputs": [],
   "source": [
    "plt.figure(figsize=(25,8))\n",
    "plt.plot(ais_pcs)"
   ]
  },
  {
   "cell_type": "code",
   "execution_count": null,
   "id": "04bce838",
   "metadata": {},
   "outputs": [],
   "source": [
    "plt.figure(figsize=(25,8))\n",
    "plt.plot(ais_pcs[:,4:6])"
   ]
  },
  {
   "cell_type": "code",
   "execution_count": null,
   "id": "22edb111",
   "metadata": {},
   "outputs": [],
   "source": [
    "plt.figure(figsize=(10,10))\n",
    "#plt.pcolormesh(ais_eofs[1000],vmin = 0, vmax = 0.05)\n",
    "plt.pcolormesh(ais_eofs[30])\n",
    "plt.colorbar()"
   ]
  },
  {
   "cell_type": "code",
   "execution_count": null,
   "id": "50d08cff",
   "metadata": {},
   "outputs": [],
   "source": [
    "ais_eofs.shape"
   ]
  },
  {
   "cell_type": "code",
   "execution_count": null,
   "id": "aa0db653",
   "metadata": {},
   "outputs": [],
   "source": []
  },
  {
   "cell_type": "code",
   "execution_count": null,
   "id": "5072e149",
   "metadata": {},
   "outputs": [],
   "source": [
    "# Catchment-specific analysis\n",
    "flxn_np = flxn.to_numpy()"
   ]
  },
  {
   "cell_type": "code",
   "execution_count": null,
   "id": "3e55cfa7",
   "metadata": {},
   "outputs": [],
   "source": [
    "npsolver = Eof(flxn_np)"
   ]
  },
  {
   "cell_type": "code",
   "execution_count": null,
   "id": "35b15255",
   "metadata": {},
   "outputs": [],
   "source": [
    "pcs = npsolver.pcs()"
   ]
  },
  {
   "cell_type": "code",
   "execution_count": null,
   "id": "e09d2bda",
   "metadata": {},
   "outputs": [],
   "source": [
    "pcs = npsolver.pcs(npcs=5, pcscaling=1)\n",
    "plt.plot(pcs[:,:])"
   ]
  },
  {
   "cell_type": "code",
   "execution_count": null,
   "id": "3f9c90c5",
   "metadata": {},
   "outputs": [],
   "source": [
    "eofs = npsolver.eofs()"
   ]
  },
  {
   "cell_type": "code",
   "execution_count": null,
   "id": "487b28f5",
   "metadata": {},
   "outputs": [],
   "source": [
    "plt.pcolormesh(eofs[600])\n",
    "plt.colorbar()"
   ]
  },
  {
   "cell_type": "code",
   "execution_count": null,
   "id": "a5d2038b",
   "metadata": {},
   "outputs": [],
   "source": [
    "eof1 = npsolver.eofs(neofs=1, eofscaling=1)"
   ]
  },
  {
   "cell_type": "code",
   "execution_count": null,
   "id": "15edce64",
   "metadata": {},
   "outputs": [],
   "source": [
    "plt.pcolormesh(eofs[200])\n",
    "plt.colorbar()"
   ]
  },
  {
   "cell_type": "code",
   "execution_count": null,
   "id": "168419ba",
   "metadata": {},
   "outputs": [],
   "source": [
    "data = "
   ]
  },
  {
   "cell_type": "code",
   "execution_count": null,
   "id": "9677ba9b",
   "metadata": {},
   "outputs": [],
   "source": [
    "solver = Eof(flxn_stack)"
   ]
  },
  {
   "cell_type": "code",
   "execution_count": null,
   "id": "6a94169d",
   "metadata": {},
   "outputs": [],
   "source": [
    "pcs = solver.pcs()"
   ]
  },
  {
   "cell_type": "code",
   "execution_count": null,
   "id": "faf7b833",
   "metadata": {},
   "outputs": [],
   "source": [
    "pcs = solver.pcs(npcs=10, pcscaling=0)"
   ]
  },
  {
   "cell_type": "code",
   "execution_count": null,
   "id": "89555731",
   "metadata": {},
   "outputs": [],
   "source": [
    "eigenvalues = solver.eigenvalues()"
   ]
  },
  {
   "cell_type": "code",
   "execution_count": null,
   "id": "ab2f3163",
   "metadata": {},
   "outputs": [],
   "source": [
    "eofs = solver.eofs()"
   ]
  },
  {
   "cell_type": "code",
   "execution_count": null,
   "id": "ba270b50",
   "metadata": {},
   "outputs": [],
   "source": []
  },
  {
   "cell_type": "code",
   "execution_count": null,
   "id": "bfcf5046",
   "metadata": {},
   "outputs": [],
   "source": [
    "plt.figure(figsize=(25,8))\n",
    "plt.plot(eigenvalues[:100], '*')"
   ]
  },
  {
   "cell_type": "code",
   "execution_count": null,
   "id": "919e11f6",
   "metadata": {},
   "outputs": [],
   "source": [
    "flx_rgrs.intercept.plot()"
   ]
  },
  {
   "cell_type": "code",
   "execution_count": null,
   "id": "d2101404",
   "metadata": {},
   "outputs": [],
   "source": [
    "flx_rgrs = xr_linregress(hn, flxn.mean('time'), dim='time')"
   ]
  },
  {
   "cell_type": "code",
   "execution_count": null,
   "id": "4724e533",
   "metadata": {},
   "outputs": [],
   "source": [
    "flx_prd = flx_rgrs.intercept + flx_rgrs.slope*hn.mean('time')\n",
    "flx_ddrft = flxn - flx_prd"
   ]
  },
  {
   "cell_type": "code",
   "execution_count": null,
   "id": "1b929b16",
   "metadata": {},
   "outputs": [],
   "source": []
  },
  {
   "cell_type": "code",
   "execution_count": null,
   "id": "ca8385de",
   "metadata": {},
   "outputs": [],
   "source": [
    "####################\n",
    "#### plot tests\n",
    "####################\n",
    "\n",
    "# plt.figure(figsize=(15,5))\n",
    "#flxn.sum(['x','y']).plot()\n",
    "#flx_dedraft.sum(['x','y']).plot()\n",
    "\n",
    "#plt.subplot(projection=ccrs.SouthPolarStereo())\n",
    "#flx_rgrs.r_value.plot()"
   ]
  },
  {
   "cell_type": "code",
   "execution_count": null,
   "id": "d4cfaee0",
   "metadata": {},
   "outputs": [],
   "source": [
    "flpos = flxn.where(flxn>0) # Values where flux is positive, i.e., into the ocean\n",
    "flneg = flxn.where(flxn<0) # Values where flux is negative, i.e., out of the ocean\n",
    "\n",
    "fig, axs = plt.subplots(2, figsize=(15,10))\n",
    "flneg.plot(ax = axs[0])\n",
    "flpos.plot(ax = axs[1])\n",
    "\n",
    "# What do the negative flux values, while minimal, signify?"
   ]
  },
  {
   "cell_type": "code",
   "execution_count": null,
   "id": "c0bfdbb6",
   "metadata": {},
   "outputs": [],
   "source": [
    "# Spatial scaling factor, done after dedrafting\n",
    "# average over time for each pixel\n",
    "# remove this (scale this in comparison to total average over catchment)\n",
    "\n",
    "flx_scl_fctr = flx_ddrft.mean('time')   # pixel-by-pixel time mean\n",
    "flx_tsm = flx_scl_fctr.mean(['y','x']) # spatial mean over time, i.e., \"spatial mean flux\", SCALAR throughout\n",
    "#flx_scl = flx_tsm - flx_scl_fctr\n",
    "#flxn_scl = flxn_scl.transpose('time','y','x')"
   ]
  },
  {
   "cell_type": "code",
   "execution_count": null,
   "id": "6dc871ae",
   "metadata": {},
   "outputs": [],
   "source": [
    "hn[100].plot()"
   ]
  },
  {
   "cell_type": "code",
   "execution_count": null,
   "id": "946145c5",
   "metadata": {},
   "outputs": [],
   "source": [
    "# scl = flx_scl_fctr/flx_scl\n",
    "scl = flx_scl_fctr/flx_tsm\n",
    "scl = scl.transpose('time','y','x') # check dimension ordering before running this"
   ]
  },
  {
   "cell_type": "code",
   "execution_count": null,
   "id": "47a40a73",
   "metadata": {},
   "outputs": [],
   "source": [
    "flx_scl = flx_tsm - flx_scl_fctr\n",
    "#flx_scl = flx_scl.transpose('time','y','x')"
   ]
  },
  {
   "cell_type": "code",
   "execution_count": null,
   "id": "96f1b84e",
   "metadata": {},
   "outputs": [],
   "source": [
    "flx_scl.plot()"
   ]
  },
  {
   "cell_type": "code",
   "execution_count": null,
   "id": "a6eb581e",
   "metadata": {},
   "outputs": [],
   "source": [
    "#fig, axs = plt.subplots(2,3)\n",
    "flxn.plot()\n",
    "flx_ddrft.plot()\n",
    "#flx_scl.plot()"
   ]
  },
  {
   "cell_type": "code",
   "execution_count": null,
   "id": "f3d5a1d9",
   "metadata": {},
   "outputs": [],
   "source": [
    "# Remove climatologies to isolate anomalies / deseasonalize \n",
    "flx_monthly = flx_ddrft.groupby(\"time.month\") # flxn or flx_scl? How is spatial scaling incorporated?\n",
    "flx_clm = flx_monthly.mean(\"time\") # Climatologies\n",
    "flx_anm = flx_monthly - flx_clm # Deseasonalized anomalies\n",
    "\n",
    "# Integrate over entire AIS / basin for time series\n",
    "flx_clm_ts = flx_clm.sum(['y','x']) # Seasonality / Climatology?\n",
    "flx_anm_ts = flx_anm.sum(['y','x'], skipna=True)"
   ]
  },
  {
   "cell_type": "code",
   "execution_count": null,
   "id": "3226f973",
   "metadata": {},
   "outputs": [],
   "source": [
    "diff = flx_ddrft.sum(['y','x']) - flx_anm_ts"
   ]
  },
  {
   "cell_type": "code",
   "execution_count": null,
   "id": "8576b799",
   "metadata": {},
   "outputs": [],
   "source": [
    "flx_anm_ts.plot()\n",
    "diff.plot()"
   ]
  },
  {
   "cell_type": "code",
   "execution_count": null,
   "id": "4b4e6d86",
   "metadata": {},
   "outputs": [],
   "source": [
    "eps = flxn.mean('time')"
   ]
  },
  {
   "cell_type": "code",
   "execution_count": null,
   "id": "e80af93b",
   "metadata": {},
   "outputs": [],
   "source": [
    "flx_rebuild_ts = flx_anm_ts"
   ]
  },
  {
   "cell_type": "code",
   "execution_count": null,
   "id": "dca75ae5",
   "metadata": {},
   "outputs": [],
   "source": [
    "flx_rebuild = flx_rebuild_ts*flx_scl_fctr\n",
    "flx_rebuild.sum(['y','x']).plot()"
   ]
  },
  {
   "cell_type": "code",
   "execution_count": null,
   "id": "bf361aa6",
   "metadata": {},
   "outputs": [],
   "source": [
    "# Plot phase randomized data\n",
    "plt.figure(figsize=(25, 8), dpi=80)\n",
    "\n",
    "spinuptime = 0 # Ignore first few years of data in the phase randomization\n",
    "n_realizations = 50 # Number of random Fourier realizations\n",
    "\n",
    "new_fl = np.empty((n_realizations,flxn.sum(['x','y'])[spinuptime:].size))\n",
    "\n",
    "# Time limits for plotting\n",
    "t1 = 60\n",
    "tf = 800\n",
    "\n",
    "for i in range(n_realizations):    \n",
    "    fl = flxn.sum(['x','y'])[spinuptime:]\n",
    "    fl_fourier = np.fft.rfft(fl)\n",
    "    random_phases = np.exp(np.random.uniform(0,2*np.pi,int(len(fl)/2+1))*1.0j)\n",
    "    fl_fourier_new = fl_fourier*random_phases\n",
    "    new_fl[i,:] = np.fft.irfft(fl_fourier_new)\n",
    "    plt.plot(new_fl[i,t1:tf],'b', linewidth=0.15)\n",
    "\n",
    "plt.plot(new_fl[45,t1:tf],'b', linewidth=1, label='Randomized Output')\n",
    "plt.plot(new_fl[10,t1:tf],'b', linewidth=1)\n",
    "plt.plot(new_fl[40,t1:tf],'b', linewidth=1)\n",
    "plt.plot(fl[t1:tf],'k', linewidth=3, label='MPAS Output')\n",
    "plt.title('Deseasonalized & Detrended Flux (Years: {:.1f} - {:.1f}): {}'.format((spinuptime+t1)/12,(spinuptime+tf)/12,basinName))\n",
    "plt.ylabel('landIceFreshwaterFlux')\n",
    "plt.legend()"
   ]
  },
  {
   "cell_type": "code",
   "execution_count": null,
   "id": "afb69cc6",
   "metadata": {},
   "outputs": [],
   "source": [
    "orig_ts = fl\n",
    "(orig_ts+eps).plot()\n",
    "flxn.plot()\n",
    "#eps.plot()"
   ]
  },
  {
   "cell_type": "code",
   "execution_count": null,
   "id": "1e86d155",
   "metadata": {},
   "outputs": [],
   "source": [
    "flx_recon = orig_ts+eps"
   ]
  },
  {
   "cell_type": "code",
   "execution_count": null,
   "id": "71a326fc",
   "metadata": {},
   "outputs": [],
   "source": [
    "flxn.plot()"
   ]
  },
  {
   "cell_type": "code",
   "execution_count": null,
   "id": "3c4f10af",
   "metadata": {},
   "outputs": [],
   "source": [
    "orig_ts = fl\n",
    "#orig_fl = (orig_ts+flx_scl_fctr)/788 # + flx_clm.unstack()\n",
    "\n",
    "# Add seasonality back\n",
    "# orig_fl = 0.000028+(orig_ts+diff)*flx_scl_fctr/(flx_tsm*788)/100 # factor of 100?\n",
    "orig_fl = (orig_ts+diff)*flx_scl_fctr/(flx_tsm*788) # factor of 100?\n",
    "plt.figure(figsize=(25, 5), dpi=80)\n",
    "orig_fl.sum(['y','x']).plot()\n",
    "# 788 is the number of actual pixels with moving data points in time\n",
    "# stack dataarray to get 788\n",
    "\n",
    "plt.figure(figsize=(25,5))\n",
    "orig_fl.plot(label='reconstructed')\n",
    "#flx_ddrft.plot(label='dedrafted')\n",
    "flx_anm.plot(label='original')\n",
    "plt.legend()"
   ]
  },
  {
   "cell_type": "code",
   "execution_count": null,
   "id": "d82c7901",
   "metadata": {},
   "outputs": [],
   "source": [
    "fig, axes = plt.subplots(nrows=2, figsize=(10,8))\n",
    "flxn.mean('time').plot(ax=axes[0])\n",
    "orig_fl.mean('time').plot(ax=axes[1])"
   ]
  },
  {
   "cell_type": "code",
   "execution_count": null,
   "id": "28b95974",
   "metadata": {},
   "outputs": [],
   "source": [
    "np.min(flxn)"
   ]
  },
  {
   "cell_type": "code",
   "execution_count": null,
   "id": "b48ff04c",
   "metadata": {},
   "outputs": [],
   "source": []
  },
  {
   "cell_type": "code",
   "execution_count": null,
   "id": "35fc5912",
   "metadata": {},
   "outputs": [],
   "source": [
    "new_ts = xr.DataArray(data=new_fl[25],dims=\"time\",coords=orig_ts.coords)\n",
    "fl_new = (new_ts+diff)*flx_scl_fctr/flx_tsm/788"
   ]
  },
  {
   "cell_type": "code",
   "execution_count": null,
   "id": "d5c7947a",
   "metadata": {},
   "outputs": [],
   "source": [
    "plt.figure(figsize=(25, 8), dpi=80)\n",
    "plt.plot(orig_fl.sum(['y','x']), 'k', linewidth=2, label='MPAS Output')\n",
    "plt.plot(fl_new.sum(['y','x']), 'b', linewidth=0.5, label='Randomized Output')\n",
    "plt.legend()"
   ]
  },
  {
   "cell_type": "code",
   "execution_count": null,
   "id": "cab42212",
   "metadata": {},
   "outputs": [],
   "source": [
    "plt.figure(figsize=(18,5))\n",
    "orig_fl.plot(label='reconstructed')\n",
    "#flx_ddrft.plot(label='dedrafted')\n",
    "flx_anm.plot(label='anomalies')\n",
    "plt.legend()"
   ]
  },
  {
   "cell_type": "code",
   "execution_count": null,
   "id": "68ca6d32",
   "metadata": {},
   "outputs": [],
   "source": [
    "plt.figure(figsize=(25,5))\n",
    "fl_new.plot(label='new')\n",
    "orig_fl.plot(label='original - reconstructed')\n",
    "#flx_ddrft.plot(label='dedrafted')\n",
    "flx_anm.plot(label='actual')\n",
    "plt.legend()"
   ]
  },
  {
   "cell_type": "code",
   "execution_count": null,
   "id": "2bb41cf0",
   "metadata": {},
   "outputs": [],
   "source": [
    "fl_new.plot()"
   ]
  }
 ],
 "metadata": {
  "kernelspec": {
   "display_name": "Python 3 (ipykernel)",
   "language": "python",
   "name": "python3"
  },
  "language_info": {
   "codemirror_mode": {
    "name": "ipython",
    "version": 3
   },
   "file_extension": ".py",
   "mimetype": "text/x-python",
   "name": "python",
   "nbconvert_exporter": "python",
   "pygments_lexer": "ipython3",
   "version": "3.10.8"
  }
 },
 "nbformat": 4,
 "nbformat_minor": 5
}
