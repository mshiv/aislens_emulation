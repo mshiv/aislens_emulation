{
 "cells": [
  {
   "cell_type": "code",
   "execution_count": 3,
   "id": "44960b9d-8bbb-458e-93ad-059f7647a87a",
   "metadata": {},
   "outputs": [],
   "source": [
    "import numpy as np\n",
    "import xarray as xr\n",
    "import matplotlib.pyplot as plt\n",
    "from pathlib import Path"
   ]
  },
  {
   "cell_type": "code",
   "execution_count": 4,
   "id": "60261340-188b-4b93-b620-68aed459794f",
   "metadata": {},
   "outputs": [],
   "source": [
    "main_dir = Path.cwd().parent\n",
    "ismip6_2300_output_path = Path(\"data/interim/MALI_hist2015_ismip6_mod\")"
   ]
  },
  {
   "cell_type": "code",
   "execution_count": 5,
   "id": "b822ffce-09b1-4a49-80ad-18d0ea835249",
   "metadata": {},
   "outputs": [],
   "source": [
    "ds1 = xr.open_dataset(main_dir / ismip6_2300_output_path / \"ismip6_obs23_IC/output_state_2005.nc\")\n",
    "ds2 = xr.open_dataset(main_dir / ismip6_2300_output_path / \"ismip6-1101-obs23/output_state_2005.nc\")"
   ]
  },
  {
   "cell_type": "code",
   "execution_count": null,
   "id": "bcebcdbc-44c5-4d8f-aba8-ba38287a2f1e",
   "metadata": {},
   "outputs": [],
   "source": []
  }
 ],
 "metadata": {
  "kernelspec": {
   "display_name": "Python 3 (ipykernel)",
   "language": "python",
   "name": "python3"
  },
  "language_info": {
   "codemirror_mode": {
    "name": "ipython",
    "version": 3
   },
   "file_extension": ".py",
   "mimetype": "text/x-python",
   "name": "python",
   "nbconvert_exporter": "python",
   "pygments_lexer": "ipython3",
   "version": "3.10.8"
  }
 },
 "nbformat": 4,
 "nbformat_minor": 5
}
