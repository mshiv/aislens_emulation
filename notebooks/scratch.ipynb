{
 "cells": [
  {
   "cell_type": "code",
   "execution_count": null,
   "id": "94cd80b2-c9dd-43e4-8d66-6e6bc4b76b14",
   "metadata": {},
   "outputs": [],
   "source": [
    "import numpy as np\n",
    "import xarray as xr\n",
    "from netCDF4 import Dataset\n",
    "import argparse\n",
    "import matplotlib.pyplot as plt\n",
    "import matplotlib.tri as tri\n",
    "import matplotlib.gridspec as gridspec\n",
    "from matplotlib.colorbar import Colorbar\n",
    "from matplotlib.colors import Normalize, TwoSlopeNorm\n",
    "import glob\n",
    "import os"
   ]
  },
  {
   "cell_type": "code",
   "execution_count": null,
   "id": "e8afaaf5-5fd0-4527-a259-872ba28d2967",
   "metadata": {},
   "outputs": [],
   "source": [
    "dir = '/Users/smurugan9/research/aislens/aislens_emulation/data/external/SORRMv2.1.ISMF/regridded_output/'\n",
    "dir = '/Users/smurugan9/research/aislens/MALI-ismip6-0721/hist_08/output/'\n",
    "\n",
    "'floatingBasalMassBalApplied'"
   ]
  },
  {
   "cell_type": "code",
   "execution_count": null,
   "id": "6611cc84-d4e1-45fe-b5b2-37b3eeb315b6",
   "metadata": {},
   "outputs": [],
   "source": [
    "tmpdir = '/Users/smurugan9/research/aislens/aislens_emulation/data/interim/MALI_runs/ismip6-1108/hist04/globalStats.nc'\n",
    "tmpds = xr.open_dataset(tmpdir)"
   ]
  },
  {
   "cell_type": "code",
   "execution_count": null,
   "id": "97b79a61-7e3e-4cb6-a0d1-825778f57bf2",
   "metadata": {},
   "outputs": [],
   "source": [
    "hist = '/Users/smurugan9/research/aislens/aislens_emulation/data/interim/MALI_runs/ismip6-1108/hist04/'\n",
    "ctrl = '/Users/smurugan9/research/aislens/aislens_emulation/data/interim/MALI_runs/ismip6-1108/ctrlAE_04/'\n",
    "exp01 = '/Users/smurugan9/research/aislens/aislens_emulation/data/interim/MALI_runs/ismip6-1108/expAE01_04/'"
   ]
  },
  {
   "cell_type": "code",
   "execution_count": null,
   "id": "ccc69f7c-e15f-4f56-aaf2-8fba55c767b9",
   "metadata": {},
   "outputs": [],
   "source": [
    "globalStats = 'globalStats.nc'\n",
    "regionalStats = 'regionalStats.nc'"
   ]
  },
  {
   "cell_type": "code",
   "execution_count": null,
   "id": "073ea3e8-4f9b-4cf8-b4b2-ff76f89ffe11",
   "metadata": {},
   "outputs": [],
   "source": [
    "ctrlRegional = xr.open_dataset(ctrl+regionalStats)\n",
    "exp01Regional = xr.open_dataset(exp01+regionalStats)\n",
    "\n",
    "#ctrlglobal = xr.open_dataset(ctrl+globalStats)\n",
    "exp01global = xr.open_dataset(exp01+globalStats)"
   ]
  },
  {
   "cell_type": "code",
   "execution_count": null,
   "id": "fd301c07-9ad9-4587-a112-54d4e266b287",
   "metadata": {},
   "outputs": [],
   "source": [
    "exp01global.surfaceSpeedMax.plot()"
   ]
  },
  {
   "cell_type": "code",
   "execution_count": null,
   "id": "9bb3dc2c-818a-43fe-8cff-4deb17e6a0ec",
   "metadata": {},
   "outputs": [],
   "source": []
  },
  {
   "cell_type": "code",
   "execution_count": null,
   "id": "b1a35533-4532-4ceb-9e9b-0c99b0091db7",
   "metadata": {},
   "outputs": [],
   "source": [
    "dir1 = '/Users/smurugan9/research/aislens/aislens_emulation/data/interim/MALI_runs/ismip6_obs23_IC/globalStats.nc'\n",
    "dir2 = '/Users/smurugan9/research/aislens/aislens_emulation/data/interim/MALI_runs/ismip6-relax/globalStats.nc'\n",
    "dir3 = '/Users/smurugan9/research/aislens/aislens_emulation/data/interim/MALI_runs/ismip6-1101-obs23/globalStats.nc'"
   ]
  },
  {
   "cell_type": "code",
   "execution_count": null,
   "id": "e2b92523-602a-4965-b8b1-64eb520cab3f",
   "metadata": {},
   "outputs": [],
   "source": [
    "ds = xr.open_dataset(dir1)\n",
    "ds2 = xr.open_dataset(dir2)\n",
    "ds3 = xr.open_dataset(dir3)\n",
    "ds.deltat[:50].plot(label='obs23MALI (50 of 325 timesteps)')\n",
    "ds2.deltat.plot(label='origMALI')\n",
    "tmpds.deltat.plot(label='obs23MALI (Modified timestep)')\n",
    "#ds3.deltat[:50].plot(label='obs23-1101-MALI')\n",
    "plt.title('ismip6/hist04 runs')\n",
    "plt.legend()"
   ]
  },
  {
   "cell_type": "code",
   "execution_count": null,
   "id": "4f63f49a-c071-44be-a477-674057f8942b",
   "metadata": {},
   "outputs": [],
   "source": [
    "#ds.surfaceSpeedMax[:50].plot(label='obs23MALI (100 of 325 timesteps)')\n",
    "ds2.surfaceSpeedMax.plot(label='origMALI')\n",
    "tmpds.surfaceSpeedMax.plot(label='obs23MALI (Modified timestep)')\n",
    "#ds3.deltat[:50].plot(label='obs23-1101-MALI')\n",
    "plt.title('ismip6/hist04 runs')\n",
    "plt.legend()"
   ]
  },
  {
   "cell_type": "code",
   "execution_count": null,
   "id": "bbccdc10-f5b0-4148-af3d-5d49471b8770",
   "metadata": {},
   "outputs": [],
   "source": [
    "MELTDRAFT_OBS = xr.open_dataset(main_dir / DIR_basalMeltObs / FILE_MeltDraftObs, chunks={'x':729, 'y':729})"
   ]
  },
  {
   "cell_type": "code",
   "execution_count": null,
   "metadata": {},
   "outputs": [],
   "source": [
    "MELTDRAFT_OBS.rio.write_crs(\"epsg:3031\",inplace=True);\n"
   ]
  },
  {
   "cell_type": "code",
   "execution_count": null,
   "id": "7dd978ab-00cc-41f5-8e3e-c3c32c2e72d3",
   "metadata": {},
   "outputs": [],
   "source": [
    "h = MELTDRAFT_OBS.draft\n",
    "if 'time' in h.dims:\n",
    "    tdim = 'time'\n",
    "elif 'Time' in h.dims:\n",
    "    tdim = 'Time'\n",
    "\n",
    "h_mean = h.mean(tdim)\n",
    "\n",
    "IMBIEregions = range(6,33)\n",
    "iceShelfRegions = range(33,133)"
   ]
  },
  {
   "cell_type": "code",
   "execution_count": null,
   "id": "d73f7354-7f4f-45cb-8490-ae22ddafbf4f",
   "metadata": {},
   "outputs": [],
   "source": [
    "mlt = MELTDRAFT_OBS.melt.rio.clip(icems.loc[[34],'geometry'].apply(mapping),icems.crs,drop=False)\n",
    "mlt_mean = mlt.mean(tdim)\n",
    "# Dedraft: Linear Regression with SSH over chosen basin\n",
    "print('calculating linear regression for catchment {}'.format(icems.name.values[i]))\n",
    "mlt_rgrs = xr_linregress(h, mlt_mean, dim=tdim) # h = independent variable"
   ]
  },
  {
   "cell_type": "code",
   "execution_count": null,
   "metadata": {},
   "outputs": [],
   "source": [
    "mlt_prd = mlt_rgrs.slope*h_mean + mlt_rgrs.intercept"
   ]
  },
  {
   "cell_type": "code",
   "execution_count": null,
   "metadata": {},
   "outputs": [],
   "source": [
    "icems.name.values"
   ]
  },
  {
   "cell_type": "code",
   "execution_count": null,
   "metadata": {},
   "outputs": [],
   "source": []
  },
  {
   "cell_type": "code",
   "execution_count": null,
   "metadata": {},
   "outputs": [],
   "source": [
    "DIR_external = 'data/external/'\n",
    "DIR_interim = 'data/interim/'\n",
    "\n",
    "# DATASET FILEPATHS\n",
    "# Ocean model output - E3SM (SORRMv2.1.ISMF), data received from Darin Comeau / Matt Hoffman at LANL\n",
    "DIR_SORRMv21 = 'data/external/SORRMv2.1.ISMF/regridded_output/'\n",
    "FILE_SORRMv21 = 'Regridded_SORRMv2.1.ISMF.FULL.nc'\n",
    "FILE_SORRMv21_DETRENDED_TS = 'SORRMv21_detrended_ts.nc'\n",
    "\n",
    "ds = xr.open_dataset(main_dir / DIR_SORRMv21 / FILE_SORRMv21_DETRENDED_TS)\n"
   ]
  },
  {
   "cell_type": "code",
   "execution_count": null,
   "metadata": {},
   "outputs": [],
   "source": [
    "ds[\"flux_sum\"] = ds.__xarray_dataarray_variable__"
   ]
  },
  {
   "cell_type": "markdown",
   "metadata": {},
   "source": []
  },
  {
   "cell_type": "code",
   "execution_count": null,
   "metadata": {},
   "outputs": [],
   "source": []
  },
  {
   "cell_type": "code",
   "execution_count": null,
   "metadata": {},
   "outputs": [],
   "source": [
    "plt.figure(figsize=(25,8))\n",
    "ds.__xarray_dataarray_variable__.plot()"
   ]
  },
  {
   "cell_type": "code",
   "execution_count": null,
   "metadata": {},
   "outputs": [],
   "source": [
    "ds.__xarray_dataarray_variable__.rename(\"flux_xy_sum\")"
   ]
  },
  {
   "cell_type": "code",
   "execution_count": null,
   "metadata": {},
   "outputs": [],
   "source": [
    "ds"
   ]
  },
  {
   "cell_type": "code",
   "execution_count": null,
   "metadata": {},
   "outputs": [],
   "source": []
  }
 ],
 "metadata": {
  "kernelspec": {
   "display_name": "Python 3 (ipykernel)",
   "language": "python",
   "name": "python3"
  },
  "language_info": {
   "codemirror_mode": {
    "name": "ipython",
    "version": 3
   },
   "file_extension": ".py",
   "mimetype": "text/x-python",
   "name": "python",
   "nbconvert_exporter": "python",
   "pygments_lexer": "ipython3",
   "version": "3.10.8"
  }
 },
 "nbformat": 4,
 "nbformat_minor": 5
}
