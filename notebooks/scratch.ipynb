{
 "cells": [
  {
   "cell_type": "code",
   "execution_count": 13,
   "id": "94cd80b2-c9dd-43e4-8d66-6e6bc4b76b14",
   "metadata": {},
   "outputs": [],
   "source": [
    "import numpy as np\n",
    "from netCDF4 import Dataset\n",
    "import argparse\n",
    "import matplotlib.pyplot as plt\n",
    "import matplotlib.tri as tri\n",
    "import matplotlib.gridspec as gridspec\n",
    "from matplotlib.colorbar import Colorbar\n",
    "from matplotlib.colors import Normalize, TwoSlopeNorm\n",
    "import glob\n",
    "import os"
   ]
  },
  {
   "cell_type": "code",
   "execution_count": 7,
   "id": "e8afaaf5-5fd0-4527-a259-872ba28d2967",
   "metadata": {},
   "outputs": [],
   "source": [
    "dir = '/Users/smurugan9/research/aislens/aislens_emulation/data/external/SORRMv2.1.ISMF/regridded_output/'"
   ]
  },
  {
   "cell_type": "code",
   "execution_count": 33,
   "id": "7dd978ab-00cc-41f5-8e3e-c3c32c2e72d3",
   "metadata": {},
   "outputs": [
    {
     "name": "stdout",
     "output_type": "stream",
     "text": [
      "/Users/smurugan9/research/aislens/aislens_emulation/data/external/SORRMv2.1.ISMF/regridded_output/Regridded_SORRMv2.1.ISMF.0300-0399.6000.0x6000.0km_10.0km_Antarctic_stereo.nc\n",
      "/Users/smurugan9/research/aislens/aislens_emulation/data/external/SORRMv2.1.ISMF/regridded_output/Regridded_SORRMv2.1.ISMF.0700-0799.6000.0x6000.0km_10.0km_Antarctic_stereo.nc\n",
      "/Users/smurugan9/research/aislens/aislens_emulation/data/external/SORRMv2.1.ISMF/regridded_output/Regridded_SORRMv2.1.ISMF.0900-1000.6000.0x6000.0km_10.0km_Antarctic_stereo.nc\n",
      "/Users/smurugan9/research/aislens/aislens_emulation/data/external/SORRMv2.1.ISMF/regridded_output/Regridded_SORRMv2.1.ISMF.0800-0899.6000.0x6000.0km_10.0km_Antarctic_stereo.nc\n",
      "/Users/smurugan9/research/aislens/aislens_emulation/data/external/SORRMv2.1.ISMF/regridded_output/Regridded_SORRMv2.1.ISMF.0500-0599.6000.0x6000.0km_10.0km_Antarctic_stereo.nc\n",
      "/Users/smurugan9/research/aislens/aislens_emulation/data/external/SORRMv2.1.ISMF/regridded_output/Regridded_SORRMv2.1.ISMF.0100-0199.6000.0x6000.0km_10.0km_Antarctic_stereo.nc\n",
      "/Users/smurugan9/research/aislens/aislens_emulation/data/external/SORRMv2.1.ISMF/regridded_output/Regridded_SORRMv2.1.ISMF.0001-0099.6000.0x6000.0km_10.0km_Antarctic_stereo.nc\n",
      "/Users/smurugan9/research/aislens/aislens_emulation/data/external/SORRMv2.1.ISMF/regridded_output/Regridded_SORRMv2.1.ISMF.FULL.nc\n",
      "/Users/smurugan9/research/aislens/aislens_emulation/data/external/SORRMv2.1.ISMF/regridded_output/Regridded_SORRMv2.1.ISMF.0400-0499.6000.0x6000.0km_10.0km_Antarctic_stereo.nc\n",
      "/Users/smurugan9/research/aislens/aislens_emulation/data/external/SORRMv2.1.ISMF/regridded_output/Regridded_SORRMv2.1.ISMF.0600-0699.6000.0x6000.0km_10.0km_Antarctic_stereo.nc\n",
      "/Users/smurugan9/research/aislens/aislens_emulation/data/external/SORRMv2.1.ISMF/regridded_output/Regridded_SORRMv2.1.ISMF.0200-0299.6000.0x6000.0km_10.0km_Antarctic_stereo.nc\n"
     ]
    }
   ],
   "source": [
    "for ii, run in enumerate(glob.glob(dir+\"*.nc\")):\n",
    "    (path, inFileName) = os.path.split(run)\n",
    "    print(run)"
   ]
  },
  {
   "cell_type": "code",
   "execution_count": 19,
   "id": "d73f7354-7f4f-45cb-8490-ae22ddafbf4f",
   "metadata": {},
   "outputs": [
    {
     "data": {
      "text/plain": [
       "<Figure size 640x480 with 0 Axes>"
      ]
     },
     "metadata": {},
     "output_type": "display_data"
    }
   ],
   "source": [
    "figs = {}\n",
    "figs[run] = plt.figure()"
   ]
  },
  {
   "cell_type": "code",
   "execution_count": null,
   "id": "80f41bb2-84d2-4f9e-9892-2f44be2af01b",
   "metadata": {},
   "outputs": [],
   "source": []
  },
  {
   "cell_type": "code",
   "execution_count": null,
   "id": "f1dbe7fd-c58e-4635-8c7d-dbd5201821d9",
   "metadata": {},
   "outputs": [],
   "source": []
  }
 ],
 "metadata": {
  "kernelspec": {
   "display_name": "Python 3 (ipykernel)",
   "language": "python",
   "name": "python3"
  },
  "language_info": {
   "codemirror_mode": {
    "name": "ipython",
    "version": 3
   },
   "file_extension": ".py",
   "mimetype": "text/x-python",
   "name": "python",
   "nbconvert_exporter": "python",
   "pygments_lexer": "ipython3",
   "version": "3.10.8"
  }
 },
 "nbformat": 4,
 "nbformat_minor": 5
}
