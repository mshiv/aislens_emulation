{
 "cells": [
  {
   "cell_type": "code",
   "execution_count": null,
   "id": "94cd80b2-c9dd-43e4-8d66-6e6bc4b76b14",
   "metadata": {},
   "outputs": [],
   "source": [
    "import numpy as np\n",
    "import xarray as xr\n",
    "from pathlib import Path\n",
    "from netCDF4 import Dataset\n",
    "import argparse\n",
    "import matplotlib.pyplot as plt\n",
    "import matplotlib.tri as tri\n",
    "import matplotlib.gridspec as gridspec\n",
    "from matplotlib.colorbar import Colorbar\n",
    "from matplotlib.colors import Normalize, TwoSlopeNorm\n",
    "import glob\n",
    "import os\n",
    "\n",
    "import cartopy.crs as ccrs\n",
    "import cartopy\n",
    "#import cartopy.mpl\n",
    "import matplotlib.pyplot as plt\n",
    "import seaborn as sns\n",
    "from matplotlib import rcParams, cycler\n",
    "from matplotlib import animation, rc\n",
    "from matplotlib.gridspec import GridSpec\n",
    "from mpl_toolkits.axes_grid1.inset_locator import inset_axes\n",
    "\n",
    "\n",
    "from xeofs.xarray import EOF\n",
    "\n",
    "\n",
    "import matplotlib.pyplot as plt\n",
    "import seaborn as sns\n",
    "from matplotlib import rcParams, cycler\n",
    "from matplotlib import animation, rc\n",
    "from matplotlib.gridspec import GridSpec\n",
    "from mpl_toolkits.axes_grid1.inset_locator import inset_axes\n",
    "\n",
    "\n",
    "import scipy\n",
    "from scipy import signal\n",
    "from shapely.geometry import mapping\n",
    "from xarrayutils.utils import linear_trend, xr_linregress\n",
    "import pandas as pd\n",
    "import geopandas as gpd\n",
    "import cmocean\n"
   ]
  },
  {
   "cell_type": "code",
   "execution_count": null,
   "metadata": {},
   "outputs": [],
   "source": [
    "\n",
    "main_dir = Path.cwd().parent # Main directory path of project repository - all filepaths are relative to this\n",
    "\n",
    "# File path directories\n",
    "DIR_external = 'data/external/'\n",
    "\n",
    "# DATASET FILEPATHS\n",
    "# Basal melt observations from Paolo 2023\n",
    "DIR_basalMeltObs = 'data/external/Paolo2023/'\n",
    "# Ocean model output - E3SM (SORRMv2.1.ISMF), data received from Darin Comeau / Matt Hoffman at LANL\n",
    "DIR_SORRMv21 = 'data/external/SORRMv2.1.ISMF/regridded_output/'\n",
    "\n",
    "# DATA FILENAMES\n",
    "FILE_MeltDraftObs = 'ANT_G1920V01_IceShelfMeltDraft.nc'\n",
    "FILE_SORRMv21 = 'Regridded_SORRMv2.1.ISMF.FULL.nc'\n",
    "FILE_SORRMv21_DETRENDED = 'SORRMv21_detrended.nc'\n",
    "FILE_iceShelvesShape = 'iceShelves.geojson'\n",
    "\n",
    "# INTERIM GENERATED FILEPATHS\n",
    "DIR_basalMeltObs_Interim = 'data/interim/Paolo2023/iceShelves_dedraft/iceShelfRegions/'\n",
    "DIR_SORRMv21_Interim = 'data/interim/SORRMv2.1.ISMF/iceShelves_dedraft/iceShelfRegions/'\n"
   ]
  },
  {
   "cell_type": "code",
   "execution_count": null,
   "metadata": {},
   "outputs": [],
   "source": [
    "obs23_clean = xr.open_dataset(main_dir / DIR_basalMeltObs_Interim / \"obs23_clean.nc\")\n",
    "sorrmv21_clean = xr.open_dataset(main_dir / DIR_SORRMv21_Interim / \"sorrmv21_clean.nc\")"
   ]
  },
  {
   "cell_type": "code",
   "execution_count": null,
   "metadata": {},
   "outputs": [],
   "source": [
    "sorrmv21_clean = sorrmv21_clean.rename({\"__xarray_dataarray_variable__\":\"flux\", \"Time\":\"time\"})"
   ]
  },
  {
   "cell_type": "code",
   "execution_count": null,
   "metadata": {},
   "outputs": [],
   "source": [
    "crs = ccrs.SouthPolarStereo();"
   ]
  },
  {
   "cell_type": "code",
   "execution_count": null,
   "metadata": {},
   "outputs": [],
   "source": [
    "flux_clean = sorrmv21_clean.flux[3000:9000]"
   ]
  },
  {
   "cell_type": "code",
   "execution_count": null,
   "metadata": {},
   "outputs": [],
   "source": [
    "sorrm_ts = xr.open_dataset(main_dir / DIR_SORRMv21_Interim / \"SORRMv21_CLEAN_TS.nc\")"
   ]
  },
  {
   "cell_type": "code",
   "execution_count": null,
   "metadata": {},
   "outputs": [],
   "source": [
    "sorrm_ts = sorrm_ts.__xarray_dataarray_variable__"
   ]
  },
  {
   "cell_type": "code",
   "execution_count": null,
   "metadata": {},
   "outputs": [],
   "source": [
    "import statsmodels"
   ]
  },
  {
   "cell_type": "code",
   "execution_count": null,
   "metadata": {},
   "outputs": [],
   "source": [
    "from statsmodels.tsa.seasonal import STL\n",
    "\n",
    "stl = STL(sorrm_ts[:], period=13)\n",
    "res = stl.fit()\n",
    "fig = res.plot()"
   ]
  },
  {
   "cell_type": "code",
   "execution_count": null,
   "metadata": {},
   "outputs": [],
   "source": [
    "def add_stl_plot(fig, res, legend):\n",
    "    \"\"\"Add 3 plots from a second STL fit\"\"\"\n",
    "    axs = fig.get_axes()\n",
    "    comps = [\"trend\", \"seasonal\", \"resid\"]\n",
    "    for ax, comp in zip(axs[1:], comps):\n",
    "        series = getattr(res, comp)\n",
    "        if comp == \"resid\":\n",
    "            ax.plot(series, marker=\"o\", linestyle=\"none\")\n",
    "        else:\n",
    "            ax.plot(series)\n",
    "            if comp == \"trend\":\n",
    "                ax.legend(legend, frameon=False)\n",
    "\n",
    "stl = STL(sorrm_ts, period=12, robust=True)\n",
    "res_robust = stl.fit()\n",
    "fig = res_robust.plot()\n",
    "# res_non_robust = STL(sorrm_ts, period=12, robust=False).fit()\n",
    "# add_stl_plot(fig, res_non_robust, [\"Robust\", \"Non-robust\"])"
   ]
  },
  {
   "cell_type": "code",
   "execution_count": null,
   "metadata": {},
   "outputs": [],
   "source": [
    "fig = plt.figure(figsize=(16, 5))\n",
    "lines = plt.plot(res_robust.weights, marker=\"o\", linestyle=\"none\")\n",
    "ax = plt.gca()"
   ]
  },
  {
   "cell_type": "code",
   "execution_count": null,
   "metadata": {},
   "outputs": [],
   "source": []
  },
  {
   "cell_type": "code",
   "execution_count": null,
   "metadata": {},
   "outputs": [],
   "source": [
    "model = EOF(flux_clean)\n",
    "model.solve()\n",
    "eofs = model.eofs()\n",
    "pcs = model.pcs()\n",
    "nmodes = model.n_modes\n",
    "varexpl = model.explained_variance_ratio()"
   ]
  },
  {
   "cell_type": "code",
   "execution_count": null,
   "metadata": {},
   "outputs": [],
   "source": [
    "eofs.to_netcdf(main_dir / \"data/interim/SORRMv2.1.ISMF/EOF_PCA_modes/\" / \"sorrmv21_eofs.nc\" )\n",
    "pcs.to_netcdf(main_dir / \"data/interim/SORRMv2.1.ISMF/EOF_PCA_modes/\" / \"sorrmv21_pcs.nc\" )\n",
    "varexpl.to_netcdf(main_dir / \"data/interim/SORRMv2.1.ISMF/EOF_PCA_modes/\" / \"sorrmv21_varexpl.nc\" )"
   ]
  },
  {
   "cell_type": "code",
   "execution_count": null,
   "metadata": {},
   "outputs": [],
   "source": [
    "# Normalize \n",
    "flux_clean_tmean = flux_clean.mean('time')"
   ]
  },
  {
   "cell_type": "code",
   "execution_count": null,
   "metadata": {},
   "outputs": [],
   "source": [
    "flux_clean_tstd = flux_clean.std('time')"
   ]
  },
  {
   "cell_type": "code",
   "execution_count": null,
   "metadata": {},
   "outputs": [],
   "source": [
    "flux_clean_demeaned = flux_clean - flux_clean_tmean\n"
   ]
  },
  {
   "cell_type": "code",
   "execution_count": null,
   "metadata": {},
   "outputs": [],
   "source": [
    "flux_clean_normalized = flux_clean_demeaned/flux_clean_tstd"
   ]
  },
  {
   "cell_type": "code",
   "execution_count": null,
   "metadata": {},
   "outputs": [],
   "source": [
    "flux_clean_normalized.to_netcdf(main_dir / \"data/interim/SORRMv2.1.ISMF/\" / \"flux_clean_6000_normalized.nc\")\n",
    "flux_clean_tstd.to_netcdf(main_dir / \"data/interim/SORRMv2.1.ISMF/\" / \"flux_clean_6000_tstd.nc\")"
   ]
  },
  {
   "cell_type": "code",
   "execution_count": null,
   "metadata": {},
   "outputs": [],
   "source": [
    "flux_clean_normalized = xr.open_dataset(main_dir / \"data/interim/SORRMv2.1.ISMF/\" / \"flux_clean_6000_normalized.nc\")"
   ]
  },
  {
   "cell_type": "code",
   "execution_count": null,
   "metadata": {},
   "outputs": [],
   "source": [
    "flux_clean_normalized = flux_clean_normalized.flux"
   ]
  },
  {
   "cell_type": "code",
   "execution_count": null,
   "metadata": {},
   "outputs": [],
   "source": [
    "# Normalized variability decomposition \n",
    "norm_model = EOF(flux_clean_normalized)\n",
    "norm_model.solve()\n",
    "norm_eofs = norm_model.eofs()\n",
    "norm_pcs = norm_model.pcs()\n",
    "norm_nmodes = norm_model.n_modes\n",
    "norm_varexpl = norm_model.explained_variance_ratio()\n",
    "Fvn_cs = norm_varexpl.cumsum()\n"
   ]
  },
  {
   "cell_type": "code",
   "execution_count": null,
   "metadata": {},
   "outputs": [],
   "source": [
    "norm_pcs_eig = norm_model.pcs(1)"
   ]
  },
  {
   "cell_type": "code",
   "execution_count": null,
   "metadata": {},
   "outputs": [],
   "source": []
  },
  {
   "cell_type": "code",
   "execution_count": null,
   "metadata": {},
   "outputs": [],
   "source": [
    "norm_eofs.to_netcdf(main_dir / \"data/interim/SORRMv2.1.ISMF/EOF_PCA_modes/\" / \"sorrmv21_norm_eofs.nc\" )\n",
    "norm_pcs.to_netcdf(main_dir / \"data/interim/SORRMv2.1.ISMF/EOF_PCA_modes/\" / \"sorrmv21_norm_pcs.nc\" )\n",
    "norm_varexpl.to_netcdf(main_dir / \"data/interim/SORRMv2.1.ISMF/EOF_PCA_modes/\" / \"sorrmv21_norm_varexpl.nc\" )"
   ]
  },
  {
   "cell_type": "code",
   "execution_count": null,
   "metadata": {},
   "outputs": [],
   "source": [
    "# Plot figure\n",
    "# Figure: EOF modes from decomposition of normalized model variability data\n",
    "\n",
    "nmodes_plot = 4 # Number of modes to plot\n",
    "\n",
    "yr_length = range(0,125)\n",
    "yrs_plot = np.repeat(yr_length, 12)\n",
    "\n",
    "#sns.set_theme()\n",
    "sns.set_theme(style=\"whitegrid\")\n",
    "fig=plt.figure(figsize=(12,8))\n",
    "gs = GridSpec(nmodes_plot,2,width_ratios=[1.5,2])\n",
    "axbig = fig.add_subplot(gs[0,:])\n",
    "ax0 = [fig.add_subplot(gs[i,0],projection=crs) for i in range(1,nmodes_plot)]\n",
    "ax1 = [fig.add_subplot(gs[i,1]) for i in range(1,nmodes_plot)]\n",
    "\n",
    "for i, (a0, a1) in enumerate(zip(ax0, ax1)):\n",
    "    norm_eofs.sel(mode=i+1).plot(ax=a0,\n",
    "                            cmap='cmo.balance',\n",
    "                            add_colorbar=True,\n",
    "                            cbar_kwargs={'orientation': 'vertical',\n",
    "                                         'label': 'SD Units'})\n",
    "    a0.coastlines(resolution='10m',linewidth=0.25,color='0.8')\n",
    "    a0.set_title('EOF Mode {}'.format(i+1))\n",
    "    #a1.set_ylim(-3,3)\n",
    "    a1.plot(norm_pcs.sel(mode=i+1),linewidth=1,color='dimgray')\n",
    "    a1.set_xlabel('')\n",
    "    a1.set_title('PC Mode {}'.format(i+1))\n",
    "    a1.tick_params(labelbottom=False, left=False, grid_alpha=0.3)\n",
    "\n",
    "a1.set_xlabel('Time (months)');\n",
    "\n",
    "m = 500\n",
    "xvar = np.linspace(1,m,m)\n",
    "axbig.plot(xvar,Fvn_cs[:m]*100, 'k*--', lw=0.5,markersize=1.75,\n",
    "         label='Actual Data: {:.2f}\\%'.format(norm_varexpl[:m].sum().values*100))\n",
    "axbig.set_ylabel('Cumulative variance captured (\\%)')\n",
    "axbig.set_xlabel('Mode Number')\n",
    "axbig.set_title('Cumulative variance captured by first {} modes'.format(m));\n",
    "axbig.tick_params(labelbottom=True, left=False, grid_alpha=0.3)\n",
    "axbig.legend();\n",
    "\n",
    "fig.tight_layout()"
   ]
  },
  {
   "cell_type": "code",
   "execution_count": null,
   "metadata": {},
   "outputs": [],
   "source": [
    "sorrmv21_clean = xr.open_dataset(main_dir / DIR_SORRMv21_Interim / \"sorrmv21_clean.nc\", chunks={\"Time\":300})"
   ]
  },
  {
   "cell_type": "code",
   "execution_count": null,
   "metadata": {},
   "outputs": [],
   "source": [
    "if 'time' in ds.dims:\n",
    "    tdim = 'time'\n",
    "elif 'Time' in ds.dims:\n",
    "    tdim = 'Time'"
   ]
  },
  {
   "cell_type": "code",
   "execution_count": null,
   "metadata": {},
   "outputs": [],
   "source": [
    "obs23_ts = obs23_clean.sum([\"x\",\"y\"])\n",
    "# sorrmv21_ts = sorrmv21_clean.sum([\"x\",\"y\"])"
   ]
  },
  {
   "cell_type": "code",
   "execution_count": null,
   "metadata": {},
   "outputs": [],
   "source": [
    "dsmonth = ds.groupby(\"Time.month\")"
   ]
  },
  {
   "cell_type": "code",
   "execution_count": null,
   "metadata": {},
   "outputs": [],
   "source": [
    "dsmonth"
   ]
  },
  {
   "cell_type": "code",
   "execution_count": null,
   "metadata": {},
   "outputs": [],
   "source": [
    "\n",
    "\n",
    "# Deseasonalize\n",
    "# Remove climatologies to isolate anomalies / deseasonalize \n",
    "flux_month = sorrmv21_clean.groupby(\"time.month\")\n",
    "flux_clm = flux_month.mean(\"time\") # Climatologies\n",
    "flux_anm = flux_month - flux_clm # Deseasonalized anomalies"
   ]
  },
  {
   "cell_type": "code",
   "execution_count": null,
   "metadata": {},
   "outputs": [],
   "source": [
    "sorrmv21_ts = sorrmv21_clean.__xarray_dataarray_variable__.sum([\"x\",\"y\"]).compute()"
   ]
  },
  {
   "cell_type": "code",
   "execution_count": null,
   "metadata": {},
   "outputs": [],
   "source": [
    "plt.figure(figsize=(25,8))\n",
    "sorrmv21_ts.plot()"
   ]
  },
  {
   "cell_type": "code",
   "execution_count": null,
   "metadata": {},
   "outputs": [],
   "source": [
    "plt.figure(figsize=(15,8))\n",
    "plt.psd(obs23_ts.melt);\n",
    "plt.psd(sorrmv21_ts);"
   ]
  },
  {
   "cell_type": "code",
   "execution_count": null,
   "metadata": {},
   "outputs": [],
   "source": [
    "plt.psd(obs23_ts.melt);\n",
    "plt.psd(sorrm_ts[3000:9000]);"
   ]
  },
  {
   "cell_type": "code",
   "execution_count": null,
   "metadata": {},
   "outputs": [],
   "source": [
    "plt.figure(figsize=(25,8))\n",
    "plt.plot(sorrm_ts[3000:9000])"
   ]
  },
  {
   "cell_type": "code",
   "execution_count": null,
   "metadata": {},
   "outputs": [],
   "source": [
    "DIR_SORRMv21 = Path(\"data/interim/SORRMv2.1.ISMF/iceShelves_dedraft/iceShelfRegions/\")\n",
    "main_dir / DIR_SORRMv21.parent / FILE_SORRMv21_DETRENDED"
   ]
  },
  {
   "cell_type": "code",
   "execution_count": null,
   "metadata": {},
   "outputs": [],
   "source": [
    "sorrm_clean_ts = xr.open_dataset(main_dir / DIR_SORRMv21 / \"SORRMv21_CLEAN_TS.nc\")\n",
    "sorrm_ts = sorrm_clean_ts.__xarray_dataarray_variable__"
   ]
  },
  {
   "cell_type": "code",
   "execution_count": null,
   "metadata": {},
   "outputs": [],
   "source": [
    "plt.figure(figsize=(12,8))\n",
    "#ds.__xarray_dataarray_variable__.plot()\n",
    "plt.psd(ds.__xarray_dataarray_variable__[8000:10000]);\n",
    "plt.psd(ds.__xarray_dataarray_variable__[3000:9000]);\n",
    "# plt.psd(obs23_ts.melt);\n",
    "plt.psd(ds.__xarray_dataarray_variable__);\n",
    "# plt.psd(sorrmv21_ts);"
   ]
  },
  {
   "cell_type": "code",
   "execution_count": null,
   "metadata": {},
   "outputs": [],
   "source": [
    "# STANDARDIZE\n",
    "\n",
    "obs23_ts_mean = obs23_ts.mean()\n",
    "obs23_ts_std = obs23_ts.std()\n",
    "obs23_ts_norm = (obs23_ts - obs23_ts_mean)/obs23_ts_std\n",
    "\n",
    "sorrm_ts_mean = sorrm_ts.mean()\n",
    "sorrm_ts_std = sorrm_ts.std()\n",
    "sorrm_ts_norm = (sorrm_ts - sorrm_ts_mean)/sorrm_ts_std\n"
   ]
  },
  {
   "cell_type": "code",
   "execution_count": null,
   "metadata": {},
   "outputs": [],
   "source": [
    "obs23_ts_norm.melt"
   ]
  },
  {
   "cell_type": "code",
   "execution_count": null,
   "metadata": {},
   "outputs": [],
   "source": [
    "plt.psd(obs23_ts_norm.melt);\n",
    "plt.psd(sorrm_ts_norm[3000:9000]);"
   ]
  },
  {
   "cell_type": "code",
   "execution_count": null,
   "metadata": {},
   "outputs": [],
   "source": [
    "plt.figure(figsize=(25,8))\n",
    "plt.plot(obs23_ts_norm.melt)\n",
    "plt.plot(sorrm_ts_norm[:250], '--')"
   ]
  },
  {
   "cell_type": "code",
   "execution_count": null,
   "metadata": {},
   "outputs": [],
   "source": [
    "main_dir / DIR_SORRMv21.parent"
   ]
  },
  {
   "cell_type": "code",
   "execution_count": null,
   "id": "073ea3e8-4f9b-4cf8-b4b2-ff76f89ffe11",
   "metadata": {},
   "outputs": [],
   "source": [
    "ctrlRegional = xr.open_dataset(ctrl+regionalStats)\n",
    "exp01Regional = xr.open_dataset(exp01+regionalStats)\n",
    "\n",
    "#ctrlglobal = xr.open_dataset(ctrl+globalStats)\n",
    "exp01global = xr.open_dataset(exp01+globalStats)"
   ]
  },
  {
   "cell_type": "code",
   "execution_count": null,
   "id": "e2b92523-602a-4965-b8b1-64eb520cab3f",
   "metadata": {},
   "outputs": [],
   "source": [
    "ds = xr.open_dataset(dir1)\n",
    "ds2 = xr.open_dataset(dir2)\n",
    "ds3 = xr.open_dataset(dir3)\n",
    "ds.deltat[:50].plot(label='obs23MALI (50 of 325 timesteps)')\n",
    "ds2.deltat.plot(label='origMALI')\n",
    "tmpds.deltat.plot(label='obs23MALI (Modified timestep)')\n",
    "#ds3.deltat[:50].plot(label='obs23-1101-MALI')\n",
    "plt.title('ismip6/hist04 runs')\n",
    "plt.legend()"
   ]
  },
  {
   "cell_type": "code",
   "execution_count": null,
   "id": "4f63f49a-c071-44be-a477-674057f8942b",
   "metadata": {},
   "outputs": [],
   "source": [
    "#ds.surfaceSpeedMax[:50].plot(label='obs23MALI (100 of 325 timesteps)')\n",
    "ds2.surfaceSpeedMax.plot(label='origMALI')\n",
    "tmpds.surfaceSpeedMax.plot(label='obs23MALI (Modified timestep)')\n",
    "#ds3.deltat[:50].plot(label='obs23-1101-MALI')\n",
    "plt.title('ismip6/hist04 runs')\n",
    "plt.legend()"
   ]
  },
  {
   "cell_type": "code",
   "execution_count": null,
   "id": "bbccdc10-f5b0-4148-af3d-5d49471b8770",
   "metadata": {},
   "outputs": [],
   "source": [
    "MELTDRAFT_OBS = xr.open_dataset(main_dir / DIR_basalMeltObs / FILE_MeltDraftObs, chunks={'x':729, 'y':729})"
   ]
  },
  {
   "cell_type": "code",
   "execution_count": null,
   "metadata": {},
   "outputs": [],
   "source": [
    "MELTDRAFT_OBS.rio.write_crs(\"epsg:3031\",inplace=True);\n"
   ]
  },
  {
   "cell_type": "code",
   "execution_count": null,
   "id": "7dd978ab-00cc-41f5-8e3e-c3c32c2e72d3",
   "metadata": {},
   "outputs": [],
   "source": [
    "h = MELTDRAFT_OBS.draft\n",
    "if 'time' in h.dims:\n",
    "    tdim = 'time'\n",
    "elif 'Time' in h.dims:\n",
    "    tdim = 'Time'\n",
    "\n",
    "h_mean = h.mean(tdim)\n",
    "\n",
    "IMBIEregions = range(6,33)\n",
    "iceShelfRegions = range(33,133)"
   ]
  },
  {
   "cell_type": "code",
   "execution_count": null,
   "id": "d73f7354-7f4f-45cb-8490-ae22ddafbf4f",
   "metadata": {},
   "outputs": [],
   "source": [
    "mlt = MELTDRAFT_OBS.melt.rio.clip(icems.loc[[34],'geometry'].apply(mapping),icems.crs,drop=False)\n",
    "mlt_mean = mlt.mean(tdim)\n",
    "# Dedraft: Linear Regression with SSH over chosen basin\n",
    "print('calculating linear regression for catchment {}'.format(icems.name.values[i]))\n",
    "mlt_rgrs = xr_linregress(h, mlt_mean, dim=tdim) # h = independent variable"
   ]
  },
  {
   "cell_type": "code",
   "execution_count": null,
   "metadata": {},
   "outputs": [],
   "source": [
    "mlt_prd = mlt_rgrs.slope*h_mean + mlt_rgrs.intercept"
   ]
  },
  {
   "cell_type": "code",
   "execution_count": null,
   "metadata": {},
   "outputs": [],
   "source": [
    "icems.name.values"
   ]
  },
  {
   "cell_type": "code",
   "execution_count": null,
   "metadata": {},
   "outputs": [],
   "source": []
  },
  {
   "cell_type": "code",
   "execution_count": null,
   "metadata": {},
   "outputs": [],
   "source": [
    "DIR_external = 'data/external/'\n",
    "DIR_interim = 'data/interim/'\n",
    "\n",
    "# DATASET FILEPATHS\n",
    "# Ocean model output - E3SM (SORRMv2.1.ISMF), data received from Darin Comeau / Matt Hoffman at LANL\n",
    "DIR_SORRMv21 = 'data/external/SORRMv2.1.ISMF/regridded_output/'\n",
    "FILE_SORRMv21 = 'Regridded_SORRMv2.1.ISMF.FULL.nc'\n",
    "FILE_SORRMv21_DETRENDED_TS = 'SORRMv21_detrended_ts.nc'\n",
    "\n",
    "ds = xr.open_dataset(main_dir / DIR_SORRMv21 / FILE_SORRMv21_DETRENDED_TS)\n"
   ]
  },
  {
   "cell_type": "code",
   "execution_count": null,
   "metadata": {},
   "outputs": [],
   "source": [
    "ds[\"flux_sum\"] = ds.__xarray_dataarray_variable__"
   ]
  },
  {
   "cell_type": "markdown",
   "metadata": {},
   "source": []
  },
  {
   "cell_type": "code",
   "execution_count": null,
   "metadata": {},
   "outputs": [],
   "source": []
  },
  {
   "cell_type": "code",
   "execution_count": null,
   "metadata": {},
   "outputs": [],
   "source": [
    "plt.figure(figsize=(25,8))\n",
    "ds.__xarray_dataarray_variable__.plot()"
   ]
  },
  {
   "cell_type": "code",
   "execution_count": null,
   "metadata": {},
   "outputs": [],
   "source": []
  },
  {
   "cell_type": "code",
   "execution_count": null,
   "metadata": {},
   "outputs": [],
   "source": [
    "ds.__xarray_dataarray_variable__.rename(\"flux_xy_sum\")"
   ]
  },
  {
   "cell_type": "code",
   "execution_count": null,
   "metadata": {},
   "outputs": [],
   "source": [
    "ds"
   ]
  },
  {
   "cell_type": "code",
   "execution_count": null,
   "metadata": {},
   "outputs": [],
   "source": []
  }
 ],
 "metadata": {
  "kernelspec": {
   "display_name": "Python 3 (ipykernel)",
   "language": "python",
   "name": "python3"
  },
  "language_info": {
   "codemirror_mode": {
    "name": "ipython",
    "version": 3
   },
   "file_extension": ".py",
   "mimetype": "text/x-python",
   "name": "python",
   "nbconvert_exporter": "python",
   "pygments_lexer": "ipython3",
   "version": "3.10.8"
  }
 },
 "nbformat": 4,
 "nbformat_minor": 5
}
