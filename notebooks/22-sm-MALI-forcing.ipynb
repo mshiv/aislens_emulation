{
 "cells": [
  {
   "cell_type": "code",
   "execution_count": null,
   "id": "9a49b045-6f3e-46d8-86e2-4b59d96c6ab9",
   "metadata": {},
   "outputs": [],
   "source": [
    "import xarray as xr"
   ]
  },
  {
   "cell_type": "code",
   "execution_count": null,
   "id": "aeecc4a3-e229-45f6-b258-77155e805121",
   "metadata": {},
   "outputs": [],
   "source": [
    "# FILE DIRECTORIES\n",
    "\n",
    "INDIR = \"/Users/smurugan9/research/aislens/aislens_emulation/\"\n",
    "DIR_ISMIP6 = 'data/external/ISMIP6-2300/forcing'"
   ]
  },
  {
   "cell_type": "code",
   "execution_count": 1,
   "id": "7d65a850-5dfb-4616-b42e-9b1f5caa5edb",
   "metadata": {},
   "outputs": [
    {
     "data": {
      "text/plain": [
       "'/Users/smurugan9/research/aislens/aislens_emulation/notebooks'"
      ]
     },
     "execution_count": 1,
     "metadata": {},
     "output_type": "execute_result"
    }
   ],
   "source": []
  }
 ],
 "metadata": {
  "kernelspec": {
   "display_name": "Python 3 (ipykernel)",
   "language": "python",
   "name": "python3"
  },
  "language_info": {
   "codemirror_mode": {
    "name": "ipython",
    "version": 3
   },
   "file_extension": ".py",
   "mimetype": "text/x-python",
   "name": "python",
   "nbconvert_exporter": "python",
   "pygments_lexer": "ipython3",
   "version": "3.10.8"
  }
 },
 "nbformat": 4,
 "nbformat_minor": 5
}
