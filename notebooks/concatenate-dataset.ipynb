{
 "cells": [
  {
   "cell_type": "code",
   "execution_count": null,
   "id": "83a91c20",
   "metadata": {},
   "outputs": [],
   "source": [
    "import xarray as xr\n",
    "import sys\n",
    "import glob, os\n",
    "import re"
   ]
  },
  {
   "cell_type": "code",
   "execution_count": null,
   "id": "4d08faa2",
   "metadata": {},
   "outputs": [],
   "source": [
    "#inDirName = '/Users/smurugan9/research/aislens/aislens_emulation/data/processed/E3SM_lowres_newrun_FluxSSH/'\n",
    "processedDir = '/Users/smurugan9/research/aislens/aislens_emulation/data/processed/'"
   ]
  },
  {
   "cell_type": "code",
   "execution_count": null,
   "id": "58228d85",
   "metadata": {},
   "outputs": [],
   "source": [
    "# Define project repo path\n",
    "inDirName = '/Users/smurugan9/research/aislens/aislens_emulation/'\n",
    "sorrm_regridded_path = 'data/external/SORRMv2.1.ISMF/regridded_output/'\n",
    "\n",
    "# DATA FILE PATHS\n",
    "\n",
    "# Data containing regridded flux and SSH for 150 years\n",
    "regriddedFluxSSH_filepath = 'data/interim/RegriddedFluxSSH.nc'\n",
    "\n",
    "# File contains all defined ice shelves\n",
    "iceShelvesShape_filepath = 'data/interim/iceShelves.geojson'\n",
    "\n",
    "# Folder for output figures\n",
    "figures_folderpath = 'reports/figures/' \n",
    "\n",
    "interim_data_folder = 'data/interim/'\n",
    "flux_dedrafted_data_path = 'dedrafted_flux_IMBIE/'\n",
    "randomized_realizations_path = 'randomized_realizations/'\n",
    "flux_dedrafted_iceshelves_data_path = 'iceshelves_dedrafted_flux/'\n",
    "reconstructions_neofs_path = 'reconstructions_neofs/'\n",
    "cise_file_path = 'cise_data/'"
   ]
  },
  {
   "cell_type": "code",
   "execution_count": null,
   "id": "7b6f419f-175d-4776-ad9a-ac6b8ee187ad",
   "metadata": {},
   "outputs": [],
   "source": [
    "datasets = []\n",
    "\n",
    "for file in sorted(glob.glob(inDirName+sorrm_regridded_path+\"Regridded_SORRMv2.1.ISMF.*.6000.0x6000.0km_10.0km_Antarctic_stereo.nc\")):\n",
    "    (path, inFileName) = os.path.split(file)\n",
    "    print(inFileName)\n",
    "    #d.append(inFileName)\n",
    "    ds = xr.open_dataset(inDirName+sorrm_regridded_path+inFileName).timeMonthly_avg_landIceFreshwaterFlux\n",
    "    datasets.append(ds)\n",
    "\n",
    "combined_ds = xr.concat(datasets,dim='Time')\n",
    "#combined_ds.to_netcdf(inDirName+sorrm_regridded_path+'Regridded_SORRMv2.1.ISMF.fluxFULL.nc')\n",
    "print(\"time coord assigned.\")"
   ]
  },
  {
   "cell_type": "code",
   "execution_count": null,
   "id": "82f12efc",
   "metadata": {},
   "outputs": [],
   "source": [
    "## PACE DIRECTORIES \n",
    "\n",
    "# Directory containing E3SM_lowres_newrun .nc files\n",
    "# Files available on sermia. Copy these data files into this directory\n",
    "#inDirName = '/storage/home/hcoda1/6/smurugan9/scratch/E3SM_lowres_newrun/'\n",
    "#inDirName = '/Users/smurugan9/research/aislens/aislens_emulation/data/raw/'\n",
    "\n",
    "# Directory to save output files. \n",
    "# These files will contain the landIceFreshwaterFlux and SSH data variables from the original dataset without any regridding, i.e., it will remain an unstructured mesh output.\n",
    "#outDirName = '/storage/home/hcoda1/6/smurugan9/data/E3SM_lowres_newrun_fluxSSH/'\n",
    "#outDirName = '/Users/smurugan9/research/aislens/aislens_emulation/data/processed/E3SM_lowres_newrun_FluxSSH/'"
   ]
  },
  {
   "cell_type": "code",
   "execution_count": null,
   "id": "0e8811a4",
   "metadata": {},
   "outputs": [],
   "source": [
    "datasets = []\n",
    "for example in examples:\n",
    "    ds = create_an_xarray_dataset(example)\n",
    "    datasets.append(ds)\n",
    "combined = xarray.concat(datasets, dim='example')"
   ]
  },
  {
   "cell_type": "code",
   "execution_count": null,
   "id": "422b12ce",
   "metadata": {},
   "outputs": [],
   "source": [
    "datasets = []\n",
    "\n",
    "for file in sorted(glob.glob(inDirName+\"mpaso.FluxSSH.*.nc\")):\n",
    "    (path, inFileName) = os.path.split(file)\n",
    "    print(inFileName)\n",
    "    #d.append(inFileName)\n",
    "    ds = xr.open_dataset(inDirName+inFileName)\n",
    "    datasets.append(ds)\n",
    "combined_ds = xr.concat(datasets,dim='Time')\n",
    "combined_ds.to_netcdf('mpaso.FluxSSH.newrun.nc')\n",
    "print(\"time coord assigned.\")"
   ]
  },
  {
   "cell_type": "code",
   "execution_count": null,
   "id": "00037cc2-294a-4eb3-bf6a-4200b9386533",
   "metadata": {},
   "outputs": [],
   "source": [
    "sorrmgrid = xr.open_dataset(inDirName+sorrm_regridded_path+'Regridded_SORRMv2.1.ISMF.FULL.nc')"
   ]
  },
  {
   "cell_type": "code",
   "execution_count": null,
   "id": "73c4e7d7-46cc-4b2e-a8d4-5cecfbabed41",
   "metadata": {},
   "outputs": [],
   "source": []
  },
  {
   "cell_type": "code",
   "execution_count": null,
   "id": "bd3388f1",
   "metadata": {},
   "outputs": [],
   "source": [
    "regridded_data = xr.open_dataset(inDirName+regriddedFluxSSH_filepath)\n",
    "regriddedflux = regridded_data.timeMonthly_avg_landIceFreshwaterFlux\n",
    "regriddedssh = regridded_data.timeMonthly_avg_ssh"
   ]
  },
  {
   "cell_type": "code",
   "execution_count": null,
   "id": "a2499c00",
   "metadata": {},
   "outputs": [],
   "source": [
    "regriddedflux_ts = regriddedflux.sum(['y','x'])"
   ]
  },
  {
   "cell_type": "code",
   "execution_count": null,
   "id": "3a806ce4",
   "metadata": {},
   "outputs": [],
   "source": [
    "ds = xr.open_dataset(processedDir+'mpaso.FluxSSH.newrun.nc')"
   ]
  },
  {
   "cell_type": "code",
   "execution_count": null,
   "id": "8e465a0e",
   "metadata": {},
   "outputs": [],
   "source": [
    "flux = ds.timeMonthly_avg_landIceFreshwaterFlux\n",
    "ssh = ds.timeMonthly_avg_ssh"
   ]
  },
  {
   "cell_type": "code",
   "execution_count": null,
   "id": "b3865e43",
   "metadata": {},
   "outputs": [],
   "source": [
    "flux.to_netcdf(processedDir+'mpaso.flux.newrun.nc')"
   ]
  },
  {
   "cell_type": "code",
   "execution_count": null,
   "id": "7d565a08",
   "metadata": {},
   "outputs": [],
   "source": [
    "flux.plot()"
   ]
  },
  {
   "cell_type": "code",
   "execution_count": null,
   "id": "69557434",
   "metadata": {},
   "outputs": [],
   "source": [
    "flux_ts = flux.sum('nCells')"
   ]
  },
  {
   "cell_type": "code",
   "execution_count": null,
   "id": "efe02252",
   "metadata": {},
   "outputs": [],
   "source": [
    "regriddedflux_ts.plot()"
   ]
  },
  {
   "cell_type": "code",
   "execution_count": null,
   "id": "df6c988a",
   "metadata": {},
   "outputs": [],
   "source": [
    "from sklearn.decomposition import SparsePCA"
   ]
  },
  {
   "cell_type": "code",
   "execution_count": null,
   "id": "aac3253d",
   "metadata": {},
   "outputs": [],
   "source": [
    "tr = SparsePCA()"
   ]
  },
  {
   "cell_type": "code",
   "execution_count": null,
   "id": "1fadfcb9",
   "metadata": {},
   "outputs": [],
   "source": [
    "flux_partial = flux[0:500,:]"
   ]
  },
  {
   "cell_type": "code",
   "execution_count": null,
   "id": "38c12aa0",
   "metadata": {},
   "outputs": [],
   "source": [
    "spca_flux = tr.fit(flux_partial)"
   ]
  },
  {
   "cell_type": "code",
   "execution_count": null,
   "id": "64a11fb0",
   "metadata": {},
   "outputs": [],
   "source": [
    "from mpas_analysis import ocean"
   ]
  },
  {
   "cell_type": "code",
   "execution_count": null,
   "id": "823c1cd3",
   "metadata": {},
   "outputs": [],
   "source": [
    "ocean.time_series_antarctic_melt.TimeSeriesAntarcticMelt"
   ]
  }
 ],
 "metadata": {
  "kernelspec": {
   "display_name": "Python 3 (ipykernel)",
   "language": "python",
   "name": "python3"
  },
  "language_info": {
   "codemirror_mode": {
    "name": "ipython",
    "version": 3
   },
   "file_extension": ".py",
   "mimetype": "text/x-python",
   "name": "python",
   "nbconvert_exporter": "python",
   "pygments_lexer": "ipython3",
   "version": "3.10.8"
  }
 },
 "nbformat": 4,
 "nbformat_minor": 5
}
