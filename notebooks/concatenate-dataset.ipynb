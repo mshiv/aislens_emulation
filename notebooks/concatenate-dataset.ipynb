{
 "cells": [
  {
   "cell_type": "code",
   "execution_count": 5,
   "id": "83a91c20",
   "metadata": {},
   "outputs": [],
   "source": [
    "import xarray as xr\n",
    "import sys\n",
    "import glob, os\n",
    "import re"
   ]
  },
  {
   "cell_type": "code",
   "execution_count": 18,
   "id": "4d08faa2",
   "metadata": {},
   "outputs": [],
   "source": [
    "#inDirName = '/Users/smurugan9/research/aislens/aislens_emulation/data/processed/E3SM_lowres_newrun_FluxSSH/'\n",
    "processedDir = '/Users/smurugan9/research/aislens/aislens_emulation/data/processed/'"
   ]
  },
  {
   "cell_type": "code",
   "execution_count": 4,
   "id": "58228d85",
   "metadata": {},
   "outputs": [],
   "source": [
    "# Define project repo path\n",
    "inDirName = '/Users/smurugan9/research/aislens/aislens_emulation/'\n",
    "\n",
    "# DATA FILE PATHS\n",
    "\n",
    "# Data containing regridded flux and SSH for 150 years\n",
    "regriddedFluxSSH_filepath = 'data/interim/RegriddedFluxSSH.nc'\n",
    "\n",
    "# File contains all defined ice shelves\n",
    "iceShelvesShape_filepath = 'data/interim/iceShelves.geojson'\n",
    "\n",
    "# Folder for output figures\n",
    "figures_folderpath = 'reports/figures/' \n",
    "\n",
    "interim_data_folder = 'data/interim/'\n",
    "flux_dedrafted_data_path = 'dedrafted_flux_IMBIE/'\n",
    "randomized_realizations_path = 'randomized_realizations/'\n",
    "flux_dedrafted_iceshelves_data_path = 'iceshelves_dedrafted_flux/'\n",
    "reconstructions_neofs_path = 'reconstructions_neofs/'\n",
    "cise_file_path = 'cise_data/'"
   ]
  },
  {
   "cell_type": "code",
   "execution_count": null,
   "id": "82f12efc",
   "metadata": {},
   "outputs": [],
   "source": [
    "## PACE DIRECTORIES \n",
    "\n",
    "# Directory containing E3SM_lowres_newrun .nc files\n",
    "# Files available on sermia. Copy these data files into this directory\n",
    "#inDirName = '/storage/home/hcoda1/6/smurugan9/scratch/E3SM_lowres_newrun/'\n",
    "#inDirName = '/Users/smurugan9/research/aislens/aislens_emulation/data/raw/'\n",
    "\n",
    "# Directory to save output files. \n",
    "# These files will contain the landIceFreshwaterFlux and SSH data variables from the original dataset without any regridding, i.e., it will remain an unstructured mesh output.\n",
    "#outDirName = '/storage/home/hcoda1/6/smurugan9/data/E3SM_lowres_newrun_fluxSSH/'\n",
    "#outDirName = '/Users/smurugan9/research/aislens/aislens_emulation/data/processed/E3SM_lowres_newrun_FluxSSH/'"
   ]
  },
  {
   "cell_type": "code",
   "execution_count": null,
   "id": "0e8811a4",
   "metadata": {},
   "outputs": [],
   "source": [
    "datasets = []\n",
    "for example in examples:\n",
    "    ds = create_an_xarray_dataset(example)\n",
    "    datasets.append(ds)\n",
    "combined = xarray.concat(datasets, dim='example')"
   ]
  },
  {
   "cell_type": "code",
   "execution_count": 11,
   "id": "422b12ce",
   "metadata": {},
   "outputs": [
    {
     "name": "stdout",
     "output_type": "stream",
     "text": [
      "mpaso.FluxSSH.0001-01-01.nc\n",
      "mpaso.FluxSSH.0001-02-01.nc\n",
      "time coord assigned.\n"
     ]
    }
   ],
   "source": [
    "datasets = []\n",
    "\n",
    "for file in sorted(glob.glob(inDirName+\"mpaso.FluxSSH.*.nc\")):\n",
    "    (path, inFileName) = os.path.split(file)\n",
    "    print(inFileName)\n",
    "    #d.append(inFileName)\n",
    "    ds = xr.open_dataset(inDirName+inFileName)\n",
    "    datasets.append(ds)\n",
    "combined_ds = xr.concat(datasets,dim='Time')\n",
    "combined_ds.to_netcdf('mpaso.FluxSSH.newrun.nc')\n",
    "print(\"time coord assigned.\")"
   ]
  },
  {
   "cell_type": "code",
   "execution_count": 23,
   "id": "bd3388f1",
   "metadata": {},
   "outputs": [],
   "source": [
    "regridded_data = xr.open_dataset(inDirName+regriddedFluxSSH_filepath)\n",
    "regriddedflux = regridded_data.timeMonthly_avg_landIceFreshwaterFlux\n",
    "regriddedssh = regridded_data.timeMonthly_avg_ssh"
   ]
  },
  {
   "cell_type": "code",
   "execution_count": 25,
   "id": "a2499c00",
   "metadata": {},
   "outputs": [],
   "source": [
    "regriddedflux_ts = regriddedflux.sum(['y','x'])"
   ]
  },
  {
   "cell_type": "code",
   "execution_count": 8,
   "id": "3a806ce4",
   "metadata": {},
   "outputs": [],
   "source": [
    "ds = xr.open_dataset(processedDir+'mpaso.FluxSSH.newrun.nc')"
   ]
  },
  {
   "cell_type": "code",
   "execution_count": 10,
   "id": "8e465a0e",
   "metadata": {},
   "outputs": [],
   "source": [
    "flux = ds.timeMonthly_avg_landIceFreshwaterFlux\n",
    "ssh = ds.timeMonthly_avg_ssh"
   ]
  },
  {
   "cell_type": "code",
   "execution_count": 19,
   "id": "b3865e43",
   "metadata": {},
   "outputs": [],
   "source": [
    "flux.to_netcdf(processedDir+'mpaso.flux.newrun.nc')"
   ]
  },
  {
   "cell_type": "code",
   "execution_count": 21,
   "id": "7d565a08",
   "metadata": {},
   "outputs": [
    {
     "data": {
      "text/plain": [
       "<matplotlib.collections.QuadMesh at 0x18b213b50>"
      ]
     },
     "execution_count": 21,
     "metadata": {},
     "output_type": "execute_result"
    }
   ],
   "source": [
    "flux.plot()"
   ]
  },
  {
   "cell_type": "code",
   "execution_count": 29,
   "id": "69557434",
   "metadata": {},
   "outputs": [],
   "source": [
    "flux_ts = flux.sum('nCells')"
   ]
  },
  {
   "cell_type": "code",
   "execution_count": 33,
   "id": "efe02252",
   "metadata": {},
   "outputs": [
    {
     "data": {
      "text/plain": [
       "[<matplotlib.lines.Line2D at 0x18a755f30>]"
      ]
     },
     "execution_count": 33,
     "metadata": {},
     "output_type": "execute_result"
    },
    {
     "data": {
      "image/png": "[encoded data removed]",
      "text/plain": [
       "<Figure size 432x288 with 1 Axes>"
      ]
     },
     "metadata": {
      "needs_background": "light"
     },
     "output_type": "display_data"
    }
   ],
   "source": [
    "regriddedflux_ts.plot()"
   ]
  },
  {
   "cell_type": "code",
   "execution_count": 7,
   "id": "df6c988a",
   "metadata": {},
   "outputs": [],
   "source": [
    "from sklearn.decomposition import SparsePCA"
   ]
  },
  {
   "cell_type": "code",
   "execution_count": 8,
   "id": "aac3253d",
   "metadata": {},
   "outputs": [],
   "source": [
    "tr = SparsePCA()"
   ]
  },
  {
   "cell_type": "code",
   "execution_count": 11,
   "id": "1fadfcb9",
   "metadata": {},
   "outputs": [],
   "source": [
    "flux_partial = flux[0:500,:]"
   ]
  },
  {
   "cell_type": "code",
   "execution_count": null,
   "id": "38c12aa0",
   "metadata": {},
   "outputs": [],
   "source": [
    "spca_flux = tr.fit(flux_partial)"
   ]
  },
  {
   "cell_type": "code",
   "execution_count": 3,
   "id": "64a11fb0",
   "metadata": {},
   "outputs": [],
   "source": [
    "from mpas_analysis import ocean"
   ]
  },
  {
   "cell_type": "code",
   "execution_count": 14,
   "id": "823c1cd3",
   "metadata": {},
   "outputs": [
    {
     "data": {
      "text/plain": [
       "mpas_analysis.ocean.time_series_antarctic_melt.TimeSeriesAntarcticMelt"
      ]
     },
     "execution_count": 14,
     "metadata": {},
     "output_type": "execute_result"
    }
   ],
   "source": [
    "ocean.time_series_antarctic_melt.TimeSeriesAntarcticMelt"
   ]
  }
 ],
 "metadata": {
  "kernelspec": {
   "display_name": "Python 3 (ipykernel)",
   "language": "python",
   "name": "python3"
  },
  "language_info": {
   "codemirror_mode": {
    "name": "ipython",
    "version": 3
   },
   "file_extension": ".py",
   "mimetype": "text/x-python",
   "name": "python",
   "nbconvert_exporter": "python",
   "pygments_lexer": "ipython3",
   "version": "3.10.2"
  }
 },
 "nbformat": 4,
 "nbformat_minor": 5
}
