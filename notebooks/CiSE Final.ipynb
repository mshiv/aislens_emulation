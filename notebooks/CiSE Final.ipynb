{
 "cells": [
  {
   "cell_type": "code",
   "execution_count": null,
   "id": "182d9d59",
   "metadata": {},
   "outputs": [],
   "source": [
    "import sys\n",
    "import os\n",
    "import cartopy.crs as ccrs\n",
    "import matplotlib.pyplot as plt\n",
    "import seaborn as sns\n",
    "from matplotlib import rcParams, cycler\n",
    "from mpl_toolkits.axes_grid1.inset_locator import inset_axes\n",
    "import numpy as np\n",
    "import xarray as xr\n",
    "import geopandas as gpd\n",
    "import rioxarray\n",
    "from xeofs.xarray import EOF\n",
    "import gc\n",
    "import collections\n",
    "import statsmodels.api as sm\n",
    "import scipy\n",
    "from sklearn.metrics import mean_squared_error\n",
    "from math import sqrt\n",
    "from itertools import product\n",
    "import pyproj\n",
    "from shapely.geometry import mapping\n",
    "import pandas as pd"
   ]
  },
  {
   "cell_type": "code",
   "execution_count": null,
   "id": "e38301bb",
   "metadata": {},
   "outputs": [],
   "source": [
    "sns.set_theme(style=\"whitegrid\")\n",
    "\n",
    "plt.rcParams.update({'font.size': 18})\n",
    "plt.rc('font', family='sans-serif') \n",
    "plt.rc('font', serif='Helvetica Neue')"
   ]
  },
  {
   "cell_type": "markdown",
   "id": "717fef62",
   "metadata": {},
   "source": [
    "## Define directories"
   ]
  },
  {
   "cell_type": "code",
   "execution_count": null,
   "id": "33982bba",
   "metadata": {},
   "outputs": [],
   "source": [
    "# Define project repo path\n",
    "inDirName = '/Users/smurugan9/research/aislens/aislens_emulation/'\n",
    "\n",
    "# DATA FILE PATHS\n",
    "\n",
    "# Data containing regridded flux and SSH for 150 years\n",
    "regriddedFluxSSH_filepath = 'data/interim/RegriddedFluxSSH.nc'\n",
    "\n",
    "# File contains all defined ice shelves\n",
    "iceShelvesShape_filepath = 'data/interim/iceShelves.geojson'\n",
    "\n",
    "# Folder for output figures\n",
    "figures_folderpath = 'reports/figures/' \n",
    "\n",
    "interim_data_folder = 'data/interim/'\n",
    "flux_dedrafted_data_path = 'dedrafted_flux_IMBIE/'\n",
    "randomized_realizations_path = 'randomized_realizations/'\n",
    "flux_dedrafted_iceshelves_data_path = 'iceshelves_dedrafted_flux/'\n",
    "reconstructions_neofs_path = 'reconstructions_neofs/'\n",
    "cise_file_path = 'cise_data/'"
   ]
  },
  {
   "cell_type": "code",
   "execution_count": null,
   "id": "ff0c067d",
   "metadata": {},
   "outputs": [],
   "source": [
    "# Read geoJSON region feature file as GeoDataFrame\n",
    "iceshelvesmask = gpd.read_file(inDirName + iceShelvesShape_filepath)\n",
    "# Convert to south polar stereographic projection\n",
    "icems = iceshelvesmask.to_crs({'init': 'epsg:3031'});\n",
    "crs = ccrs.SouthPolarStereo();"
   ]
  },
  {
   "cell_type": "code",
   "execution_count": null,
   "id": "448a7b8b",
   "metadata": {},
   "outputs": [],
   "source": []
  }
 ],
 "metadata": {
  "kernelspec": {
   "display_name": "Python 3 (ipykernel)",
   "language": "python",
   "name": "python3"
  },
  "language_info": {
   "codemirror_mode": {
    "name": "ipython",
    "version": 3
   },
   "file_extension": ".py",
   "mimetype": "text/x-python",
   "name": "python",
   "nbconvert_exporter": "python",
   "pygments_lexer": "ipython3",
   "version": "3.10.2"
  }
 },
 "nbformat": 4,
 "nbformat_minor": 5
}
