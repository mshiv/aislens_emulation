{
 "cells": [
  {
   "cell_type": "code",
   "execution_count": null,
   "id": "182d9d59",
   "metadata": {},
   "outputs": [],
   "source": [
    "import sys\n",
    "import os\n",
    "import gc\n",
    "import collections\n",
    "\n",
    "import cartopy.crs as ccrs\n",
    "import cartopy\n",
    "import matplotlib.pyplot as plt\n",
    "import seaborn as sns\n",
    "from matplotlib import rcParams, cycler\n",
    "from matplotlib import animation, rc\n",
    "from matplotlib.gridspec import GridSpec\n",
    "from mpl_toolkits.axes_grid1.inset_locator import inset_axes\n",
    "\n",
    "import numpy as np\n",
    "import xarray as xr\n",
    "import geopandas as gpd\n",
    "import rioxarray\n",
    "from xeofs.xarray import EOF, Rotator, ROCK_PCA\n",
    "\n",
    "import statsmodels.api as sm\n",
    "import scipy\n",
    "from sklearn.metrics import mean_squared_error\n",
    "from itertools import product\n",
    "import pyproj\n",
    "from shapely.geometry import mapping\n",
    "from xarrayutils.utils import linear_trend, xr_linregress\n",
    "import pandas as pd\n",
    "import cmocean\n",
    "\n",
    "# NOTE: Local xeofs to be submitted as pull-request (addition of xeofs.model.reconstruct_randomized_X method)"
   ]
  },
  {
   "cell_type": "code",
   "execution_count": null,
   "id": "e38301bb",
   "metadata": {},
   "outputs": [],
   "source": [
    "# Define local plotting parameters\n",
    "#sns.set_theme(style=\"whitegrid\")\n",
    "#sns.set_theme(style=\"ticks\")\n",
    "sns.set_theme(style=\"white\")\n",
    "sns.set(rc={\"figure.dpi\":300, 'savefig.dpi':300})\n",
    "plt.rcParams.update({'font.size': 15})\n",
    "plt.rc('font', family='sans-serif') \n",
    "plt.rc('font', serif='Helvetica Neue')\n",
    "plt.rc('text', usetex=True)"
   ]
  },
  {
   "cell_type": "markdown",
   "id": "717fef62",
   "metadata": {},
   "source": [
    "## Define directories"
   ]
  },
  {
   "cell_type": "code",
   "execution_count": null,
   "id": "33982bba",
   "metadata": {},
   "outputs": [],
   "source": [
    "# To update following with relative repository paths once data and code is up on Zenodo\n",
    "# Current version uses the project template on Github.\n",
    "\n",
    "# Define project repo path\n",
    "inDirName = '/Users/smurugan9/research/aislens/aislens_emulation/'\n",
    "\n",
    "# DATA FILE PATHS\n",
    "# Data containing regridded flux and SSH for 150 years\n",
    "regriddedFluxSSH_filepath = 'data/interim/RegriddedFluxSSH.nc'\n",
    "# File contains all defined ice shelves\n",
    "iceShelvesShape_filepath = 'data/interim/iceShelves.geojson'\n",
    "\n",
    "# Relative directory paths for Data and Figures\n",
    "figures_folderpath = 'reports/figures/'\n",
    "interim_data_folder = 'data/interim/'\n",
    "processed_data_folder = 'data/processed/'\n",
    "flux_dedrafted_data_path = 'dedrafted_flux_IMBIE/'\n",
    "randomized_realizations_path = 'randomized_realizations/'\n",
    "flux_dedrafted_iceshelves_data_path = 'iceshelves_dedrafted_flux/'\n",
    "reconstructions_neofs_path = 'reconstructions_neofs/'\n",
    "cise_file_path = 'cise_data/'\n",
    "std_file_path = 'standardized_rec_data/'\n",
    "\n",
    "\n",
    "pca_1 = '1_pca/'\n",
    "pca_2 = '2_pca_normalized/'\n",
    "pca_3 = '3_pca_normalized_nmodes/'\n",
    "pca_4 = '4_lowpass_ pca_normalized/'"
   ]
  },
  {
   "cell_type": "markdown",
   "id": "898598a8",
   "metadata": {},
   "source": [
    "## Input data files and catchment masks for ice shelves"
   ]
  },
  {
   "cell_type": "markdown",
   "id": "4a3023be",
   "metadata": {},
   "source": [
    "### Catchment boundary masks"
   ]
  },
  {
   "cell_type": "code",
   "execution_count": null,
   "id": "ff0c067d",
   "metadata": {},
   "outputs": [],
   "source": [
    "# Catchment boundary masks for Antarctica, taken from ice shelf definitions in MPAS-Dev/geometric-features\n",
    "# Source: https://github.com/MPAS-Dev/geometric_features/tree/main/geometric_data\n",
    "# These have been combined into one file with 133 defined regions (polygons and multipolygons), \n",
    "# readable via the Geopandas package\n",
    "\n",
    "# Read geoJSON region feature file as GeoDataFrame\n",
    "iceshelvesmask = gpd.read_file(inDirName + iceShelvesShape_filepath)\n",
    "\n",
    "# Convert to south polar stereographic projection\n",
    "#icems = iceshelvesmask.to_crs({'init': 'epsg:3031'}); # This has been deprecated\n",
    "icems = iceshelvesmask.to_crs('epsg:3031');\n",
    "crs = ccrs.SouthPolarStereo();"
   ]
  },
  {
   "cell_type": "markdown",
   "id": "6fd1b450",
   "metadata": {},
   "source": [
    "### Plot catchment boundaries"
   ]
  },
  {
   "cell_type": "code",
   "execution_count": null,
   "id": "9a2f1b88",
   "metadata": {},
   "outputs": [],
   "source": [
    "# Plot boundaries\n",
    "\n",
    "plt.figure(figsize=(5,5))\n",
    "ax1 = plt.subplot(121,projection=ccrs.SouthPolarStereo())\n",
    "ax1.gridlines(color='whitesmoke',zorder=4)\n",
    "icems[34:133].plot(ax=ax1,color='antiquewhite', linewidth=0,zorder=1)\n",
    "icems[34:133].boundary.plot(ax=ax1,color='r', linewidth=0.2,zorder=3)\n",
    "#icems[34:133].boundary.plot(ax=ax1,linewidth=0.25,color='lightgray',zorder=4)\n",
    "#ax1.coastlines(resolution='10m', zorder=6,linewidth=0.75)\n",
    "ax1.patch.set_facecolor(color='lightsteelblue')\n",
    "#ax1.add_feature(cartopy.feature.LAND, color='ghostwhite')\n",
    "ax1.add_feature(cartopy.feature.LAND, color='ghostwhite', zorder=2)\n",
    "plt.title('Catchment Boundaries');"
   ]
  },
  {
   "cell_type": "markdown",
   "id": "350e921a",
   "metadata": {},
   "source": [
    "### Ocean forcing data"
   ]
  },
  {
   "cell_type": "code",
   "execution_count": null,
   "id": "448a7b8b",
   "metadata": {},
   "outputs": [],
   "source": [
    "# Original forcing data: raw MPAS-O output, mapped to the 10km resolution grid\n",
    "# flux is freshwater flux\n",
    "# ssh is sea surface height, used here as a proxy for ice draft / depth.\n",
    "\n",
    "# ssh is used to plot the scatterplot of flux vs. draft for different ice shelves \n",
    "# and as input for the linear regression used in \"dedrafting\" the dataset\n",
    "\n",
    "regridded_data = xr.open_dataset(inDirName+regriddedFluxSSH_filepath)\n",
    "flux = regridded_data.timeMonthly_avg_landIceFreshwaterFlux\n",
    "ssh = regridded_data.timeMonthly_avg_ssh\n",
    "\n",
    "# Pre-processed data: detrended, deseasonalized, dedrafted\n",
    "flux_clean = xr.open_dataset(inDirName+interim_data_folder+'flux_clean')\n",
    "flux_clean = flux_clean.timeMonthly_avg_landIceFreshwaterFlux\n",
    "\n",
    "# Dedrafted flux\n",
    "flux_dedrafted = xr.open_dataset(inDirName+\n",
    "                                 interim_data_folder+\n",
    "                                 flux_dedrafted_iceshelves_data_path+'iceshelves_dedrafted_total.nc')\n",
    "flux_dedrafted = flux_dedrafted.timeMonthly_avg_landIceFreshwaterFlux\n",
    "\n",
    "# Flux datapoints extracted for individual ice shelves, used for the scatter plots\n",
    "catchments_scatter = np.load(inDirName+interim_data_folder+\"catchments_scatter.npy\")\n",
    "catchments_scatter_xr = xr.DataArray(catchments_scatter,dims={'basin','x','y'})\n",
    "\n",
    "# Add reconstructed datasets - seed random\n",
    "\n",
    "\n",
    "# Catchment boundary masks for Antarctica, taken from ice shelf definitions in MPAS-Dev/geometric-features\n",
    "# Source: https://github.com/MPAS-Dev/geometric_features/tree/main/geometric_data\n",
    "# These have been combined into one file with 133 defined regions (polygons and multipolygons), \n",
    "# readable via the Geopandas package\n",
    "\n",
    "# Read geoJSON region feature file as GeoDataFrame\n",
    "iceshelvesmask = gpd.read_file(inDirName + iceShelvesShape_filepath)\n",
    "\n",
    "# Convert to south polar stereographic projection\n",
    "#icems = iceshelvesmask.to_crs({'init': 'epsg:3031'}); # This has been deprecated\n",
    "icems = iceshelvesmask.to_crs('epsg:3031');\n",
    "crs = ccrs.SouthPolarStereo();"
   ]
  },
  {
   "cell_type": "code",
   "execution_count": null,
   "id": "c1b2d415",
   "metadata": {},
   "outputs": [],
   "source": [
    "flux_filtered = xr.open_dataset(inDirName+processed_data_folder+pca_4+'flux_filtered_24')\n",
    "flux_filtered = flux_filtered.__xarray_dataarray_variable__"
   ]
  },
  {
   "cell_type": "code",
   "execution_count": null,
   "id": "37c965e9",
   "metadata": {},
   "outputs": [],
   "source": []
  },
  {
   "cell_type": "markdown",
   "id": "b283a565",
   "metadata": {},
   "source": [
    "### Convert Freshwater Flux [$kg. m^{-2} s^{-1}$] to Melt Rate [$m.yr^{-1}$]\n",
    "Assumes density of freshwater $\\rho_{fw}$ [$kg/m^3$] = 1000"
   ]
  },
  {
   "cell_type": "code",
   "execution_count": null,
   "id": "e36c1f03",
   "metadata": {},
   "outputs": [],
   "source": [
    "sec_per_year = 365*24*60*60\n",
    "rho_fw = 1000"
   ]
  },
  {
   "cell_type": "code",
   "execution_count": null,
   "id": "4e022089",
   "metadata": {},
   "outputs": [],
   "source": [
    "catchments_scatter = catchments_scatter*sec_per_year/rho_fw"
   ]
  },
  {
   "cell_type": "markdown",
   "id": "b3554e5a",
   "metadata": {},
   "source": [
    "### Plot sample data for specific ice shelves (melt rate draft dependence)"
   ]
  },
  {
   "cell_type": "code",
   "execution_count": null,
   "id": "00fdad20",
   "metadata": {},
   "outputs": [],
   "source": [
    "# Figure: Melt rate draft dependence for select catchments\n",
    "# The following indices are taken from 'catchment_scatter', defined as\n",
    "# Index of catchments in catchment_scatter = Index of catchments in icems - 33\n",
    "\n",
    "# Sample ice shelves chosen:\n",
    "# Amery = 1\n",
    "# George VI = 27\n",
    "# Getz = 28\n",
    "# Pine Island = 61\n",
    "# Ronne = 70\n",
    "# Totten = 83\n",
    "# Wilkins = 94\n",
    "# Western Ross = 71\n",
    "# Filchner = 22\n",
    "# Thwaites = 81\n",
    "# Eastern_Ross = 72\n",
    "\n",
    "# Full list of ice shelves and indices can be obtained by printing icems\n",
    "\n",
    "catchments = np.array([1,27,28,61,70,83,94,71,22])\n",
    "\n",
    "#fig, ax = plt.subplots(1, 1, figsize=[15, 15],subplot_kw={'projection': ccrs.SouthPolarStereo()})\n",
    "fig, axs = plt.subplots(2,3, figsize=[15, 10])\n",
    "axs=axs.ravel()\n",
    "\n",
    "for i in range(6):\n",
    "    axs[i].scatter(catchments_scatter[catchments[i]],ssh[1],color='r',s=4)\n",
    "    #axs[i].set_xlabel('Melt Flux (kg / m2 / s)')\n",
    "    #axs[i].set_ylabel('Depth (m)')\n",
    "    axs[i].set_ylim(-1000,0) # Specified for consistency across plots, some catchments are not as deep as others\n",
    "    # Uncomment to set xlim values for easy comparison of forcing magnitudes (varies across ice shelves)\n",
    "    #axs[i].set_xlim(-0.5e-6,2e-5)\n",
    "    axs[i].set_title(icems.name[33+catchments[i]])\n",
    "    # axs[i].inset_axes([], projection=crs) does not seem to work, hence the workaround below:\n",
    "    # Refer here: https://github.com/matplotlib/matplotlib/pull/22608 for future revisions\n",
    "    axins = inset_axes(axs[i],width=\"30%\", height=\"30%\", loc=\"upper right\", \n",
    "                       axes_class=cartopy.mpl.geoaxes.GeoAxes, \n",
    "                       axes_kwargs=dict(projection=ccrs.SouthPolarStereo()))\n",
    "    icems[33:133].plot(ax=axins,linewidth=0.3,color='lightsteelblue')\n",
    "    axins.coastlines(resolution='10m',linewidth=0.25)\n",
    "    icems.loc[[33+catchments[i]],'geometry'].plot(ax=axins,color='r',linewidth=0.4)\n",
    "    axins.set_axis_off();\n",
    "\n",
    "axs[0].set_ylabel('Depth (m)'); # Ice Draft?\n",
    "axs[3].set_ylabel('Depth (m)');\n",
    "#axs[6].set_ylabel('Depth (m)');\n",
    "\n",
    "axs[3].set_xlabel('Melt Rate ($m/yr$)');\n",
    "axs[4].set_xlabel('Melt Rate ($m/yr$)');\n",
    "axs[5].set_xlabel('Melt Rate ($m/yr$)');\n",
    "\n",
    "# TODO: Convert to m SLE units for flux"
   ]
  },
  {
   "cell_type": "markdown",
   "id": "c3b907f7",
   "metadata": {},
   "source": [
    "# Data Pre-Processing"
   ]
  },
  {
   "cell_type": "markdown",
   "id": "d3730698",
   "metadata": {},
   "source": [
    "For time series plots and comparisons, the sum of flux across the spatial domain (or specific ice shelves) is used as a proxy when required. The mean can also be used here, without any loss of information, as the idea is only to compare trendlines.\n",
    "#### TODO: Verify if this is indeed true\n",
    "\n",
    "However, this might not be possible once the data is normalized, as the magnitude of data is removed at that stage."
   ]
  },
  {
   "cell_type": "code",
   "execution_count": null,
   "id": "f10d53a8",
   "metadata": {},
   "outputs": [],
   "source": [
    "#flux_ts = flux.sum(['x','y'])\n",
    "#flux_dedrafted_ts = flux_dedrafted.sum(['x','y'])\n",
    "\n",
    "# Processed data time series\n",
    "flux_clean_ts = flux_clean.sum(['x','y'])"
   ]
  },
  {
   "cell_type": "code",
   "execution_count": null,
   "id": "4fbad3f2",
   "metadata": {},
   "outputs": [],
   "source": [
    "# Remove temporal mean\n",
    "# Is this necessary?\n",
    "flux_demeaned = flux - flux.mean('time')\n",
    "flux_demeaned_ts = flux_demeaned.sum(['x','y'])"
   ]
  },
  {
   "cell_type": "markdown",
   "id": "1be2ab6e",
   "metadata": {},
   "source": [
    "## Remove seasonality"
   ]
  },
  {
   "cell_type": "code",
   "execution_count": null,
   "id": "f2b34bc8",
   "metadata": {},
   "outputs": [],
   "source": [
    "# Deseasonalize\n",
    "# Remove climatologies to isolate anomalies, i.e., internal variability\n",
    "flux_month = flux_dedrafted.groupby(\"time.month\")\n",
    "flux_clm = flux_month.mean(\"time\") # Climatologies\n",
    "flux_anm = flux_month - flux_clm # Deseasonalized anomalies"
   ]
  },
  {
   "cell_type": "code",
   "execution_count": null,
   "id": "31493913",
   "metadata": {},
   "outputs": [],
   "source": []
  },
  {
   "cell_type": "code",
   "execution_count": null,
   "id": "a2a261e1",
   "metadata": {},
   "outputs": [],
   "source": [
    "flux_clm_ts = flux_clm.sum(['x','y'])\n",
    "flux_anm_ts = flux_anm.sum(['x','y'])"
   ]
  },
  {
   "cell_type": "code",
   "execution_count": null,
   "id": "136c32cf",
   "metadata": {},
   "outputs": [],
   "source": [
    "plt.figure(figsize=(25,6))\n",
    "plt.plot(flux_ts[300:])\n",
    "plt.plot(flux_dedrafted_ts[300:])\n",
    "plt.plot(flux_dedrafted_ts - flux_clean_ts)\n",
    "#plt.plot(flux_clean_ts)\n",
    "plt.plot(flux_anm_ts[300:])"
   ]
  },
  {
   "cell_type": "code",
   "execution_count": null,
   "id": "262e899d",
   "metadata": {},
   "outputs": [],
   "source": [
    "# Sanity check, as \"flux_clean.nc\" was created earlier. The difference here is purely numerical.\n",
    "\n",
    "plt.figure(figsize=(25,6))\n",
    "plt.plot(flux_clean_ts - flux_anm_ts[300:])"
   ]
  },
  {
   "cell_type": "markdown",
   "id": "e3df4a04",
   "metadata": {},
   "source": [
    "### Sparse PCA Implementation"
   ]
  },
  {
   "cell_type": "code",
   "execution_count": null,
   "id": "450222e2",
   "metadata": {},
   "outputs": [],
   "source": [
    "np.min"
   ]
  },
  {
   "cell_type": "code",
   "execution_count": null,
   "id": "a49ea70a",
   "metadata": {},
   "outputs": [],
   "source": [
    "flux_clean_normalized.dropna(dim='time',how='all')"
   ]
  },
  {
   "cell_type": "code",
   "execution_count": null,
   "id": "4e167aeb",
   "metadata": {},
   "outputs": [],
   "source": []
  },
  {
   "cell_type": "code",
   "execution_count": null,
   "id": "02b383bf",
   "metadata": {},
   "outputs": [],
   "source": [
    "flux_clean_nna = flux_clean_normalized.fillna(0)\n",
    "flux_clean_nna_np = flux_clean_nna.to_numpy()\n",
    "flux_clean_nna_np_reshape = flux_clean_nna_np.reshape(1500,601*601)"
   ]
  },
  {
   "cell_type": "code",
   "execution_count": null,
   "id": "3134519e",
   "metadata": {},
   "outputs": [],
   "source": [
    "%%time\n",
    "transformer = SparsePCA(n_components = 100)\n",
    "transformer.fit(flux_clean_nna_np_reshape)"
   ]
  },
  {
   "cell_type": "code",
   "execution_count": null,
   "id": "c7638715",
   "metadata": {},
   "outputs": [],
   "source": [
    "pcs = transformer.transform(flux_clean_nna_np_reshape)\n",
    "pcs.shape"
   ]
  },
  {
   "cell_type": "code",
   "execution_count": null,
   "id": "1ebaa3ac",
   "metadata": {},
   "outputs": [],
   "source": []
  },
  {
   "cell_type": "markdown",
   "id": "b40ee2dc",
   "metadata": {},
   "source": [
    "# EOF/PCA Decomposition"
   ]
  },
  {
   "cell_type": "markdown",
   "id": "9c2c8c7a",
   "metadata": {},
   "source": [
    "### Data Normalization"
   ]
  },
  {
   "cell_type": "code",
   "execution_count": null,
   "id": "09e0b980",
   "metadata": {},
   "outputs": [],
   "source": [
    "flux_clean_tmean = flux_clean.mean('time')\n",
    "flux_clean_tstd = flux_clean.std('time')\n",
    "flux_clean_demeaned = flux_clean - flux_clean_tmean\n",
    "flux_clean_normalized = flux_clean_demeaned/flux_clean_tstd\n",
    "# Why does this introduce a non-zero change? (Artefact of flux variable dimensions?)"
   ]
  },
  {
   "cell_type": "code",
   "execution_count": null,
   "id": "bc0ed0cf",
   "metadata": {},
   "outputs": [],
   "source": [
    "flux_filtered_tmean = flux_filtered.mean('time')\n",
    "flux_filtered_tstd = flux_filtered.std('time')\n",
    "flux_filtered_demeaned = flux_filtered - flux_filtered_tmean\n",
    "flux_filtered_normalized = flux_filtered_demeaned/flux_filtered_tstd\n",
    "# Why does this introduce a non-zero change? (Artefact of flux variable dimensions?)\n"
   ]
  },
  {
   "cell_type": "markdown",
   "id": "dfea42cc",
   "metadata": {},
   "source": [
    "Time series of the normalized data is calculated below only for illustrative purposes. It would not make sense to compare the normalized time series to other time series (which use the spatial sum or mean)."
   ]
  },
  {
   "cell_type": "code",
   "execution_count": null,
   "id": "74d34243",
   "metadata": {},
   "outputs": [],
   "source": [
    "# flux_clean_normalized_ts = flux_clean_normalized.mean(['x','y'])"
   ]
  },
  {
   "cell_type": "code",
   "execution_count": null,
   "id": "b3b3e23c",
   "metadata": {},
   "outputs": [],
   "source": [
    "plt.figure(figsize=(25,5))\n",
    "plt.plot(flux_clean_normalized_ts,color = '#44546A', linewidth=2)\n",
    "plt.title('Anomalies / Internal Variability Component (Normalized)');\n",
    "plt.ylabel('Standard Deviation Units');\n",
    "plt.xlabel('Time (months)');"
   ]
  },
  {
   "cell_type": "markdown",
   "id": "bd882a58",
   "metadata": {},
   "source": [
    "## Spatial Decomposition: EOF Analysis"
   ]
  },
  {
   "cell_type": "markdown",
   "id": "c3b7aafd",
   "metadata": {},
   "source": [
    "EOF decomposition is done using a modified version of the `xeofs` package.\n",
    "Refer [nicrie/xeofs](https://github.com/nicrie/xeofs) on Github for documentation.\n",
    "\n",
    "#### TODO: Upload modification of `xeofs` online, or rewrite Xarray wrapper for the scikit-learn PCA to encompass full workflow"
   ]
  },
  {
   "cell_type": "code",
   "execution_count": null,
   "id": "0c8ac411",
   "metadata": {},
   "outputs": [],
   "source": [
    "%%time\n",
    "norm_model = EOF(flux_clean_normalized)\n",
    "norm_model.solve()\n",
    "norm_eofs = norm_model.eofs()\n",
    "norm_pcs = norm_model.pcs()\n",
    "norm_nmodes = norm_model.n_modes\n",
    "norm_varexpl = norm_model.explained_variance_ratio()\n",
    "norm_pcs_eig = norm_model.pcs(1)\n",
    "norm_eofs_eig = norm_model.eofs(1)\n",
    "norm_eofs_sng = norm_model.eofs(2)\n",
    "norm_pcs_sng = norm_model.pcs(2)\n",
    "norm_varexpl_values = norm_model.explained_variance()"
   ]
  },
  {
   "cell_type": "code",
   "execution_count": null,
   "id": "a4508048",
   "metadata": {},
   "outputs": [],
   "source": [
    "norm_sng = norm_model.singular_values()"
   ]
  },
  {
   "cell_type": "code",
   "execution_count": null,
   "id": "4287c180",
   "metadata": {},
   "outputs": [],
   "source": [
    "np.sqrt(norm_sng).plot()\n",
    "np.sqrt(norm_varexpl_values).plot()"
   ]
  },
  {
   "cell_type": "code",
   "execution_count": null,
   "id": "591678c8",
   "metadata": {},
   "outputs": [],
   "source": [
    "%%time\n",
    "model = EOF(flux_clean)\n",
    "model.solve()\n",
    "eofs = model.eofs()\n",
    "pcs = model.pcs()\n",
    "nmodes = model.n_modes\n",
    "varexpl = model.explained_variance_ratio()\n",
    "pcs_eig = model.pcs(1)\n"
   ]
  },
  {
   "cell_type": "code",
   "execution_count": null,
   "id": "64b2c54c",
   "metadata": {},
   "outputs": [],
   "source": [
    "%%time\n",
    "\n",
    "n_rot=50 # Change this parameter\n",
    "rot_var = Rotator(model, n_rot=n_rot, power=1)\n",
    "rot_eofs = rot_var.eofs()\n",
    "rot_pcs = rot_var.pcs()\n",
    "rot_varexpl = rot_var.explained_variance_ratio()"
   ]
  },
  {
   "cell_type": "code",
   "execution_count": null,
   "id": "f512c412",
   "metadata": {},
   "outputs": [],
   "source": [
    "%%time\n",
    "\n",
    "n_rot=50 # Change this parameter\n",
    "rot_norm_var = Rotator(norm_model, n_rot=n_rot, power=1)\n",
    "rot_norm_eofs = rot_norm_var.eofs()\n",
    "rot_norm_pcs = rot_norm_var.pcs()\n",
    "rot_norm_varexpl = rot_norm_var.explained_variance_ratio()"
   ]
  },
  {
   "cell_type": "code",
   "execution_count": null,
   "id": "b6f60a48",
   "metadata": {},
   "outputs": [],
   "source": [
    "%%time\n",
    "filt_model = EOF(flux_filtered_normalized)\n",
    "filt_model.solve()\n",
    "filt_eofs = filt_model.eofs()\n",
    "filt_pcs = filt_model.pcs()\n",
    "filt_nmodes = filt_model.n_modes\n",
    "filt_varexpl = filt_model.explained_variance_ratio()\n",
    "filt_pcs_eig = filt_model.pcs(1)\n",
    "filt_pcs_sng = filt_model.pcs(2)"
   ]
  },
  {
   "cell_type": "markdown",
   "id": "eb1885dc",
   "metadata": {},
   "source": [
    "### LOAD EOFs, PCs for plotting"
   ]
  },
  {
   "cell_type": "code",
   "execution_count": null,
   "id": "438c980c",
   "metadata": {},
   "outputs": [],
   "source": [
    "eofs = xr.open_dataset(inDirName+processed_data_folder+pca_1+'eofs_eig.nc')\n",
    "pcs = xr.open_dataset(inDirName+processed_data_folder+pca_1+'pcs_eig.nc')\n",
    "eofs = eofs.EOFs\n",
    "pcs = pcs.PCs\n",
    "\n",
    "\n",
    "norm_eofs = xr.open_dataset(inDirName+processed_data_folder+pca_2+'norm_eofs_eig.nc')\n",
    "norm_pcs = xr.open_dataset(inDirName+processed_data_folder+pca_2+'norm_pcs_eig.nc')\n",
    "norm_eofs = norm_eofs.EOFs\n",
    "norm_pcs = norm_pcs.PCs"
   ]
  },
  {
   "cell_type": "code",
   "execution_count": null,
   "id": "bbd1e2de",
   "metadata": {},
   "outputs": [],
   "source": [
    "import matplotlib as mpl\n",
    "cmap = mpl.colormaps['inferno'](np.linspace(0,1,100))\n",
    "\n",
    "plt.figure(figsize=(15,8))\n",
    "for i in range(100):\n",
    "    plt.psd(norm_pcs[:,i],noverlap=8,NFFT=256,color=cmap[i]);\n",
    "    #pcs[:150,i].plot(lw=2.5, label=i, color=cmap[i])\n",
    "#plt.legend()"
   ]
  },
  {
   "cell_type": "markdown",
   "id": "bb710721",
   "metadata": {},
   "source": [
    "### Plot relative power of first m modes from the PCA decomposition"
   ]
  },
  {
   "cell_type": "code",
   "execution_count": null,
   "id": "c87e28c0",
   "metadata": {},
   "outputs": [],
   "source": [
    "# Figure: Relative power of m EOFs\n",
    "m = 75\n",
    "sns.set_theme(style=\"white\")\n",
    "plt.figure(figsize=(15,8))\n",
    "#plt.bar(range(m),varexpl[:m]*100, color='black')\n",
    "plt.plot(range(m),varexpl[:m]*100, 'k*-', \n",
    "         label='Actual Data: {:.2f}\\%'.format(varexpl[:m].sum().values*100))# color='black')\n",
    "plt.plot(range(m),norm_varexpl[:m]*100, 'rh-', \n",
    "         label='Normalized Data: {:.2f}\\%'.format(norm_varexpl[:m].sum().values*100))#color='red')\n",
    "plt.plot(range(m),filt_varexpl[:m]*100, 'g.-', \n",
    "         label='Filtered \\& Normalized Data: {:.2f}\\%'.format(filt_varexpl[:m].sum().values*100))#color='red')\n",
    "#plt.plot(range(m),rot_varexpl[:m]*100, '.--', \n",
    "#         label='Rotated EOF (Actual Data): {:.2f}\\%'.format(rot_varexpl[:m].sum().values*100))# color='black')\n",
    "#plt.plot(range(m),rot_norm_varexpl[:m]*100, '.--', \n",
    "#         label='Normalized Data (Rotated EOF): {:.2f}\\%'.format(rot_norm_varexpl[:m].sum().values*100))# color='black')\n",
    "plt.ylabel('Relative Power (\\%)')\n",
    "plt.xlabel('EOF Mode')\n",
    "plt.title('Explained Variance of first {} EOFs'.format(m));\n",
    "plt.legend();"
   ]
  },
  {
   "cell_type": "markdown",
   "id": "4cb06d70",
   "metadata": {},
   "source": [
    "### Plot dominant modes of variability: EOF spatial modes and PC series\n",
    "The plots show dominant spatial and temporal modes of variability for the normalized dataset. It is difficult to interpret these physically.\n",
    "#### TODO: Define vmax, vmin params for eofs.plot() if plotting for original cleaned dataset (un-normalized data)"
   ]
  },
  {
   "cell_type": "code",
   "execution_count": null,
   "id": "bda10814",
   "metadata": {},
   "outputs": [],
   "source": [
    "nmodes_plot = 3 # Number of modes to plot\n",
    "\n",
    "sns.set_theme(style=\"white\")\n",
    "fig=plt.figure(figsize=(15,8))\n",
    "gs = GridSpec(nmodes_plot,2,width_ratios=[1.5,2.5])\n",
    "ax0 = [fig.add_subplot(gs[i, 0],projection=crs) for i in range(nmodes_plot)]\n",
    "ax1 = [fig.add_subplot(gs[i, 1]) for i in range(nmodes_plot)]\n",
    "\n",
    "for i, (a0, a1) in enumerate(zip(ax0, ax1)):\n",
    "    norm_eofs.sel(mode=i+1).plot(ax=a0,\n",
    "                            cmap='cmo.balance',\n",
    "                            add_colorbar=True,\n",
    "                            cbar_kwargs={'orientation': 'vertical',\n",
    "                                         'label': ''})\n",
    "    a0.coastlines(resolution='10m',linewidth=0.25,color='0.8')\n",
    "    a1.plot(norm_pcs.sel(mode=i+1),linewidth=1,color='dimgray')\n",
    "    a1.set_xlabel('')\n",
    "\n",
    "a1.set_xlabel('Time (months)');\n",
    "#cb = plt.colorbar(eofs.sel(mode=1), ax=a0, orientation=\"vertical\", pad=0.15)\n",
    "\n",
    "\n",
    "\"\"\"\n",
    "# Figure: Dominant EOF modes\n",
    "sns.set_theme(style=\"white\")\n",
    "fg = eofs[:,:,0:2].plot(aspect=2,\n",
    "                        size=8,\n",
    "                        col=\"mode\", \n",
    "                        col_wrap=2,\n",
    "                        cmap='cmo.balance', # Uses cmocean colorbar - should be installed\n",
    "                        cbar_kwargs={'orientation': 'vertical',\n",
    "                                    'label': 'Standard Deviation Units'},\n",
    "                        subplot_kws=dict(projection=ccrs.SouthPolarStereo()))\n",
    "\n",
    "[ax.coastlines() for ax in fg.axs.flatten()];\n",
    "\"\"\";"
   ]
  },
  {
   "cell_type": "markdown",
   "id": "54b3a41e",
   "metadata": {},
   "source": [
    "## Fourier Phase Randomization\n",
    "\n",
    "Now, the projection co-efficients from the previous step are phase-randomized to generate new realizations of the data. In this step, we sample phases for each FFT(PC) from (0,$2\\pi$), and iterate to generate n realizations."
   ]
  },
  {
   "cell_type": "code",
   "execution_count": null,
   "id": "3c770189",
   "metadata": {},
   "outputs": [],
   "source": [
    "%%time\n",
    "##############################\n",
    "# FOURIER PHASE RANDOMIZATION \n",
    "##############################\n",
    "\n",
    "# Define number of random Fourier realizations\n",
    "n_realizations = 5\n",
    "t_length = pcs.shape[0]\n",
    "\n",
    "# Define random number generator \n",
    "#rng = np.random.default_rng(2021)\n",
    "#random_phases = np.exp(np.random.default_rng(2023).uniform(0,2*np.pi,int(len(fl)/2+1))*1.0j) in line 26\n",
    "\n",
    "# xeofs_pcs[:,i] when using PCA outputs\n",
    "new_fl = np.empty((n_realizations,pcs.shape[0],pcs.shape[1]))\n",
    "\n",
    "# Time limits for plotting\n",
    "t1 = 0\n",
    "tf = int(t_length/2)\n",
    "\n",
    "for i in range(n_realizations):\n",
    "    for m in range(nmodes):\n",
    "        fl = pcs[:,m] # fluxpcs[:,i] when using PCA outputs\n",
    "        fl_fourier = np.fft.rfft(fl)\n",
    "        #random_phases = np.exp(np.random.uniform(0,2*np.pi,int(len(fl)/2+1))*1.0j)\n",
    "        #random_phases = np.exp(np.random.default_rng(2023).uniform(0,2*np.pi,int(len(fl)/2+1))*1.0j)\n",
    "        random_phases = np.exp(np.random.uniform(0,2*np.pi,int(len(fl)/2+1))*1.0j)\n",
    "        fl_fourier_new = fl_fourier*random_phases\n",
    "        new_fl[i,:,m] = np.fft.irfft(fl_fourier_new)\n",
    "    print('calculated ifft for realization {}, all modes'.format(i))"
   ]
  },
  {
   "cell_type": "code",
   "execution_count": null,
   "id": "61a640f1",
   "metadata": {},
   "outputs": [],
   "source": []
  },
  {
   "cell_type": "code",
   "execution_count": null,
   "id": "f611ae54",
   "metadata": {},
   "outputs": [],
   "source": [
    "nmodes_plot = 4 # Number of modes to plot\n",
    "nrealizations_to_plot = 5 # to be lesser than absolute total number, defined in the Fourier randomization step\n",
    "\n",
    "sns.set_theme(style=\"white\")\n",
    "fig=plt.figure(figsize=(25,20))\n",
    "\n",
    "gs = GridSpec(nmodes_plot, 2, width_ratios=[4, 2])\n",
    "ax0 = [fig.add_subplot(gs[i, 0]) for i in range(nmodes_plot)]\n",
    "ax1 = [fig.add_subplot(gs[i, 1]) for i in range(nmodes_plot)]\n",
    "\n",
    "for i, (a0,a1) in enumerate(zip(ax0,ax1)):\n",
    "    for n_realization in range(0,nrealizations_to_plot):\n",
    "        a0.plot(new_fl[n_realization,:,i],color='b', linewidth=0.5)\n",
    "        a1.psd(new_fl[n_realization,:,i],color='b', linewidth=0.5)\n",
    "    a0.plot(new_fl[0,:,i],color='b', linewidth=0.25,label='Randomized')\n",
    "    a1.psd(new_fl[0,:,i],color='b', linewidth=0.25,label='Randomized')\n",
    "    a0.plot(pcs[:,i],color='k', linewidth=2.5,label='Original')\n",
    "    a1.psd(pcs[:,i],color='k', linewidth=2.5,label='Original')\n",
    "    a0.set_title('PC for EOF mode {}'.format(i+1))\n",
    "    a1.set_title('PSD for PC mode {}'.format(i+1))\n",
    "    a1.set_xlabel('')\n",
    "\n",
    "a0.set_xlabel('Time (months)')\n",
    "a1.set_xlabel('Frequency')\n",
    "plt.legend();"
   ]
  },
  {
   "cell_type": "markdown",
   "id": "2e2e09a2",
   "metadata": {},
   "source": [
    "#### Randomize the Eigen-value scaled PCs (pcs(1))"
   ]
  },
  {
   "cell_type": "code",
   "execution_count": null,
   "id": "cd435911",
   "metadata": {},
   "outputs": [],
   "source": []
  },
  {
   "cell_type": "code",
   "execution_count": null,
   "id": "b6b8472b",
   "metadata": {},
   "outputs": [],
   "source": [
    "%%time\n",
    "##############################\n",
    "# FOURIER PHASE RANDOMIZATION \n",
    "##############################\n",
    "\n",
    "# Define number of random Fourier realizations\n",
    "n_realizations = 2\n",
    "t_length = pcs.shape[0]\n",
    "\n",
    "# Define random number generator \n",
    "#rng = np.random.default_rng(2021)\n",
    "#random_phases = np.exp(np.random.default_rng(2023).uniform(0,2*np.pi,int(len(fl)/2+1))*1.0j) in line 26\n",
    "\n",
    "# xeofs_pcs[:,i] when using PCA outputs\n",
    "new_fl = np.empty((n_realizations,pcs.shape[0],pcs.shape[1]))\n",
    "\n",
    "# Time limits for plotting\n",
    "t1 = 0\n",
    "tf = int(t_length/2)\n",
    "\n",
    "for i in range(n_realizations):\n",
    "    for m in range(nmodes):\n",
    "        fl = norm_pcs[:,m] # fluxpcs[:,i] when using PCA outputs # pcs[:,m]\n",
    "        fl_fourier = np.fft.rfft(fl)\n",
    "        #random_phases = np.exp(np.random.uniform(0,2*np.pi,int(len(fl)/2+1))*1.0j)\n",
    "        #random_phases = np.exp(np.random.default_rng(2023).uniform(0,2*np.pi,int(len(fl)/2+1))*1.0j)\n",
    "        random_phases = np.exp(np.random.uniform(0,2*np.pi,int(len(fl)/2+1))*1.0j)\n",
    "        fl_fourier_new = fl_fourier*random_phases\n",
    "        new_fl_scaled = np.fft.irfft(fl_fourier_new)\n",
    "        #scale_fac = np.sqrt(norm_varexpl_values[m]).values\n",
    "        new_fl[i,:,m] = new_fl_scaled\n",
    "    print('calculated ifft for realization {}, all modes'.format(i))"
   ]
  },
  {
   "cell_type": "code",
   "execution_count": null,
   "id": "dbf5fe1e",
   "metadata": {},
   "outputs": [],
   "source": []
  },
  {
   "cell_type": "code",
   "execution_count": null,
   "id": "07ccb4c0",
   "metadata": {},
   "outputs": [],
   "source": [
    "nmodes_plot = 4 # Number of modes to plot\n",
    "nrealizations_to_plot = 2 # to be lesser than absolute total number, defined in the Fourier randomization step\n",
    "\n",
    "sns.set_theme(style=\"white\")\n",
    "fig=plt.figure(figsize=(25,20))\n",
    "\n",
    "gs = GridSpec(nmodes_plot, 2, width_ratios=[4, 2])\n",
    "ax0 = [fig.add_subplot(gs[i, 0]) for i in range(nmodes_plot)]\n",
    "ax1 = [fig.add_subplot(gs[i, 1]) for i in range(nmodes_plot)]\n",
    "\n",
    "for i, (a0,a1) in enumerate(zip(ax0,ax1)):\n",
    "    for n_realization in range(0,nrealizations_to_plot):\n",
    "        a0.plot(new_fl[n_realization,:,i],color='b', linewidth=0.5)\n",
    "        a1.psd(new_fl[n_realization,:,i],color='b', linewidth=0.5)\n",
    "    a0.plot(new_fl[0,:,i],color='b', linewidth=0.25,label='Randomized')\n",
    "    a1.psd(new_fl[0,:,i],color='b', noverlap=120,NFFT=256,linewidth=0.25,label='Randomized')\n",
    "    a0.plot(norm_pcs_eig[:,i],color='k', linewidth=2.5,label='Original')\n",
    "    a1.psd(norm_pcs_eig[:,i],color='k', noverlap=120,NFFT=256,linewidth=2.5,label='Original')\n",
    "    a0.set_title('PC for EOF mode {}'.format(i+1))\n",
    "    a1.set_title('PSD for PC mode {}'.format(i+1))\n",
    "    a1.set_xlabel('')\n",
    "\n",
    "a0.set_xlabel('Time (months)')\n",
    "a1.set_xlabel('Frequency')\n",
    "plt.legend();"
   ]
  },
  {
   "cell_type": "markdown",
   "id": "8c9ec0ba",
   "metadata": {},
   "source": [
    "## Statistical Generation\n",
    "\n",
    "This uses a custom function presently committed to the `xeofs` package. There is the possibility that this might break should `xeofs` be upgraded.\n",
    "\n",
    "*Ref: For commit diff details, see [mshiv/xeofs-rand](https://github.com/nicrie/xeofs/compare/main...mshiv:xeofs-rand:main).*\n",
    "#### TODO: Rewrite generator function using PCA as a standalone package and remove `xeofs` dependency."
   ]
  },
  {
   "cell_type": "code",
   "execution_count": null,
   "id": "a12ed7b9",
   "metadata": {},
   "outputs": [],
   "source": [
    "# Generate dataset realizations\n",
    "# Note standardized input data to the initial PCA \n",
    "for i in range(n_realizations):\n",
    "    flux_reconstr = generate_data(i, 1500, 1)\n",
    "    flux_reconstr = (flux_reconstr*flux_clean_tstd)+flux_clean_tmean\n",
    "    flux_reconstr.to_netcdf(inDirName+interim_data_folder+\n",
    "                            cise_file_path+std_file_path+\"norm_scaled-pcs_gen_{}.nc\".format(i))\n",
    "    del flux_reconstr\n",
    "    gc.collect()\n",
    "    print('reconstructed realization # {}'.format(i))"
   ]
  },
  {
   "cell_type": "markdown",
   "id": "3115f672",
   "metadata": {},
   "source": [
    "## Helper Functions\n",
    "\n",
    "Functions defined for the generation and follow on calculations"
   ]
  },
  {
   "cell_type": "code",
   "execution_count": null,
   "id": "a6ff7ccb",
   "metadata": {},
   "outputs": [],
   "source": [
    "#modified to not return f - in calculation of RMSE, only Px required\n",
    "def psd_calc_grid(data,y,x):\n",
    "    f, Px = scipy.signal.welch(data[:,y,x])\n",
    "    return Px\n",
    "\n",
    "def time_series(clipped_data):\n",
    "    clipped_ts = clipped_data.sum(['y','x'])\n",
    "    return clipped_ts\n",
    "\n",
    "# Reconstruct flux dataset using phase randomized PCs\n",
    "# This section is to be called iteratively for ensemble runs with multiple realizations\n",
    "# This method also takes 'modes' as a parameter: \n",
    "# which is used to reconstruct dataset with different number of selected modes\n",
    "\n",
    "def generate_data(n_realization,mode,mode_skip):\n",
    "    flux_reconstr = norm_model.reconstruct_randomized_X(new_fl[n_realization],slice(1,mode,mode_skip))\n",
    "    #flux_reconstr = flux_reconstr.dropna('time',how='all')\n",
    "    #flux_reconstr = flux_reconstr.dropna('y',how='all')\n",
    "    #flux_reconstr = flux_reconstr.dropna('x',how='all')\n",
    "    #flux_reconstr = flux_reconstr.drop(\"month\")\n",
    "    return flux_reconstr\n",
    "\n",
    "def clip_data(total_data, basin):\n",
    "    clipped_data = total_data.rio.clip(icems.loc[[basin],'geometry'].apply(mapping))\n",
    "    #clipped_data = clipped_data.dropna('time',how='all')\n",
    "    #clipped_data = clipped_data.dropna('y',how='all')\n",
    "    #clipped_data = clipped_data.dropna('x',how='all')\n",
    "    clipped_data = clipped_data.drop(\"month\")\n",
    "    return clipped_data"
   ]
  },
  {
   "cell_type": "code",
   "execution_count": null,
   "id": "4594b516",
   "metadata": {},
   "outputs": [],
   "source": [
    "modes_used = [50, 100, 200, 500, 1500]\n",
    "\n",
    "for mode_number in modes_used:\n",
    "    for i in range(n_realizations):\n",
    "        flux_reconstr = generate_data(i, mode_number, 1)\n",
    "        flux_reconstr = (flux_reconstr*flux_clean_tstd)+flux_clean_tmean\n",
    "        flux_reconstr.to_netcdf(inDirName+processed_data_folder+pca_3+\"REC_{}-modes_{}.nc\".format(modes_used,i))\n",
    "        del flux_reconstr\n",
    "        gc.collect()\n",
    "        print('reconstructed realization # {} for mode case: {}'.format(i,modes_used))"
   ]
  },
  {
   "cell_type": "markdown",
   "id": "7ca67f31",
   "metadata": {},
   "source": [
    "## Input generated dataset files\n",
    "\n",
    "Versions of these files from different experimental runs are currently housed in the project repo at ```/data/interim```. Note that the ```/data``` directory is ignored for remote commits, and is currently available only on local.\n",
    "Location can be changed above when saving the file to NETCDF in the Generation step."
   ]
  },
  {
   "cell_type": "code",
   "execution_count": null,
   "id": "5db27455",
   "metadata": {},
   "outputs": [],
   "source": [
    "orig = clip_data(flux_clean, basin)\n",
    "rec0 = clip_data(flux_reconstr0, basin)\n",
    "rec1 = clip_data(flux_reconstr1, basin)\n",
    "rec2 = clip_data(flux_reconstr2, basin)"
   ]
  },
  {
   "cell_type": "code",
   "execution_count": null,
   "id": "f55f2a07",
   "metadata": {},
   "outputs": [],
   "source": [
    "orig = orig.rename('orig')\n",
    "rec0 = rec0.rename('rec0')\n",
    "rec1 = rec0.rename('rec1')\n",
    "rec2 = rec0.rename('rec2')\n",
    "\n",
    "combined = xr.merge([orig,rec0,rec1,rec2])"
   ]
  },
  {
   "cell_type": "code",
   "execution_count": null,
   "id": "d19bdad1",
   "metadata": {},
   "outputs": [],
   "source": [
    "icems."
   ]
  },
  {
   "cell_type": "code",
   "execution_count": null,
   "id": "f58cfbab",
   "metadata": {},
   "outputs": [],
   "source": [
    "mode_number = 1500\n",
    "flux_reconstr0 = xr.open_dataset(inDirName+processed_data_folder+pca_3+'REC_{}-modes_0.nc'.format(mode_number))\n",
    "flux_reconstr0 = flux_reconstr0.__xarray_dataarray_variable__\n",
    "flux_reconstr1 = xr.open_dataset(inDirName+processed_data_folder+pca_3+'REC_{}-modes_1.nc'.format(mode_number))\n",
    "flux_reconstr1 = flux_reconstr1.__xarray_dataarray_variable__\n",
    "flux_reconstr2 = xr.open_dataset(inDirName+processed_data_folder+pca_3+'REC_{}-modes_2.nc'.format(mode_number))\n",
    "flux_reconstr2 = flux_reconstr2.__xarray_dataarray_variable__"
   ]
  },
  {
   "cell_type": "code",
   "execution_count": null,
   "id": "f0e1cbcb",
   "metadata": {},
   "outputs": [],
   "source": [
    "flux_"
   ]
  },
  {
   "cell_type": "code",
   "execution_count": null,
   "id": "aadc6d25",
   "metadata": {},
   "outputs": [],
   "source": [
    "modes_used = [200, 500, 1500]\n",
    "#catchments = np.array([1,27,28,61,70,83])\n",
    "catchments = np.array([1,27,28,61])\n",
    "basins = catchments+33\n",
    "n_basins = len(basins)\n",
    "color_orig = 'k'\n",
    "color_gen = 'dimgray'\n",
    "\n",
    "sns.set_theme(style=\"white\")\n",
    "fig=plt.figure(figsize=(18,5*n_basins))\n",
    "\n",
    "gs = GridSpec(n_basins, 2, width_ratios=[3, 1])\n",
    "ax0 = [fig.add_subplot(gs[i, 0]) for i in range(n_basins)]\n",
    "ax1 = [fig.add_subplot(gs[i, 1]) for i in range(n_basins)]\n",
    "\n",
    "for mode_number in modes_used:\n",
    "    flux_reconstr0 = xr.open_dataset(inDirName+processed_data_folder+pca_3+'REC_{}-modes_0.nc'.format(mode_number))\n",
    "    flux_reconstr0 = flux_reconstr0.__xarray_dataarray_variable__\n",
    "    flux_reconstr1 = xr.open_dataset(inDirName+processed_data_folder+pca_3+'REC_{}-modes_1.nc'.format(mode_number))\n",
    "    flux_reconstr1 = flux_reconstr1.__xarray_dataarray_variable__\n",
    "    flux_reconstr2 = xr.open_dataset(inDirName+processed_data_folder+pca_3+'REC_{}-modes_2.nc'.format(mode_number))\n",
    "    flux_reconstr2 = flux_reconstr2.__xarray_dataarray_variable__\n",
    "    #basin_combined_datasets = xr.open_mfdataset(inDirName+processed_data_folder+pca_3+\"*_{}-modes_{}.nc\".format(mode_number,basin),combine=\"nested\",compat=\"override\")\n",
    "    #basin_combined_datasets.to_netcdf(inDirName+processed_data_folder+pca_3+\"combined_{}-modes_{}.nc\".format(mode_number,basin))\n",
    "    #combined = xr.merge([orig,rec0,rec1,rec2])\n",
    "    #combined.to_netcdf(inDirName+)\n",
    "    for i,(a0,a1) in enumerate(zip(ax0,ax1)):\n",
    "        orig = clip_data(flux_clean, basins[i])\n",
    "        rec0 = clip_data(flux_reconstr0, basins[i])\n",
    "        rec1 = clip_data(flux_reconstr1, basins[i])\n",
    "        rec2 = clip_data(flux_reconstr2, basins[i])\n",
    "        orig = orig.rename('orig')#.to_netcdf(inDirName+processed_data_folder+pca_3+\"orig_{}-modes_{}.nc\".format(mode_number,basin))\n",
    "        rec0 = rec0.rename('rec0')#.to_netcdf(inDirName+processed_data_folder+pca_3+\"rec0_{}-modes_{}.nc\".format(mode_number,basin))\n",
    "        rec1 = rec1.rename('rec1')#.to_netcdf(inDirName+processed_data_folder+pca_3+\"rec1_{}-modes_{}.nc\".format(mode_number,basin))\n",
    "        rec2 = rec2.rename('rec2')#.to_netcdf(inDirName+processed_data_folder+pca_3+\"rec2_{}-modes_{}.nc\".format(mode_number,basin))\n",
    "        combined = xr.merge([orig,rec0,rec1,rec2])\n",
    "        combined_ts = time_series(combined)\n",
    "        a0.plot(combined_ts.orig,color=color_orig, linewidth=1.5,label='Original')\n",
    "        a0.plot(combined_ts.rec0,color=color_gen, linewidth=0.25,label='Randomized')\n",
    "        a0.plot(combined_ts.rec1,color=color_gen, linewidth=0.25)\n",
    "        a0.plot(combined_ts.rec2,color=color_gen, linewidth=0.25)\n",
    "        a1.psd(combined_ts.orig,color=color_orig, linewidth=1.5,label='Original')\n",
    "        a1.psd(combined_ts.rec0,color=color_gen, linewidth=0.25,label='Randomized')\n",
    "        a1.psd(combined_ts.rec1,color=color_gen, linewidth=0.25)\n",
    "        a1.psd(combined_ts.rec2,color=color_gen, linewidth=0.25)\n",
    "        a0.set_title('Time Series: {}'.format(icems.name[basins[i]]))\n",
    "        a1.set_title('PSD: {}'.format(icems.name[basins[i]]))\n",
    "        a0.set_xlabel('')\n",
    "        a1.set_xlabel('')\n",
    "        axins = inset_axes(a0, width=\"30%\", height=\"30%\", loc=\"upper right\", \n",
    "                           axes_class=cartopy.mpl.geoaxes.GeoAxes, \n",
    "                           axes_kwargs=dict(projection=ccrs.SouthPolarStereo()))\n",
    "        icems[33:133].plot(ax=axins,linewidth=0.3,color='lightsteelblue')\n",
    "        axins.coastlines(resolution='10m',linewidth=0.25)\n",
    "        icems.loc[[33+catchments[i]],'geometry'].plot(ax=axins,color='k',linewidth=0.4)\n",
    "        del orig, rec0, rec1, rec2, combined\n",
    "    a1.legend();\n",
    "    a0.set_xlabel('Time (months)');\n",
    "    a1.set_xlabel('Frequency');\n",
    "    plt.savefig(inDirName+processed_data_folder+pca_3+'generator-compare_{}-modes'.format(mode_number))\n",
    "    del flux_reconstr0, flux_reconstr1, flux_reconstr2\n",
    "    gc.collect()"
   ]
  },
  {
   "cell_type": "code",
   "execution_count": null,
   "id": "deea4c8b",
   "metadata": {},
   "outputs": [],
   "source": [
    "flux_reconstr0_ts = time_series(flux_reconstr0)\n",
    "flux_reconstr1_ts = time_series(flux_reconstr1)\n",
    "flux_reconstr2_ts = time_series(flux_reconstr2)"
   ]
  },
  {
   "cell_type": "code",
   "execution_count": null,
   "id": "9769ae94",
   "metadata": {},
   "outputs": [],
   "source": [
    "for basin in basins:\n",
    "    orig = clip_data(flux_clean, basin)\n",
    "    rec0 = clip_data(flux_reconstr0, basin)\n",
    "    rec1 = clip_data(flux_reconstr1, basin)\n",
    "    rec2 = clip_data(flux_reconstr2, basin)\n",
    "    orig.rename('orig'.format(basin)).to_netcdf(inDirName+processed_data_folder+pca_3+\"orig_{}-modes_{}.nc\".format(mode_number,basin))\n",
    "    rec0.rename('rec0'.format(basin)).to_netcdf(inDirName+processed_data_folder+pca_3+\"rec0_{}-modes_{}.nc\".format(mode_number,basin))\n",
    "    rec1.rename('rec1'.format(basin)).to_netcdf(inDirName+processed_data_folder+pca_3+\"rec1_{}-modes_{}.nc\".format(mode_number,basin))\n",
    "    rec2.rename('rec1'.format(basin)).to_netcdf(inDirName+processed_data_folder+pca_3+\"rec2_{}-modes_{}.nc\".format(mode_number,basin))\n",
    "    basin_combined_datasets = xr.open_mfdataset(inDirName+processed_data_folder+pca_3+\"*_{}-modes_{}.nc\".format(mode_number,basin))\n",
    "    basin_combined_datasets.to_netcdf(inDirName+processed_data_folder+pca_3+\"combined_{}-modes_{}.nc\".format(mode_number,basin))\n",
    "    del orig, rec0, rec1, rec2, basin_combined_datasets\n",
    "    gc.collect()"
   ]
  },
  {
   "cell_type": "code",
   "execution_count": null,
   "id": "43fb11d3",
   "metadata": {},
   "outputs": [],
   "source": []
  },
  {
   "cell_type": "code",
   "execution_count": null,
   "id": "a59b3217",
   "metadata": {},
   "outputs": [],
   "source": [
    "sns.set_theme(style=\"white\")\n",
    "fig=plt.figure(figsize=(25,8))\n",
    "\n",
    "plt.psd(flux_clean_ts, color='k', linewidth=2.0,label='Model Data')\n",
    "plt.psd(flux_reconstr0_ts, color='b', linewidth=0.5,label='Generated Data');\n",
    "plt.psd(flux_reconstr1_ts, color='b', linewidth=0.5);\n",
    "plt.psd(flux_reconstr2_ts, color='b', linewidth=0.5);"
   ]
  },
  {
   "cell_type": "code",
   "execution_count": null,
   "id": "c57ec7dc",
   "metadata": {},
   "outputs": [],
   "source": [
    "n_basins = 1 #len(basins)\n",
    "color_orig = 'k'\n",
    "color_gen = 'dimgray'\n",
    "sns.set_theme(style=\"white\")\n",
    "fig=plt.figure(figsize=(18,5))\n",
    "plt.suptitle('Full AIS Domain')\n",
    "\n",
    "gs = GridSpec(n_basins, 2, width_ratios=[3, 1])\n",
    "ax0 = [fig.add_subplot(gs[i, 0]) for i in range(n_basins)]\n",
    "ax1 = [fig.add_subplot(gs[i, 1]) for i in range(n_basins)]\n",
    "\n",
    "for i,(a0,a1) in enumerate(zip(ax0,ax1)):\n",
    "    a0.plot(flux_clean_ts,color=color_orig, linewidth=1.5,label='Original')\n",
    "    a0.plot(flux_reconstr0_ts,color=color_gen, linewidth=0.25,label='Randomized')\n",
    "    a0.plot(flux_reconstr1_ts,color=color_gen, linewidth=0.25)\n",
    "    a0.plot(flux_reconstr2_ts,color=color_gen, linewidth=0.25)\n",
    "    a1.psd(flux_clean_ts,color=color_orig, linewidth=1.5,label='Original')\n",
    "    a1.psd(flux_reconstr0_ts,color=color_gen, linewidth=0.25,label='Randomized')\n",
    "    a1.psd(flux_reconstr1_ts,color=color_gen, linewidth=0.25)\n",
    "    a1.psd(flux_reconstr2_ts,color=color_gen, linewidth=0.25)\n",
    "    a0.set_title('Time Series')\n",
    "    a1.set_title('PSD')\n",
    "    a0.set_xlabel('')\n",
    "    a1.set_xlabel('')\n",
    "    axins = inset_axes(a0, width=\"30%\", height=\"30%\", loc=\"upper right\", \n",
    "                       axes_class=cartopy.mpl.geoaxes.GeoAxes, \n",
    "                       axes_kwargs=dict(projection=ccrs.SouthPolarStereo()))\n",
    "    icems[33:133].plot(ax=axins,linewidth=0.3,color='lightsteelblue')\n",
    "    axins.coastlines(resolution='10m',linewidth=0.25)\n",
    "    icems.plot(ax=axins,color='k',linewidth=0.4)\n",
    "    #axins.set_axis_off();\n",
    "#a0.legend();\n",
    "a1.legend();\n",
    "a0.set_xlabel('Time (months)');\n",
    "a1.set_xlabel('Frequency');\n",
    "#gs.tight_layout(fig)"
   ]
  },
  {
   "cell_type": "code",
   "execution_count": null,
   "id": "9ad80d25",
   "metadata": {},
   "outputs": [],
   "source": []
  },
  {
   "cell_type": "code",
   "execution_count": null,
   "id": "5a001ed2",
   "metadata": {},
   "outputs": [],
   "source": []
  },
  {
   "cell_type": "code",
   "execution_count": null,
   "id": "988f872a",
   "metadata": {},
   "outputs": [],
   "source": [
    "# change file name for other realizations\n",
    "flux_reconstr0 = xr.open_dataset(inDirName+interim_data_folder+\n",
    "                                 cise_file_path+std_file_path+'norm_scaled-pcs_gen_0.nc')\n",
    "flux_reconstr0 = flux_reconstr0.__xarray_dataarray_variable__\n",
    "\n",
    "flux_reconstr1 = xr.open_dataset(inDirName+interim_data_folder+\n",
    "                                 cise_file_path+std_file_path+'norm_scaled-pcs_gen_1.nc')\n",
    "flux_reconstr1 = flux_reconstr1.__xarray_dataarray_variable__"
   ]
  },
  {
   "cell_type": "code",
   "execution_count": null,
   "id": "f6ca4fcb",
   "metadata": {},
   "outputs": [],
   "source": [
    "\n",
    "flux_reconstr2 = xr.open_dataset(inDirName+interim_data_folder+\n",
    "                                 cise_file_path+std_file_path+'norm_flux_gen_2.nc')\n",
    "flux_reconstr2 = flux_reconstr2.__xarray_dataarray_variable__\n",
    "\n",
    "flux_reconstr3 = xr.open_dataset(inDirName+interim_data_folder+\n",
    "                                 cise_file_path+std_file_path+'norm_flux_gen_3.nc')\n",
    "flux_reconstr3 = flux_reconstr3.__xarray_dataarray_variable__\n",
    "\n",
    "flux_reconstr4 = xr.open_dataset(inDirName+interim_data_folder+\n",
    "                                 cise_file_path+std_file_path+'norm_flux_gen_4.nc')\n",
    "flux_reconstr4 = flux_reconstr4.__xarray_dataarray_variable__"
   ]
  },
  {
   "cell_type": "code",
   "execution_count": null,
   "id": "7b6a60b4",
   "metadata": {},
   "outputs": [],
   "source": [
    "# Specify catchments to clip data and plot for comparisons\n",
    "#Old reconstructions: \n",
    "# basins = np.array((34,55,114,103,104,105))\n",
    "# From previous section on chosen catchments (Scatter plot):\n",
    "# catchments = np.array([1,27,28,61,70,83,94,71,22])\n",
    "catchments = np.array([1,27,28,61])\n",
    "basins = catchments+33\n",
    "\n",
    "# Sample ice shelves chosen:\n",
    "# Amery = 1 ~ 34\n",
    "# George VI = 27 ~ \n",
    "# Getz = 28\n",
    "# Pine Island = 61\n",
    "# Ronne = 70\n",
    "# Totten = 83\n",
    "# Wilkins = 94\n",
    "# Western Ross = 71\n",
    "# Filchner = 22\n",
    "# Thwaites = 81\n",
    "# Eastern_Ross = 72"
   ]
  },
  {
   "cell_type": "markdown",
   "id": "b8bfec56",
   "metadata": {},
   "source": [
    "Create subsets of data (original and reconstructed realizations) for individual catchments. The data variables in each are named so that they may be easily input using the `xarray.open_mfdataset` method. Note however that `CDO` terminal commands are better suited for this if the number of realizations is significantly high (beyond 30?)"
   ]
  },
  {
   "cell_type": "code",
   "execution_count": null,
   "id": "e12c6204",
   "metadata": {},
   "outputs": [],
   "source": [
    "\"\"\"\n",
    "for basin in basins:\n",
    "    orig = clip_data(flux_clean, basin)\n",
    "    rec0 = clip_data(flux_reconstr0, basin)\n",
    "    rec1 = clip_data(flux_reconstr1, basin)\n",
    "    rec2 = clip_data(flux_reconstr2, basin)\n",
    "    rec3 = clip_data(flux_reconstr3, basin)\n",
    "    rec4 = clip_data(flux_reconstr4, basin)\n",
    "    orig.rename('orig_{}'.format(basin)).to_netcdf(inDirName+interim_data_folder+\n",
    "                                                   cise_file_path+std_file_path+\"orig_{}.nc\".format(basin))\n",
    "    rec0.rename('rec0_{}'.format(basin)).to_netcdf(inDirName+interim_data_folder+\n",
    "                                                   cise_file_path+std_file_path+\"rec0_{}.nc\".format(basin))\n",
    "    rec1.rename('rec1_{}'.format(basin)).to_netcdf(inDirName+interim_data_folder+\n",
    "                                                   cise_file_path+std_file_path+\"rec1_{}.nc\".format(basin))\n",
    "    rec2.rename('rec2_{}'.format(basin)).to_netcdf(inDirName+interim_data_folder+\n",
    "                                                   cise_file_path+std_file_path+\"rec2_{}.nc\".format(basin))\n",
    "    rec3.rename('rec3_{}'.format(basin)).to_netcdf(inDirName+interim_data_folder+\n",
    "                                                   cise_file_path+std_file_path+\"rec3_{}.nc\".format(basin))\n",
    "    rec4.rename('rec4_{}'.format(basin)).to_netcdf(inDirName+interim_data_folder+\n",
    "                                                   cise_file_path+std_file_path+\"rec4_{}.nc\".format(basin))\n",
    "    del orig, rec0, rec1, rec2, rec3, rec4\n",
    "    gc.collect()\n",
    "\"\"\""
   ]
  },
  {
   "cell_type": "markdown",
   "id": "e5b47fe8",
   "metadata": {},
   "source": [
    "#### Clip data to each basin"
   ]
  },
  {
   "cell_type": "code",
   "execution_count": null,
   "id": "e1349e7e",
   "metadata": {},
   "outputs": [],
   "source": [
    "for basin in basins:\n",
    "    orig = clip_data(flux_clean, basin)\n",
    "    rec0 = clip_data(flux_reconstr0, basin)\n",
    "    rec1 = clip_data(flux_reconstr1, basin)\n",
    "    orig.rename('orig'.format(basin)).to_netcdf(inDirName+interim_data_folder+\n",
    "                                                   cise_file_path+std_file_path+\"orig_{}.nc\".format(basin))\n",
    "    rec0.rename('rec0'.format(basin)).to_netcdf(inDirName+interim_data_folder+\n",
    "                                                   cise_file_path+std_file_path+\"rec0_{}.nc\".format(basin))\n",
    "    rec1.rename('rec1'.format(basin)).to_netcdf(inDirName+interim_data_folder+\n",
    "                                                   cise_file_path+std_file_path+\"rec1_{}.nc\".format(basin))\n",
    "    del orig, rec0, rec1\n",
    "    gc.collect()"
   ]
  },
  {
   "cell_type": "code",
   "execution_count": null,
   "id": "81eeb1fe",
   "metadata": {},
   "outputs": [],
   "source": [
    "for basin in basins:\n",
    "    orig = clip_data(flux_clean, basin)\n",
    "    rec0 = clip_data(flux_reconstr0, basin)\n",
    "    rec1 = clip_data(flux_reconstr1, basin)\n",
    "    rec2 = clip_data(flux_reconstr2, basin)\n",
    "    rec3 = clip_data(flux_reconstr3, basin)\n",
    "    rec4 = clip_data(flux_reconstr4, basin)\n",
    "    orig.rename('orig'.format(basin)).to_netcdf(inDirName+interim_data_folder+\n",
    "                                                   cise_file_path+std_file_path+\"orig_{}.nc\".format(basin))\n",
    "    rec0.rename('rec0'.format(basin)).to_netcdf(inDirName+interim_data_folder+\n",
    "                                                   cise_file_path+std_file_path+\"rec0_{}.nc\".format(basin))\n",
    "    rec1.rename('rec1'.format(basin)).to_netcdf(inDirName+interim_data_folder+\n",
    "                                                   cise_file_path+std_file_path+\"rec1_{}.nc\".format(basin))\n",
    "    rec2.rename('rec2'.format(basin)).to_netcdf(inDirName+interim_data_folder+\n",
    "                                                   cise_file_path+std_file_path+\"rec2_{}.nc\".format(basin))\n",
    "    rec3.rename('rec3'.format(basin)).to_netcdf(inDirName+interim_data_folder+\n",
    "                                                   cise_file_path+std_file_path+\"rec3_{}.nc\".format(basin))\n",
    "    rec4.rename('rec4'.format(basin)).to_netcdf(inDirName+interim_data_folder+\n",
    "                                                   cise_file_path+std_file_path+\"rec4_{}.nc\".format(basin))\n",
    "    del orig, rec0, rec1, rec2, rec3, rec4\n",
    "    gc.collect()"
   ]
  },
  {
   "cell_type": "markdown",
   "id": "da772c2a",
   "metadata": {},
   "source": [
    "#### Combiine realizations and original data as separate data variables in `NETCDF` files."
   ]
  },
  {
   "cell_type": "code",
   "execution_count": null,
   "id": "cd814dfc",
   "metadata": {},
   "outputs": [],
   "source": [
    "for basin in basins:\n",
    "    basin_combined_datasets = xr.open_mfdataset(inDirName+interim_data_folder+\n",
    "                                                cise_file_path+std_file_path+\"*_{}.nc\".format(basin),\n",
    "                                                combine=\"nested\")\n",
    "    basin_combined_datasets.to_netcdf(inDirName+interim_data_folder+\n",
    "                                      cise_file_path+std_file_path+\"combined_{}.nc\".format(basin))\n",
    "    del basin_combined_datasets\n",
    "    gc.collect()"
   ]
  },
  {
   "cell_type": "code",
   "execution_count": null,
   "id": "fed9171b",
   "metadata": {},
   "outputs": [],
   "source": []
  },
  {
   "cell_type": "markdown",
   "id": "ebc7c8ee",
   "metadata": {},
   "source": [
    "#### Plot figure (time series and PSD comparisons for each basin)"
   ]
  },
  {
   "cell_type": "code",
   "execution_count": null,
   "id": "2fc72268",
   "metadata": {},
   "outputs": [],
   "source": [
    "n_basins = len(basins)\n",
    "\n",
    "color_orig = 'k'\n",
    "color_gen = 'dimgray'\n",
    "\n",
    "sns.set_theme(style=\"white\")\n",
    "fig=plt.figure(figsize=(18,5*n_basins))\n",
    "\n",
    "gs = GridSpec(n_basins, 2, width_ratios=[3, 1])\n",
    "ax0 = [fig.add_subplot(gs[i, 0]) for i in range(n_basins)]\n",
    "ax1 = [fig.add_subplot(gs[i, 1]) for i in range(n_basins)]\n",
    "\n",
    "for i,(a0,a1) in enumerate(zip(ax0,ax1)):\n",
    "    combined_ds = xr.open_dataset(inDirName+interim_data_folder+\n",
    "                              cise_file_path+std_file_path+\"combined_{}.nc\".format(basins[i]))\n",
    "    combined_ds_ts = time_series(combined_ds)\n",
    "    a0.plot(combined_ds_ts.orig,color=color_orig, linewidth=1.5,label='Original')\n",
    "    a0.plot(combined_ds_ts.rec0,color=color_gen, linewidth=0.25,label='Randomized')\n",
    "    a0.plot(combined_ds_ts.rec1,color=color_gen, linewidth=0.25)\n",
    "    a1.psd(combined_ds_ts.orig,color=color_orig, linewidth=1.5,label='Original')\n",
    "    a1.psd(combined_ds_ts.rec0,color=color_gen, linewidth=0.25,label='Randomized')\n",
    "    a1.psd(combined_ds_ts.rec1,color=color_gen, linewidth=0.25)\n",
    "    a0.set_title('Time Series: {}'.format(icems.name[basins[i]]))\n",
    "    a1.set_title('PSD: {}'.format(icems.name[basins[i]]))\n",
    "    a0.set_xlabel('')\n",
    "    a1.set_xlabel('')\n",
    "    axins = inset_axes(a0, width=\"30%\", height=\"30%\", loc=\"upper right\", \n",
    "                       axes_class=cartopy.mpl.geoaxes.GeoAxes, \n",
    "                       axes_kwargs=dict(projection=ccrs.SouthPolarStereo()))\n",
    "    icems[33:133].plot(ax=axins,linewidth=0.3,color='lightsteelblue')\n",
    "    axins.coastlines(resolution='10m',linewidth=0.25)\n",
    "    icems.loc[[33+catchments[i]],'geometry'].plot(ax=axins,color='k',linewidth=0.4)\n",
    "    #axins.set_axis_off();\n",
    "#a0.legend();\n",
    "a1.legend();\n",
    "a0.set_xlabel('Time (months)');\n",
    "a1.set_xlabel('Frequency');\n",
    "#gs.tight_layout(fig)"
   ]
  },
  {
   "cell_type": "code",
   "execution_count": null,
   "id": "a7eff05d",
   "metadata": {},
   "outputs": [],
   "source": [
    "n_basins = len(basins)\n",
    "\n",
    "color_orig = 'k'\n",
    "color_gen = 'dimgray'\n",
    "\n",
    "sns.set_theme(style=\"white\")\n",
    "fig=plt.figure(figsize=(18,5*n_basins))\n",
    "\n",
    "gs = GridSpec(n_basins, 2, width_ratios=[3, 1])\n",
    "ax0 = [fig.add_subplot(gs[i, 0]) for i in range(n_basins)]\n",
    "ax1 = [fig.add_subplot(gs[i, 1]) for i in range(n_basins)]\n",
    "\n",
    "for i,(a0,a1) in enumerate(zip(ax0,ax1)):\n",
    "    combined_ds = xr.open_dataset(inDirName+interim_data_folder+\n",
    "                              cise_file_path+std_file_path+\"scaled_data_eig/combined_{}.nc\".format(basins[i]))\n",
    "    combined_ds_ts = time_series(combined_ds)\n",
    "    a0.plot(combined_ds_ts.orig,color=color_orig, linewidth=1.5,label='Original')\n",
    "    a0.plot(combined_ds_ts.rec0,color=color_gen, linewidth=0.25,label='Randomized')\n",
    "    a0.plot(combined_ds_ts.rec1,color=color_gen, linewidth=0.25)\n",
    "    a1.psd(combined_ds_ts.orig,color=color_orig, linewidth=1.5,label='Original')\n",
    "    a1.psd(combined_ds_ts.rec0,color=color_gen, linewidth=0.25,label='Randomized')\n",
    "    a1.psd(combined_ds_ts.rec1,color=color_gen, linewidth=0.25)\n",
    "    a0.set_title('Time Series: {}'.format(icems.name[basins[i]]))\n",
    "    a1.set_title('PSD: {}'.format(icems.name[basins[i]]))\n",
    "    a0.set_xlabel('')\n",
    "    a1.set_xlabel('')\n",
    "    axins = inset_axes(a0, width=\"30%\", height=\"30%\", loc=\"upper right\", \n",
    "                       axes_class=cartopy.mpl.geoaxes.GeoAxes, \n",
    "                       axes_kwargs=dict(projection=ccrs.SouthPolarStereo()))\n",
    "    icems[33:133].plot(ax=axins,linewidth=0.3,color='lightsteelblue')\n",
    "    axins.coastlines(resolution='10m',linewidth=0.25)\n",
    "    icems.loc[[33+catchments[i]],'geometry'].plot(ax=axins,color='k',linewidth=0.4)\n",
    "    #axins.set_axis_off();\n",
    "#a0.legend();\n",
    "a1.legend();\n",
    "a0.set_xlabel('Time (months)');\n",
    "a1.set_xlabel('Frequency');\n",
    "#gs.tight_layout(fig)"
   ]
  },
  {
   "cell_type": "code",
   "execution_count": null,
   "id": "14c1f1c1",
   "metadata": {
    "scrolled": false
   },
   "outputs": [],
   "source": [
    "n_basins = len(basins)\n",
    "\n",
    "color_orig = 'k'\n",
    "color_gen = 'dimgray'\n",
    "\n",
    "sns.set_theme(style=\"white\")\n",
    "fig=plt.figure(figsize=(18,5*n_basins))\n",
    "\n",
    "gs = GridSpec(n_basins, 2, width_ratios=[3, 1])\n",
    "ax0 = [fig.add_subplot(gs[i, 0]) for i in range(n_basins)]\n",
    "ax1 = [fig.add_subplot(gs[i, 1]) for i in range(n_basins)]\n",
    "\n",
    "for i,(a0,a1) in enumerate(zip(ax0,ax1)):\n",
    "    combined_ds = xr.open_dataset(inDirName+interim_data_folder+\n",
    "                              cise_file_path+std_file_path+\"combined_{}.nc\".format(basins[i]))\n",
    "    combined_ds_ts = time_series(combined_ds)\n",
    "    a0.plot(combined_ds_ts.orig,color=color_orig, linewidth=1.5,label='Original')\n",
    "    a0.plot(combined_ds_ts.rec0,color=color_gen, linewidth=0.25,label='Randomized')\n",
    "    a0.plot(combined_ds_ts.rec1,color=color_gen, linewidth=0.25)\n",
    "    a0.plot(combined_ds_ts.rec2,color=color_gen, linewidth=0.25)\n",
    "    a0.plot(combined_ds_ts.rec3,color=color_gen, linewidth=0.25)\n",
    "    a0.plot(combined_ds_ts.rec4,color=color_gen, linewidth=0.25)\n",
    "    a1.psd(combined_ds_ts.orig,color=color_orig, linewidth=1.5,label='Original')\n",
    "    a1.psd(combined_ds_ts.rec0,color=color_gen, linewidth=0.25,label='Randomized')\n",
    "    a1.psd(combined_ds_ts.rec1,color=color_gen, linewidth=0.25)\n",
    "    a1.psd(combined_ds_ts.rec2,color=color_gen, linewidth=0.25)\n",
    "    a1.psd(combined_ds_ts.rec3,color=color_gen, linewidth=0.25)\n",
    "    a1.psd(combined_ds_ts.rec4,color=color_gen, linewidth=0.25)\n",
    "    a0.set_title('Time Series: {}'.format(icems.name[basins[i]]))\n",
    "    a1.set_title('PSD: {}'.format(icems.name[basins[i]]))\n",
    "    a0.set_xlabel('')\n",
    "    a1.set_xlabel('')\n",
    "    axins = inset_axes(a0, width=\"30%\", height=\"30%\", loc=\"upper right\", \n",
    "                       axes_class=cartopy.mpl.geoaxes.GeoAxes, \n",
    "                       axes_kwargs=dict(projection=ccrs.SouthPolarStereo()))\n",
    "    icems[33:133].plot(ax=axins,linewidth=0.3,color='lightsteelblue')\n",
    "    axins.coastlines(resolution='10m',linewidth=0.25)\n",
    "    icems.loc[[33+catchments[i]],'geometry'].plot(ax=axins,color='k',linewidth=0.4)\n",
    "    #axins.set_axis_off();\n",
    "#a0.legend();\n",
    "a1.legend();\n",
    "a0.set_xlabel('Time (months)');\n",
    "a1.set_xlabel('Frequency');\n",
    "#gs.tight_layout(fig)"
   ]
  },
  {
   "cell_type": "markdown",
   "id": "e9b2ee56",
   "metadata": {},
   "source": [
    "### Plot comparisons of full AIS time series\n",
    "\n",
    "#### Input full dataset (if not already done) and sum over entire domain to obtain time series."
   ]
  },
  {
   "cell_type": "code",
   "execution_count": null,
   "id": "6bc6c89d",
   "metadata": {},
   "outputs": [],
   "source": [
    "# Full AIS data comparisons\n",
    "flux_clean_ts = time_series(flux_clean)\n",
    "flux_reconstr0_ts = time_series(flux_reconstr0)\n",
    "flux_reconstr1_ts = time_series(flux_reconstr1)\n",
    "flux_reconstr2_ts = time_series(flux_reconstr2)\n",
    "flux_reconstr3_ts = time_series(flux_reconstr3)\n",
    "flux_reconstr4_ts = time_series(flux_reconstr4)"
   ]
  },
  {
   "cell_type": "markdown",
   "id": "6f35f38a",
   "metadata": {},
   "source": [
    "#### Plot figure\n",
    "\n",
    "#### TODO: Add formatting and animate spatial variability fields for 2 generated realizations and original data. \n",
    "This will be added as a supplement."
   ]
  },
  {
   "cell_type": "code",
   "execution_count": null,
   "id": "07a4b613",
   "metadata": {},
   "outputs": [],
   "source": [
    "sns.set_theme(style=\"white\")\n",
    "fig=plt.figure(figsize=(25,8))\n",
    "\n",
    "plt.plot(flux_clean_ts, color='k', linewidth=1.5,label='Original')\n",
    "plt.plot(flux_reconstr0_ts, color='b', linewidth=0.25,label='Randomized')\n",
    "plt.plot(flux_reconstr1_ts, color='b', linewidth=0.25)\n",
    "plt.plot(flux_reconstr2_ts, color='b', linewidth=0.25)\n",
    "plt.plot(flux_reconstr3_ts, color='b', linewidth=0.25)\n",
    "plt.plot(flux_reconstr4_ts, color='b', linewidth=0.25)"
   ]
  },
  {
   "cell_type": "code",
   "execution_count": null,
   "id": "5a0ed30d",
   "metadata": {},
   "outputs": [],
   "source": [
    "sns.set_theme(style=\"white\")\n",
    "fig=plt.figure(figsize=(25,8))\n",
    "\n",
    "plt.plot(flux_clean_ts*sec_per_year/rho_fw, color='k', linewidth=1.5,label='Original')\n",
    "plt.plot(flux_reconstr0_ts*sec_per_year/rho_fw, color='b', linewidth=0.25,label='Randomized')\n",
    "plt.plot(flux_reconstr1_ts*sec_per_year/rho_fw, color='b', linewidth=0.25)\n",
    "plt.plot(flux_reconstr2_ts*sec_per_year/rho_fw, color='b', linewidth=0.25)\n",
    "plt.plot(flux_reconstr3_ts*sec_per_year/rho_fw, color='b', linewidth=0.25)\n",
    "plt.plot(flux_reconstr4_ts*sec_per_year/rho_fw, color='b', linewidth=0.25)"
   ]
  },
  {
   "cell_type": "code",
   "execution_count": null,
   "id": "31150f78",
   "metadata": {},
   "outputs": [],
   "source": [
    "sns.set_theme(style=\"white\")\n",
    "fig=plt.figure(figsize=(25,8))\n",
    "\n",
    "plt.psd(flux_clean_ts, color='k', linewidth=1.5,label='Original')\n",
    "plt.psd(flux_reconstr0_ts, color='b', linewidth=0.25,label='Randomized');\n",
    "plt.psd(flux_reconstr1_ts, color='b', linewidth=0.25);\n",
    "plt.psd(flux_reconstr2_ts, color='b', linewidth=0.25);\n",
    "plt.psd(flux_reconstr3_ts, color='b', linewidth=0.25);\n",
    "plt.psd(flux_reconstr4_ts, color='b', linewidth=0.25);"
   ]
  },
  {
   "cell_type": "markdown",
   "id": "585fde08",
   "metadata": {},
   "source": [
    "## PSD calculations for AIS domain"
   ]
  },
  {
   "cell_type": "code",
   "execution_count": null,
   "id": "eef46d66",
   "metadata": {},
   "outputs": [],
   "source": [
    "from scipy import signal\n",
    "freqs0, psd0 = signal.welch(flux_clean_ts)\n",
    "freqs1, psd1 = signal.welch(flux_reconstr0_ts)\n",
    "freqs2, psd2 = signal.welch(flux_reconstr1_ts)\n",
    "freqs3, psd3 = signal.welch(flux_reconstr2_ts)\n",
    "freqs4, psd4 = signal.welch(flux_reconstr3_ts)\n",
    "freqs5, psd5 = signal.welch(flux_reconstr4_ts)"
   ]
  },
  {
   "cell_type": "code",
   "execution_count": null,
   "id": "a61b7fdb",
   "metadata": {},
   "outputs": [],
   "source": [
    "from scipy import signal\n",
    "freqs0, psd0 = signal.welch(combined_ds_ts.orig)\n",
    "freqs1, psd1 = signal.welch(combined_ds_ts.rec0)\n",
    "freqs2, psd2 = signal.welch(combined_ds_ts.rec1)\n",
    "freqs3, psd3 = signal.welch(combined_ds_ts.rec2)\n",
    "freqs4, psd4 = signal.welch(combined_ds_ts.rec3)\n",
    "freqs5, psd5 = signal.welch(combined_ds_ts.rec4)"
   ]
  },
  {
   "cell_type": "code",
   "execution_count": null,
   "id": "6d367e8d",
   "metadata": {},
   "outputs": [],
   "source": []
  },
  {
   "cell_type": "markdown",
   "id": "56578644",
   "metadata": {},
   "source": [
    "## PSD plot for AIS domain\n",
    "\n",
    "This uses a normalized (semilog?) power in the y-axis, as opposed to [dB/Hz] shown earlier.\n",
    "\n",
    "#### TODO: Check all PSDs for different catchments"
   ]
  },
  {
   "cell_type": "code",
   "execution_count": null,
   "id": "7b95dbab",
   "metadata": {},
   "outputs": [],
   "source": [
    "plt.figure(figsize=(15, 5))\n",
    "plt.semilogx(freqs0, psd0,color='k', linewidth=1.5,label='Original')\n",
    "plt.semilogx(freqs1, psd1,color='b', linewidth=0.25,label='Randomized')\n",
    "plt.semilogx(freqs2, psd2,color='b', linewidth=0.25)\n",
    "plt.semilogx(freqs3, psd3,color='b', linewidth=0.25)\n",
    "plt.semilogx(freqs4, psd4,color='b', linewidth=0.25)\n",
    "plt.semilogx(freqs5, psd5,color='b', linewidth=0.25)\n",
    "plt.ylabel('Power')\n",
    "plt.xlabel('Frequency ($month^{-1}$)')"
   ]
  },
  {
   "cell_type": "code",
   "execution_count": null,
   "id": "5167d5aa",
   "metadata": {},
   "outputs": [],
   "source": []
  },
  {
   "cell_type": "markdown",
   "id": "4e8dc185",
   "metadata": {},
   "source": [
    "### Spectral Filtering on dataset\n",
    "\n",
    "### TODO: \n",
    "#### 3 tests:\n",
    "    - [ ] Filter on original data input - easiest?\n",
    "    - [ ] Filter on projection co-efficients before randomization\n",
    "    - [ ] Filter on generated projection co-efficients after randomization, before generation\n",
    "    - [ ] Filter after generation - NO"
   ]
  },
  {
   "cell_type": "code",
   "execution_count": null,
   "id": "de9771af",
   "metadata": {},
   "outputs": [],
   "source": [
    "fig = plt.figure(figsize=(25,6))\n",
    "ax = fig.add_subplot(1, 1, 1)\n",
    "ax.plot(flux_clean_ts[:600])\n",
    "## Filtering of the time series\n",
    "fs=30/24/3600 #1 month in Hz (sampling frequency)\n",
    "\n",
    "\n",
    "nyquist = fs / 2 # 0.5 times the sampling frequency\n",
    "cutoff=0.15 # fraction of nyquist frequency, here  it is 5 days\n",
    "print('cutoff= ',1/cutoff*nyquist*24*3600,' days') #cutoff=  4.999999999999999  days\n",
    "b, a = signal.butter(5, cutoff, btype='lowpass') #low pass filter\n",
    "\n",
    "dUfilt = signal.filtfilt(b, a, flux_clean_ts)\n",
    "dUfilt=np.array(dUfilt)\n",
    "dUfilt=dUfilt.transpose()\n",
    "\n",
    "plt.plot(dUfilt[:600],'r',linewidth=1)\n",
    "\n",
    "plt.xlabel('Time in months',fontsize=18)\n",
    "plt.ylabel('Std Deviation',fontsize=18)\n"
   ]
  },
  {
   "cell_type": "code",
   "execution_count": null,
   "id": "999b69e9",
   "metadata": {},
   "outputs": [],
   "source": []
  },
  {
   "cell_type": "code",
   "execution_count": null,
   "id": "678f4e04",
   "metadata": {},
   "outputs": [],
   "source": [
    "\n",
    "\n",
    "# ax.set_title('Vertical Component CGPS Data')\n",
    "#plt.savefig('test.png',dpi=150,bbox_inches='tight')"
   ]
  },
  {
   "cell_type": "code",
   "execution_count": null,
   "id": "aed087cd",
   "metadata": {},
   "outputs": [],
   "source": []
  },
  {
   "cell_type": "code",
   "execution_count": null,
   "id": "42e1f723",
   "metadata": {},
   "outputs": [],
   "source": []
  }
 ],
 "metadata": {
  "kernelspec": {
   "display_name": "Python 3 (ipykernel)",
   "language": "python",
   "name": "python3"
  },
  "language_info": {
   "codemirror_mode": {
    "name": "ipython",
    "version": 3
   },
   "file_extension": ".py",
   "mimetype": "text/x-python",
   "name": "python",
   "nbconvert_exporter": "python",
   "pygments_lexer": "ipython3",
   "version": "3.10.8"
  }
 },
 "nbformat": 4,
 "nbformat_minor": 5
}
