{
 "cells": [
  {
   "cell_type": "code",
   "execution_count": null,
   "id": "e01d816b-6cd9-4ff4-a37d-2b070825b3bb",
   "metadata": {},
   "outputs": [],
   "source": [
    "import xarray as xr\n",
    "import numpy as np\n",
    "import matplotlib.pyplot as plt\n",
    "from netCDF4 import Dataset\n",
    "import matplotlib.tri as tri\n",
    "import matplotlib.gridspec as gridspec\n",
    "from matplotlib.colorbar import Colorbar\n",
    "from matplotlib.colors import Normalize, TwoSlopeNorm\n",
    "import h5py"
   ]
  },
  {
   "cell_type": "code",
   "execution_count": null,
   "id": "43cdc770-386c-440b-89ad-28646fb86ccd",
   "metadata": {},
   "outputs": [],
   "source": [
    "pwd"
   ]
  },
  {
   "cell_type": "code",
   "execution_count": null,
   "id": "f21a7c33-6fd7-4fb4-a18d-81f9ea368fc2",
   "metadata": {},
   "outputs": [],
   "source": [
    "### Adusimilli datasets\n",
    "\n",
    "ice_thickness = h5py.File(\"/Users/smurugan9/research/aislens/aislens_emulation/data/external/AISmeltrates-2018/AIS-heightChanges.h5\",'r+')"
   ]
  },
  {
   "cell_type": "code",
   "execution_count": null,
   "id": "ca877b8b-8212-48c4-9b65-109984eabb7e",
   "metadata": {},
   "outputs": [],
   "source": [
    "pre_relax_ic_filepath = \"/Users/smurugan9/research/aislens/aislens_emulation/data/external/ISMIP6-2300/\"\n",
    "pre_relax_ic = xr.open_dataset(pre_relax_ic_filepath+ \n",
    "                               \"AIS_4to20km_r01_20220907_m5_drop_bed_20m_bulldoze_troughs_75_to_400m_Enderby_maxstiffness_0.8_TG_pinning_40maf_bedmap2_surface_ASE_05perc_seafloor_mu.nc\")"
   ]
  },
  {
   "cell_type": "code",
   "execution_count": null,
   "id": "8660b137-865c-46c4-bc1e-cb6509628a72",
   "metadata": {},
   "outputs": [],
   "source": [
    "pre_relax_ic.basalHeatFlux"
   ]
  },
  {
   "cell_type": "code",
   "execution_count": null,
   "id": "684bf972-00a9-4714-a30c-3efd968c4515",
   "metadata": {},
   "outputs": [],
   "source": [
    "#data_file_path = \"/Users/smurugan9/research/aislens/MALI-ismip6-0721/output-exp01/\"\n",
    "#ds = xr.open_dataset(data_file_path+\"output_flux.nc\")\n",
    "\n",
    "data_file_path = \"/Users/smurugan9/research/aislens/MALI-ismip6-0721/ntasks72-n16/landice/ismip6_run/ismip6_ais_proj2300/hist_04/output/\"\n",
    "ds = xr.open_dataset(data_file_path+\"output_flux_hist.nc\")\n",
    "\n",
    "state_file_path = \"/Users/smurugan9/research/aislens/MALI-ismip6-0721/ntasks72-n16/landice/ismip6_run/ismip6_ais_proj2300/hist_04/output/outputs/\"\n",
    "state = xr.open_dataset(state_file_path+\"output_states.nc\")"
   ]
  },
  {
   "cell_type": "code",
   "execution_count": null,
   "id": "10597a9f-b6a2-46cc-813c-1aa701738761",
   "metadata": {},
   "outputs": [],
   "source": [
    "forcing_and_initial_cond_path = \"/Users/smurugan9/research/aislens/aislens_emulation/data/external/ISMIP6-2300/\"\n",
    "region_mask = xr.open_dataset(forcing_and_initial_cond_path+\"AIS_4to20km_r01_20220907.regionMask_ismip6.nc\")\n",
    "initial_cond = xr.open_dataset(forcing_and_initial_cond_path+\"relaxed_10yrs_4km.nc\")\n",
    "melt_params = xr.open_dataset(forcing_and_initial_cond_path+\"basin_and_coeff_gamma0_DeltaT_quadratic_non_local_after_relaxation.nc\")"
   ]
  },
  {
   "cell_type": "code",
   "execution_count": null,
   "id": "9305af98-c47d-469c-8d7d-2fc554ece443",
   "metadata": {},
   "outputs": [],
   "source": [
    "initial_cond.ismip6_2dThermalForcing"
   ]
  },
  {
   "cell_type": "code",
   "execution_count": null,
   "id": "e0808e8a-7cff-4417-8d75-6fa5adb8577c",
   "metadata": {},
   "outputs": [],
   "source": [
    "initial_cond"
   ]
  },
  {
   "cell_type": "code",
   "execution_count": null,
   "id": "be739905-f323-49ec-b6ec-1248777b5b53",
   "metadata": {},
   "outputs": [],
   "source": [
    "forcing_TF = xr.open_dataset(forcing_and_initial_cond_path+\"ctrlAE/AIS_4to20km_r01_20220907_obs_TF_1995-2017_8km_x_60m.nc\")\n",
    "forcing_TF = xr.open_dataset(forcing_and_initial_cond_path+\"ctrlAE/AIS_4to20km_r01_20220907_RACMO2.3p2_ANT27_smb_climatology_1995-2017.nc\")"
   ]
  },
  {
   "cell_type": "code",
   "execution_count": null,
   "id": "27904d79-651f-4aeb-9a17-818faef4d53d",
   "metadata": {},
   "outputs": [],
   "source": [
    "m = initial_cond"
   ]
  },
  {
   "cell_type": "code",
   "execution_count": null,
   "id": "c50b834a-9d95-425b-bc9c-82a15c57d882",
   "metadata": {},
   "outputs": [],
   "source": [
    "sorrm_file_path = '/Users/smurugan9/research/aislens/aislens_emulation/data/raw/SORRMv2.1.ISMF/'\n",
    "sorrm = xr.open_dataset(sorrm_file_path + 'SORRMv2.1.ISMF.0001-0099.nc')\n",
    "\n",
    "basal_melt_v1 = xr.open_dataset('/Users/smurugan9/research/aislens/aislens_emulation/data/raw/mpaso.hist.am.timeSeriesStatsMonthly.0001-01-01.nc')"
   ]
  },
  {
   "cell_type": "code",
   "execution_count": null,
   "id": "ac544d29-e20b-438d-b403-ab25799b161f",
   "metadata": {},
   "outputs": [],
   "source": [
    "regrid_ocean = xr.open_dataset('/Users/smurugan9/research/aislens/aislens_emulation/data/external/ocean.ECwISC30to60E1r02.200408.nc')"
   ]
  },
  {
   "cell_type": "code",
   "execution_count": null,
   "id": "2c85f4e4-b2f6-46eb-9b5a-a1393578c3bc",
   "metadata": {},
   "outputs": [],
   "source": [
    "regrid_sorrm = xr.open_dataset(sorrm_file_path+'mpaso.SOwISC12to60E2r4.rstFromG-anvil.210203.nc')"
   ]
  },
  {
   "cell_type": "code",
   "execution_count": null,
   "id": "6057037e-472c-41a5-b623-cc507e0754b3",
   "metadata": {},
   "outputs": [],
   "source": [
    "regrid_sorrm"
   ]
  },
  {
   "cell_type": "code",
   "execution_count": null,
   "id": "91f18ebb-c044-407a-aea3-e6778faf12b4",
   "metadata": {},
   "outputs": [],
   "source": [
    "flux = sorrm.timeMonthly_avg_landIceFreshwaterFlux\n",
    "ssh = sorrm.timeMonthly_avg_ssh"
   ]
  },
  {
   "cell_type": "code",
   "execution_count": null,
   "id": "6c2901da-96a7-47ff-9276-12100b8bfff0",
   "metadata": {},
   "outputs": [],
   "source": [
    "regridded_data = xr.open_dataset(sorrm_file_path+\"regridded_sorrm.6000.0x6000.0km_4.0km_Antarctic_stereo.nc\")\n",
    "regridded_data"
   ]
  },
  {
   "cell_type": "code",
   "execution_count": null,
   "id": "89093de1-09e4-4eaa-994b-4b4e6caa88cd",
   "metadata": {},
   "outputs": [],
   "source": [
    "ds = regrid_sorrm"
   ]
  },
  {
   "cell_type": "code",
   "execution_count": null,
   "id": "8cf13b83-a665-40e2-8658-87fb6dcad889",
   "metadata": {},
   "outputs": [],
   "source": [
    "regrid_sorrm"
   ]
  },
  {
   "cell_type": "code",
   "execution_count": null,
   "id": "d0ddf337-045b-4058-b3f9-e582fff3443f",
   "metadata": {},
   "outputs": [],
   "source": [
    "def dist(i1, i2, xCell, yCell):  # helper distance fn\n",
    "    dist = ((xCell[i1]-xCell[i2])**2 + (yCell[i1]-yCell[i2])**2)**0.5\n",
    "    return dist"
   ]
  },
  {
   "cell_type": "code",
   "execution_count": null,
   "id": "641a53a3-8609-49bf-af02-891a6b8ec065",
   "metadata": {},
   "outputs": [],
   "source": [
    "# Loop over runs\n",
    "# Each run gets its own figure\n",
    "# Each variable gets its own row\n",
    "# Each time level gets its own column\n",
    "varPlot = {}\n",
    "figs = {}\n",
    "gs = {}\n",
    "\n",
    "# Set bitmask values\n",
    "initialExtentValue = 1\n",
    "dynamicValue = 2\n",
    "floatValue = 4\n",
    "groundingLineValue = 256\n",
    "\n",
    "sec_per_year = 60. * 60. * 24. * 365.\n",
    "rhoi = 910.\n",
    "rhosw = 1028."
   ]
  },
  {
   "cell_type": "code",
   "execution_count": null,
   "id": "8e4e9cd3-f0b5-402d-bf3a-9037127e5738",
   "metadata": {},
   "outputs": [],
   "source": [
    "# Get mesh geometry and calculate triangulation. \n",
    "# It would be more efficient to do this outside\n",
    "# this loop if all runs are on the same mesh, but we\n",
    "# want this to be as general as possible.\n",
    "m = ds  # use run file for mesh variables"
   ]
  },
  {
   "cell_type": "code",
   "execution_count": null,
   "id": "83733792-0492-405c-bf2d-b7833a587369",
   "metadata": {},
   "outputs": [],
   "source": []
  },
  {
   "cell_type": "code",
   "execution_count": null,
   "id": "3fdc6116-4493-409f-a15f-c2afdef2d23d",
   "metadata": {},
   "outputs": [],
   "source": [
    "variables = ['thickness', 'surfaceSpeed', 'floatingBasalMassBalApplied', 'dHdt']\n",
    "variables = ['thickness']\n",
    "variables = ['timeMonthly_avg_landIceFreshwaterFlux']\n",
    "vmins = [None] * len(variables)\n",
    "vmaxs = [None] * len(variables)\n",
    "log_plot = [False] * len(variables)\n",
    "\n",
    "defaultColors = {'thickness' : 'Blues',\n",
    "                 'surfaceSpeed' : 'plasma',\n",
    "                 'basalSpeed' : 'plasma',\n",
    "                 'bedTopography' : 'BrBG',\n",
    "                 'floatingBasalMassBalApplied' : 'cividis'\n",
    "                }\n",
    "colormaps = []\n",
    "for variable in variables:\n",
    "    if variable in defaultColors.keys():\n",
    "        colormaps.append(defaultColors[variable])\n",
    "    else:\n",
    "        # All other variables default to viridis\n",
    "        colormaps.append('viridis')\n",
    "        \n",
    "# List of diverging colormaps for use in plotting bedTopography.\n",
    "# I don't see a way around hard-coding this.\n",
    "divColorMaps = ['PiYG', 'PRGn', 'BrBG', 'PuOr', 'RdGy', 'RdBu', 'RdYlBu', 'RdYlGn', 'Spectral', 'coolwarm', 'bwr', 'seismic']"
   ]
  },
  {
   "cell_type": "code",
   "execution_count": null,
   "id": "2e564227-8a5c-4a56-bba1-fd2a020608e1",
   "metadata": {},
   "outputs": [],
   "source": [
    "f = Dataset(sorrm_file_path + 'mpaso.SOwISC12to60E2r4.rstFromG-anvil.210203.nc')\n",
    "f.set_auto_mask(False)"
   ]
  },
  {
   "cell_type": "code",
   "execution_count": null,
   "id": "4a9af9c9-4775-42e6-8e92-8a63bbab0f06",
   "metadata": {},
   "outputs": [],
   "source": [
    "m = Dataset(forcing_and_initial_cond_path+\"relaxed_10yrs_4km.nc\")"
   ]
  },
  {
   "cell_type": "code",
   "execution_count": null,
   "id": "14fcd5ef-c548-4d01-a85a-c7cfd7aac16d",
   "metadata": {},
   "outputs": [],
   "source": []
  },
  {
   "cell_type": "code",
   "execution_count": null,
   "id": "5313085b-c6d9-458c-bb40-55154523032c",
   "metadata": {},
   "outputs": [],
   "source": [
    "xCell = m.variables[\"yCell\"][:]\n",
    "yCell = m.variables[\"xCell\"][:]\n",
    "dcEdge = m.variables[\"dcEdge\"][:]\n",
    "\n",
    "triang = tri.Triangulation(xCell, yCell)\n",
    "triMask = np.zeros(len(triang.triangles))\n",
    "\n",
    "maxDist = np.max(dcEdge) * 2.0"
   ]
  },
  {
   "cell_type": "code",
   "execution_count": null,
   "id": "2744e8c6-c9e9-4098-b687-ffe61496cf8a",
   "metadata": {},
   "outputs": [],
   "source": [
    "for t in range(len(triang.triangles)):\n",
    "    thisTri = triang.triangles[t, :]\n",
    "    if dist(thisTri[0], thisTri[1], xCell, yCell) > maxDist:\n",
    "        triMask[t] = True\n",
    "    if dist(thisTri[1], thisTri[2], xCell, yCell) > maxDist:\n",
    "        triMask[t] = True\n",
    "    if dist(thisTri[0], thisTri[2], xCell, yCell) > maxDist:\n",
    "        triMask[t] = True\n",
    "triang.set_mask(triMask)"
   ]
  },
  {
   "cell_type": "code",
   "execution_count": null,
   "id": "a8174a99-5593-4d05-aade-cd863653df4e",
   "metadata": {},
   "outputs": [],
   "source": [
    "f = m"
   ]
  },
  {
   "cell_type": "code",
   "execution_count": null,
   "id": "5ccbc6c2-800c-4478-af57-a347b7993006",
   "metadata": {
    "jupyter": {
     "source_hidden": true
    },
    "tags": []
   },
   "outputs": [],
   "source": [
    "#for timeLev in range(0,len(ds.xtime)):\n",
    "for timeLev in range(0,3):\n",
    "    if 'daysSinceStart' in m.variables.keys():\n",
    "        yr = sorrm.variables['daysSinceStart'][timeLev] / 365.\n",
    "    else:\n",
    "        yr = [0.]\n",
    "    \n",
    "    # Setup figure\n",
    "    figs[timeLev] = plt.figure()\n",
    "    #figs[timeLev].suptitle[timeLev]\n",
    "    #nRows = len(variables)\n",
    "    #nCols = len(ds.xtime) + 1\n",
    "    \n",
    "    # last column for colorbars\n",
    "    #gs[timeLev] = gridspec.GridSpec(nRows, nCols,\n",
    "    #                                height_ratios=[1] * nRows,\n",
    "    #                                width_ratios=[1] * (nCols - 1) + [0.1])\n",
    "    #axs = []\n",
    "    #cbar_axs = []\n",
    "    \n",
    "    #for row in np.arange(0, nRows):\n",
    "    #    cbar_axs.append(plt.subplot(gs[timeLev][row,-1]))\n",
    "    #    for col in np.arange(0,nCols-1):\n",
    "    #        if axs==[]:\n",
    "    #            axs.append(plt.subplot(gs[timeLev][row, col]))\n",
    "    #        else:\n",
    "    #            axs.append(plt.subplot(gs[timeLev][row, col], sharex=axs[0], sharey=axs[0]))\n",
    "                \n",
    "    varPlot[timeLev] = {} \n",
    "    cbars = []\n",
    "    # Loop over variables\n",
    "    for row, (variable, log, colormap, vmin, vmax) in enumerate(zip(variables, log_plot, colormaps, vmins, vmaxs)):\n",
    "        if variable == 'observedSpeed':\n",
    "            var_to_plot = np.sqrt(m.variables['observedSurfaceVelocityX'][timeLev][:]**2 + \n",
    "                                  m.variables['observedSurfaceVelocityY'][timeLev][:]**2)\n",
    "        else:\n",
    "            var_to_plot = sorrm.variables[variable][timeLev][:]\n",
    "        \n",
    "        #if len(np.shape(var_to_plot)) == 1:\n",
    "        #    var_to_plot = var_to_plot.reshape((1, np.shape(var_to_plot)[0]))\n",
    "        \n",
    "        if 'Speed' in variable:\n",
    "            units = 'm yr^{-1}'\n",
    "            var_to_plot *= sec_per_year\n",
    "        else:\n",
    "            try:\n",
    "                units = sorrm.variables[variable].attrs['units']\n",
    "            except AttributeError:\n",
    "                units = 'no-units'\n",
    "            \n",
    "        if log == 'True':\n",
    "            var_to_plot = np.log10(var_to_plot)\n",
    "            var_to_plot[np.isinf(var_to_plot)] = np.nan\n",
    "            colorbar_label_prefix = 'log10'\n",
    "        else:\n",
    "            colorbar_label_prefix = ''\n",
    "            \n",
    "        varPlot[timeLev][variable] = []\n",
    "        \n",
    "        # Set lower and upper bounds for plotting\n",
    "        if vmin in ['None', None]:\n",
    "            # 0.1 m/yr is a pretty good lower bound for speed\n",
    "            first_quant = np.nanquantile(var_to_plot[:], 0.01)\n",
    "            if 'Speed' in variable and log == 'True':\n",
    "                vmin = max(first_quant, -1.)\n",
    "            else:\n",
    "                vmin = first_quant\n",
    "        if vmax in ['None', None]:\n",
    "            vmax = np.nanquantile(var_to_plot[:], 0.99)\n",
    "        # Plot bedTopography on an asymmetric colorbar if appropriate\n",
    "        if ( (variable == 'bedTopography') and\n",
    "            (np.nanquantile(var_to_plot[:], 0.99) > 0.) and\n",
    "            (colormap in divColorMaps) ):\n",
    "            norm = TwoSlopeNorm(vmin=vmin, vmax=vmax, vcenter=0.)\n",
    "        else:\n",
    "            norm = Normalize(vmin=vmin, vmax=vmax)\n",
    "            \n",
    "        if 'cellMask' in m.variables.keys():\n",
    "            calc_mask = True\n",
    "            cellMask = m.variables[\"cellMask\"][:]\n",
    "            floatMask = (cellMask & floatValue) // floatValue\n",
    "            dynamicMask = (cellMask & dynamicValue) // dynamicValue\n",
    "            groundingLineMask = (cellMask & groundingLineValue) // groundingLineValue\n",
    "            initialExtentMask = (cellMask & initialExtentValue) // initialExtentValue\n",
    "        elif ('cellMask' not in m.variables.keys() and\n",
    "              'thickness' in m.variables.keys() and \n",
    "              'bedTopography' in m.variables.keys() ):\n",
    "            #print(f'cellMask is not present in output file {run}; calculating masks from ice thickness')\n",
    "            calc_mask = True\n",
    "            groundedMask = (f.variables['thickness'][:] > (-rhosw / rhoi * f.variables['bedTopography'][:]))\n",
    "            groundingLineMask = groundedMask.copy()  # This isn't technically correct, but works for plotting\n",
    "            initialExtentMask = (f.variables['thickness'][:] > 0.)\n",
    "        else:\n",
    "            #print(f'cellMask and thickness and/or bedTopography not present in output file  {run};'\n",
    "            #      ' Skipping mask calculation.')\n",
    "            calc_mask = False\n",
    "            \n",
    "        # Loop over time levels\n",
    "        # index = row * (nCols - 1) + col\n",
    "        if calc_mask:\n",
    "            plt.tricontour(triang, groundingLineMask[0, :],levels=[0.9999], colors='grey',linestyles='solid')\n",
    "            plt.tricontour(triang, groundingLineMask[timeLev, :],levels=[0.9999], colors='white',linestyles='solid')\n",
    "            plt.tricontour(triang, initialExtentMask[timeLev, :],levels=[0.9999], colors='black',linestyles='solid')\n",
    "        #varPlot[timeLev][variable].append(plt.tripcolor(triang, var_to_plot[:], cmap=colormap,shading='flat', norm=norm))\n",
    "        varPlot[timeLev][variable].append(plt.tripcolor(triang, var_to_plot.where(var_to_plot != 0.),norm=norm, cmap=colormap, shading='flat'))\n",
    "        plt.colorbar()\n",
    "        #plt.xlim([-3e6,3e6]);\n",
    "        #plt.ylim([-3e6,3e6]);\n",
    "        #plt.set_aspect('equal')\n",
    "        print(\"loop {}\".format(timeLev))\n",
    "        #plt.title(f'year = {yr:0.2f}')\n",
    "        #plt.colorbar()\n",
    "        plt.show()\n",
    "        #cbars.append(Colorbar(ax=cbar_ax, mappable=varPlot[timeLev][variable][0], orientation='vertical',\n",
    "                              #label=f'{colorbar_label_prefix}{variable} (${units}$)'))\n",
    "    #figs[timeLev].tight_layout()\n",
    "    #figs[timeLev].savefig(timeLev, dpi=400, bbox_inches='tight')\n",
    "    "
   ]
  },
  {
   "cell_type": "code",
   "execution_count": null,
   "id": "32b73153-c4c0-4ba9-b6b4-5653b140148f",
   "metadata": {},
   "outputs": [],
   "source": [
    "plt.tripcolor(triang, var_to_plot.where(var_to_plot != 0.),norm=norm, shading='flat')\n",
    "plt.colorbar()\n",
    "plt.xlim([-3e6,3e6]);\n",
    "plt.ylim([-3e6,3e6]);"
   ]
  },
  {
   "cell_type": "code",
   "execution_count": null,
   "id": "41e18df0-e64e-4726-8d3f-9d775b2c4b3d",
   "metadata": {},
   "outputs": [],
   "source": [
    "var_to_plot.where(var_to_plot != 0.)"
   ]
  },
  {
   "cell_type": "code",
   "execution_count": null,
   "id": "f8042414-b133-4b14-b0c3-e3fe4f7d373c",
   "metadata": {},
   "outputs": [],
   "source": []
  },
  {
   "cell_type": "code",
   "execution_count": null,
   "id": "ce5548d8-a2b9-4d24-ab07-c0a8a2525ff1",
   "metadata": {},
   "outputs": [],
   "source": [
    "calc_mask"
   ]
  },
  {
   "cell_type": "code",
   "execution_count": null,
   "id": "45e9e400-01b2-45c8-8152-8fa681a7b4e7",
   "metadata": {},
   "outputs": [],
   "source": [
    "#for timeLev in range(0,len(ds.xtime)):\n",
    "for timeLev in range(0,1):\n",
    "    if 'daysSinceStart' in m.variables.keys():\n",
    "        yr = m.variables['daysSinceStart'][timeLev] / 365.\n",
    "    else:\n",
    "        yr = [0.]\n",
    "    \n",
    "    # Setup figure\n",
    "    figs[timeLev] = plt.figure()\n",
    "    #figs[timeLev].suptitle[timeLev]\n",
    "    #nRows = len(variables)\n",
    "    #nCols = len(ds.xtime) + 1\n",
    "    \n",
    "    # last column for colorbars\n",
    "    #gs[timeLev] = gridspec.GridSpec(nRows, nCols,\n",
    "    #                                height_ratios=[1] * nRows,\n",
    "    #                                width_ratios=[1] * (nCols - 1) + [0.1])\n",
    "    #axs = []\n",
    "    #cbar_axs = []\n",
    "    \n",
    "    #for row in np.arange(0, nRows):\n",
    "    #    cbar_axs.append(plt.subplot(gs[timeLev][row,-1]))\n",
    "    #    for col in np.arange(0,nCols-1):\n",
    "    #        if axs==[]:\n",
    "    #            axs.append(plt.subplot(gs[timeLev][row, col]))\n",
    "    #        else:\n",
    "    #            axs.append(plt.subplot(gs[timeLev][row, col], sharex=axs[0], sharey=axs[0]))\n",
    "                \n",
    "    varPlot[timeLev] = {} \n",
    "    cbars = []\n",
    "    # Loop over variables\n",
    "    for row, (variable, log, colormap, vmin, vmax) in enumerate(zip(variables, log_plot, colormaps, vmins, vmaxs)):\n",
    "        if variable == 'observedSpeed':\n",
    "            var_to_plot = np.sqrt(m.variables['observedSurfaceVelocityX'][timeLev][:]**2 + \n",
    "                                  m.variables['observedSurfaceVelocityY'][timeLev][:]**2)\n",
    "        else:\n",
    "            var_to_plot = m.variables[variable][timeLev][:]\n",
    "        \n",
    "        #if len(np.shape(var_to_plot)) == 1:\n",
    "        #    var_to_plot = var_to_plot.reshape((1, np.shape(var_to_plot)[0]))\n",
    "        \n",
    "        if 'Speed' in variable:\n",
    "            units = 'm yr^{-1}'\n",
    "            var_to_plot *= sec_per_year\n",
    "        else:\n",
    "            try:\n",
    "                units = m.variables[variable].attrs['units']\n",
    "            except AttributeError:\n",
    "                units = 'no-units'\n",
    "            \n",
    "        if log == 'True':\n",
    "            var_to_plot = np.log10(var_to_plot)\n",
    "            var_to_plot[np.isinf(var_to_plot)] = np.nan\n",
    "            colorbar_label_prefix = 'log10'\n",
    "        else:\n",
    "            colorbar_label_prefix = ''\n",
    "            \n",
    "        varPlot[timeLev][variable] = []\n",
    "        \n",
    "        # Set lower and upper bounds for plotting\n",
    "        if vmin in ['None', None]:\n",
    "            # 0.1 m/yr is a pretty good lower bound for speed\n",
    "            first_quant = np.nanquantile(var_to_plot[:], 0.01)\n",
    "            if 'Speed' in variable and log == 'True':\n",
    "                vmin = max(first_quant, -1.)\n",
    "            else:\n",
    "                vmin = first_quant\n",
    "        if vmax in ['None', None]:\n",
    "            vmax = np.nanquantile(var_to_plot[:], 0.99)\n",
    "        # Plot bedTopography on an asymmetric colorbar if appropriate\n",
    "        if ( (variable == 'bedTopography') and\n",
    "            (np.nanquantile(var_to_plot[:], 0.99) > 0.) and\n",
    "            (colormap in divColorMaps) ):\n",
    "            norm = TwoSlopeNorm(vmin=vmin, vmax=vmax, vcenter=0.)\n",
    "        else:\n",
    "            norm = Normalize(vmin=vmin, vmax=vmax)\n",
    "            \n",
    "        if 'cellMask' in m.variables.keys():\n",
    "            calc_mask = True\n",
    "            cellMask = m.variables[\"cellMask\"][:]\n",
    "            floatMask = (cellMask & floatValue) // floatValue\n",
    "            dynamicMask = (cellMask & dynamicValue) // dynamicValue\n",
    "            groundingLineMask = (cellMask & groundingLineValue) // groundingLineValue\n",
    "            initialExtentMask = (cellMask & initialExtentValue) // initialExtentValue\n",
    "        elif ('cellMask' not in f.variables.keys() and\n",
    "              'thickness' in f.variables.keys() and \n",
    "              'bedTopography' in f.variables.keys() ):\n",
    "            print(f'cellMask is not present in output file {run}; calculating masks from ice thickness')\n",
    "            calc_mask = True\n",
    "            groundedMask = (f.variables['thickness'][:] > (-rhosw / rhoi * f.variables['bedTopography'][:]))\n",
    "            groundingLineMask = groundedMask.copy()  # This isn't technically correct, but works for plotting\n",
    "            initialExtentMask = (f.variables['thickness'][:] > 0.)\n",
    "        else:\n",
    "            print(f'cellMask and thickness and/or bedTopography not present in output file {run};'\n",
    "                  ' Skipping mask calculation.')\n",
    "            calc_mask = False\n",
    "            \n",
    "        # Loop over time levels\n",
    "        #index = row * (nCols - 1) + col\n",
    "        if calc_mask:\n",
    "            plt.tricontour(triang, groundingLineMask[0, :],levels=[0.9999], colors='grey',linestyles='solid')\n",
    "            plt.tricontour(triang, groundingLineMask[timeLev, :],levels=[0.9999], colors='white',linestyles='solid')\n",
    "            plt.tricontour(triang, initialExtentMask[timeLev, :],levels=[0.9999], colors='black',linestyles='solid')\n",
    "        varPlot[timeLev][variable].append(plt.tripcolor(triang, var_to_plot[:], cmap=colormap,shading='flat', norm=norm))\n",
    "        #plt.set_aspect('equal')\n",
    "        print(\"loop {}\".format(timeLev))\n",
    "        plt.title(f'year = {yr:0.2f}')\n",
    "        plt.show()\n",
    "        #cbars.append(Colorbar(ax=cbar_ax, mappable=varPlot[timeLev][variable][0], orientation='vertical',\n",
    "                              #label=f'{colorbar_label_prefix}{variable} (${units}$)'))\n",
    "    #figs[timeLev].tight_layout()\n",
    "    #figs[timeLev].savefig(timeLev, dpi=400, bbox_inches='tight')\n",
    "    "
   ]
  },
  {
   "cell_type": "code",
   "execution_count": null,
   "id": "a26c7b9d-8687-4985-ba9e-170881da49e3",
   "metadata": {},
   "outputs": [],
   "source": []
  }
 ],
 "metadata": {
  "kernelspec": {
   "display_name": "Python 3 (ipykernel)",
   "language": "python",
   "name": "python3"
  },
  "language_info": {
   "codemirror_mode": {
    "name": "ipython",
    "version": 3
   },
   "file_extension": ".py",
   "mimetype": "text/x-python",
   "name": "python",
   "nbconvert_exporter": "python",
   "pygments_lexer": "ipython3",
   "version": "3.10.8"
  }
 },
 "nbformat": 4,
 "nbformat_minor": 5
}
