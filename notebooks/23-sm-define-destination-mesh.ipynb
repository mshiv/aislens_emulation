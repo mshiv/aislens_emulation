{
 "cells": [
  {
   "cell_type": "code",
   "execution_count": 15,
   "id": "d4df5493-b877-4e1e-901b-7a86869b1f0b",
   "metadata": {},
   "outputs": [],
   "source": [
    "import xarray as xr\n",
    "import numpy as np\n",
    "import cftime\n",
    "import matplotlib.pyplot as plt"
   ]
  },
  {
   "cell_type": "code",
   "execution_count": 2,
   "id": "856bf8ca-3573-42e8-89af-1a0b7fa34cc0",
   "metadata": {},
   "outputs": [],
   "source": [
    "# FILE DIRECTORIES\n",
    "\n",
    "# Define inDirName based on current working directories (relative paths to be constant across machines)\n",
    "inDirName = \"/Users/smurugan9/research/aislens/aislens_emulation/\"\n",
    "#inDirName = \"/storage/home/hcoda1/6/smurugan9/\"\n",
    "DIR_ISMIP6 = 'data/external/MALI_projects/ISMIP6_2300/'"
   ]
  },
  {
   "cell_type": "code",
   "execution_count": 4,
   "id": "e90bdcc1-07ec-44d4-8efe-49437f40aa60",
   "metadata": {},
   "outputs": [],
   "source": [
    "# Base path to the processed input ismip6 ocean and smb forcing files.\n",
    "# User has to supply.\n",
    "forcing_basepath = \"forcing/ais_mesh_4to20km_res/tier1_experiments/\"\n",
    "\n",
    "# Path to the initial condition file. User has to supply.\n",
    "init_cond_path = \"initial_conditions/AIS_4to20km_20230105/relaxation_0TGmelt_10yr/relaxed_10yrs_4km.nc\"\n",
    "\n",
    "# Path to the file for the basal melt parametrization coefficients.\n",
    "melt_params_path = \"initial_conditions/AIS_4to20km_20230105/basin_and_coeff_gamma0_DeltaT_quadratic_non_local_after_relaxation.nc\"\n",
    "\n",
    "# Path to the region mask file\n",
    "region_mask_path = \"initial_conditions/AIS_4to20km_20230105/AIS_4to20km_r01_20220907.regionMask_ismip6.nc\"\n"
   ]
  },
  {
   "cell_type": "code",
   "execution_count": 5,
   "id": "1540134e-583e-4cb2-aa6f-ea9267af1c8e",
   "metadata": {},
   "outputs": [],
   "source": [
    "# ctrlAE\n",
    "obsTF = xr.open_dataset(inDirName+DIR_ISMIP6+forcing_basepath+\"ctrlAE/AIS_4to20km_r01_20220907_obs_TF_1995-2017_8km_x_60m.nc\")"
   ]
  },
  {
   "cell_type": "code",
   "execution_count": 24,
   "id": "7c336b04-6cf2-4eca-b73d-50a3d9d00aa7",
   "metadata": {},
   "outputs": [],
   "source": [
    "ds_np = np.empty(obsTF.ismip6shelfMelt_3dThermalForcing[:,:,0].shape)\n",
    "ds = xr.DataArray(ds_np, \n",
    "                 dims=obsTF.ismip6shelfMelt_3dThermalForcing[:,:,0].dims,\n",
    "                 coords=obsTF.ismip6shelfMelt_3dThermalForcing[:,:,0].coords,\n",
    "                 attrs=MELTDRAFT_OBS.melt.attrs)"
   ]
  },
  {
   "cell_type": "code",
   "execution_count": 28,
   "id": "06058760-1b1f-4b90-9aab-390b8c63ee48",
   "metadata": {},
   "outputs": [],
   "source": [
    "ds = ds.to_dataset(name=\"subm\")"
   ]
  },
  {
   "cell_type": "code",
   "execution_count": 30,
   "id": "f0184ccb-a8bc-438c-994c-0c5140b3c693",
   "metadata": {},
   "outputs": [],
   "source": [
    "ds.to_netcdf(inDirName+DIR_ISMIP6+\"landice_grid.nc\")"
   ]
  },
  {
   "cell_type": "code",
   "execution_count": 31,
   "id": "9bfc122d-063b-4ee7-b0e4-4d1519c8d8c6",
   "metadata": {},
   "outputs": [
    {
     "data": {
      "text/plain": [
       "'/Users/smurugan9/research/aislens/aislens_emulation/data/external/MALI_projects/ISMIP6_2300/landice_grid.nc'"
      ]
     },
     "execution_count": 31,
     "metadata": {},
     "output_type": "execute_result"
    }
   ],
   "source": [
    "inDirName+DIR_ISMIP6+\"landice_grid.nc\""
   ]
  },
  {
   "cell_type": "code",
   "execution_count": 22,
   "id": "772c0a89-aebc-4ebc-aefc-1ff1b2d96f9d",
   "metadata": {},
   "outputs": [],
   "source": [
    "# File path directories\n",
    "\n",
    "inDirName = '/Users/smurugan9/research/aislens/aislens_emulation/'\n",
    "DIR_external = 'data/external/'\n",
    "DIR_interim = 'data/interim/'\n",
    "\n",
    "# DATASET FILEPATHS\n",
    "# Basal melt observations from Paolo 2023\n",
    "DIR_basalMeltObs = 'data/external/Paolo2023/'\n",
    "# Ocean model output - E3SM (SORRMv2.1.ISMF), data received from Darin Comeau / Matt Hoffman at LANL\n",
    "DIR_SORRMv21 = 'data/external/SORRMv2.1.ISMF/regridded_output/'\n",
    "\n",
    "# INTERIM GENERATED FILEPATHS\n",
    "DIR_basalMeltObs_Interim = 'data/interim/Paolo2023/iceShelves_dedraft/'\n",
    "DIR_SORRMv21_Interim = 'data/interim/SORRMv2.1.ISMF/iceShelves_dedraft/'\n",
    "\n",
    "# DATA FILENAMES\n",
    "FILE_basalMeltObs = 'ANT_G1920V01_IceShelfMelt.nc'\n",
    "FILE_MeltDraftObs = 'ANT_G1920V01_IceShelfMeltDraft.nc'\n",
    "FILE_SORRMv21 = 'Regridded_SORRMv2.1.ISMF.FULL.nc'\n",
    "\n",
    "\n",
    "FILE_iceShelvesShape = 'iceShelves.geojson'"
   ]
  },
  {
   "cell_type": "code",
   "execution_count": 23,
   "id": "4800050b-33c5-4357-bc0a-974912e75a2a",
   "metadata": {},
   "outputs": [],
   "source": [
    "MELTDRAFT_OBS = xr.open_dataset(inDirName+DIR_basalMeltObs+FILE_MeltDraftObs)"
   ]
  }
 ],
 "metadata": {
  "kernelspec": {
   "display_name": "Python 3 (ipykernel)",
   "language": "python",
   "name": "python3"
  },
  "language_info": {
   "codemirror_mode": {
    "name": "ipython",
    "version": 3
   },
   "file_extension": ".py",
   "mimetype": "text/x-python",
   "name": "python",
   "nbconvert_exporter": "python",
   "pygments_lexer": "ipython3",
   "version": "3.10.8"
  }
 },
 "nbformat": 4,
 "nbformat_minor": 5
}
