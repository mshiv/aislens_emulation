{
 "cells": [
  {
   "cell_type": "code",
   "execution_count": null,
   "id": "d10106f8",
   "metadata": {},
   "outputs": [],
   "source": [
    "import numpy as np\n",
    "import matplotlib.pyplot as plt\n",
    "import pandas as pd\n",
    "\n",
    "N = 500\n",
    "  \n",
    "# normal distribution\n",
    "data = np.random.randn(N)\n",
    "  \n",
    "# sort the data in ascending order\n",
    "x = np.sort(data)\n",
    "  \n",
    "# get the cdf values of y\n",
    "y = np.arange(N) / float(N)\n",
    "  \n",
    "# plotting\n",
    "plt.xlabel('x-axis')\n",
    "plt.ylabel('y-axis')\n",
    "  \n",
    "plt.title('CDF using sorting the data')\n",
    "  \n",
    "plt.plot(x, y, marker='o')"
   ]
  }
 ],
 "metadata": {
  "kernelspec": {
   "display_name": "Python 3 (ipykernel)",
   "language": "python",
   "name": "python3"
  },
  "language_info": {
   "codemirror_mode": {
    "name": "ipython",
    "version": 3
   },
   "file_extension": ".py",
   "mimetype": "text/x-python",
   "name": "python",
   "nbconvert_exporter": "python",
   "pygments_lexer": "ipython3",
   "version": "3.10.8"
  }
 },
 "nbformat": 4,
 "nbformat_minor": 5
}
