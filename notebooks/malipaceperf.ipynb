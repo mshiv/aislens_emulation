{
 "cells": [
  {
   "cell_type": "code",
   "execution_count": 3,
   "id": "6c319843-3f1d-461f-957b-ee902e95adc6",
   "metadata": {},
   "outputs": [],
   "source": [
    "import numpy as np\n",
    "import matplotlib.pyplot as plt\n",
    "import pandas as pd"
   ]
  },
  {
   "cell_type": "code",
   "execution_count": 31,
   "id": "122d9cc5-e82f-4658-bb01-0973e46cc9a0",
   "metadata": {},
   "outputs": [],
   "source": [
    "d = {'ntasks': [60,64,68,72,76,80,84,88,92,96,100,104,108,112,116,120], \n",
    "     'nodes': [3,3,3,3,4,4,4,4,4,4,5,5,5,5,5,5], \n",
    "     'wtime': [7669,7245,6803,6494,6152,5849,5580,5350,5189,5021,4716,4541,4405,4271,4207,4092]}\n",
    "\n",
    "df = pd.DataFrame(data=d)"
   ]
  },
  {
   "cell_type": "code",
   "execution_count": null,
   "id": "4c1e077b-b745-4796-b552-2dde4e7e343c",
   "metadata": {},
   "outputs": [],
   "source": [
    "fig, ax = plt.subplots()\n",
    "\n",
    "# mkr_dict = {'4': 'x', '8': '+', '12': 'o'}\n",
    "\n",
    "\n",
    "scatter = ax.scatter(x=df.wtime*df.ntasks/3600, y=df.ntasks)\n",
    "ax.set_xlabel('Walltime (s) per processor for 15 yr simulation')\n",
    "ax.set_ylabel('# of Processors')"
   ]
  },
  {
   "cell_type": "code",
   "execution_count": null,
   "id": "407e1006-fe12-4760-a747-1ea7d45cf585",
   "metadata": {},
   "outputs": [],
   "source": [
    "fig, ax = plt.subplots()\n",
    "#ax.plot(df.wtime*df.ntasks/3600, df.ntasks, 'x')\n",
    "\n",
    "scatter = ax.scatter(y=df.wtime*df.nodes*24/(15*3600), x=df.nodes*24, c=df.nodes, cmap='Set1')\n",
    "ax.grid()\n",
    "ax.set_ylabel('CPU hours for 1 yr simulation')\n",
    "#ax.set_xlim([8,10])\n",
    "#ax.set_ylim([48,144])\n",
    "ax.set_xlabel('# of Processors')\n",
    "legend = ax.legend(*scatter.legend_elements(),loc=\"lower right\", title=\"Nodes\")\n",
    "ax.add_artist(legend)"
   ]
  },
  {
   "cell_type": "code",
   "execution_count": null,
   "id": "578c2e04-0d56-4d2c-ad91-9a8474044530",
   "metadata": {},
   "outputs": [],
   "source": [
    "fig, ax = plt.subplots()\n",
    "\n",
    "# mkr_dict = {'4': 'x', '8': '+', '12': 'o'}\n",
    "\n",
    "scatter = ax.scatter(y=df.wtime/(3600*15), x=df.nasks, c=df.nodes, marker='x', cmap='Set1')\n",
    "ax.set_xlabel('Walltime (days) per processor for 15 yr simulation')\n",
    "ax.set_ylabel('# of Processors')\n",
    "ax.grid()\n",
    "ax.set_xlabel('Walltime (hrs) for 1 yr simulation')\n",
    "ax.set_ylabel('# of Processors (ntasks)')\n",
    "#ax.set_xlim([0,0.25])\n",
    "#ax.set_ylim([48,144])\n",
    "legend = ax.legend(*scatter.legend_elements(),loc=\"upper right\", title=\"Nodes\")\n",
    "ax.add_artist(legend)"
   ]
  },
  {
   "cell_type": "code",
   "execution_count": 30,
   "id": "dee0a08c-aa21-48dc-9c22-05b882d5e205",
   "metadata": {},
   "outputs": [],
   "source": [
    "d = {'nodes': [1, 2, 2, 2, 2, 3, 3, 3, 3, 3, 4, 4, 4, 4, 4, 5, 5, 5, 5, 5, 6], \n",
    "     'nproc': [16, 2, 4, 8, 16, 1, 2, 4, 8, 16, 1, 2, 4, 8, 16, 1, 2, 4, 8, 16, 1],\n",
    "     'mempc': [12, 8, 8, 8, 4, 4, 4, 4, 4, 4, 4, 4, 4, 4, 4, 4, 4, 4, 4, 4, 4],\n",
    "     'wtime': [19201, 10657, 10075, 10064, 10048, 8987, 6777, 6698, 6864, 6663, 7197, 5170, 5066, 5064, 5099, 5248, 4126, 4136, 4139, 4154, 4696]}\n",
    "\n",
    "df = pd.DataFrame(data=d)"
   ]
  },
  {
   "cell_type": "code",
   "execution_count": null,
   "id": "183957bc-ab6c-4b21-9013-7fd932599272",
   "metadata": {},
   "outputs": [],
   "source": [
    "fig, ax = plt.subplots()\n",
    "\n",
    "# mkr_dict = {'4': 'x', '8': '+', '12': 'o'}\n",
    "\n",
    "\n",
    "scatter = ax.scatter(x=df.wtime, y=df.nproc, c=df.nodes, s=df.mempc, cmap='Set1')\n",
    "ax.set_xlabel('Walltime (s) per processor for 15 yr simulation')\n",
    "ax.set_ylabel('# of Processors')\n",
    "\n",
    "handles, labels = scatter.legend_elements(prop=\"sizes\", alpha=0.8)\n",
    "legend2 = ax.legend(handles, labels, loc=\"lower right\", title=\"mem-per-cpu\")\n",
    "\n",
    "# produce a legend with the unique colors from the scatter\n",
    "legend = ax.legend(*scatter.legend_elements(),loc=\"upper right\", title=\"Nodes\")\n",
    "\n",
    "ax.add_artist(legend)\n",
    "ax.add_artist(legend2)"
   ]
  },
  {
   "cell_type": "code",
   "execution_count": 43,
   "id": "1225f907-4200-44fc-8508-7cba5dcaf215",
   "metadata": {},
   "outputs": [],
   "source": [
    "sim_test_period = 15\n",
    "sim_act_period = 300\n",
    "\n",
    "wtime_perproc_peryr = df.wtime/df.nproc/sim_test_period\n",
    "wtime_total = wtime_perproc_peryr*df.nproc*sim_act_period # seconds\n",
    "wtime_total_hrs = wtime_total/3600\n",
    "wtime_total_days = wtime_total_hrs/24"
   ]
  },
  {
   "cell_type": "code",
   "execution_count": null,
   "id": "e86eff0a-8d7f-4c63-84d4-a36ce9dd783b",
   "metadata": {},
   "outputs": [],
   "source": [
    "fig, ax = plt.subplots()\n",
    "\n",
    "scatter = ax.scatter(x=wtime_total_days, y=df.nproc, c=df.nodes, cmap='Set1', s=df.mempc)\n",
    "ax.set_xlabel('Expected walltime (days) for 300 yr simulation')\n",
    "ax.set_ylabel('# of Processors')\n",
    "\n",
    "# produce a legend with the unique colors from the scatter\n",
    "legend = ax.legend(*scatter.legend_elements(),\n",
    "                    loc=\"lower right\", title=\"Nodes\")\n",
    "ax.add_artist(legend)\n",
    "\n",
    "\n",
    "handles, labels = scatter.legend_elements(prop=\"sizes\", alpha=0.8)\n",
    "legend2 = ax.legend(handles, labels, loc=\"lower right\", title=\"mem-per-cpu\")\n"
   ]
  }
 ],
 "metadata": {
  "kernelspec": {
   "display_name": "Python 3 (ipykernel)",
   "language": "python",
   "name": "python3"
  },
  "language_info": {
   "codemirror_mode": {
    "name": "ipython",
    "version": 3
   },
   "file_extension": ".py",
   "mimetype": "text/x-python",
   "name": "python",
   "nbconvert_exporter": "python",
   "pygments_lexer": "ipython3",
   "version": "3.10.8"
  }
 },
 "nbformat": 4,
 "nbformat_minor": 5
}
