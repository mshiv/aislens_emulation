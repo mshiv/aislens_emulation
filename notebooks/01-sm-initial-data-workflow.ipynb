{
 "cells": [
  {
   "cell_type": "code",
   "execution_count": null,
   "id": "9e38fca7",
   "metadata": {},
   "outputs": [],
   "source": [
    "import sys\n",
    "import os\n",
    "import cartopy.crs as ccrs\n",
    "import matplotlib.pyplot as plt\n",
    "from matplotlib import animation, rc\n",
    "from IPython.display import HTML, display # NOTE: will require ffmpeg installation\n",
    "import numpy as np\n",
    "import xarray as xr\n",
    "import pandas as pd\n",
    "import geopandas as gpd\n",
    "import rioxarray\n",
    "from shapely.geometry import mapping\n",
    "import seaborn as sns\n",
    "from scipy.stats import pearsonr\n",
    "# from mpl_toolkits.axes_grid1.inset_locator import zoomed_inset_axes (for inset plots)\n",
    "# from mpl_toolkits.axes_grid1.inset_locator import mark_inset (for inset plots)\n",
    "from xarrayutils.utils import linear_trend, xr_linregress\n",
    "from eofs.standard import Eof"
   ]
  },
  {
   "cell_type": "code",
   "execution_count": 2,
   "id": "1b352944",
   "metadata": {},
   "outputs": [],
   "source": [
    "# Define project repo path\n",
    "inDirName = '/Users/smurugan9/research/aislens/aislens_emulation/'\n",
    "\n",
    "# Data file paths\n",
    "regriddedFluxSSH_filepath = 'data/interim/RegriddedFluxSSH.nc' # Data containing regridded flux and SSH for 150 years\n",
    "iceShelvesShape_filepath = 'data/interim/iceShelves.geojson' # File contains all defined ice shelves\n",
    "figures_folderpath = 'reports/figures/' # Folder for output figures"
   ]
  },
  {
   "cell_type": "code",
   "execution_count": 3,
   "id": "d8a31320",
   "metadata": {},
   "outputs": [],
   "source": [
    "data = xr.open_dataset(inDirName + regriddedFluxSSH_filepath)\n",
    "flux = data.timeMonthly_avg_landIceFreshwaterFlux\n",
    "ssh = data.timeMonthly_avg_ssh\n",
    "lat = data.lat\n",
    "lon = data.lon"
   ]
  },
  {
   "cell_type": "code",
   "execution_count": null,
   "id": "6fee67da",
   "metadata": {},
   "outputs": [],
   "source": [
    "##==================================================\n",
    "##==============ANIMATION===========================\n",
    "##==================================================\n",
    "# Flux trend in time: Contourf animation\n",
    "\n",
    "# Get a handle on the figure and the axes\n",
    "fig, ax = plt.subplots(figsize=(15,8), subplot_kw={'projection': ccrs.SouthPolarStereo()})\n",
    "\n",
    "# vmin=-0.000005\n",
    "# vmax=0.0008\n",
    "\n",
    "# Plot the initial frame.\n",
    "# vmin = np.min(flux), vmax = np.max(flux) obtained manually. These should be modified to skip ocean flux values\n",
    "cax = flux[1,:,:].plot(add_colorbar=True, \n",
    "                       cmap='coolwarm',\n",
    "                       cbar_kwargs={'extend':'neither'})\n",
    "\n",
    "# Next we need to create a function that updates the values for the colormesh, as well as the title.\n",
    "def animate(frame):\n",
    "    cax.set_array(flux[frame,:,:].values.flatten())\n",
    "    ax.set_title(\"time = \" + str(flux.coords['time'].values[frame])[:7])\n",
    "\n",
    "# Finally, we use the animation module to create the animation.\n",
    "ani = animation.FuncAnimation(\n",
    "    fig,             # figure\n",
    "    animate,         # name of the function above\n",
    "    frames=500,       # Could also be iterable or list\n",
    "    interval=100     # ms between frames\n",
    ")"
   ]
  },
  {
   "cell_type": "code",
   "execution_count": null,
   "id": "b3077d4b",
   "metadata": {},
   "outputs": [],
   "source": [
    "# View animation in browser / save to file\n",
    "HTML(ani.to_jshtml())\n",
    "# ani.save(inDirName+figures_folderpath+'AIS_flux.mp4')"
   ]
  },
  {
   "cell_type": "code",
   "execution_count": null,
   "id": "e043fac9",
   "metadata": {},
   "outputs": [],
   "source": [
    "# Sample plot of AIS flux data\n",
    "plt.figure(figsize=(12,8))\n",
    "ax = plt.subplot(111,projection=ccrs.SouthPolarStereo())\n",
    "flux[1000].plot()"
   ]
  },
  {
   "cell_type": "code",
   "execution_count": 5,
   "id": "a5d9e7c2",
   "metadata": {},
   "outputs": [
    {
     "name": "stderr",
     "output_type": "stream",
     "text": [
      "/Users/smurugan9/opt/anaconda3/envs/aislens/lib/python3.10/site-packages/pyproj/crs/crs.py:131: FutureWarning: '+init=<authority>:<code>' syntax is deprecated. '<authority>:<code>' is the preferred initialization method. When making the change, be mindful of axis order changes: https://pyproj4.github.io/pyproj/stable/gotchas.html#axis-order-changes-in-proj-6\n",
      "  in_crs_string = _prepare_from_proj_string(in_crs_string)\n"
     ]
    }
   ],
   "source": [
    "# Read geoJSON region feature file as GeoDataFrame\n",
    "iceshelvesmask = gpd.read_file(inDirName + iceShelvesShape_filepath)\n",
    "# Convert to south polar stereographic projection\n",
    "icems = iceshelvesmask.to_crs({'init': 'epsg:3031'});\n",
    "crs = ccrs.SouthPolarStereo();\n",
    "# Specify projection for data file\n",
    "data.rio.write_crs(\"epsg:3031\",inplace=True);"
   ]
  },
  {
   "cell_type": "code",
   "execution_count": null,
   "id": "047b42dd",
   "metadata": {},
   "outputs": [],
   "source": [
    "icems"
   ]
  },
  {
   "cell_type": "markdown",
   "id": "ecb61756",
   "metadata": {},
   "source": [
    "<div align=\"right\"><em>To-do: Isolate component polygons for Filchner, Ronne, E-Ross, Stange, W-Ross etc. that seem to be missing a separate <strong>region.geojson</strong> file</em></div>"
   ]
  },
  {
   "cell_type": "code",
   "execution_count": null,
   "id": "bdc6b7af",
   "metadata": {},
   "outputs": [],
   "source": [
    "with pd.option_context('display.max_rows', None, 'display.max_columns', None):\n",
    "    print(icems.name)"
   ]
  },
  {
   "cell_type": "code",
   "execution_count": 6,
   "id": "093b1754",
   "metadata": {},
   "outputs": [],
   "source": [
    "## Following section tests the code for 1 ice shelf / catchment:\n",
    "# Iceshelf chosen: \n",
    "#  34 : Amery\n",
    "# 103 : Ronne        #TODO: Split polygons for Ronne1, Ronne2 etc.\n",
    "# 104 : Western Ross #TODO: Split polygons for W-Ross1, W-Ross2 etc.\n",
    "# 105 : Eastern Ross #TODO: Split polygons for E-Ross1, E-Ross2 etc.\n",
    "# 114 : Thwaites\n",
    "\n",
    "basin = 34\n",
    "basinName = icems.name.values[basin]"
   ]
  },
  {
   "cell_type": "code",
   "execution_count": null,
   "id": "7a2da063",
   "metadata": {},
   "outputs": [],
   "source": [
    "plt.figure(figsize=(10,10))\n",
    "ax = plt.subplot(111,projection=ccrs.SouthPolarStereo())\n",
    "ax.gridlines()\n",
    "icems[34:133].boundary.plot(ax=ax,linewidth=0.5)\n",
    "ax.coastlines(resolution='10m', zorder=6,linewidth=0.75)\n",
    "icems.loc[[basin]].plot(ax=ax)"
   ]
  },
  {
   "cell_type": "code",
   "execution_count": 7,
   "id": "529ba61c",
   "metadata": {},
   "outputs": [],
   "source": [
    "# Mask data to chosen basin\n",
    "ds = data.rio.clip(icems.loc[[basin],'geometry'].apply(mapping),icems.crs,drop=False)"
   ]
  },
  {
   "cell_type": "code",
   "execution_count": 8,
   "id": "982b03d9",
   "metadata": {},
   "outputs": [],
   "source": [
    "dsn = ds.dropna('x',how='all')\n",
    "dsn = dsn.dropna('y',how='all')\n",
    "dsn = dsn.dropna('time',how='all')"
   ]
  },
  {
   "cell_type": "code",
   "execution_count": null,
   "id": "e606c8e6",
   "metadata": {},
   "outputs": [],
   "source": [
    "flx = ds.timeMonthly_avg_landIceFreshwaterFlux\n",
    "h = ds.timeMonthly_avg_ssh\n",
    "\n",
    "# Remove NaN values (speed up computation time)\n",
    "flxnna = flx.dropna('x',how='all')\n",
    "flxnna = flxnna.dropna('y',how='all')\n",
    "flxnna = flxnna.dropna('time',how='all')\n",
    "\n",
    "hnna = h.dropna('x',how='all')\n",
    "hnna = hnna.dropna('y',how='all')\n",
    "hnna = hnna.dropna('time',how='all')"
   ]
  },
  {
   "cell_type": "code",
   "execution_count": 9,
   "id": "e153a96c",
   "metadata": {},
   "outputs": [],
   "source": [
    "ds_tm = dsn.mean('time')"
   ]
  },
  {
   "cell_type": "code",
   "execution_count": null,
   "id": "8914f132",
   "metadata": {},
   "outputs": [],
   "source": [
    "ds_rgrs = xr_linregress(dsn.timeMonthly_avg_ssh, dsn.timeMonthly_avg_landIceFreshwaterFlux, dim='time')"
   ]
  },
  {
   "cell_type": "code",
   "execution_count": null,
   "id": "21119650",
   "metadata": {},
   "outputs": [],
   "source": [
    "flxnna_tm = flxnna.mean('time')\n",
    "hnna_tm = hnna.mean('time')"
   ]
  },
  {
   "cell_type": "code",
   "execution_count": null,
   "id": "26b88054",
   "metadata": {},
   "outputs": [],
   "source": [
    "flxn_rgrs = xr_linregress(hnna, flxnna, dim='time')"
   ]
  },
  {
   "cell_type": "code",
   "execution_count": null,
   "id": "404c2cb2",
   "metadata": {},
   "outputs": [],
   "source": [
    "for i in range(1800):\n",
    "    plt.scatter(flxnna[i],hnna[i])\n",
    "plt.xlabel('Flux')\n",
    "plt.ylabel('Depth')"
   ]
  },
  {
   "cell_type": "code",
   "execution_count": null,
   "id": "aa156f10",
   "metadata": {},
   "outputs": [],
   "source": [
    "flxn_prd = flxn_rgrs.slope*hnna.mean('time') + flxn_rgrs.intercept\n",
    "#flxn_prd = flxn_prd.transpose('time','y','x')\n",
    "flxn_ddrft = flx-flxn_prd"
   ]
  },
  {
   "cell_type": "code",
   "execution_count": null,
   "id": "9035af45",
   "metadata": {},
   "outputs": [],
   "source": [
    "ax = plt.subplot(111,projection=ccrs.SouthPolarStereo())\n",
    "ax.coastlines(resolution='10m', zorder=6,linewidth=0.75)\n",
    "#flxn_prd.plot()\n",
    "#flxn_ddrft.mean('time').plot(levels=np.linspace(-2e-15,2e-15,20))\n",
    "#flxn_ddrft.mean('time').plot()\n",
    "#flxnna.mean('time').plot()"
   ]
  },
  {
   "cell_type": "code",
   "execution_count": null,
   "id": "66c87782",
   "metadata": {},
   "outputs": [],
   "source": [
    "flxn_rgrs.r_value.plot()"
   ]
  },
  {
   "cell_type": "code",
   "execution_count": null,
   "id": "b28bb025",
   "metadata": {},
   "outputs": [],
   "source": [
    "# Stack data for ECM calculation, drop NaN values\n",
    "flxnna_stck = flxnna.stack(pxl=['y','x'])\n",
    "flxnna_stckna = flxnna_stck.dropna('pxl',how='all')"
   ]
  },
  {
   "cell_type": "code",
   "execution_count": 16,
   "id": "448b58f0",
   "metadata": {},
   "outputs": [],
   "source": [
    "solver = Eof(flux_np)"
   ]
  },
  {
   "cell_type": "code",
   "execution_count": 27,
   "id": "7e25a0a8",
   "metadata": {},
   "outputs": [
    {
     "data": {
      "text/plain": [
       "(1800, 26, 66)"
      ]
     },
     "execution_count": 27,
     "metadata": {},
     "output_type": "execute_result"
    }
   ],
   "source": []
  },
  {
   "cell_type": "code",
   "execution_count": 22,
   "id": "92a6ec78",
   "metadata": {},
   "outputs": [],
   "source": [
    "flxn_std = dsn.timeMonthly_avg_landIceFreshwaterFlux.std('time')"
   ]
  },
  {
   "cell_type": "code",
   "execution_count": 24,
   "id": "564ae6b1",
   "metadata": {},
   "outputs": [
    {
     "data": {
      "text/plain": [
       "<matplotlib.collections.QuadMesh at 0x18ec51540>"
      ]
     },
     "execution_count": 24,
     "metadata": {},
     "output_type": "execute_result"
    },
    {
     "data": {
      "image/png": "[encoded data removed]",
      "text/plain": [
       "<Figure size 432x288 with 2 Axes>"
      ]
     },
     "metadata": {
      "needs_background": "light"
     },
     "output_type": "display_data"
    }
   ],
   "source": [
    "flxn_std.plot()"
   ]
  },
  {
   "cell_type": "code",
   "execution_count": 13,
   "id": "d0cdcd0d",
   "metadata": {},
   "outputs": [],
   "source": [
    "flux_np = dsn.timeMonthly_avg_landIceFreshwaterFlux.to_numpy()"
   ]
  },
  {
   "cell_type": "code",
   "execution_count": 28,
   "id": "8c6dc58b",
   "metadata": {},
   "outputs": [],
   "source": [
    "pcs = solver.pcs()"
   ]
  },
  {
   "cell_type": "code",
   "execution_count": 29,
   "id": "39f54f39",
   "metadata": {},
   "outputs": [],
   "source": [
    "eofs = solver.eofs()"
   ]
  },
  {
   "cell_type": "code",
   "execution_count": null,
   "id": "ce99b44f",
   "metadata": {},
   "outputs": [],
   "source": [
    "dsn.timeMonthly_avg_landIceFreshwaterFlux"
   ]
  },
  {
   "cell_type": "code",
   "execution_count": 61,
   "id": "b99e55e6",
   "metadata": {},
   "outputs": [],
   "source": [
    "eigenvalues = solver.eigenvalues()"
   ]
  },
  {
   "cell_type": "code",
   "execution_count": 64,
   "id": "90eee6d8",
   "metadata": {},
   "outputs": [],
   "source": [
    "var_expl = eigenvalues/sum(eigenvalues)*100"
   ]
  },
  {
   "cell_type": "code",
   "execution_count": 88,
   "id": "2afd20f3",
   "metadata": {},
   "outputs": [
    {
     "data": {
      "text/plain": [
       "[<matplotlib.lines.Line2D at 0x19148a6e0>]"
      ]
     },
     "execution_count": 88,
     "metadata": {},
     "output_type": "execute_result"
    },
    {
     "data": {
      "image/png": "[encoded data removed]",
      "text/plain": [
       "<Figure size 432x288 with 1 Axes>"
      ]
     },
     "metadata": {
      "needs_background": "light"
     },
     "output_type": "display_data"
    }
   ],
   "source": [
    "plt.plot(var_expl[0:10],'*')"
   ]
  },
  {
   "cell_type": "code",
   "execution_count": 91,
   "id": "ec17be10",
   "metadata": {},
   "outputs": [
    {
     "data": {
      "text/plain": [
       "[<matplotlib.lines.Line2D at 0x191c38070>,\n",
       " <matplotlib.lines.Line2D at 0x191c3ab60>,\n",
       " <matplotlib.lines.Line2D at 0x191e05480>,\n",
       " <matplotlib.lines.Line2D at 0x191e055a0>,\n",
       " <matplotlib.lines.Line2D at 0x191e056c0>,\n",
       " <matplotlib.lines.Line2D at 0x191e057e0>,\n",
       " <matplotlib.lines.Line2D at 0x191e05900>,\n",
       " <matplotlib.lines.Line2D at 0x191e05a20>,\n",
       " <matplotlib.lines.Line2D at 0x191e05b40>,\n",
       " <matplotlib.lines.Line2D at 0x191e05c60>]"
      ]
     },
     "execution_count": 91,
     "metadata": {},
     "output_type": "execute_result"
    },
    {
     "data": {
      "image/png": "[encoded data removed]",
      "text/plain": [
       "<Figure size 1600x800 with 1 Axes>"
      ]
     },
     "metadata": {
      "needs_background": "light"
     },
     "output_type": "display_data"
    }
   ],
   "source": [
    "plt.figure(figsize=(20,10), dpi=80)\n",
    "plt.plot(pcs[:,0:10])"
   ]
  },
  {
   "cell_type": "code",
   "execution_count": 85,
   "id": "6b043f11",
   "metadata": {},
   "outputs": [
    {
     "data": {
      "text/plain": [
       "94.51971383610282"
      ]
     },
     "execution_count": 85,
     "metadata": {},
     "output_type": "execute_result"
    }
   ],
   "source": [
    "sum(var_expl[0:2])"
   ]
  },
  {
   "cell_type": "code",
   "execution_count": null,
   "id": "355a1731",
   "metadata": {},
   "outputs": [],
   "source": [
    "# Fill empirical correlation matrix\n",
    "data = np.zeros([788,788])\n",
    "for i in range(788):\n",
    "    data[i,:] = xr.corr(flxnna_stckna[:],flxnna_stckna[:,i],dim='time')"
   ]
  },
  {
   "cell_type": "code",
   "execution_count": null,
   "id": "26544c3c",
   "metadata": {},
   "outputs": [],
   "source": []
  },
  {
   "cell_type": "code",
   "execution_count": null,
   "id": "23e6e319",
   "metadata": {},
   "outputs": [],
   "source": [
    "plt.figure(figsize=(20,10), dpi=80)\n",
    "plt.imshow(data)\n",
    "plt.colorbar()"
   ]
  },
  {
   "cell_type": "code",
   "execution_count": null,
   "id": "72859f9c",
   "metadata": {},
   "outputs": [],
   "source": [
    "datan = data[np.logical_not(np.isnan(data))]"
   ]
  },
  {
   "cell_type": "code",
   "execution_count": null,
   "id": "c449db22",
   "metadata": {},
   "outputs": [],
   "source": []
  },
  {
   "cell_type": "code",
   "execution_count": null,
   "id": "4c9531ca",
   "metadata": {},
   "outputs": [],
   "source": [
    "# Representative pixel\n",
    "\n",
    "pxl_means = np.nanmean(data,axis=0)\n",
    "ind_pxl = np.where(pxl_means == np.nanmax(pxl_means))\n",
    "rep_pxl = flxnna_stckna[:,ind_pxl[0]].unstack()"
   ]
  },
  {
   "cell_type": "code",
   "execution_count": null,
   "id": "e8a9d874",
   "metadata": {},
   "outputs": [],
   "source": [
    "rep_pxl"
   ]
  },
  {
   "cell_type": "code",
   "execution_count": null,
   "id": "8a783b34",
   "metadata": {},
   "outputs": [],
   "source": [
    "datan = data[np.logical_not(np.isnan(data))]\n",
    "datan = datan.reshape(int(np.sqrt(datan.size)),int(np.sqrt(datan.size)))\n",
    "plt.figure(figsize=(20,10), dpi=80)\n",
    "plt.pcolormesh(datan)\n",
    "plt.colorbar()"
   ]
  },
  {
   "cell_type": "code",
   "execution_count": null,
   "id": "242cf3eb",
   "metadata": {},
   "outputs": [],
   "source": []
  },
  {
   "cell_type": "code",
   "execution_count": null,
   "id": "578b9314",
   "metadata": {},
   "outputs": [],
   "source": []
  },
  {
   "cell_type": "code",
   "execution_count": null,
   "id": "2a9c8952",
   "metadata": {},
   "outputs": [],
   "source": [
    "eof1 = solver.eofsAsCovariance(neofs=2)"
   ]
  },
  {
   "cell_type": "code",
   "execution_count": null,
   "id": "8a36e427",
   "metadata": {},
   "outputs": [],
   "source": [
    "plt.figure(figsize=(20,20), dpi=80)\n",
    "plt.imshow(data)\n",
    "plt.colorbar()"
   ]
  },
  {
   "cell_type": "code",
   "execution_count": null,
   "id": "b478c239",
   "metadata": {},
   "outputs": [],
   "source": [
    "plt.figure(figsize=(20,10), dpi=80)\n",
    "plt.contourf(flxnna_stckna)\n",
    "plt.colorbar()"
   ]
  },
  {
   "cell_type": "code",
   "execution_count": null,
   "id": "90d1c791",
   "metadata": {},
   "outputs": [],
   "source": [
    "# Remove NaN values\n",
    "fl_stack = flx.stack(s=['time','y','x']) # Reason for long runtimes?\n",
    "fln = fl_stack[fl_stack.notnull()]\n",
    "flxn = fln.unstack()\n",
    "flxn_ts = flxn.sum(['x','y'])"
   ]
  },
  {
   "cell_type": "code",
   "execution_count": null,
   "id": "9ff32b67",
   "metadata": {},
   "outputs": [],
   "source": [
    "h_stack = h.stack(s=['time','y','x'])\n",
    "hn = h_stack[h_stack.notnull()]\n",
    "sshn = hn.unstack()"
   ]
  },
  {
   "cell_type": "code",
   "execution_count": null,
   "id": "912dca4d",
   "metadata": {},
   "outputs": [],
   "source": [
    "flxn_stck = flxn.stack(z=['y','x'])\n",
    "# flxn_stck = flxn_stck.fillna(0)"
   ]
  },
  {
   "cell_type": "code",
   "execution_count": null,
   "id": "d6ad11b0",
   "metadata": {},
   "outputs": [],
   "source": [
    "# flxn_stck\n",
    "# plt.imshow(flxn_stck, cmap='hot')\n",
    "# sns.heatmap(flxn_stck,annot=True)\n",
    "# for i in range(flxn_stck.time.size):"
   ]
  },
  {
   "cell_type": "code",
   "execution_count": null,
   "id": "30aa4a00",
   "metadata": {},
   "outputs": [],
   "source": [
    "plt.figure(figsize=(20,10), dpi=80)\n",
    "im = plt.imshow(flxn_stck, cmap='hot')\n",
    "plt.colorbar(im)"
   ]
  },
  {
   "cell_type": "code",
   "execution_count": null,
   "id": "d04a51f7",
   "metadata": {},
   "outputs": [],
   "source": [
    "flxn_stckna = flxn_stck.dropna('z')"
   ]
  },
  {
   "cell_type": "code",
   "execution_count": null,
   "id": "284a52db",
   "metadata": {},
   "outputs": [],
   "source": [
    "flxnn = flxn_stckna.unstack()"
   ]
  },
  {
   "cell_type": "code",
   "execution_count": null,
   "id": "55671049",
   "metadata": {},
   "outputs": [],
   "source": [
    "flxn_stckna"
   ]
  },
  {
   "cell_type": "code",
   "execution_count": null,
   "id": "394c0cf5",
   "metadata": {},
   "outputs": [],
   "source": [
    "plt.figure(figsize=(20,8), dpi=80)\n",
    "for i in range(flxn_stckna.z.size):# range(flxn_stck.time.size):\n",
    "    plt.plot(flxn_stck[:,i])\n",
    "    plt.ylim([-3e-6,0.00064763])"
   ]
  },
  {
   "cell_type": "code",
   "execution_count": null,
   "id": "4631cd74",
   "metadata": {},
   "outputs": [],
   "source": [
    "data = np.zeros([788,788])\n",
    "\n",
    "for i in range(788):\n",
    "    for j in range(788):\n",
    "        data[i,j] = xr.corr(flxnna_stckna[:,i],flxnna_stckna[:,j])\n",
    "        print('calculated...{},{}'.format(i,j))"
   ]
  },
  {
   "cell_type": "code",
   "execution_count": null,
   "id": "6d1a8a5e",
   "metadata": {},
   "outputs": [],
   "source": [
    "h.mean('time')"
   ]
  },
  {
   "cell_type": "code",
   "execution_count": null,
   "id": "f60a0c41",
   "metadata": {},
   "outputs": [],
   "source": [
    "def multi_apply_along_axis(func1d, axis, arrs, *args, **kwargs):\n",
    "    \"\"\"\n",
    "    Given a function `func1d(A, B, C, ..., *args, **kwargs)`  that acts on \n",
    "    multiple one dimensional arrays, apply that function to the N-dimensional\n",
    "    arrays listed by `arrs` along axis `axis`\n",
    "    \n",
    "    If `arrs` are one dimensional this is equivalent to::\n",
    "    \n",
    "        func1d(*arrs, *args, **kwargs)\n",
    "    \n",
    "    If there is only one array in `arrs` this is equivalent to::\n",
    "    \n",
    "        numpy.apply_along_axis(func1d, axis, arrs[0], *args, **kwargs)\n",
    "        \n",
    "    All arrays in `arrs` must have compatible dimensions to be able to run\n",
    "    `numpy.concatenate(arrs, axis)`\n",
    "    \n",
    "    Arguments:\n",
    "        func1d:   Function that operates on `len(arrs)` 1 dimensional arrays,\n",
    "                  with signature `f(*arrs, *args, **kwargs)`\n",
    "        axis:     Axis of all `arrs` to apply the function along\n",
    "        arrs:     Iterable of numpy arrays\n",
    "        *args:    Passed to func1d after array arguments\n",
    "        **kwargs: Passed to func1d as keyword arguments\n",
    "    \"\"\"\n",
    "    # Concatenate the input arrays along the calculation axis to make one big\n",
    "    # array that can be passed in to `apply_along_axis`\n",
    "    carrs = np.concatenate(arrs, axis)\n",
    "    \n",
    "    # We'll need to split the concatenated arrays up before we apply `func1d`,\n",
    "    # here's the offsets to split them back into the originals\n",
    "    offsets=[]\n",
    "    start=0\n",
    "    for i in range(len(arrs)-1):\n",
    "        start += arrs[i].shape[axis]\n",
    "        offsets.append(start)\n",
    "            \n",
    "    # The helper closure splits up the concatenated array back into the components of `arrs`\n",
    "    # and then runs `func1d` on them\n",
    "    def helperfunc(a, *args, **kwargs):\n",
    "        arrs = np.split(a, offsets)\n",
    "        return func1d(*[*arrs, *args], **kwargs)\n",
    "    \n",
    "    # Run `apply_along_axis` along the concatenated array\n",
    "    return np.apply_along_axis(helperfunc, axis, carrs, *args, **kwargs)"
   ]
  },
  {
   "cell_type": "code",
   "execution_count": null,
   "id": "b5fdc1ab",
   "metadata": {},
   "outputs": [],
   "source": [
    "corr = multi_apply_along_axis(pearsonr, 0, [flxn_stckna,flxn_stckna])\n",
    "corr.shape"
   ]
  },
  {
   "cell_type": "code",
   "execution_count": null,
   "id": "86dcfc88",
   "metadata": {},
   "outputs": [],
   "source": [
    "fig, axes = plt.subplots(1,2, figsize=(10,3))\n",
    "\n",
    "p0 = axes[0].pcolormesh(corr[0,:])\n",
    "plt.colorbar(p0, ax=axes[0])\n",
    "axes[0].set_title('Pearson Correlation Coefficient')\n",
    "\n",
    "p1 = axes[1].pcolormesh(numpy.log(corr[1,:]))\n",
    "axes[1].set_title('Log p-value')\n",
    "plt.colorbar(p1, ax=axes[1])"
   ]
  },
  {
   "cell_type": "code",
   "execution_count": null,
   "id": "d2562ae7",
   "metadata": {},
   "outputs": [],
   "source": [
    "corr.plot()"
   ]
  },
  {
   "cell_type": "code",
   "execution_count": null,
   "id": "fb30eff7",
   "metadata": {},
   "outputs": [],
   "source": [
    "plt.figure(figsize=(20,10), dpi=80)\n",
    "plt.imshow(data2)"
   ]
  },
  {
   "cell_type": "code",
   "execution_count": null,
   "id": "b291162a",
   "metadata": {},
   "outputs": [],
   "source": [
    "(601*601)**2"
   ]
  },
  {
   "cell_type": "code",
   "execution_count": null,
   "id": "ce19dae3",
   "metadata": {},
   "outputs": [],
   "source": [
    "plt.figure(figsize=(20,10), dpi=80)\n",
    "im = plt.imshow(data2)\n",
    "plt.colorbar(im)"
   ]
  },
  {
   "cell_type": "code",
   "execution_count": null,
   "id": "84076e85",
   "metadata": {},
   "outputs": [],
   "source": [
    "plt.plot(flxn_stck[:,3])"
   ]
  },
  {
   "cell_type": "code",
   "execution_count": null,
   "id": "ab6e0308",
   "metadata": {},
   "outputs": [],
   "source": [
    "h.mean('time')"
   ]
  },
  {
   "cell_type": "code",
   "execution_count": null,
   "id": "9a5a807b",
   "metadata": {},
   "outputs": [],
   "source": [
    "flxn_rgrs = xr_linregress(h.mean('time'), flx.mean('time')) # h = independent variable\n",
    "flxn_prd = flxn_rgrs.slope*h + flxn_rgrs.intercept\n",
    "#flxn_prd = flxn_prd.transpose('time','y','x')\n",
    "flxn_ddrft = flxnna - flxn_prd"
   ]
  },
  {
   "cell_type": "code",
   "execution_count": null,
   "id": "474f72e9",
   "metadata": {},
   "outputs": [],
   "source": [
    "flxnna.mean('time')"
   ]
  },
  {
   "cell_type": "code",
   "execution_count": null,
   "id": "d748a4f0",
   "metadata": {},
   "outputs": [],
   "source": [
    "flxn_prd_ts = flxn_prd.sum(['x','y'])\n",
    "flxn_ddrft_ts = flxn_ddrft.sum(['x','y'])"
   ]
  },
  {
   "cell_type": "code",
   "execution_count": null,
   "id": "892408e6",
   "metadata": {},
   "outputs": [],
   "source": [
    "fl_mean = flxnna.mean('time')"
   ]
  },
  {
   "cell_type": "code",
   "execution_count": null,
   "id": "4685af04",
   "metadata": {},
   "outputs": [],
   "source": [
    "flxnna.mean('time').plot()"
   ]
  },
  {
   "cell_type": "code",
   "execution_count": null,
   "id": "4ed0e083",
   "metadata": {},
   "outputs": [],
   "source": [
    "flxn_ddrft.mean('time').plot()"
   ]
  },
  {
   "cell_type": "code",
   "execution_count": null,
   "id": "cce3dd4d",
   "metadata": {},
   "outputs": [],
   "source": [
    "plt.figure(figsize=(25, 8), dpi=80)\n",
    "plt.plot(flxnna.sum(['y','x']))\n",
    "plt.plot(flxn_prd_ts)\n",
    "plt.plot(flxn_ddrft_ts)"
   ]
  },
  {
   "cell_type": "code",
   "execution_count": null,
   "id": "b664c0b1",
   "metadata": {},
   "outputs": [],
   "source": [
    "# spatial scaling factor\n",
    "# done after dedrafting\n",
    "# average over time for each pixel\n",
    "# remove this (scale this in comparison to total average over catchment)\n",
    "\n",
    "flxn_scl_fctr = flxn_ddrft.mean('time')\n",
    "flxn_ts_mean = flxn_ddrft.mean(['y','x'])\n",
    "#flxn_scl = flxn_ts_mean - flxn_scl_fctr\n",
    "#flxn_scl = flxn_scl.transpose('time','y','x')"
   ]
  },
  {
   "cell_type": "code",
   "execution_count": null,
   "id": "0cb31b80",
   "metadata": {},
   "outputs": [],
   "source": [
    "flxn_scl = flxn_ddrft.mean()"
   ]
  },
  {
   "cell_type": "code",
   "execution_count": null,
   "id": "2cef6a58",
   "metadata": {},
   "outputs": [],
   "source": []
  },
  {
   "cell_type": "code",
   "execution_count": null,
   "id": "0205f7b4",
   "metadata": {},
   "outputs": [],
   "source": [
    "#fl_mean.plot()\n",
    "\n",
    "flscl = fl_mean/flxnna.mean()"
   ]
  },
  {
   "cell_type": "code",
   "execution_count": null,
   "id": "dc2faff4",
   "metadata": {},
   "outputs": [],
   "source": [
    "# Original Flux data\n",
    "plt.figure(figsize=(10,5), dpi=80)\n",
    "flscl.plot()"
   ]
  },
  {
   "cell_type": "code",
   "execution_count": null,
   "id": "3941164c",
   "metadata": {},
   "outputs": [],
   "source": [
    "scl = flxn_scl/flxn_scl_fctr"
   ]
  },
  {
   "cell_type": "code",
   "execution_count": null,
   "id": "b0d16578",
   "metadata": {},
   "outputs": [],
   "source": [
    "plt.figure(figsize=(10, 5), dpi=80)\n",
    "scl.plot(levels=np.linspace(-3,3,40))"
   ]
  },
  {
   "cell_type": "code",
   "execution_count": null,
   "id": "5c92ffa9",
   "metadata": {},
   "outputs": [],
   "source": []
  },
  {
   "cell_type": "code",
   "execution_count": null,
   "id": "97faaff1",
   "metadata": {},
   "outputs": [],
   "source": [
    "# fig, ax = plt.subplots(figsize=(15,8), subplot_kw={'projection': ccrs.SouthPolarStereo()})\n",
    "# ax.pcolormesh(flxn_scl_fctr.x, flxn_scl_fctr.y, flxn_scl_fctr)"
   ]
  },
  {
   "cell_type": "code",
   "execution_count": null,
   "id": "8608179a",
   "metadata": {},
   "outputs": [],
   "source": [
    "# Remove climatologies to isolate anomalies / deseasonalize \n",
    "flxn_monthly = flxn_scl.groupby(\"time.month\")\n",
    "flxn_clm = flxn_monthly.mean(\"time\") # Climatologies\n",
    "flxn_anm = flxn_monthly - flxn_clm # Deseasonalized anomalies\n",
    "\n",
    "# Integrate over entire AIS / basin for time series\n",
    "flxn_clm_ts = flxn_clm.sum(['y','x']) # Seasonality / Climatology?\n",
    "flxn_anm_ts = flxn_anm.sum(['y','x'], skipna=True)\n"
   ]
  },
  {
   "cell_type": "code",
   "execution_count": null,
   "id": "bd393dbd",
   "metadata": {},
   "outputs": [],
   "source": [
    "# Annual Climatology\n",
    "plt.figure(figsize=(8, 5), dpi=80)\n",
    "plt.title('Climatology')\n",
    "plt.plot(flxn_clm_ts,color='m', linestyle='dotted', linewidth=1)\n",
    "plt.ylabel('landIceFreshwaterFlux')\n",
    "plt.xlabel('Month')"
   ]
  },
  {
   "cell_type": "code",
   "execution_count": null,
   "id": "cb6af416",
   "metadata": {},
   "outputs": [],
   "source": [
    "flxn_diff = flxn_ddrft_ts - flxn_anm_ts"
   ]
  },
  {
   "cell_type": "code",
   "execution_count": null,
   "id": "733cf74f",
   "metadata": {},
   "outputs": [],
   "source": [
    "plt.figure(figsize=(25, 10), dpi=80)\n",
    "plt.plot(flxn_ts, label='Original MPAS Output', color='g', linestyle='-', linewidth=0.75)\n",
    "plt.plot(flxn_prd_ts, label='Predicted MPAS Output (Draft Regressed)', color='m', linestyle='--', linewidth=0.65)\n",
    "plt.plot(flxn_ddrft_ts, label='Dedrafted MPAS Output', color='y', linestyle='-', linewidth=0.95)\n",
    "plt.plot(flxn_anm_ts, label='Seasonal Anomalies', color='r', linestyle='dotted', linewidth=0.95)\n",
    "plt.plot(flxn_diff, label='Seasonal Cycle', color='b', linestyle='-', linewidth=0.45)\n",
    "plt.legend()"
   ]
  },
  {
   "cell_type": "code",
   "execution_count": null,
   "id": "28406adb",
   "metadata": {},
   "outputs": [],
   "source": [
    "# Plot phase randomized data\n",
    "plt.figure(figsize=(25, 8), dpi=80)\n",
    "\n",
    "spinuptime = 100 # Ignore first few years of data in the phase randomization\n",
    "n_realizations = 50 # Number of random Fourier realizations\n",
    "\n",
    "new_fl = np.empty((n_realizations,flxn_anm_ts[spinuptime:].size))\n",
    "\n",
    "# Time limits for plotting\n",
    "t1 = 60\n",
    "tf = 800\n",
    "\n",
    "for i in range(n_realizations):    \n",
    "    fl = flxn_anm_ts[spinuptime:]\n",
    "    fl_fourier = np.fft.rfft(fl)\n",
    "    random_phases = np.exp(np.random.uniform(0,2*np.pi,int(len(fl)/2+1))*1.0j)\n",
    "    fl_fourier_new = fl_fourier*random_phases\n",
    "    new_fl[i,:] = np.fft.irfft(fl_fourier_new)\n",
    "    plt.plot(new_fl[i,t1:tf],'b', linewidth=0.15)\n",
    "\n",
    "plt.plot(new_fl[45,t1:tf],'b', linewidth=1, label='Randomized Output')\n",
    "plt.plot(new_fl[10,t1:tf],'b', linewidth=1)\n",
    "plt.plot(new_fl[40,t1:tf],'b', linewidth=1)\n",
    "plt.plot(fl[t1:tf],'k', linewidth=3, label='MPAS Output')\n",
    "plt.title('Deseasonalized and Detrended Flux (Years: {:.1f} - {:.1f}): {}'.format((spinuptime+t1)/12,(spinuptime+tf)/12,basinName))\n",
    "plt.ylabel('landIceFreshwaterFlux')\n",
    "plt.legend()"
   ]
  },
  {
   "cell_type": "code",
   "execution_count": null,
   "id": "1a5cc6b1",
   "metadata": {},
   "outputs": [],
   "source": []
  },
  {
   "cell_type": "code",
   "execution_count": null,
   "id": "4cfb241a",
   "metadata": {},
   "outputs": [],
   "source": []
  },
  {
   "cell_type": "code",
   "execution_count": null,
   "id": "ff97c618",
   "metadata": {},
   "outputs": [],
   "source": []
  },
  {
   "cell_type": "code",
   "execution_count": null,
   "id": "5164896c",
   "metadata": {},
   "outputs": [],
   "source": []
  },
  {
   "cell_type": "code",
   "execution_count": null,
   "id": "7a268d84",
   "metadata": {},
   "outputs": [],
   "source": []
  },
  {
   "cell_type": "code",
   "execution_count": null,
   "id": "62ea967d",
   "metadata": {},
   "outputs": [],
   "source": [
    "flx_tmean = flx.mean('time')\n",
    "h_tmean = h.mean('time')"
   ]
  },
  {
   "cell_type": "code",
   "execution_count": null,
   "id": "ac5193de",
   "metadata": {},
   "outputs": [],
   "source": [
    "flx_ts_mean = flx.mean(['y','x'])"
   ]
  },
  {
   "cell_type": "code",
   "execution_count": null,
   "id": "106c3986",
   "metadata": {},
   "outputs": [],
   "source": [
    "plt.figure(figsize=(7, 8), dpi=80)\n",
    "\n",
    "plt.scatter(flx_tmean,h_tmean)\n",
    "plt.xlabel('Flux')\n",
    "plt.ylabel('Sea Surface Height (m)')\n",
    "plt.title('Mean Flux vs. Mean SSH')"
   ]
  },
  {
   "cell_type": "code",
   "execution_count": null,
   "id": "4a31f1a9",
   "metadata": {},
   "outputs": [],
   "source": [
    "# Linear regression along 'time': flux and ssh\n",
    "t1 = 120 # Remove model \"spinup\" data\n",
    "flx_rgrs = xr_linregress(h[t1:], flx_nna[t1:], dim='time') # h = independent variable"
   ]
  },
  {
   "cell_type": "code",
   "execution_count": null,
   "id": "aa592b79",
   "metadata": {},
   "outputs": [],
   "source": []
  },
  {
   "cell_type": "code",
   "execution_count": null,
   "id": "3988b854",
   "metadata": {},
   "outputs": [],
   "source": [
    "flx_prd = flx_rgrs.slope*h + flx_rgrs.intercept"
   ]
  },
  {
   "cell_type": "code",
   "execution_count": null,
   "id": "2fdc5b6c",
   "metadata": {},
   "outputs": [],
   "source": [
    "flx_prd = flx_prd.transpose('time','y','x')"
   ]
  },
  {
   "cell_type": "code",
   "execution_count": null,
   "id": "bbb2dcc7",
   "metadata": {},
   "outputs": [],
   "source": [
    "flx_ddrft = flx - flx_prd"
   ]
  },
  {
   "cell_type": "code",
   "execution_count": null,
   "id": "ff454c46",
   "metadata": {},
   "outputs": [],
   "source": [
    "flx_trend = linear_trend(flx, 'time')\n"
   ]
  },
  {
   "cell_type": "code",
   "execution_count": null,
   "id": "9a326776",
   "metadata": {},
   "outputs": [],
   "source": [
    "flx_trend"
   ]
  },
  {
   "cell_type": "code",
   "execution_count": null,
   "id": "92a9e01c",
   "metadata": {},
   "outputs": [],
   "source": [
    "plt.figure(figsize=(30, 5), dpi=80)\n",
    "flx_ts_mean.plot()"
   ]
  },
  {
   "cell_type": "code",
   "execution_count": null,
   "id": "a5b1c54c",
   "metadata": {},
   "outputs": [],
   "source": [
    "flx_ts.groupby('time.month')"
   ]
  },
  {
   "cell_type": "code",
   "execution_count": null,
   "id": "a3469374",
   "metadata": {},
   "outputs": [],
   "source": [
    "month_length = flx_ts.time.dt.days_in_month\n",
    "flx_ts"
   ]
  },
  {
   "cell_type": "code",
   "execution_count": null,
   "id": "2abe4112",
   "metadata": {},
   "outputs": [],
   "source": [
    "\n",
    "da_stacked = flx.stack(z=['x','y','time'])\n",
    "da_stacked[da_stacked.notnull()]"
   ]
  },
  {
   "cell_type": "code",
   "execution_count": null,
   "id": "7760c032",
   "metadata": {},
   "outputs": [],
   "source": []
  },
  {
   "cell_type": "code",
   "execution_count": null,
   "id": "2b780c3a",
   "metadata": {},
   "outputs": [],
   "source": [
    "plt.figure(figsize=(30, 5), dpi=80)\n",
    "melt_ts = flx_ts*month_length*24*60*60*100*20*1e6/1e12 # GT/year #Factor of 20?\n",
    "melt_ts.plot()"
   ]
  },
  {
   "cell_type": "code",
   "execution_count": null,
   "id": "ed89268d",
   "metadata": {},
   "outputs": [],
   "source": [
    "melt_ts = flx_ts*month_length\n",
    "melt_ts"
   ]
  },
  {
   "cell_type": "code",
   "execution_count": null,
   "id": "0a5e2f22",
   "metadata": {},
   "outputs": [],
   "source": [
    "flx_ts[0]*month_length[0]"
   ]
  },
  {
   "cell_type": "code",
   "execution_count": null,
   "id": "2905f8bb",
   "metadata": {},
   "outputs": [],
   "source": [
    "flx_prd_ts = flx_prd.sum(['y','x'])"
   ]
  },
  {
   "cell_type": "code",
   "execution_count": null,
   "id": "44294a82",
   "metadata": {},
   "outputs": [],
   "source": [
    "flx_ddrft_ts = flx_ddrft.sum(['y','x'])"
   ]
  },
  {
   "cell_type": "code",
   "execution_count": null,
   "id": "a5b19675",
   "metadata": {},
   "outputs": [],
   "source": [
    "flx_prd_ts = flx_prd.mean(['y','x'])\n",
    "flx_ddrft_ts = flx_ddrft.mean(['y','x'])"
   ]
  },
  {
   "cell_type": "code",
   "execution_count": null,
   "id": "ba9793f8",
   "metadata": {},
   "outputs": [],
   "source": [
    "flx_ts = flx.mean(['y','x'])"
   ]
  },
  {
   "cell_type": "code",
   "execution_count": null,
   "id": "43df2944",
   "metadata": {},
   "outputs": [],
   "source": [
    "flx_ts = flx.sum(['y','x'])"
   ]
  },
  {
   "cell_type": "code",
   "execution_count": null,
   "id": "8a1f1906",
   "metadata": {},
   "outputs": [],
   "source": [
    "flx_stck = flx.stack(z=['time','x','y'])\n",
    "flx_notnull = flx_stck[flx_stck.notnull()] # REMOVE EXTERNAL NAN VALUES WHILE CALCULATING TIME SERIES (Stacked dimensions can be unstacked)\n",
    "# TODO: Reset coordinates after unstacking to plot maps incorporating rest of continent/AIS"
   ]
  },
  {
   "cell_type": "code",
   "execution_count": null,
   "id": "96a7d533",
   "metadata": {},
   "outputs": [],
   "source": [
    "flx_nna = flx_notnull.unstack()"
   ]
  },
  {
   "cell_type": "code",
   "execution_count": null,
   "id": "0b167b23",
   "metadata": {},
   "outputs": [],
   "source": [
    "flx_nna_ts = flx_nna.sum(['y','x'])"
   ]
  },
  {
   "cell_type": "code",
   "execution_count": null,
   "id": "039ca625",
   "metadata": {},
   "outputs": [],
   "source": [
    "flx_nna_ts.plot()"
   ]
  },
  {
   "cell_type": "code",
   "execution_count": null,
   "id": "c5241eda",
   "metadata": {},
   "outputs": [],
   "source": [
    "flx_ts.plot()"
   ]
  },
  {
   "cell_type": "code",
   "execution_count": null,
   "id": "81e53a81",
   "metadata": {},
   "outputs": [],
   "source": [
    "plt.figure(figsize=(25, 8), dpi=80)\n",
    "plt.plot(flx_ts)\n",
    "plt.plot(flx_prd_ts)\n",
    "plt.plot(flx_ddrft_ts)"
   ]
  },
  {
   "cell_type": "code",
   "execution_count": null,
   "id": "f8e70a7b",
   "metadata": {},
   "outputs": [],
   "source": [
    "# spatial scaling factor\n",
    "# done after dedrafting\n",
    "# average over time for each pixel\n",
    "# remove this (scale this in comparison to total average over catchment)\n",
    "\n",
    "flx_scl_fctr = flx_ddrft.mean('time')"
   ]
  },
  {
   "cell_type": "code",
   "execution_count": null,
   "id": "d229483a",
   "metadata": {},
   "outputs": [],
   "source": [
    "flx_ts_mean = flx_ddrft.mean(['y','x'])"
   ]
  },
  {
   "cell_type": "code",
   "execution_count": null,
   "id": "7eb0b667",
   "metadata": {},
   "outputs": [],
   "source": [
    "flx_scaled.shape"
   ]
  },
  {
   "cell_type": "code",
   "execution_count": null,
   "id": "9f869594",
   "metadata": {},
   "outputs": [],
   "source": [
    "flx_ts_mean.shape"
   ]
  },
  {
   "cell_type": "code",
   "execution_count": null,
   "id": "ebf3663a",
   "metadata": {},
   "outputs": [],
   "source": [
    "flx_scl = flx_scl_fctr/flx_ts_mean"
   ]
  },
  {
   "cell_type": "code",
   "execution_count": null,
   "id": "36b4eeab",
   "metadata": {},
   "outputs": [],
   "source": [
    "flx_scl = flx_scl_fctr/flx_ddrft_ts"
   ]
  },
  {
   "cell_type": "code",
   "execution_count": null,
   "id": "4a86884d",
   "metadata": {},
   "outputs": [],
   "source": []
  },
  {
   "cell_type": "code",
   "execution_count": null,
   "id": "242b3334",
   "metadata": {},
   "outputs": [],
   "source": [
    "flx_scl = flx_scl.transpose('time','y','x')"
   ]
  },
  {
   "cell_type": "code",
   "execution_count": null,
   "id": "43019ee4",
   "metadata": {},
   "outputs": [],
   "source": [
    "# PCA decomposition"
   ]
  },
  {
   "cell_type": "code",
   "execution_count": null,
   "id": "c2006da8",
   "metadata": {},
   "outputs": [],
   "source": []
  },
  {
   "cell_type": "code",
   "execution_count": null,
   "id": "27a7a4d9",
   "metadata": {},
   "outputs": [],
   "source": []
  },
  {
   "cell_type": "code",
   "execution_count": null,
   "id": "b762b076",
   "metadata": {},
   "outputs": [],
   "source": [
    "# Presents a sample plot of the ice shelf under question with the flux data at any time stamp\n",
    " \n",
    "# Time stamp\n",
    "ts = 200\n",
    "\n",
    "plt.figure(figsize=(15,10))\n",
    "ax = plt.subplot(111,projection=ccrs.SouthPolarStereo())\n",
    "ax.gridlines()\n",
    "ax.coastlines(resolution='10m',linewidth=0.75)\n",
    "flx[ts].plot.contourf(ax=ax,levels=30,zorder=6)\n",
    "icems.boundary.loc[[basin]].plot(ax=ax,color='blue',linewidth=0.25)"
   ]
  },
  {
   "cell_type": "code",
   "execution_count": null,
   "id": "64e41b13",
   "metadata": {},
   "outputs": [],
   "source": [
    "# Remove climatologies to isolate anomalies / deseasonalize \n",
    "flx_monthly = flx_ddrft.groupby(\"time.month\")\n",
    "flx_clm = flx_monthly.mean(\"time\") # Climatologies\n",
    "flx_anm = flx_monthly - flx_clm # Deseasonalized anomalies\n",
    "\n"
   ]
  },
  {
   "cell_type": "code",
   "execution_count": null,
   "id": "3f090aa8",
   "metadata": {},
   "outputs": [],
   "source": [
    "# Integrate over entire AIS / basin for time series\n",
    "flx_clm_ts = flx_clm.mean(['y','x']) # Seasonality / Climatology?\n",
    "flx_anm_ts = flx_anm.mean(['y','x'], skipna=True)"
   ]
  },
  {
   "cell_type": "code",
   "execution_count": null,
   "id": "47d05bbd",
   "metadata": {},
   "outputs": [],
   "source": [
    "# Integrate over entire AIS / basin for time series\n",
    "flx_clm_ts = flx_clm.sum(['y','x']) # Seasonality / Climatology?\n",
    "flx_anm_ts = flx_anm.sum(['y','x'], skipna=True)"
   ]
  },
  {
   "cell_type": "code",
   "execution_count": null,
   "id": "e5583d88",
   "metadata": {},
   "outputs": [],
   "source": [
    "# Annual Climatology\n",
    "plt.figure(figsize=(8, 5), dpi=80)\n",
    "plt.title('Climatology')\n",
    "plt.plot(flx_clm_ts,color='m', linestyle='dotted', linewidth=1)\n",
    "plt.ylabel('landIceFreshwaterFlux')\n",
    "plt.xlabel('Month')"
   ]
  },
  {
   "cell_type": "code",
   "execution_count": null,
   "id": "fc0e4f52",
   "metadata": {},
   "outputs": [],
   "source": [
    "def detrend_dim(data, dim, deg):\n",
    "    # detrend along a single dimension\n",
    "    p = data.polyfit(dim=dim, deg=deg)\n",
    "    fit = xr.polyval(data[dim], p.polyfit_coefficients)\n",
    "    return data - fit"
   ]
  },
  {
   "cell_type": "code",
   "execution_count": null,
   "id": "fde5df9b",
   "metadata": {},
   "outputs": [],
   "source": [
    "def detrend(da, dims, deg=1):\n",
    "    # detrend along multiple dimensions\n",
    "    # only valid for linear detrending (deg=1)\n",
    "    da_detrended = da\n",
    "    for dim in dims:\n",
    "        da_detrended = detrend_dim(da_detrended, dim, deg=deg)\n",
    "    return da_detrended"
   ]
  },
  {
   "cell_type": "code",
   "execution_count": null,
   "id": "210561a8",
   "metadata": {},
   "outputs": [],
   "source": [
    "flx_tmean = flx.mean('time')\n",
    "flx_prd_tmean = flx_prd.mean('time')\n",
    "flx_ddrft_tmean = flx_ddrft.mean('time')\n",
    "# h_tmean = h.mean('time')"
   ]
  },
  {
   "cell_type": "code",
   "execution_count": null,
   "id": "9db252fc",
   "metadata": {},
   "outputs": [],
   "source": [
    "t = 100\n",
    "plt.scatter(flx_tmean,h[t], label=\"Flux: Original MPAS Output\")\n",
    "plt.scatter(flx_prd_tmean,h[t], label=\"Flux: Predicted MPAS Output (Draft Regressed)\")\n",
    "plt.scatter(flx_ddrft_tmean,h[t], label=\"Dedrafted Flux\")\n",
    "plt.legend()"
   ]
  },
  {
   "cell_type": "code",
   "execution_count": null,
   "id": "2265fe32",
   "metadata": {},
   "outputs": [],
   "source": [
    "t=1000\n",
    "plt.scatter(flx[t],h[t], label=\"Flux: Original MPAS Output\")\n",
    "plt.scatter(flx_prd[:,:,t],h[t], label=\"Flux: Predicted MPAS Output (Draft Regressed)\")\n",
    "plt.scatter(flx_ddrft[t],h[t], label=\"Dedrafted Flux\")\n",
    "plt.legend()"
   ]
  },
  {
   "cell_type": "code",
   "execution_count": null,
   "id": "0d37e691",
   "metadata": {},
   "outputs": [],
   "source": []
  },
  {
   "cell_type": "code",
   "execution_count": null,
   "id": "2acfb796",
   "metadata": {},
   "outputs": [],
   "source": [
    "# Remove linear trend from the deseasonalized anomalies\n",
    "flx_dtr = detrend_dim(flx_anm, 'time', 1)"
   ]
  },
  {
   "cell_type": "code",
   "execution_count": null,
   "id": "18bdcac1",
   "metadata": {},
   "outputs": [],
   "source": [
    "# Integrate flux across basin for time series\n",
    "flx_dtr_ts = flx_dtr.sum(['y','x'], skipna=True)"
   ]
  },
  {
   "cell_type": "code",
   "execution_count": null,
   "id": "36c9a422",
   "metadata": {},
   "outputs": [],
   "source": [
    "flx_snl_ts = flx_ddrft_ts - flx_anm_ts # Seasonality trend\n",
    "flx_lnr_ts = flx_anm_ts - flx_dtr_ts # Linear trend"
   ]
  },
  {
   "cell_type": "code",
   "execution_count": null,
   "id": "021a8585",
   "metadata": {},
   "outputs": [],
   "source": [
    "plt.figure(figsize=(25, 10), dpi=80)\n",
    "plt.plot(flx_ts, label='Original MPAS Output', color='g', linestyle='-', linewidth=0.75)\n",
    "plt.plot(flx_prd_ts, label='Predicted MPAS Output (Draft Regressed)', color='m', linestyle='--', linewidth=0.65)\n",
    "plt.plot(flx_ddrft_ts, label='Dedrafted MPAS Output', color='y', linestyle='-', linewidth=0.95)\n",
    "plt.plot(flx_anm_ts, label='Seasonal Anomalies', color='r', linestyle='dotted', linewidth=0.95)\n",
    "plt.plot(flx_dtr_ts, label='Deseasonalized and Linearly Detrended Data', color='k', linewidth=1)\n",
    "plt.plot(flx_snl_ts, label='Seasonal Cycle', color='c', linestyle='dotted', linewidth=0.95)\n",
    "plt.legend()"
   ]
  },
  {
   "cell_type": "code",
   "execution_count": null,
   "id": "54f70015",
   "metadata": {},
   "outputs": [],
   "source": []
  },
  {
   "cell_type": "code",
   "execution_count": null,
   "id": "0b51261e",
   "metadata": {},
   "outputs": [],
   "source": [
    "# Seasonal and Linear Trend Decomposition\n",
    "\n",
    "plt.subplots(3, figsize=(30, 18), dpi=80)\n",
    "plt.suptitle('Seasonal and Linear Trend Decomposition')\n",
    "\n",
    "plt.subplot(311)\n",
    "flx_dtr_ts.plot(color='k', linewidth=2)\n",
    "plt.title('Deseasonalized and Detrended Data')\n",
    "\n",
    "plt.subplot(312)\n",
    "flx_lnr_ts.plot(color='r', linestyle='--', linewidth=0.95)\n",
    "plt.ylabel('Linear Trend')\n",
    "plt.title('')\n",
    "\n",
    "plt.subplot(313)\n",
    "flx_snl_ts.plot(color='m', linestyle='dotted', linewidth=0.95)\n",
    "plt.ylabel('Seasonal Cycle')\n",
    "plt.title('')"
   ]
  },
  {
   "cell_type": "code",
   "execution_count": null,
   "id": "fd0a1fb8",
   "metadata": {},
   "outputs": [],
   "source": [
    "# Plot phase randomized data\n",
    "plt.figure(figsize=(25, 8), dpi=80)\n",
    "\n",
    "spinuptime = 100 # Ignore first few years of data in the phase randomization\n",
    "n_realizations = 50 # Number of random Fourier realizations\n",
    "\n",
    "new_fl = np.empty((n_realizations,flx_dtr_ts[spinuptime:].size))\n",
    "\n",
    "# Time limits for plotting\n",
    "t1 = 60\n",
    "tf = 800\n",
    "\n",
    "for i in range(n_realizations):    \n",
    "    fl = flx_dtr_ts[spinuptime:]\n",
    "    fl_fourier = np.fft.rfft(fl)\n",
    "    random_phases = np.exp(np.random.uniform(0,2*np.pi,int(len(fl)/2+1))*1.0j)\n",
    "    fl_fourier_new = fl_fourier*random_phases\n",
    "    new_fl[i,:] = np.fft.irfft(fl_fourier_new)\n",
    "    plt.plot(new_fl[i,t1:tf],'b', linewidth=0.15)\n",
    "\n",
    "plt.plot(new_fl[45,t1:tf],'b', linewidth=1, label='Randomized Output')\n",
    "plt.plot(new_fl[10,t1:tf],'b', linewidth=1)\n",
    "plt.plot(new_fl[40,t1:tf],'b', linewidth=1)\n",
    "plt.plot(fl[t1:tf],'k', linewidth=3, label='MPAS Output')\n",
    "plt.title('Deseasonalized and Detrended Flux (Years: {:.1f} - {:.1f}): {}'.format((spinuptime+t1)/12,(spinuptime+tf)/12,basinName))\n",
    "plt.ylabel('landIceFreshwaterFlux')\n",
    "plt.legend()"
   ]
  },
  {
   "cell_type": "code",
   "execution_count": null,
   "id": "9c251973",
   "metadata": {
    "scrolled": true
   },
   "outputs": [],
   "source": [
    "# Time Series Plotting Parameters\n",
    "spinuptime = 0 # Ignore first few years of data in the time series and phase randomization plots, assumed model spinup\n",
    "t1 = 500 # Initial time limit\n",
    "tf = 900 # Final time limit, also used in the sample contourf plot\n",
    "\n",
    "\n",
    "###########################################################\n",
    "########## MAP PLOTS\n",
    "###########################################################\n",
    "\n",
    "plt.figure(figsize=(20,8))\n",
    "ax1 = plt.subplot(121,projection=ccrs.SouthPolarStereo())\n",
    "ax1.gridlines()\n",
    "icems[34:133].boundary.plot(ax=ax1,linewidth=0.5)\n",
    "ax1.coastlines(resolution='10m', zorder=6,linewidth=0.75)\n",
    "icems.loc[[basin]].plot(ax=ax1)\n",
    "plt.title('Catchment Boundaries')\n",
    "\n",
    "# Presents a sample plot of the ice shelf under question with the flux data at any time stamp\n",
    "\n",
    "ax2 = plt.subplot(122,projection=ccrs.SouthPolarStereo())\n",
    "ax2.gridlines()\n",
    "ax2.coastlines(resolution='10m', zorder=3,linewidth=0.75)\n",
    "flx[tf].plot.contourf(ax=ax2,levels=30,zorder=6)\n",
    "icems.boundary.loc[[basin]].plot(ax=ax2,color='blue',linewidth=0.25)\n",
    "plt.title('Sample Data Masked to Catchment: {}'.format(basinName))\n",
    "\n",
    "\n",
    "###########################################################\n",
    "########## TIME SERIES PLOTS\n",
    "###########################################################\n",
    "plt.figure(figsize=(30, 24), dpi=80)\n",
    "\n",
    "plt.subplot(311)\n",
    "plt.plot(flx_ts[(spinuptime+t1):tf], label='Original MPAS Output', color='b', linestyle='--', linewidth=0.95)\n",
    "plt.plot(flx_anm_ts[(spinuptime+t1):tf], label='Seasonal Anomalies', color='r', linestyle='dotted', linewidth=0.95)\n",
    "plt.plot(flx_prd_ts[(spinuptime+t1):tf], label='Predicted MPAS Output (Draft Regressed)', color='m', linestyle='--', linewidth=0.65)\n",
    "plt.plot(flx_dtr_ts[(spinuptime+t1):tf], label='Deseasonalized and Linearly Detrended Data', color='k', linewidth=2)\n",
    "plt.legend()\n",
    "plt.title('Data Time Series: Comparison')\n",
    "\n",
    "\n",
    "plt.subplot(312)\n",
    "plt.plot(flx_dtr_ts[(spinuptime+t1):tf], label='Deseasonalized and Detrended Data', color='k', linewidth=2)\n",
    "plt.plot(flx_lnr_ts[(spinuptime+t1):tf], label='Linear Trend', color='r', linestyle='--', linewidth=0.95)\n",
    "plt.plot(flx_snl_ts[(spinuptime+t1):tf], label='Seasonal Cycle', color='m', linestyle='dotted', linewidth=0.95)\n",
    "plt.legend()\n",
    "plt.title('Seasonal and Linear Trend Decomposition')\n",
    "\n",
    "plt.subplot(313)\n",
    "\n",
    "n_realizations = 50 # Number of random Fourier realizations\n",
    "\n",
    "new_fl = np.empty((n_realizations,flx_dtr_ts[spinuptime:].size))\n",
    "\n",
    "for i in range(n_realizations):    \n",
    "    fl = flx_dtr_ts[spinuptime:]\n",
    "    fl_fourier = np.fft.rfft(fl)\n",
    "    random_phases = np.exp(np.random.uniform(0,2*np.pi,int(len(fl)/2+1))*1.0j)\n",
    "    fl_fourier_new = fl_fourier*random_phases\n",
    "    new_fl[i,:] = np.fft.irfft(fl_fourier_new)\n",
    "    plt.plot(new_fl[i,t1:tf],'b', linewidth=0.15)\n",
    "\n",
    "plt.plot(new_fl[45,t1:tf],'b', linewidth=1, label='Randomized Outputs')\n",
    "plt.plot(new_fl[10,t1:tf],'b', linewidth=1)\n",
    "plt.plot(new_fl[40,t1:tf],'b', linewidth=1)\n",
    "plt.plot(fl[t1:tf],'k', linewidth=3, label='MPAS Deseasonalized and Dedrafted Output')\n",
    "plt.title('Deseasonalized and Dedrafted Flux (Years: {:.1f} - {:.1f}): {}'.format((spinuptime+t1)/12,(spinuptime+tf)/12,basinName))\n",
    "plt.ylabel('landIceFreshwaterFlux')\n",
    "plt.legend()"
   ]
  },
  {
   "cell_type": "code",
   "execution_count": null,
   "id": "681a0718",
   "metadata": {},
   "outputs": [],
   "source": [
    "from eofs.xarray import Eof"
   ]
  },
  {
   "cell_type": "code",
   "execution_count": null,
   "id": "edc42cbf",
   "metadata": {},
   "outputs": [],
   "source": [
    "flx_solver = Eof(flx)"
   ]
  },
  {
   "cell_type": "code",
   "execution_count": null,
   "id": "6a3ad0a0",
   "metadata": {},
   "outputs": [],
   "source": [
    "import seaborn as sns"
   ]
  },
  {
   "cell_type": "code",
   "execution_count": null,
   "id": "26e24d7f",
   "metadata": {},
   "outputs": [],
   "source": [
    "pcs = flx_solver.pcs()"
   ]
  },
  {
   "cell_type": "code",
   "execution_count": null,
   "id": "4df02df9",
   "metadata": {},
   "outputs": [],
   "source": [
    "eofs = flx_solver.eofs()"
   ]
  },
  {
   "cell_type": "code",
   "execution_count": null,
   "id": "0a106711",
   "metadata": {},
   "outputs": [],
   "source": [
    "from sklearn.decomposition import PCA"
   ]
  },
  {
   "cell_type": "code",
   "execution_count": null,
   "id": "f9fef63a",
   "metadata": {},
   "outputs": [],
   "source": [
    "pca = PCA(n_components=2)"
   ]
  },
  {
   "cell_type": "code",
   "execution_count": null,
   "id": "d23811ce",
   "metadata": {},
   "outputs": [],
   "source": []
  },
  {
   "cell_type": "code",
   "execution_count": null,
   "id": "e7606406",
   "metadata": {},
   "outputs": [],
   "source": [
    "def regress_many(x, y, axis=0):\n",
    "    \"\"\"\n",
    "    Regress y on x.\n",
    "\n",
    "    x is a 1-D array or masked array with n points.\n",
    "    y is at least 1-D, with n points along the dimension\n",
    "    specified by axis.\n",
    "\n",
    "    Returns (b1, r), where b1 is the slope and r is the correlation\n",
    "    coefficient.\n",
    "    \"\"\"\n",
    "    # Allow masked arrays and ordinary arrays, and remove the means.\n",
    "    x = np.asanyarray(x)\n",
    "    x -= x.mean()\n",
    "    y = np.asanyarray(y)\n",
    "    y -= y.mean(axis=axis, keepdims=True)\n",
    "    \n",
    "    # Black magic to accomodate any dimensionality of y:\n",
    "    bc = tuple([slice(None) if i == axis else np.newaxis \n",
    "               for i in range(y.ndim)])\n",
    "    \n",
    "    # Note that we need only sums of squares and products.\n",
    "    Sxx = (x**2).sum()\n",
    "    Syy = (y**2).sum(axis=axis)\n",
    "    Sxy = (x[bc] * y).sum(axis=axis)\n",
    "    \n",
    "    r = Sxy / np.ma.sqrt(Sxx * Syy)\n",
    "    b1 = Sxy / Sxx\n",
    "    \n",
    "    return b1, r"
   ]
  },
  {
   "cell_type": "code",
   "execution_count": null,
   "id": "906d188f",
   "metadata": {},
   "outputs": [],
   "source": []
  },
  {
   "cell_type": "code",
   "execution_count": null,
   "id": "e94b30ca",
   "metadata": {},
   "outputs": [],
   "source": [
    "\n",
    "\n",
    "# plot autocorrelation\n",
    "plt.figure(figsize=(20, 8), dpi=80)\n",
    "\n",
    "fl = flx_dtr_ts[80:]\n",
    "plt.clf()\n",
    "fl_fourier = np.fft.rfft(fl)\n",
    "\n",
    "random_phases = np.exp(np.random.uniform(0,2*np.pi,int(len(fl)/2+1))*1.0j)\n",
    "# random_phases = np.exp(np.random.uniform(0,2*np.pi)*1.0j)\n",
    "fl_fourier_new = fl_fourier*random_phases\n",
    "new_fl = np.fft.irfft(fl_fourier_new)\n",
    "pd.plotting.autocorrelation_plot(fl)\n",
    "pd.plotting.autocorrelation_plot(new_fl)\n",
    "plt.ylabel('Autocorrelation')\n",
    "plt.title('ACF: {}, Dedrafted & Deseasonalized'.format(basinName))\n",
    "#plt.savefig('{}_flux_ACF_dedrafted.png'.format(basinName))\n"
   ]
  }
 ],
 "metadata": {
  "kernelspec": {
   "display_name": "Python 3 (ipykernel)",
   "language": "python",
   "name": "python3"
  },
  "language_info": {
   "codemirror_mode": {
    "name": "ipython",
    "version": 3
   },
   "file_extension": ".py",
   "mimetype": "text/x-python",
   "name": "python",
   "nbconvert_exporter": "python",
   "pygments_lexer": "ipython3",
   "version": "3.10.2"
  }
 },
 "nbformat": 4,
 "nbformat_minor": 5
}
