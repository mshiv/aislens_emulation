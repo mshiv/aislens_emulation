{
 "cells": [
  {
   "cell_type": "code",
   "execution_count": 32,
   "id": "756fdbf3",
   "metadata": {},
   "outputs": [],
   "source": [
    "import sys\n",
    "import os\n",
    "import cartopy.crs as ccrs\n",
    "import matplotlib.pyplot as plt\n",
    "#from matplotlib import animation, rc\n",
    "#from IPython.display import HTML, display # NOTE: will require ffmpeg installation\n",
    "import numpy as np\n",
    "import xarray as xr\n",
    "#import pandas as pd\n",
    "import geopandas as gpd\n",
    "import rioxarray\n",
    "#from shapely.geometry import mapping\n",
    "from eofs.xarray import Eof\n",
    "from xeofs.xarray import EOF\n",
    "#from xarrayutils.utils import linear_trend\n",
    "import gc\n",
    "import collections\n",
    "import statsmodels.api as sm\n",
    "import scipy\n",
    "from sklearn.metrics import mean_squared_error\n",
    "from math import sqrt"
   ]
  },
  {
   "cell_type": "markdown",
   "id": "db9acdc0",
   "metadata": {},
   "source": [
    "### File Paths"
   ]
  },
  {
   "cell_type": "code",
   "execution_count": 2,
   "id": "5234908b",
   "metadata": {},
   "outputs": [],
   "source": [
    "# Define project repo path\n",
    "inDirName = '/Users/smurugan9/research/aislens/aislens_emulation/'\n",
    "\n",
    "# DATA FILE PATHS\n",
    "\n",
    "# Data containing regridded flux and SSH for 150 years\n",
    "regriddedFluxSSH_filepath = 'data/interim/RegriddedFluxSSH.nc'\n",
    "\n",
    "# File contains all defined ice shelves\n",
    "iceShelvesShape_filepath = 'data/interim/iceShelves.geojson'\n",
    "\n",
    "# Folder for output figures\n",
    "figures_folderpath = 'reports/figures/' \n",
    "\n",
    "interim_data_folder = 'data/interim/'\n",
    "flux_dedrafted_data_path = 'dedrafted_flux_IMBIE/'\n",
    "randomized_realizations_path = 'randomized_realizations/'\n",
    "flux_dedrafted_iceshelves_data_path = 'iceshelves_dedrafted_flux/'\n",
    "reconstructions_neofs_path = 'reconstructions_neofs/'"
   ]
  },
  {
   "cell_type": "code",
   "execution_count": 3,
   "id": "101b4eab",
   "metadata": {},
   "outputs": [
    {
     "name": "stderr",
     "output_type": "stream",
     "text": [
      "/Users/smurugan9/opt/anaconda3/envs/aislens/lib/python3.10/site-packages/pyproj/crs/crs.py:131: FutureWarning: '+init=<authority>:<code>' syntax is deprecated. '<authority>:<code>' is the preferred initialization method. When making the change, be mindful of axis order changes: https://pyproj4.github.io/pyproj/stable/gotchas.html#axis-order-changes-in-proj-6\n",
      "  in_crs_string = _prepare_from_proj_string(in_crs_string)\n"
     ]
    }
   ],
   "source": [
    "data = xr.open_dataset(inDirName + regriddedFluxSSH_filepath)\n",
    "flux = data.timeMonthly_avg_landIceFreshwaterFlux\n",
    "ssh = data.timeMonthly_avg_ssh\n",
    "\n",
    "# Read geoJSON region feature file as GeoDataFrame\n",
    "iceshelvesmask = gpd.read_file(inDirName + iceShelvesShape_filepath)\n",
    "# Convert to south polar stereographic projection\n",
    "icems = iceshelvesmask.to_crs({'init': 'epsg:3031'});\n",
    "crs = ccrs.SouthPolarStereo();\n",
    "# Specify projection for data file\n",
    "data.rio.write_crs(\"epsg:3031\",inplace=True);\n",
    "# Specify projection for data file flux array\n",
    "flux.rio.write_crs(\"epsg:3031\",inplace=True);"
   ]
  },
  {
   "cell_type": "code",
   "execution_count": 4,
   "id": "8d9ecaac",
   "metadata": {},
   "outputs": [
    {
     "name": "stdout",
     "output_type": "stream",
     "text": [
      "CPU times: user 13.5 ms, sys: 4.33 ms, total: 17.8 ms\n",
      "Wall time: 20.7 ms\n"
     ]
    }
   ],
   "source": [
    "%%time\n",
    "flux_clean = xr.open_dataset(inDirName+interim_data_folder+'flux_clean')\n",
    "flux_clean = flux_clean.timeMonthly_avg_landIceFreshwaterFlux"
   ]
  },
  {
   "cell_type": "code",
   "execution_count": 5,
   "id": "453f6d7f",
   "metadata": {},
   "outputs": [
    {
     "name": "stdout",
     "output_type": "stream",
     "text": [
      "CPU times: user 13.1 ms, sys: 6.12 ms, total: 19.2 ms\n",
      "Wall time: 18.6 ms\n"
     ]
    }
   ],
   "source": [
    "%%time\n",
    "reconstr_full = xr.open_dataset(inDirName+interim_data_folder+'reconstructed_flux_all_modes.nc')\n",
    "flux_reconstr = reconstr_full.timeMonthly_avg_landIceFreshwaterFlux"
   ]
  },
  {
   "cell_type": "code",
   "execution_count": 30,
   "id": "c8dea7ff",
   "metadata": {},
   "outputs": [],
   "source": [
    "def clip_data(total_data, basin):\n",
    "    #with rioxarray.set_options(export_grid_mapping=False):\n",
    "    clipped_data = total_data.rio.clip(icems.loc[[basin],'geometry'])\n",
    "    clipped_data = clipped_data.dropna('time',how='all')\n",
    "    clipped_data = clipped_data.dropna('y',how='all')\n",
    "    clipped_data = clipped_data.dropna('x',how='all')\n",
    "    clipped_data = clipped_data.drop(\"month\")\n",
    "    return clipped_data"
   ]
  },
  {
   "cell_type": "code",
   "execution_count": 8,
   "id": "f9ab2408",
   "metadata": {},
   "outputs": [],
   "source": [
    "def time_series(clipped_data):\n",
    "    clipped_ts = clipped_data.sum(['y','x'])\n",
    "    return clipped_ts"
   ]
  },
  {
   "cell_type": "code",
   "execution_count": 17,
   "id": "987075fa",
   "metadata": {},
   "outputs": [
    {
     "name": "stdout",
     "output_type": "stream",
     "text": [
      "CPU times: user 3.56 s, sys: 10.1 s, total: 13.7 s\n",
      "Wall time: 17.1 s\n"
     ]
    },
    {
     "data": {
      "text/plain": [
       "Text(0.5, 1.0, 'PSD Comparison: Filchner-Ronne')"
      ]
     },
     "execution_count": 17,
     "metadata": {},
     "output_type": "execute_result"
    },
    {
     "data": {
      "image/png": "[encoded data removed]",
      "text/plain": [
       "<Figure size 432x288 with 1 Axes>"
      ]
     },
     "metadata": {
      "needs_background": "light"
     },
     "output_type": "display_data"
    }
   ],
   "source": [
    "%%time\n",
    "basin = 0\n",
    "orig_basin = clip_data(flux_clean, basin)\n",
    "rec_basin = clip_data(flux_reconstr, basin)\n",
    "orig_basin_ts = time_series(orig_basin)\n",
    "rec_basin_ts = time_series(rec_basin)\n",
    "plt.psd(orig_basin_ts,label='Original', linewidth=3, color='k');\n",
    "plt.psd(rec_basin_ts, color = 'b');\n",
    "plt.title('PSD Comparison: {}'.format(icems.name.values[basin]))"
   ]
  },
  {
   "cell_type": "code",
   "execution_count": 28,
   "id": "baffe911",
   "metadata": {},
   "outputs": [],
   "source": [
    "basins = [34,55,104,114]"
   ]
  },
  {
   "cell_type": "code",
   "execution_count": 34,
   "id": "43a5443f",
   "metadata": {},
   "outputs": [],
   "source": [
    "def psd_calc(time_series):\n",
    "    psd_arr = plt.psd(time_series)\n",
    "    return psd_arr"
   ]
  },
  {
   "cell_type": "code",
   "execution_count": null,
   "id": "d1fd7ac0",
   "metadata": {},
   "outputs": [],
   "source": [
    "%%time\n",
    "\n",
    "fig, axs = plt.subplots(2,2,figsize=(30,16))\n",
    "axs=axs.ravel()\n",
    "i=0\n",
    "for basin in basins:\n",
    "    orig_basin = clip_data(flux_clean, basin)\n",
    "    print('clipped orig_basin..{}'.format(icems.name.values[basin]))\n",
    "    rec_basin = clip_data(flux_reconstr, basin)\n",
    "    print('clipped rec_basin..{}'.format(icems.name.values[basin]))\n",
    "    orig_basin_ts = time_series(orig_basin)\n",
    "    rec_basin_ts = time_series(rec_basin)\n",
    "    print('calculated time series..{}'.format(icems.name.values[basin]))\n",
    "    orig = psd_calc(orig_basin_ts);\n",
    "    rec = psd_calc(rec_basin_ts);\n",
    "    axs[i].plot(rec[1], 10*np.log10(rec[0]), color = 'b')\n",
    "    axs[i].plot(orig[1], 10*np.log10(orig[0]), label='Original', linewidth=3, color='k')\n",
    "    print('Calculated for basin..{}'.format(icems.name.values[basin]))\n",
    "    rmse = sqrt(mean_squared_error(10*np.log10(rec[0]),10*np.log10(orig[0])))\n",
    "    axs[i].set_title('PSD Comparison: {0}'.format(icems.name.values[basin]))\n",
    "    del orig_basin, rec_basin, orig_basin_ts, rec_basin_ts, orig, rec, rmse\n",
    "    print('deleting interim variables')\n",
    "    gc.collect()\n",
    "    i=i+1"
   ]
  },
  {
   "cell_type": "code",
   "execution_count": 16,
   "id": "ffdf9135",
   "metadata": {},
   "outputs": [
    {
     "name": "stdout",
     "output_type": "stream",
     "text": [
      "['Filchner-Ronne' 'Ross' 'Antarctica' 'Peninsula' 'West Antarctica'\n",
      " 'East Antarctica' 'IMBIE1' 'IMBIE2' 'IMBIE3' 'IMBIE4' 'IMBIE5' 'IMBIE6'\n",
      " 'IMBIE7' 'IMBIE8' 'IMBIE9' 'IMBIE10' 'IMBIE11' 'IMBIE12' 'IMBIE13'\n",
      " 'IMBIE14' 'IMBIE15' 'IMBIE16' 'IMBIE17' 'IMBIE18' 'IMBIE19' 'IMBIE20'\n",
      " 'IMBIE21' 'IMBIE22' 'IMBIE23' 'IMBIE24' 'IMBIE25' 'IMBIE26' 'IMBIE27'\n",
      " 'Abbot' 'Amery' 'Atka' 'Aviator' 'Bach' 'Baudouin' 'Borchgrevink'\n",
      " 'Brahms' 'Brunt_Stancomb' 'Campbell' 'Cheetham' 'Conger_Glenzer' 'Cook'\n",
      " 'Cosgrove' 'Crosson' 'Dennistoun' 'Dibble' 'Dotson' 'Drygalski'\n",
      " 'Edward_VIII' 'Ekstrom' 'Ferrigno' 'Filchner' 'Fimbul' 'Fitzgerald'\n",
      " 'Frost' 'GeikieInlet' 'George_VI' 'Getz' 'Gillet' 'Hamilton' 'Hannan'\n",
      " 'HarbordGlacier' 'Helen' 'Holmes' 'HolmesWest' 'Hull' 'Jelbart' 'Land'\n",
      " 'Larsen_B' 'Larsen_C' 'Larsen_D' 'Larsen_E' 'Larsen_F' 'Larsen_G'\n",
      " 'Lazarev' 'Lillie' 'Mariner' 'Matusevitch' 'Mendelssohn' 'Mertz'\n",
      " 'Moscow_University' 'Moubray' 'Mulebreen' 'Myers' 'Nansen' 'Nickerson'\n",
      " 'Ninnis' 'Nivl' 'Noll' 'Nordenskjold' 'Pine_Island' 'PourquoiPas'\n",
      " 'Prince_Harald' 'Publications' 'Quar' 'Rayner_Thyer' 'Rennick' 'Richter'\n",
      " 'Riiser-Larsen' 'Ronne' 'Western_Ross' 'Eastern_Ross' 'Shackleton'\n",
      " 'Shirase' 'Slava' 'SmithInlet' 'Stange' 'Sulzberger' 'Suvorov'\n",
      " 'Swinburne' 'Thwaites' 'Tinker' 'Totten' 'Tracy_Tremenchus' 'Tucker'\n",
      " 'Underwood' 'Utsikkar' 'Venable' 'Verdi' 'Vigrid' 'Vincennes' 'Voyeykov'\n",
      " 'West' 'Wilkins' 'Wilma_Robert_Downer' 'Withrow' 'Wordie' 'Wylde'\n",
      " 'Zubchatyy']\n"
     ]
    }
   ],
   "source": [
    "#calculate RMSE\n",
    "sqrt(mean_squared_error(10*np.log10(rec[0]),10*np.log10(orig[0])))"
   ]
  }
 ],
 "metadata": {
  "kernelspec": {
   "display_name": "Python 3 (ipykernel)",
   "language": "python",
   "name": "python3"
  },
  "language_info": {
   "codemirror_mode": {
    "name": "ipython",
    "version": 3
   },
   "file_extension": ".py",
   "mimetype": "text/x-python",
   "name": "python",
   "nbconvert_exporter": "python",
   "pygments_lexer": "ipython3",
   "version": "3.10.2"
  }
 },
 "nbformat": 4,
 "nbformat_minor": 5
}
