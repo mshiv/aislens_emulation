{
 "cells": [
  {
   "cell_type": "code",
   "execution_count": 1,
   "id": "ffbd8175",
   "metadata": {},
   "outputs": [],
   "source": [
    "import sys\n",
    "import os, glob\n",
    "import cartopy.crs as ccrs\n",
    "import matplotlib.pyplot as plt\n",
    "import numpy as np\n",
    "import xarray as xr\n",
    "import scipy as sc\n",
    "from sklearn.decomposition import PCA"
   ]
  },
  {
   "cell_type": "code",
   "execution_count": 3,
   "id": "ec23670e",
   "metadata": {},
   "outputs": [],
   "source": [
    "# Define project repo path\n",
    "inDirName = '/Users/smurugan9/research/aislens/aislens_emulation/'\n",
    "\n",
    "# DATA FILE PATHS\n",
    "\n",
    "# Data containing regridded flux and SSH for 150 years\n",
    "regriddedFluxSSH_filepath = 'data/interim/RegriddedFluxSSH.nc'\n",
    "\n",
    "# File contains all defined ice shelves\n",
    "iceShelvesShape_filepath = 'data/interim/iceShelves.geojson'\n",
    "\n",
    "# Folder for output figures\n",
    "figures_folderpath = 'reports/figures/' \n",
    "\n",
    "interim_data_folder = 'data/interim/'\n",
    "processed_data_folder = 'data/processed/'\n",
    "pace_MALI_data_folder = 'PACE-MALI-test/'\n",
    "pace_MALI_test = 'data/PACE-MALI-test/16proc_run/'\n",
    "flux_dedrafted_data_path = 'dedrafted_flux_IMBIE/'\n",
    "randomized_realizations_path = 'randomized_realizations/'\n",
    "flux_dedrafted_iceshelves_data_path = 'iceshelves_dedrafted_flux/'\n",
    "reconstructions_neofs_path = 'reconstructions_neofs/'\n",
    "raw_data_folder = 'data/raw/'\n",
    "ext_cori_data_folder = 'data/external/cori-test/'"
   ]
  },
  {
   "cell_type": "code",
   "execution_count": 4,
   "id": "1a349e66",
   "metadata": {},
   "outputs": [],
   "source": [
    "test_folder = 'thwaites_compass_example/landice/thwaites/decomposition_test/16proc_run/'"
   ]
  },
  {
   "cell_type": "code",
   "execution_count": 5,
   "id": "1fb1808e",
   "metadata": {},
   "outputs": [],
   "source": [
    "ds = xr.open_dataset(inDirName+ext_cori_data_folder+test_folder+'output.nc')"
   ]
  },
  {
   "cell_type": "code",
   "execution_count": 19,
   "id": "c548fbdf",
   "metadata": {
    "scrolled": false
   },
   "outputs": [
    {
     "data": {
      "text/plain": [
       "Data variables:\n",
       "    xtime                    (Time) |S64 b'0001-01-01_00:00:00' ... b'0001-01...\n",
       "    thickness                (Time, nCells) float64 3.002e+03 ... 1.243e+03\n",
       "    bedTopography            (Time, nCells) float64 -1.69e+03 ... -750.5\n",
       "    upperSurface             (Time, nCells) float64 1.312e+03 933.3 ... 492.9\n",
       "    cellMask                 (Time, nCells) int32 99 99 99 99 99 ... 99 99 99 99\n",
       "    edgeMask                 (Time, nEdges) int32 98 98 98 98 98 ... 98 0 98 0\n",
       "    surfaceSpeed             (Time, nCells) float64 2.495e-06 ... 1.823e-05\n",
       "    basalSpeed               (Time, nCells) float64 2.456e-06 ... 1.596e-05\n",
       "    daysSinceStart           (Time) timedelta64[ns] 0 days 1 days 2 days\n",
       "    latCell                  (nCells) float64 -1.352 -1.328 ... -1.374 -1.319\n",
       "    lonCell                  (nCells) float64 -1.824 -1.821 ... -1.876 -1.847\n",
       "    xCell                    (nCells) float64 -1.323e+06 ... -1.517e+06\n",
       "    yCell                    (nCells) float64 -3.419e+05 ... -4.299e+05\n",
       "    zCell                    (nCells) float64 0.0 0.0 0.0 0.0 ... 0.0 0.0 0.0\n",
       "    indexToCellID            (nCells) int32 1 2 3 4 5 ... 4264 4265 4266 4267\n",
       "    latEdge                  (nEdges) float64 -1.344 -1.359 ... -1.348 -1.304\n",
       "    lonEdge                  (nEdges) float64 -1.871 -1.898 ... -1.979 -1.872\n",
       "    xEdge                    (nEdges) float64 -1.353e+06 ... -1.594e+06\n",
       "    yEdge                    (nEdges) float64 -4.185e+05 ... -4.957e+05\n",
       "    zEdge                    (nEdges) float64 0.0 0.0 0.0 0.0 ... 0.0 0.0 0.0\n",
       "    indexToEdgeID            (nEdges) int32 1 2 3 4 ... 13108 13109 13110 13111\n",
       "    latVertex                (nVertices) float64 -1.352 -1.353 ... -1.352 -1.353\n",
       "    lonVertex                (nVertices) float64 -1.826 -1.824 ... -1.807 -1.804\n",
       "    xVertex                  (nVertices) float64 -1.321e+06 ... -1.324e+06\n",
       "    yVertex                  (nVertices) float64 -3.452e+05 ... -3.144e+05\n",
       "    zVertex                  (nVertices) float64 0.0 0.0 0.0 0.0 ... 0.0 0.0 0.0\n",
       "    indexToVertexID          (nVertices) int32 1 2 3 4 5 ... 8842 8843 8844 8845\n",
       "    cellsOnEdge              (nEdges, TWO) int32 4227 4254 4158 ... 3782 4127\n",
       "    nEdgesOnCell             (nCells) int32 5 6 6 5 7 7 6 6 ... 6 6 6 6 6 6 6 6\n",
       "    nEdgesOnEdge             (nEdges) int32 10 10 11 10 11 10 ... 10 11 11 10 10\n",
       "    edgesOnCell              (nCells, maxEdges) int32 6500 7106 9575 ... 4568 0\n",
       "    edgesOnEdge              (nEdges, maxEdges2) int32 6835 9717 542 ... 0 0 0\n",
       "    weightsOnEdge            (nEdges, maxEdges2) float64 -0.2423 -0.0632 ... 0.0\n",
       "    dvEdge                   (nEdges) float64 4.267e+03 3.113e+03 ... 3.263e+03\n",
       "    dcEdge                   (nEdges) float64 6.51e+03 6.704e+03 ... 6.641e+03\n",
       "    angleEdge                (nEdges) float64 0.5873 0.866 ... 1.442 0.2584\n",
       "    areaCell                 (nCells) float64 3.512e+07 3.45e+07 ... 2.357e+07\n",
       "    areaTriangle             (nVertices) float64 1.824e+07 ... 1.881e+07\n",
       "    cellsOnCell              (nCells, maxEdges) int32 1130 1485 2949 ... 918 0\n",
       "    verticesOnCell           (nCells, maxEdges) int32 2 4 5 3 ... 4527 4528 0\n",
       "    verticesOnEdge           (nEdges, TWO) int32 8464 5515 8708 ... 4505 7474\n",
       "    edgesOnVertex            (nVertices, vertexDegree) int32 6500 6759 ... 149\n",
       "    cellsOnVertex            (nVertices, vertexDegree) int32 1 1156 ... 4173\n",
       "    kiteAreasOnVertex        (nVertices, vertexDegree) float64 6.294e+06 ... ...\n",
       "    layerThicknessFractions  (nVertLevels) float64 0.1 0.1 0.1 ... 0.1 0.1 0.1\n",
       "    meshDensity              (nCells) float64 1.0 1.0 1.0 1.0 ... 1.0 1.0 1.0"
      ]
     },
     "execution_count": 19,
     "metadata": {},
     "output_type": "execute_result"
    }
   ],
   "source": [
    "ds.data_vars"
   ]
  },
  {
   "cell_type": "code",
   "execution_count": null,
   "id": "52917ed9",
   "metadata": {},
   "outputs": [],
   "source": [
    "fl = ds.timeMonthly_avg_landIceFreshwaterFlux"
   ]
  },
  {
   "cell_type": "code",
   "execution_count": 9,
   "id": "aff2c6c6",
   "metadata": {},
   "outputs": [],
   "source": [
    "pca = PCA(fl)"
   ]
  },
  {
   "cell_type": "code",
   "execution_count": null,
   "id": "5cbee744",
   "metadata": {},
   "outputs": [],
   "source": [
    "pcs = pca.fit_transform(fl)"
   ]
  }
 ],
 "metadata": {
  "kernelspec": {
   "display_name": "Python 3 (ipykernel)",
   "language": "python",
   "name": "python3"
  },
  "language_info": {
   "codemirror_mode": {
    "name": "ipython",
    "version": 3
   },
   "file_extension": ".py",
   "mimetype": "text/x-python",
   "name": "python",
   "nbconvert_exporter": "python",
   "pygments_lexer": "ipython3",
   "version": "3.10.8"
  }
 },
 "nbformat": 4,
 "nbformat_minor": 5
}
