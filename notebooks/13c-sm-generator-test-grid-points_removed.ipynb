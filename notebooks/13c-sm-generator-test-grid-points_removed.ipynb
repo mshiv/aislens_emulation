{
 "cells": [
  {
   "cell_type": "code",
   "execution_count": 1,
   "id": "dd761ca1",
   "metadata": {},
   "outputs": [],
   "source": [
    "import sys\n",
    "import os\n",
    "import cartopy.crs as ccrs\n",
    "import matplotlib.pyplot as plt\n",
    "from matplotlib import rcParams, cycler\n",
    "import numpy as np\n",
    "import xarray as xr\n",
    "import geopandas as gpd\n",
    "import rioxarray\n",
    "from eofs.xarray import Eof\n",
    "from xeofs.xarray import EOF\n",
    "import gc\n",
    "import collections\n",
    "import statsmodels.api as sm\n",
    "import scipy\n",
    "from sklearn.metrics import mean_squared_error\n",
    "from math import sqrt\n",
    "from itertools import product\n",
    "import pyproj"
   ]
  },
  {
   "cell_type": "code",
   "execution_count": null,
   "metadata": {},
   "outputs": [],
   "source": []
  },
  {
   "cell_type": "code",
   "execution_count": 193,
   "id": "ed697102",
   "metadata": {},
   "outputs": [],
   "source": [
    "# Define project repo path\n",
    "inDirName = '/Users/smurugan9/research/aislens/aislens_emulation/'\n",
    "\n",
    "# DATA FILE PATHS\n",
    "\n",
    "# Data containing regridded flux and SSH for 150 years\n",
    "regriddedFluxSSH_filepath = 'data/interim/RegriddedFluxSSH.nc'\n",
    "\n",
    "# File contains all defined ice shelves\n",
    "iceShelvesShape_filepath = 'data/interim/iceShelves.geojson'\n",
    "\n",
    "# Folder for output figures\n",
    "figures_folderpath = 'reports/figures/' \n",
    "\n",
    "interim_data_folder = 'data/interim/'\n",
    "rmse_results_folder = 'rmse_grid_220911/'\n",
    "flux_dedrafted_data_path = 'dedrafted_flux_IMBIE/'\n",
    "randomized_realizations_path = 'randomized_realizations/'\n",
    "flux_dedrafted_iceshelves_data_path = 'iceshelves_dedrafted_flux/'\n",
    "reconstructions_neofs_path = 'reconstructions_neofs/'"
   ]
  },
  {
   "cell_type": "code",
   "execution_count": 3,
   "id": "da930f59",
   "metadata": {},
   "outputs": [],
   "source": [
    "# Read geoJSON region feature file as GeoDataFrame\n",
    "iceshelvesmask = gpd.read_file(inDirName + iceShelvesShape_filepath)\n",
    "# Convert to south polar stereographic projection\n",
    "icems = iceshelvesmask.to_crs({'init': 'epsg:3031'});\n",
    "crs = ccrs.SouthPolarStereo();"
   ]
  },
  {
   "cell_type": "code",
   "execution_count": 4,
   "id": "7c7b1d9d",
   "metadata": {},
   "outputs": [],
   "source": [
    "flux_clean = xr.open_dataset(inDirName+interim_data_folder+'flux_clean')\n",
    "flux_clean = flux_clean.timeMonthly_avg_landIceFreshwaterFlux"
   ]
  },
  {
   "cell_type": "code",
   "execution_count": 5,
   "id": "cd6ccfef",
   "metadata": {},
   "outputs": [],
   "source": [
    "%%time\n",
    "# Drop all NaN-valued grid points\n",
    "flux_clean = flux_clean.dropna('time',how='all')\n",
    "flux_clean = flux_clean.dropna('y',how='all')\n",
    "flux_clean = flux_clean.dropna('x',how='all')\n",
    "flux_clean = flux_clean.drop(\"month\")"
   ]
  },
  {
   "cell_type": "code",
   "execution_count": 6,
   "id": "db9f2cd5",
   "metadata": {},
   "outputs": [],
   "source": [
    "%%time\n",
    "model = EOF(flux_clean)\n",
    "model.solve()\n",
    "xeofs_eofs = model.eofs()\n",
    "xeofs_pcs = model.pcs()\n",
    "xeofs_n_modes = model.n_modes"
   ]
  },
  {
   "cell_type": "code",
   "execution_count": 129,
   "id": "a755c24a",
   "metadata": {},
   "outputs": [],
   "source": [
    "xeofs_eofs"
   ]
  },
  {
   "cell_type": "code",
   "execution_count": 7,
   "id": "5b597ebc",
   "metadata": {},
   "outputs": [],
   "source": [
    "%%time\n",
    "##############################\n",
    "# FOURIER PHASE RANDOMIZATION \n",
    "##############################\n",
    "\n",
    "# Define number of random Fourier realizations\n",
    "n_realizations = 1\n",
    "t_length = xeofs_pcs.shape[0]\n",
    "\n",
    "# xeofs_pcs[:,i] when using PCA outputs\n",
    "new_fl = np.empty((n_realizations,xeofs_pcs.shape[0],xeofs_pcs.shape[1]))\n",
    "\n",
    "# Time limits for plotting\n",
    "t1 = 0\n",
    "tf = int(t_length/2)\n",
    "\n",
    "for i in range(n_realizations):\n",
    "    for m in range(xeofs_n_modes):\n",
    "        fl = xeofs_pcs[:,m] # fluxpcs[:,i] when using PCA outputs\n",
    "        fl_fourier = np.fft.rfft(fl)\n",
    "        random_phases = np.exp(np.random.uniform(0,2*np.pi,int(len(fl)/2+1))*1.0j)\n",
    "        fl_fourier_new = fl_fourier*random_phases\n",
    "        new_fl[i,:,m] = np.fft.irfft(fl_fourier_new)\n",
    "        print('calculated ifft for realization i, mode: {}'.format(m))"
   ]
  },
  {
   "cell_type": "code",
   "execution_count": 198,
   "id": "b0901127",
   "metadata": {},
   "outputs": [],
   "source": [
    "np.save(\"new_fl_phase_randomized\", new_fl)"
   ]
  },
  {
   "cell_type": "code",
   "execution_count": 8,
   "id": "f94a4741",
   "metadata": {},
   "outputs": [],
   "source": [
    "# Reconstruct flux dataset using phase randomized PCs.\n",
    "# This section is to be called iteratively for ensemble runs with multiple realizations.\n",
    "# This method also takes 'modes' as a parameter - used to reconstruct dataset with different number of selected modes\n",
    "def generate_data(mode,mode_skip):\n",
    "    flux_reconstr = model.reconstruct_randomized_X(new_fl[0],slice(1,mode,mode_skip))\n",
    "    #flux_reconstr = flux_reconstr.dropna('time',how='all')\n",
    "    #flux_reconstr = flux_reconstr.dropna('y',how='all')\n",
    "    #flux_reconstr = flux_reconstr.dropna('x',how='all')\n",
    "    #flux_reconstr = flux_reconstr.drop(\"month\")\n",
    "    return flux_reconstr"
   ]
  },
  {
   "cell_type": "code",
   "execution_count": 9,
   "id": "63c9e382",
   "metadata": {},
   "outputs": [],
   "source": [
    "def dropna(total_data):\n",
    "    total_data = total_data.dropna('time',how='all')\n",
    "    return clipped_data"
   ]
  },
  {
   "cell_type": "code",
   "execution_count": 10,
   "id": "7dc23d26",
   "metadata": {},
   "outputs": [],
   "source": [
    "def time_series(clipped_data):\n",
    "    clipped_ts = clipped_data.sum(['y','x'])\n",
    "    return clipped_ts"
   ]
  },
  {
   "cell_type": "code",
   "execution_count": 11,
   "id": "0dda6c51",
   "metadata": {},
   "outputs": [],
   "source": [
    "def psd_calc(time_series):\n",
    "    if all(time_series.isnull()) == True:\n",
    "        psd_arr = plt.psd(time_series)\n",
    "    else:\n",
    "        psd_arr = time_series\n",
    "    return psd_arr"
   ]
  },
  {
   "cell_type": "code",
   "execution_count": 126,
   "id": "0f059462",
   "metadata": {},
   "outputs": [],
   "source": [
    "#modified to not return f - in calculation of RMSE, only Px required\n",
    "def psd_calc_grid(data,y,x):\n",
    "    f, Px = scipy.signal.welch(data[:,y,x])\n",
    "    return Px"
   ]
  },
  {
   "cell_type": "code",
   "execution_count": 13,
   "id": "800db5b3",
   "metadata": {},
   "outputs": [],
   "source": [
    "flux_clean_mean = flux_clean.mean('time')"
   ]
  },
  {
   "cell_type": "code",
   "execution_count": 195,
   "id": "0b19a57f",
   "metadata": {},
   "outputs": [],
   "source": [
    "mode_skip = 1\n",
    "xeofs_modes = list(range(71,xeofs_n_modes+1))\n",
    "yxcoords = np.argwhere(np.array(flux_clean_mean))\n",
    "yxcoordsna = np.nonzero(np.array(flux_clean_mean))"
   ]
  },
  {
   "cell_type": "code",
   "execution_count": null,
   "id": "bba17f16",
   "metadata": {},
   "outputs": [],
   "source": [
    "%%time\n",
    "f, Px = scipy.signal.welch(flux_clean[:,yx[0],yx[1]])\n",
    "#plt.semilogy(f, Px)"
   ]
  },
  {
   "cell_type": "code",
   "execution_count": null,
   "id": "d982d74c",
   "metadata": {},
   "outputs": [],
   "source": [
    "%%time\n",
    "orig_grid_psd = np.zeros((flux_clean.shape[1],flux_clean.shape[2],2,129))\n",
    "for yx in yxcoords:\n",
    "    print('calc. psd for [{}]'.format(yx))\n",
    "    f, Px = psd_calc_grid(flux_clean,yx[0],yx[1])\n",
    "    orig_grid_psd[yx[0],yx[1],0,:] = f\n",
    "    orig_grid_psd[yx[0],yx[1],1,:] = Px\n",
    "del f, Px\n",
    "gc.collect()"
   ]
  },
  {
   "cell_type": "code",
   "execution_count": null,
   "id": "68c8d66a",
   "metadata": {},
   "outputs": [],
   "source": [
    "np.save(\"orig_grid_psd\",orig_grid_psd)"
   ]
  },
  {
   "cell_type": "code",
   "execution_count": 16,
   "id": "caa730c4",
   "metadata": {},
   "outputs": [],
   "source": [
    "orig_grid_psd = np.load(\"orig_grid_psd.npy\")"
   ]
  },
  {
   "cell_type": "markdown",
   "id": "66692d8e",
   "metadata": {},
   "source": [
    "### Reconstructed Data with all EOFs"
   ]
  },
  {
   "cell_type": "code",
   "execution_count": 19,
   "id": "7dbde597",
   "metadata": {},
   "outputs": [],
   "source": [
    "%%time\n",
    "# Reconstruction with all EOFs\n",
    "flux_reconstr = generate_data(xeofs_n_modes,mode_skip)"
   ]
  },
  {
   "cell_type": "code",
   "execution_count": 20,
   "id": "7394c235",
   "metadata": {},
   "outputs": [],
   "source": [
    "%%time\n",
    "# PSD at every grid point for reconstructed data\n",
    "rec_grid_psd = np.zeros((flux_clean.shape[1],flux_clean.shape[2],2,129))\n",
    "for yx in yxcoords:\n",
    "    f, Px = psd_calc_grid(flux_reconstr,yx[0],yx[1])\n",
    "    rec_grid_psd[yx[0],yx[1],0,:] = f\n",
    "    rec_grid_psd[yx[0],yx[1],1,:] = Px\n",
    "del f, Px\n",
    "gc.collect()"
   ]
  },
  {
   "cell_type": "code",
   "execution_count": 21,
   "id": "a9e301d6",
   "metadata": {},
   "outputs": [],
   "source": [
    "np.save(\"rec_ALLEOFS_grid_psd\",rec_grid_psd)"
   ]
  },
  {
   "cell_type": "code",
   "execution_count": 22,
   "id": "b55c9f7f",
   "metadata": {},
   "outputs": [],
   "source": [
    "rec_ALLEOFS_grid_psd = np.load(\"rec_ALLEOFS_grid_psd.npy\")"
   ]
  },
  {
   "cell_type": "code",
   "execution_count": 25,
   "id": "02158b86",
   "metadata": {},
   "outputs": [],
   "source": [
    "orig_grid_psd.shape"
   ]
  },
  {
   "cell_type": "markdown",
   "id": "61218bbe",
   "metadata": {},
   "source": [
    "### Calculate RMSE of PSDs across spatial domain"
   ]
  },
  {
   "cell_type": "code",
   "execution_count": 34,
   "id": "3847d0fa",
   "metadata": {},
   "outputs": [],
   "source": [
    "np.log10(np.nan_to_num(orig_grid_psd[yx[0],yx[1],1,:]))"
   ]
  },
  {
   "cell_type": "code",
   "execution_count": 39,
   "id": "b7b19e5b",
   "metadata": {},
   "outputs": [],
   "source": [
    "%%time\n",
    "# Clean data to replace NaNs and +/-Inf ??\n",
    "rmse_grid = np.empty((flux_clean.shape[1],flux_clean.shape[2]))\n",
    "for yx in yxcoords:\n",
    "    print('calculating rmse: [{},{}]'.format(yx[0],yx[1]))\n",
    "    rmse = sqrt(mean_squared_error(np.nan_to_num(rec_ALLEOFS_grid_psd[yx[0],yx[1],1,:]),\n",
    "                                   np.nan_to_num(orig_grid_psd[yx[0],yx[1],1,:])))\n",
    "    rmse_grid[yx[0],yx[1]] = rmse\n",
    "    del rmse\n",
    "gc.collect()"
   ]
  },
  {
   "cell_type": "code",
   "execution_count": 71,
   "id": "e715d531",
   "metadata": {},
   "outputs": [],
   "source": [
    "new_data_rec = rec_ALLEOFS_grid_psd[yx[0],yx[1],1,:][~np.isnan(rec_ALLEOFS_grid_psd[yx[0],yx[1],1,:])]"
   ]
  },
  {
   "cell_type": "code",
   "execution_count": 73,
   "id": "7f5c3611",
   "metadata": {},
   "outputs": [],
   "source": [
    "rec_ALLEOFS_grid_psd[yx[0],yx[1],1,:]"
   ]
  },
  {
   "cell_type": "code",
   "execution_count": 74,
   "id": "3bfa7b93",
   "metadata": {},
   "outputs": [],
   "source": [
    "def remove_nans(data):\n",
    "    new_data = data[~np.isnan(data)]\n",
    "    return new_data"
   ]
  },
  {
   "cell_type": "code",
   "execution_count": 82,
   "id": "9e538056",
   "metadata": {},
   "outputs": [],
   "source": [
    "%%time\n",
    "# sklearn.metrics has a mean_squared_error function with a squared kwarg (defaults to True). \n",
    "# Setting squared to False will return the RMSE.\n",
    "rmse_grid = np.empty((flux_clean.shape[1],flux_clean.shape[2]))\n",
    "for yx in yxcoords:\n",
    "    print('calculating rmse: [{},{}]'.format(yx[0],yx[1]))\n",
    "    if remove_nans(rec_ALLEOFS_grid_psd[yx[0],yx[1],1,:]).shape[0]>0:\n",
    "        rmse = mean_squared_error(10*np.log10(remove_nans(rec_ALLEOFS_grid_psd[yx[0],yx[1],1,:])),\n",
    "                              10*np.log10(remove_nans(orig_grid_psd[yx[0],yx[1],1,:])),squared=False)\n",
    "        rmse_grid[yx[0],yx[1]] = rmse\n",
    "        del rmse\n",
    "gc.collect()"
   ]
  },
  {
   "cell_type": "code",
   "execution_count": 85,
   "id": "afab438e",
   "metadata": {},
   "outputs": [],
   "source": [
    "rmse_grid = xr.DataArray(rmse_grid,\n",
    "                         coords=flux_clean_mean.coords,\n",
    "                         dims = flux_clean_mean.dims,\n",
    "                         attrs=flux_clean_mean.attrs)"
   ]
  },
  {
   "cell_type": "code",
   "execution_count": 122,
   "id": "23e13bfe",
   "metadata": {},
   "outputs": [],
   "source": [
    "rmse_grid.to_netcdf(\"rmse_grid_ALLEOFS.nc\")"
   ]
  },
  {
   "cell_type": "code",
   "execution_count": 102,
   "id": "bc9b5b05",
   "metadata": {},
   "outputs": [],
   "source": [
    "# Replace 0 values with NaN.\n",
    "# NOTE: This step assumes there is no RMSE value that is equal to zero\n",
    "rmse_grid = rmse_grid.where(rmse_grid>0)"
   ]
  },
  {
   "cell_type": "code",
   "execution_count": 123,
   "id": "7c302056",
   "metadata": {},
   "outputs": [],
   "source": [
    "plt.figure(figsize=(20,8))\n",
    "ax = plt.axes(projection=ccrs.SouthPolarStereo())\n",
    "ax.coastlines()\n",
    "ax.gridlines()\n",
    "\n",
    "colorbarmax = np.nanmax([rmse_grid])\n",
    "colorbarmin = np.nanmin([rmse_grid])\n",
    "\n",
    "\n",
    "rmse_grid.plot(cmap=\"YlGn\",vmax = colorbarmax, vmin = colorbarmin, cbar_kwargs={\"label\": \"RMSE\"})\n",
    "plt.title(\"RMSE when reconstructed data includes all EOFs\")\n",
    "plt.savefig(\"rmse_grid_ALLEOFS.png\")"
   ]
  },
  {
   "cell_type": "code",
   "execution_count": 153,
   "id": "c8d13c7d",
   "metadata": {},
   "outputs": [],
   "source": [
    "%%time\n",
    "# sklearn.metrics has a mean_squared_error function with a squared kwarg (defaults to True). \n",
    "# Setting squared to False will return the RMSE.\n",
    "rmse_grid_comparisons = np.empty((xeofs_eofs.shape[0],xeofs_eofs.shape[1],xeofs_eofs.shape[2]))"
   ]
  },
  {
   "cell_type": "code",
   "execution_count": 166,
   "id": "ab546f4e",
   "metadata": {},
   "outputs": [],
   "source": [
    "%%time\n",
    "for mode in xeofs_modes:\n",
    "    print(\"Generating reconstructed data for mode: {}\".format(mode*mode_skip))\n",
    "    flux_reconstr = generate_data(mode,mode_skip)\n",
    "    print(\"Calculating PSD across grid\")\n",
    "    for yx in yxcoords:\n",
    "        if remove_nans(flux_reconstr[:,yx[0],yx[1]]).shape[0]>0:\n",
    "            print('calculating rmse: [{},{}]'.format(yx[0],yx[1]))\n",
    "            #if remove_nans(rec_Px).shape[0]>0:\n",
    "            rmse_grid_comparisons[yx[0],yx[1],mode] = rmse_calc(remove_nans(psd_calc_grid(flux_reconstr,yx[0],yx[1])),\n",
    "                                                                remove_nans(orig_grid_psd[yx[0],yx[1],1,:]))"
   ]
  },
  {
   "cell_type": "code",
   "execution_count": null,
   "id": "102f68fe",
   "metadata": {
    "scrolled": true
   },
   "outputs": [],
   "source": [
    "%%time\n",
    "for mode in xeofs_modes:\n",
    "    print(\"Generating reconstructed data for mode: {}\".format(mode*mode_skip))\n",
    "    flux_reconstr = generate_data(mode,mode_skip)\n",
    "    print(\"PSD across grid\")\n",
    "    for yx in yxcoords:\n",
    "        if remove_nans(flux_reconstr[:,yx[0],yx[1]]).shape[0]>0:\n",
    "            print('calculating rmse: [{},{}]'.format(yx[0],yx[1]))\n",
    "            rmse_grid_comparisons[yx[0],yx[1],mode] = rmse_calc(remove_nans(psd_calc_grid(flux_reconstr,yx[0],yx[1])),remove_nans(orig_grid_psd[yx[0],yx[1],1,:]))\n",
    "    print(\"Saving RMSE grid value file for mode: {}\".format(mode*mode_skip))\n",
    "    xr.DataArray(rmse_grid_comparisons[:,:,mode*mode_skip],\n",
    "                 coords=flux_clean_mean.coords,\n",
    "                 dims = flux_clean_mean.dims,\n",
    "                 attrs=flux_clean_mean.attrs).to_netcdf(inDirName+\n",
    "                                                        interim_data_folder+\n",
    "                                                        rmse_results_folder+\n",
    "                                                        \"rmse_grid_comparisons_EOF_{}.nc\".format(mode*mode_skip))"
   ]
  },
  {
   "cell_type": "code",
   "execution_count": 150,
   "id": "63d2ff26",
   "metadata": {},
   "outputs": [],
   "source": [
    "def rmse_calc(rec_data,orig_data):\n",
    "    rmse = mean_squared_error(10*np.log10(rec_data),10*np.log10(orig_data),squared=False)\n",
    "    return rmse"
   ]
  },
  {
   "cell_type": "code",
   "execution_count": 167,
   "id": "db16c417",
   "metadata": {},
   "outputs": [],
   "source": [
    "# Convert Numpy array to xarray\n",
    "rmse_grid_comparisons = xr.DataArray(rmse_grid_comparisons,\n",
    "                                     coords=xeofs_eofs.coords,\n",
    "                                     dims = xeofs_eofs.dims,\n",
    "                                     attrs=xeofs_eofs.attrs)"
   ]
  },
  {
   "cell_type": "code",
   "execution_count": 169,
   "id": "973f9bfe",
   "metadata": {},
   "outputs": [],
   "source": [
    "rmse_grid_comparisons.to_netcdf(\"rmse_grid_comparisons.nc\")"
   ]
  },
  {
   "cell_type": "code",
   "execution_count": 184,
   "id": "9a8a2aa9",
   "metadata": {},
   "outputs": [],
   "source": [
    "%%time\n",
    "xr.DataArray(rmse_grid_comparisons[:,:,mode],\n",
    "             coords=flux_clean_mean.coords,\n",
    "             dims = flux_clean_mean.dims,\n",
    "             attrs=flux_clean_mean.attrs).to_netcdf(\"rmse_grid_comparisons_EOF-mode-{}.nc\".format(mode))"
   ]
  },
  {
   "cell_type": "code",
   "execution_count": 191,
   "id": "3ce07fa3",
   "metadata": {},
   "outputs": [],
   "source": [
    "rmse_grid_comparisons[:,:,10].where(rmse_grid_comparisons[:,:,10]>0).plot()"
   ]
  },
  {
   "cell_type": "code",
   "execution_count": 70,
   "id": "d12dbb3c",
   "metadata": {},
   "outputs": [],
   "source": [
    "%%time\n",
    "# sklearn.metrics has a mean_squared_error function with a squared kwarg (defaults to True). \n",
    "# Setting squared to False will return the RMSE.\n",
    "rmse_grid = np.empty((flux_clean.shape[1],flux_clean.shape[2]))\n",
    "for yx in yxcoords:\n",
    "    print('calculating rmse: [{},{}]'.format(yx[0],yx[1]))\n",
    "    rmse = mean_squared_error(10*np.nan_to_num(np.log10(np.nan_to_num(rec_ALLEOFS_grid_psd[yx[0],yx[1],1,:]))),\n",
    "                              10*np.nan_to_num(np.log10(np.nan_to_num(orig_grid_psd[yx[0],yx[1],1,:]))),squared=False)\n",
    "    rmse_grid[yx[0],yx[1]] = rmse\n",
    "    del rmse\n",
    "gc.collect()"
   ]
  },
  {
   "cell_type": "code",
   "execution_count": null,
   "id": "e9bf77cd",
   "metadata": {},
   "outputs": [],
   "source": []
  },
  {
   "cell_type": "code",
   "execution_count": null,
   "id": "91a54b19",
   "metadata": {},
   "outputs": [],
   "source": []
  },
  {
   "cell_type": "code",
   "execution_count": null,
   "id": "ce74bbfe",
   "metadata": {},
   "outputs": [],
   "source": []
  },
  {
   "cell_type": "code",
   "execution_count": null,
   "id": "8708cc7c",
   "metadata": {},
   "outputs": [],
   "source": []
  },
  {
   "cell_type": "code",
   "execution_count": 46,
   "id": "20a076b2",
   "metadata": {},
   "outputs": [],
   "source": [
    "rmse_grid = xr.DataArray(rmse_grid,\n",
    "                         coords=flux_clean_mean.coords,\n",
    "                         dims = flux_clean_mean.dims,\n",
    "                         attrs=flux_clean_mean.attrs)"
   ]
  },
  {
   "cell_type": "code",
   "execution_count": null,
   "id": "47954044",
   "metadata": {},
   "outputs": [],
   "source": []
  },
  {
   "cell_type": "code",
   "execution_count": 52,
   "id": "908857c1",
   "metadata": {},
   "outputs": [],
   "source": [
    "colorbarmax = np.nanmax([rmse_grid])\n",
    "colorbarmin = np.nanmin([rmse_grid])\n",
    "rmse_grid.plot(vmax = colorbarmax, vmin = colorbarmin)"
   ]
  },
  {
   "cell_type": "code",
   "execution_count": null,
   "id": "4905aae8",
   "metadata": {},
   "outputs": [],
   "source": [
    "rec_grid_psd = np.zeros((flux_clean.shape[0],flux_clean.shape[1],flux_clean.shape[2],2,129))"
   ]
  },
  {
   "cell_type": "code",
   "execution_count": null,
   "id": "51472045",
   "metadata": {},
   "outputs": [],
   "source": [
    "np.save(\"rec_grid_psd\",rec_grid_psd)"
   ]
  },
  {
   "cell_type": "code",
   "execution_count": null,
   "id": "73c8ef02",
   "metadata": {},
   "outputs": [],
   "source": [
    "%%time\n",
    "rec_grid_psd = np.empty((flux_clean.shape[0],flux_clean.shape[1],flux_clean.shape[2],2,129))\n",
    "for mode in xeofs_modes:\n",
    "    print(\"Generating reconstructed data for mode: {}\".format(mode*mode_skip))\n",
    "    flux_reconstr = generate_data(mode,mode_skip)\n",
    "    print(\"Calculating PSD across grid\")\n",
    "    for yx in yxcoords:\n",
    "        f, Px = psd_calc_grid(flux_reconstr,yx[0],yx[1])\n",
    "        rec_grid_psd[mode,yx[0],yx[1],0,:] = f\n",
    "        rec_grid_psd[mode,yx[0],yx[1],1,:] = Px\n",
    "        del f, Px\n",
    "        gc.collect()\n",
    "    np.save(\"rec_grid_psd\",rec_grid_psd)"
   ]
  },
  {
   "cell_type": "code",
   "execution_count": null,
   "id": "ef77e89a",
   "metadata": {},
   "outputs": [],
   "source": []
  },
  {
   "cell_type": "code",
   "execution_count": null,
   "id": "326a4ced",
   "metadata": {},
   "outputs": [],
   "source": [
    "def grid_func(mode,y,x):\n",
    "    print(\"Generating reconstructed data for mode: {}\".format(mode*mode_skip))\n",
    "    flux_reconstr = generate_data(mode)\n",
    "    print(\"Calculating PSD & RMSE for {},{}\".format(y,x))\n",
    "    rec_f, rec_Px = psd_calc_grid(flux_reconstr[:,y,x])\n",
    "    rmse = sqrt(mean_squared_error(10*np.log10(rec_Px),10*np.log10(orig_grid_psd[y,x,1,:])))\n",
    "    return rec_f, rec_Px, rmse"
   ]
  },
  {
   "cell_type": "code",
   "execution_count": null,
   "id": "34573080",
   "metadata": {},
   "outputs": [],
   "source": [
    "rec_f_results, rec_Px_results, rmse_results  = list(map(grid_func, \n",
    "                                                        *zip(*product(xeofs_modes,yxcoordsna[0],yxcoordsna[1]))))"
   ]
  },
  {
   "cell_type": "code",
   "execution_count": null,
   "id": "be7ac666",
   "metadata": {
    "scrolled": true
   },
   "outputs": [],
   "source": [
    "%%time\n",
    "basin = basins[0]\n",
    "n_reconstr = xeofs_n_modes\n",
    "rmse_results = []\n",
    "rec_results = np.empty((n_reconstr,orignp.shape[0],orignp.shape[1]))\n",
    "for mode in range(1,n_reconstr+1):\n",
    "    rmse, recc = basinplot_func_clean(basin, mode)\n",
    "    rmse_results.append(rmse)\n",
    "    rec_results[mode,:,:] = recc\n",
    "    del recc\n",
    "    gc.collect()"
   ]
  },
  {
   "cell_type": "code",
   "execution_count": null,
   "id": "8197b1fa",
   "metadata": {},
   "outputs": [],
   "source": [
    "cmap = plt.cm.coolwarm\n",
    "rcParams['axes.prop_cycle'] = cycler(color=cmap(np.linspace(0, 0.1, 1)))"
   ]
  },
  {
   "cell_type": "code",
   "execution_count": null,
   "id": "05e2daa9",
   "metadata": {},
   "outputs": [],
   "source": [
    "plt.figure(figsize=(25,8))\n",
    "for i in range(10, n_reconstr):\n",
    "    plt.plot(rec_results[i,1,:], 10*np.log10(rec_results[i,0,:]), linewidth=0.3, color = cmap(i*10/n_reconstr))\n",
    "plt.plot(orig[1], 10*np.log10(orig[0]), label='Original', linewidth=3, color='k')\n",
    "plt.xlabel('Frequency')\n",
    "plt.ylabel('PSD')\n",
    "plt.title('Thwaites: PSD Comparison of Reconstructed Data')\n",
    "plt.legend()"
   ]
  },
  {
   "cell_type": "code",
   "execution_count": null,
   "id": "f9adc138",
   "metadata": {},
   "outputs": [],
   "source": [
    "plt.figure(figsize=(25,8))\n",
    "for i in range(2, n_reconstr):\n",
    "    plt.plot(rec114[i,1,:], 10*np.log10(rec114[i,0,:]), linewidth=0.75, color = cmap(i*15/n_reconstr))\n",
    "plt.plot(rec114[i,1,:], 10*np.log10(rec114[n_reconstr-1,0,:]), linewidth=0.75, color = cmap(i*15/n_reconstr))\n",
    "plt.plot(orig[1], 10*np.log10(orig[0]), label='Original', linewidth=2.5, color='k')\n",
    "plt.plot(rec114[np.argmin(rmse114),1,:], 10*np.log10(rec114[np.argmin(rmse114),0,:]), label='min RMSE PSD', linewidth=2.5, color='b')\n",
    "plt.xlabel('Frequency')\n",
    "plt.ylabel('PSD')\n",
    "plt.title('Thwaites: PSD Comparison of Reconstructed Data')\n",
    "plt.legend()"
   ]
  }
 ],
 "metadata": {
  "kernelspec": {
   "display_name": "Python 3 (ipykernel)",
   "language": "python",
   "name": "python3"
  },
  "language_info": {
   "codemirror_mode": {
    "name": "ipython",
    "version": 3
   },
   "file_extension": ".py",
   "mimetype": "text/x-python",
   "name": "python",
   "nbconvert_exporter": "python",
   "pygments_lexer": "ipython3",
   "version": "3.10.2"
  }
 },
 "nbformat": 4,
 "nbformat_minor": 1
}
