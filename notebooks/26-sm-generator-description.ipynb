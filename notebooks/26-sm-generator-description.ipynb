{
 "cells": [
  {
   "cell_type": "code",
   "execution_count": 1,
   "metadata": {},
   "outputs": [
    {
     "name": "stderr",
     "output_type": "stream",
     "text": [
      "/var/folders/6b/9ftjhcg16g19w33zvk7zd7mm0131yc/T/ipykernel_74855/3092812729.py:22: UserWarning: Shapely 2.0 is installed, but because PyGEOS is also installed, GeoPandas will still use PyGEOS by default for now. To force to use and test Shapely 2.0, you have to set the environment variable USE_PYGEOS=0. You can do this before starting the Python process, or in your code before importing geopandas:\n",
      "\n",
      "import os\n",
      "os.environ['USE_PYGEOS'] = '0'\n",
      "import geopandas\n",
      "\n",
      "In a future release, GeoPandas will switch to using Shapely by default. If you are using PyGEOS directly (calling PyGEOS functions on geometries from GeoPandas), this will then stop working and you are encouraged to migrate from PyGEOS to Shapely 2.0 (https://shapely.readthedocs.io/en/latest/migration_pygeos.html).\n",
      "  import geopandas as gpd\n"
     ]
    }
   ],
   "source": [
    "import numpy as np\n",
    "import xarray as xr\n",
    "from pathlib import Path\n",
    "import matplotlib.pyplot as plt\n",
    "from matplotlib.gridspec import GridSpec\n",
    "from matplotlib.colorbar import Colorbar\n",
    "from matplotlib.colors import Normalize, TwoSlopeNorm\n",
    "import cmocean\n",
    "import cartopy.crs as ccrs\n",
    "import cartopy\n",
    "import seaborn as sns\n",
    "from matplotlib import rcParams, cycler\n",
    "from mpl_toolkits.axes_grid1.inset_locator import inset_axes\n",
    "\n",
    "from xeofs.xarray import EOF\n",
    "\n",
    "import scipy\n",
    "from scipy import signal\n",
    "from shapely.geometry import mapping\n",
    "from xarrayutils.utils import linear_trend, xr_linregress\n",
    "import pandas as pd\n",
    "import geopandas as gpd"
   ]
  },
  {
   "cell_type": "code",
   "execution_count": null,
   "metadata": {},
   "outputs": [],
   "source": [
    "\n",
    "main_dir = Path.cwd().parent # Main directory path of project repository - all filepaths are relative to this\n",
    "\n",
    "# File path directories\n",
    "DIR_external = 'data/external/'\n",
    "\n",
    "# DATASET FILEPATHS\n",
    "# Basal melt observations from Paolo 2023\n",
    "DIR_basalMeltObs = 'data/external/Paolo2023/'\n",
    "# Ocean model output - E3SM (SORRMv2.1.ISMF), data received from Darin Comeau / Matt Hoffman at LANL\n",
    "DIR_SORRMv21 = 'data/external/SORRMv2.1.ISMF/regridded_output/'\n",
    "\n",
    "# DATA FILENAMES\n",
    "FILE_MeltDraftObs = 'ANT_G1920V01_IceShelfMeltDraft.nc'\n",
    "FILE_SORRMv21 = 'Regridded_SORRMv2.1.ISMF.FULL.nc'\n",
    "FILE_SORRMv21_DETRENDED = 'SORRMv21_detrended.nc'\n",
    "FILE_iceShelvesShape = 'iceShelves.geojson'\n",
    "\n",
    "# INTERIM GENERATED FILEPATHS\n",
    "DIR_basalMeltObs_Interim = 'data/interim/Paolo2023/iceShelves_dedraft/iceShelfRegions/'\n",
    "DIR_SORRMv21_Interim = 'data/interim/SORRMv2.1.ISMF/iceShelves_dedraft/iceShelfRegions/'\n"
   ]
  },
  {
   "cell_type": "code",
   "execution_count": null,
   "metadata": {},
   "outputs": [],
   "source": [
    "norm_eofs = xr.open_dataset(main_dir / \"data/interim/SORRMv2.1.ISMF/EOF_PCA_modes/\" / \"sorrmv21_norm_eofs.nc\" )\n",
    "norm_pcs = xr.open_dataset(main_dir / \"data/interim/SORRMv2.1.ISMF/EOF_PCA_modes/\" / \"sorrmv21_norm_pcs.nc\" )\n",
    "norm_varexpl = xr.open_dataset(main_dir / \"data/interim/SORRMv2.1.ISMF/EOF_PCA_modes/\" / \"sorrmv21_norm_varexpl.nc\" )\n",
    "\n",
    "norm_eofs = norm_eofs.EOFs\n",
    "norm_pcs = norm_pcs.PCs\n",
    "nmodes = norm_eofs.mode.shape[0]"
   ]
  },
  {
   "cell_type": "code",
   "execution_count": null,
   "metadata": {},
   "outputs": [],
   "source": [
    "plt.figure(figsize=(75,8))\n",
    "#norm_pcs.PCs[:,0].plot()\n",
    "norm_pcs.PCs[:,1].plot()\n",
    "norm_pcs.PCs[:,5].plot()"
   ]
  },
  {
   "cell_type": "code",
   "execution_count": null,
   "metadata": {},
   "outputs": [],
   "source": [
    "%%time\n",
    "##############################\n",
    "# FOURIER PHASE RANDOMIZATION \n",
    "##############################\n",
    "\n",
    "# Define number of random Fourier realizations\n",
    "n_realizations = 2\n",
    "t_length = norm_pcs.shape[0]\n",
    "\n",
    "# Define random number generator \n",
    "#rng = np.random.default_rng(2021)\n",
    "#random_phases = np.exp(np.random.default_rng(2023).uniform(0,2*np.pi,int(len(fl)/2+1))*1.0j) in line 26\n",
    "\n",
    "# xeofs_pcs[:,i] when using PCA outputs\n",
    "new_fl = np.empty((n_realizations,norm_pcs.shape[0],norm_pcs.shape[1]))\n",
    "\n",
    "# Time limits for plotting\n",
    "t1 = 0\n",
    "tf = int(t_length/2)\n",
    "\n",
    "for i in range(n_realizations):\n",
    "    for m in range(nmodes):\n",
    "        fl = norm_pcs[:,m] # fluxpcs[:,i] when using PCA outputs\n",
    "        fl_fourier = np.fft.rfft(fl)\n",
    "        random_phases = np.exp(np.random.uniform(0,2*np.pi,int(len(fl)/2+1))*1.0j)\n",
    "        fl_fourier_new = fl_fourier*random_phases\n",
    "        new_fl[i,:,m] = np.fft.irfft(fl_fourier_new)\n",
    "    print('calculated ifft for realization {}, all modes'.format(i))"
   ]
  },
  {
   "cell_type": "code",
   "execution_count": null,
   "metadata": {},
   "outputs": [],
   "source": [
    "t_start = 1500\n",
    "t_end = 3000\n",
    "\n",
    "# norm_pcs_trend = \n",
    "\n",
    "\n",
    "plt.figure(figsize=(35,8))\n",
    "norm_pcs[t_start:t_end,1].plot(linewidth=2)\n",
    "norm_pcs[t_start:t_end,4].plot(linewidth=2)\n",
    "norm_pcs[t_start:t_end,7].plot(linewidth=2)\n",
    "norm_pcs[t_start:t_end,10].plot(linewidth=2)"
   ]
  },
  {
   "cell_type": "code",
   "execution_count": null,
   "metadata": {},
   "outputs": [],
   "source": [
    "from statsmodels.tsa.seasonal import STL\n",
    "# fig, ax = plt.subplots(111, figsize=(45,8))\n",
    "mode_list = np.array([1,4,7,10])\n",
    "\n",
    "plt.figure(figsize=(45,8))\n",
    "for i in mode_list:\n",
    "    res = STL(norm_pcs[t_start:t_end,i],period=12).fit()\n",
    "    plt.plot(res.trend,linewidth=2.5)"
   ]
  },
  {
   "cell_type": "code",
   "execution_count": null,
   "metadata": {},
   "outputs": [],
   "source": [
    "plt.figure(figsize=(25,8))\n",
    "plt.plot(norm_pcs[t_start:t_end,10])\n",
    "plt.plot(res.trend)"
   ]
  },
  {
   "cell_type": "code",
   "execution_count": null,
   "metadata": {},
   "outputs": [],
   "source": [
    "# Diagnostic plot of generated PCs\n",
    "\n",
    "t_start = 0\n",
    "t_end = 6000\n",
    "\n",
    "nmodes_plot = 10 # Number of modes to plot\n",
    "nrealizations_to_plot = n_realizations # to be lesser than absolute total number, defined in the Fourier randomization step\n",
    "\n",
    "sns.set_theme(style=\"white\")\n",
    "fig=plt.figure(figsize=(25,5*nmodes_plot))\n",
    "\n",
    "gs = GridSpec(nmodes_plot, 2, width_ratios=[4, 2])\n",
    "ax0 = [fig.add_subplot(gs[i, 0]) for i in range(nmodes_plot)]\n",
    "ax1 = [fig.add_subplot(gs[i, 1]) for i in range(nmodes_plot)]\n",
    "\n",
    "for i, (a0,a1) in enumerate(zip(ax0,ax1)):\n",
    "    for n_realization in range(0,nrealizations_to_plot):\n",
    "        a0.plot(new_fl[n_realization,t_start:t_end,i],color='b', linewidth=0.5)\n",
    "        a1.psd(new_fl[n_realization,t_start:t_end,i],color='b', linewidth=0.5)\n",
    "    a0.plot(new_fl[0,t_start:t_end,i],color='b', linewidth=0.25,label='Randomized')\n",
    "    a1.psd(new_fl[0,t_start:t_end,i],color='b', linewidth=0.25,label='Randomized')\n",
    "    a0.plot(norm_pcs[t_start:t_end,i],color='k', linewidth=2.5,label='Original')\n",
    "    a1.psd(norm_pcs[t_start:t_end,i],color='k', linewidth=2.5,label='Original')\n",
    "    a0.set_title('PC for EOF mode {}'.format(i+1))\n",
    "    a1.set_title('PSD for PC mode {}'.format(i+1))\n",
    "    a1.set_xlabel('')\n",
    "\n",
    "a0.set_xlabel('Time (months)')\n",
    "a1.set_xlabel('Frequency')\n",
    "plt.legend();"
   ]
  },
  {
   "cell_type": "code",
   "execution_count": null,
   "metadata": {},
   "outputs": [],
   "source": [
    "#modified to not return f - in calculation of RMSE, only Px required\n",
    "def psd_calc_grid(data,y,x):\n",
    "    f, Px = scipy.signal.welch(data[:,y,x])\n",
    "    return Px\n",
    "\n",
    "def time_series(clipped_data):\n",
    "    clipped_ts = clipped_data.sum(['y','x'])\n",
    "    return clipped_ts\n",
    "\n",
    "# Reconstruct flux dataset using phase randomized PCs\n",
    "# This section is to be called iteratively for ensemble runs with multiple realizations\n",
    "# This method also takes 'modes' as a parameter: \n",
    "# which is used to reconstruct dataset with different number of selected modes\n",
    "\n",
    "def generate_data(n_realization,mode,mode_skip):\n",
    "    # mode can be any int in (1,nmodes), for cases \n",
    "    # when dimensionality reduction is preferred on the reconstructed dataset\n",
    "    flux_reconstr = norm_model.reconstruct_randomized_X(new_fl[n_realization],slice(1,mode,mode_skip))\n",
    "    #flux_reconstr = flux_reconstr.dropna('time',how='all')\n",
    "    #flux_reconstr = flux_reconstr.dropna('y',how='all')\n",
    "    #flux_reconstr = flux_reconstr.dropna('x',how='all')\n",
    "    #flux_reconstr = flux_reconstr.drop(\"month\")\n",
    "    return flux_reconstr\n",
    "\n",
    "def clip_data(total_data, basin):\n",
    "    clipped_data = total_data.rio.clip(icems.loc[[basin],'geometry'].apply(mapping))\n",
    "    #clipped_data = clipped_data.dropna('time',how='all')\n",
    "    #clipped_data = clipped_data.dropna('y',how='all')\n",
    "    #clipped_data = clipped_data.dropna('x',how='all')\n",
    "    clipped_data = clipped_data.drop(\"month\")\n",
    "    return clipped_data"
   ]
  },
  {
   "cell_type": "code",
   "execution_count": null,
   "metadata": {},
   "outputs": [],
   "source": [
    "flux_clean_normalized = xr.open_dataset(main_dir / \"data/interim/SORRMv2.1.ISMF/\" / \"flux_clean_6000_normalized.nc\")\n",
    "flux_clean_normalized = flux_clean_normalized.flux\n",
    "\n",
    "norm_model = EOF(flux_clean_normalized)\n",
    "norm_model.solve()"
   ]
  },
  {
   "cell_type": "code",
   "execution_count": null,
   "metadata": {},
   "outputs": [],
   "source": [
    "norm_model"
   ]
  },
  {
   "cell_type": "code",
   "execution_count": null,
   "metadata": {},
   "outputs": [],
   "source": [
    "import pickle\n",
    "file_pi = open(str(main_dir / \"data/interim/SORRMv2.1.ISMF/\" / \"norm_model.obj\"), 'wb') \n",
    "pickle.dump(norm_model, file_pi)"
   ]
  },
  {
   "cell_type": "code",
   "execution_count": null,
   "metadata": {},
   "outputs": [],
   "source": [
    "file_pi.close()"
   ]
  },
  {
   "cell_type": "code",
   "execution_count": null,
   "metadata": {},
   "outputs": [],
   "source": [
    "file_pi2 = open(str(main_dir / \"data/interim/SORRMv2.1.ISMF/\" / \"norm_model.obj\"), 'rb')\n",
    "norm_model2 = pickle.load(file_pi2)"
   ]
  },
  {
   "cell_type": "code",
   "execution_count": null,
   "metadata": {},
   "outputs": [],
   "source": [
    "sorrmv21_clean = xr.open_dataset(main_dir / DIR_SORRMv21_Interim / \"sorrmv21_clean.nc\")\n",
    "sorrmv21_clean = sorrmv21_clean.rename({\"__xarray_dataarray_variable__\":\"flux\", \"Time\":\"time\"})\n",
    "flux_clean = sorrmv21_clean.flux[3000:9000]\n",
    "\n",
    "flux_clean_tstd = xr.open_dataset(main_dir / \"data/interim/SORRMv2.1.ISMF/\" / \"flux_clean_6000_tstd.nc\")\n",
    "flux_clean_tmean = flux_clean.mean('time')\n",
    "flux_clean_tmean.to_netcdf(main_dir / \"data/interim/SORRMv2.1.ISMF/\" / \"flux_clean_6000_tmean.nc\")"
   ]
  },
  {
   "cell_type": "code",
   "execution_count": null,
   "metadata": {},
   "outputs": [],
   "source": [
    "# Generate dataset realizations\n",
    "\n",
    "## Standard EOF/PCA implementation\n",
    "# Can use the xeofs-rand package, or directly generate using sklearn PCA.\n",
    "\n",
    "for i in range(n_realizations):\n",
    "    flux_reconstr = generate_data(i, 6000, 1)\n",
    "    flux_reconstr = (flux_reconstr*flux_clean_tstd)+flux_clean_tmean\n",
    "    # melt_reconstr = flux_reconstr*sec_per_year/rho_fw\n",
    "    flux_reconstr = flux_reconstr.rename('flux_rec{}'.format(n_realizations))\n",
    "    flux_reconstr.to_netcdf(main_dir / \"data/interim/SORRMv2.1.ISMF/SORRM_6000_REC/flux_REC{}.nc\".format(i))\n",
    "    print('reconstructed realization # {}'.format(i))"
   ]
  }
 ],
 "metadata": {
  "kernelspec": {
   "display_name": "aislens",
   "language": "python",
   "name": "python3"
  },
  "language_info": {
   "codemirror_mode": {
    "name": "ipython",
    "version": 3
   },
   "file_extension": ".py",
   "mimetype": "text/x-python",
   "name": "python",
   "nbconvert_exporter": "python",
   "pygments_lexer": "ipython3",
   "version": "3.10.8"
  }
 },
 "nbformat": 4,
 "nbformat_minor": 2
}
