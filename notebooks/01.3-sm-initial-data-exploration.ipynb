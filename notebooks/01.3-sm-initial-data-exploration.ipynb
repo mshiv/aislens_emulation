{
 "cells": [
  {
   "cell_type": "code",
   "execution_count": null,
   "id": "74256654",
   "metadata": {},
   "outputs": [],
   "source": [
    "import sys\n",
    "import os\n",
    "import cartopy.crs as ccrs\n",
    "import matplotlib.pyplot as plt\n",
    "from matplotlib import animation, rc\n",
    "from IPython.display import HTML, display\n",
    "import numpy as np\n",
    "import xarray as xr\n",
    "import pandas as pd\n",
    "import geopandas as gpd\n",
    "# import regionmask\n",
    "import rioxarray\n",
    "from shapely.geometry import mapping # , Point, Polygon\n",
    "from mpl_toolkits.axes_grid1.inset_locator import zoomed_inset_axes\n",
    "from mpl_toolkits.axes_grid1.inset_locator import mark_inset\n",
    "import pprint"
   ]
  },
  {
   "cell_type": "code",
   "execution_count": null,
   "id": "cffccdf4",
   "metadata": {},
   "outputs": [],
   "source": [
    "# Define project repo path\n",
    "inDirName = '/Users/smurugan9/research/aislens/aislens_emulation/'\n",
    "\n",
    "# Data file paths\n",
    "regriddedFluxSSH_filepath = 'data/interim/RegriddedFluxSSH.nc' # Data containing regridded flux and SSH for 150 years\n",
    "iceShelvesShape_filepath = 'data/interim/iceShelves.geojson' # File contains all defined ice shelves\n",
    "figures_folderpath = 'reports/figures/' # Folder for output figures"
   ]
  },
  {
   "cell_type": "code",
   "execution_count": null,
   "id": "d77751c4",
   "metadata": {},
   "outputs": [],
   "source": [
    "data = xr.open_dataset(inDirName + regriddedFluxSSH_filepath)\n",
    "flux = data.timeMonthly_avg_landIceFreshwaterFlux\n",
    "ssh = data.timeMonthly_avg_ssh\n",
    "lat = data.lat\n",
    "lon = data.lon"
   ]
  },
  {
   "cell_type": "code",
   "execution_count": null,
   "id": "ad0369f9",
   "metadata": {},
   "outputs": [],
   "source": [
    "# Read geoJSON region feature file as GeoDataFrame\n",
    "iceshelvesmask = gpd.read_file(inDirName + iceShelvesShape_filepath)"
   ]
  },
  {
   "cell_type": "code",
   "execution_count": null,
   "id": "4d2564af",
   "metadata": {},
   "outputs": [],
   "source": [
    "# Convert to south polar stereographic projection\n",
    "icems = iceshelvesmask.to_crs({'init': 'epsg:3031'})\n",
    "crs = ccrs.SouthPolarStereo()\n",
    "\n",
    "# Specify projection for data file\n",
    "data.rio.write_crs(\"epsg:3031\",inplace=True)"
   ]
  },
  {
   "cell_type": "code",
   "execution_count": null,
   "id": "2af8bbd1",
   "metadata": {},
   "outputs": [],
   "source": [
    "## Following section tests the code for 1 ice shelf / catchment:\n",
    "# Iceshelf chosen: \n",
    "#  34 : Amery\n",
    "# 103 : Ronne\n",
    "# 104 : Western Ross\n",
    "# 105 : Eastern Ross\n",
    "# 114 : Thwaites\n",
    "\n",
    "basin = 114\n",
    "basinName = icems.name.values[basin]"
   ]
  },
  {
   "cell_type": "code",
   "execution_count": null,
   "id": "b3a53c53",
   "metadata": {},
   "outputs": [],
   "source": [
    "# Mask data to chosen basin\n",
    "ds = data.rio.clip(icems.loc[[basin],'geometry'].apply(mapping),icems.crs,drop=False)"
   ]
  },
  {
   "cell_type": "code",
   "execution_count": null,
   "id": "29385d99",
   "metadata": {},
   "outputs": [],
   "source": [
    "flx = ds.timeMonthly_avg_landIceFreshwaterFlux\n",
    "h = ds.timeMonthly_avg_ssh"
   ]
  },
  {
   "cell_type": "code",
   "execution_count": null,
   "id": "87aa1335",
   "metadata": {},
   "outputs": [],
   "source": [
    "flx_ts = flx.sum(['y','x'])"
   ]
  },
  {
   "cell_type": "code",
   "execution_count": null,
   "id": "2565a7a7",
   "metadata": {},
   "outputs": [],
   "source": [
    "# Remove climatologies to isolate anomalies / deseasonalize \n",
    "flx_monthly = flx.groupby(\"time.month\")\n",
    "flx_clm = flx_monthly.mean(\"time\") # Climatologies\n",
    "flx_anm = flx_monthly - flx_clm # Deseasonalized anomalies\n",
    "\n",
    "# Integrate over entire AIS / basin for time series\n",
    "flx_clm_ts = flx_clm.sum(['y','x']) # Seasonality / Climatology?\n",
    "flx_anm_ts = flx_anm.sum(['y','x'], skipna=True)"
   ]
  },
  {
   "cell_type": "code",
   "execution_count": null,
   "id": "1efbfa74",
   "metadata": {},
   "outputs": [],
   "source": [
    "# Annual Climatology\n",
    "plt.figure(figsize=(8, 5), dpi=80)\n",
    "plt.title('Climatology')\n",
    "plt.plot(flx_clm_ts,color='m', linestyle='dotted', linewidth=1)\n",
    "plt.ylabel('landIceFreshwaterFlux')\n",
    "plt.xlabel('Month')"
   ]
  },
  {
   "cell_type": "code",
   "execution_count": null,
   "id": "70be4ecc",
   "metadata": {},
   "outputs": [],
   "source": [
    "def detrend_dim(data, dim, deg):\n",
    "    # detrend along a single dimension\n",
    "    p = data.polyfit(dim=dim, deg=deg)\n",
    "    fit = xr.polyval(data[dim], p.polyfit_coefficients)\n",
    "    return data - fit"
   ]
  },
  {
   "cell_type": "code",
   "execution_count": null,
   "id": "028d6b68",
   "metadata": {},
   "outputs": [],
   "source": [
    "# Remove linear trend from the deseasonalized anomalies\n",
    "flx_dtr = detrend_dim(flx_anm, 'time', 1)"
   ]
  },
  {
   "cell_type": "code",
   "execution_count": null,
   "id": "85c51c0e",
   "metadata": {},
   "outputs": [],
   "source": [
    "# Integrate flux across basin for time series\n",
    "flx_dtr_ts = flx_dtr.sum(['y','x'], skipna=True)"
   ]
  },
  {
   "cell_type": "code",
   "execution_count": null,
   "id": "634c2864",
   "metadata": {},
   "outputs": [],
   "source": [
    "flx_snl_ts = flx_ts - flx_anm_ts # Seasonality trend\n",
    "flx_lnr_ts = flx_anm_ts - flx_dtr_ts # Linear trend"
   ]
  },
  {
   "cell_type": "code",
   "execution_count": null,
   "id": "10948aa6",
   "metadata": {},
   "outputs": [],
   "source": [
    "plt.figure(figsize=(25, 8), dpi=80)\n",
    "plt.plot(flx_ts, label='Original MPAS Output', color='b', linestyle='--', linewidth=0.95)\n",
    "plt.plot(flx_anm_ts, label='Seasonal Anomalies', color='r', linestyle='dotted', linewidth=0.95)\n",
    "plt.plot(flx_dtr_ts, label='Deseasonalized and Linearly Detrended Data', color='k', linewidth=2)\n",
    "plt.legend()"
   ]
  },
  {
   "cell_type": "code",
   "execution_count": null,
   "id": "8856b529",
   "metadata": {},
   "outputs": [],
   "source": [
    "# Seasonal and Linear Trend Decomposition\n",
    "\n",
    "plt.subplots(3, figsize=(30, 18), dpi=80)\n",
    "plt.suptitle('Seasonal and Linear Trend Decomposition')\n",
    "\n",
    "plt.subplot(311)\n",
    "flx_dtr_ts.plot(color='k', linewidth=2)\n",
    "plt.title('Deseasonalized and Detrended Data')\n",
    "\n",
    "plt.subplot(312)\n",
    "flx_lnr_ts.plot(color='r', linestyle='--', linewidth=0.95)\n",
    "plt.ylabel('Linear Trend')\n",
    "plt.title('')\n",
    "\n",
    "plt.subplot(313)\n",
    "flx_snl_ts.plot(color='m', linestyle='dotted', linewidth=0.95)\n",
    "plt.ylabel('Seasonal Cycle')\n",
    "plt.title('')"
   ]
  },
  {
   "cell_type": "code",
   "execution_count": null,
   "id": "2b307d3c",
   "metadata": {},
   "outputs": [],
   "source": [
    "# Plot phase randomized data\n",
    "plt.figure(figsize=(30, 7), dpi=80)\n",
    "\n",
    "spinuptime = 60 # Ignore first few years of data in the phase randomization\n",
    "n_realizations = 50 # Number of random Fourier realizations\n",
    "\n",
    "new_fl = np.empty((n_realizations,flx_dtr_ts[spinuptime:].size))\n",
    "\n",
    "# Time limits for plotting\n",
    "t1 = 60\n",
    "tf = 1200\n",
    "\n",
    "for i in range(n_realizations):    \n",
    "    fl = flx_dtr_ts[spinuptime:]\n",
    "    fl_fourier = np.fft.rfft(fl)\n",
    "    # random_phases = np.exp(np.random.uniform(0,np.pi)*1.0j)\n",
    "    random_phases = np.exp(np.random.uniform(0,2*np.pi,int(len(fl)/2+1))*1.0j)\n",
    "    fl_fourier_new = fl_fourier*random_phases\n",
    "    new_fl[i,:] = np.fft.irfft(fl_fourier_new)\n",
    "    plt.plot(new_fl[i,t1:tf],'b', linewidth=0.15)\n",
    "\n",
    "plt.plot(new_fl[45,t1:tf],'b', linewidth=1, label='Randomized Output')\n",
    "plt.plot(new_fl[10,t1:tf],'b', linewidth=1)\n",
    "plt.plot(new_fl[40,t1:tf],'b', linewidth=1)\n",
    "plt.plot(fl[t1:tf],'k', linewidth=3, label='MPAS Output')\n",
    "plt.title('Deseasonalized and Detrended Flux (Years: {:.1f} - {:.1f}): {}'.format((spinuptime+t1)/12,(spinuptime+tf)/12,basinName))\n",
    "plt.ylabel('landIceFreshwaterFlux')\n",
    "plt.legend()"
   ]
  },
  {
   "cell_type": "code",
   "execution_count": null,
   "id": "533348a2",
   "metadata": {},
   "outputs": [],
   "source": [
    "# Time Series Plotting Parameters\n",
    "spinuptime = 60 # Ignore first few years of data in the time series and phase randomization plots, assumed model spinup\n",
    "t1 = 300 # Initial time limit\n",
    "tf = 500 # Final time limit, also used in the sample contourf plot\n",
    "\n",
    "\n",
    "###########################################################\n",
    "########## MAP PLOTS\n",
    "###########################################################\n",
    "\n",
    "plt.figure(figsize=(20,8))\n",
    "ax1 = plt.subplot(121,projection=ccrs.SouthPolarStereo())\n",
    "ax1.gridlines()\n",
    "icems[34:133].boundary.plot(ax=ax1,linewidth=0.5)\n",
    "ax1.coastlines(resolution='10m', zorder=6,linewidth=0.75)\n",
    "icems.loc[[basin]].plot(ax=ax1)\n",
    "plt.title('Catchment Boundaries')\n",
    "\n",
    "# Presents a sample plot of the ice shelf under question with the flux data at any time stamp\n",
    "\n",
    "ax2 = plt.subplot(122,projection=ccrs.SouthPolarStereo())\n",
    "ax2.gridlines()\n",
    "ax2.coastlines(resolution='10m', zorder=3,linewidth=0.75)\n",
    "flx[tf].plot.contourf(ax=ax2,levels=30,zorder=6)\n",
    "icems.boundary.loc[[basin]].plot(ax=ax2,color='blue',linewidth=0.25)\n",
    "plt.title('Sample Data Masked to Catchment: {}'.format(basinName))\n",
    "\n",
    "\n",
    "###########################################################\n",
    "########## TIME SERIES PLOTS\n",
    "###########################################################\n",
    "plt.figure(figsize=(30, 24), dpi=80)\n",
    "\n",
    "plt.subplot(311)\n",
    "plt.plot(flx_ts[(spinuptime+t1):tf], label='Original MPAS Output', color='b', linestyle='--', linewidth=0.95)\n",
    "plt.plot(flx_anm_ts[(spinuptime+t1):tf], label='Seasonal Anomalies', color='r', linestyle='dotted', linewidth=0.95)\n",
    "plt.plot(flx_dtr_ts[(spinuptime+t1):tf], label='Deseasonalized and Linearly Detrended Data', color='k', linewidth=2)\n",
    "plt.legend()\n",
    "plt.title('Data Time Series: Comparison')\n",
    "\n",
    "\n",
    "plt.subplot(312)\n",
    "plt.plot(flx_dtr_ts[(spinuptime+t1):tf], label='Deseasonalized and Detrended Data', color='k', linewidth=2)\n",
    "plt.plot(flx_lnr_ts[(spinuptime+t1):tf], label='Linear Trend', color='r', linestyle='--', linewidth=0.95)\n",
    "plt.plot(flx_snl_ts[(spinuptime+t1):tf], label='Seasonal Cycle', color='m', linestyle='dotted', linewidth=0.95)\n",
    "plt.legend()\n",
    "plt.title('Seasonal and Linear Trend Decomposition')\n",
    "\n",
    "plt.subplot(313)\n",
    "\n",
    "n_realizations = 50 # Number of random Fourier realizations\n",
    "\n",
    "new_fl = np.empty((n_realizations,flx_dtr_ts[spinuptime:].size))\n",
    "\n",
    "for i in range(n_realizations):    \n",
    "    fl = flx_dtr_ts[spinuptime:]\n",
    "    fl_fourier = np.fft.rfft(fl)\n",
    "    random_phases = np.exp(np.random.uniform(0,2*np.pi,int(len(fl)/2+1))*1.0j)\n",
    "    fl_fourier_new = fl_fourier*random_phases\n",
    "    new_fl[i,:] = np.fft.irfft(fl_fourier_new)\n",
    "    plt.plot(new_fl[i,t1:tf],'b', linewidth=0.15)\n",
    "\n",
    "plt.plot(new_fl[45,t1:tf],'b', linewidth=1, label='Randomized Outputs')\n",
    "plt.plot(new_fl[10,t1:tf],'b', linewidth=1)\n",
    "plt.plot(new_fl[40,t1:tf],'b', linewidth=1)\n",
    "plt.plot(fl[t1:tf],'k', linewidth=3, label='MPAS Deseasonalized and Detrended Output')\n",
    "plt.title('Deseasonalized and Detrended Flux (Years: {:.1f} - {:.1f}): {}'.format((spinuptime+t1)/12,(spinuptime+tf)/12,basinName))\n",
    "plt.ylabel('landIceFreshwaterFlux')\n",
    "plt.legend()"
   ]
  },
  {
   "cell_type": "code",
   "execution_count": null,
   "id": "5418e111",
   "metadata": {},
   "outputs": [],
   "source": []
  },
  {
   "cell_type": "code",
   "execution_count": null,
   "id": "5eaa3d3a",
   "metadata": {},
   "outputs": [],
   "source": [
    "# Plot inset\n",
    "\n",
    "fig = plt.figure(figsize=(10, 8), dpi=80)\n",
    "ax = plt.axes()\n",
    "ax.plot(flx_dtr_ts[60:1200])\n",
    "plt.title('Raw Detrended Flux')\n",
    "\n",
    "# Label the axis\n",
    "ax.set_xlabel('Time')\n",
    "ax.set_ylabel('Flux')\n",
    "\n",
    "\n",
    "#I want to select the x-range for the zoomed region\n",
    "x1 = 500\n",
    "x2 = 800\n",
    "\n",
    "# select y-range for zoomed region\n",
    "y1 = -0.02\n",
    "y2 = 0.05\n",
    "\n",
    "# Make the zoom-in plot:\n",
    "axins = zoomed_inset_axes(ax, 1, loc=1) # zoom = 2\n",
    "axins.plot(flx_dtr_ts[60:1200])\n",
    "axins.set_xlim(x1, x2)\n",
    "axins.set_ylim(y1, y2)\n",
    "plt.xticks(visible=False)\n",
    "plt.yticks(visible=False)\n",
    "mark_inset(ax, axins, loc1=2, loc2=4, fc=\"none\", ec=\"0.5\")"
   ]
  }
 ],
 "metadata": {
  "kernelspec": {
   "display_name": "Python 3 (ipykernel)",
   "language": "python",
   "name": "python3"
  },
  "language_info": {
   "codemirror_mode": {
    "name": "ipython",
    "version": 3
   },
   "file_extension": ".py",
   "mimetype": "text/x-python",
   "name": "python",
   "nbconvert_exporter": "python",
   "pygments_lexer": "ipython3",
   "version": "3.10.2"
  }
 },
 "nbformat": 4,
 "nbformat_minor": 5
}
