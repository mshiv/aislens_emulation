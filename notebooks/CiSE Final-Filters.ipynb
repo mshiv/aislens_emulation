{
 "cells": [
  {
   "cell_type": "code",
   "execution_count": null,
   "id": "182d9d59",
   "metadata": {},
   "outputs": [],
   "source": [
    "import sys\n",
    "import os\n",
    "import gc\n",
    "import collections\n",
    "\n",
    "import cartopy.crs as ccrs\n",
    "import cartopy\n",
    "import matplotlib.pyplot as plt\n",
    "import seaborn as sns\n",
    "from matplotlib import rcParams, cycler\n",
    "from matplotlib import animation, rc\n",
    "from matplotlib.gridspec import GridSpec\n",
    "from mpl_toolkits.axes_grid1.inset_locator import inset_axes\n",
    "from scipy.signal import butter, lfilter, freqz, bessel\n",
    "from tqdm import tqdm\n",
    "import iaaft\n",
    "\n",
    "import numpy as np\n",
    "import xarray as xr\n",
    "import geopandas as gpd\n",
    "import rioxarray\n",
    "from xeofs.xarray import EOF\n",
    "\n",
    "import statsmodels.api as sm\n",
    "import scipy\n",
    "from scipy import signal\n",
    "from sklearn.metrics import mean_squared_error\n",
    "from itertools import product\n",
    "import pyproj\n",
    "from shapely.geometry import mapping\n",
    "from xarrayutils.utils import linear_trend, xr_linregress\n",
    "import pandas as pd\n",
    "import cmocean\n",
    "\n",
    "# NOTE: Local xeofs to be submitted as pull-request (addition of xeofs.model.reconstruct_randomized_X method)"
   ]
  },
  {
   "cell_type": "code",
   "execution_count": null,
   "id": "e38301bb",
   "metadata": {},
   "outputs": [],
   "source": [
    "# Define local plotting parameters\n",
    "#sns.set_theme(style=\"whitegrid\")\n",
    "#sns.set_theme(style=\"ticks\")\n",
    "sns.set_theme(style=\"white\")\n",
    "sns.set(rc={\"figure.dpi\":300, 'savefig.dpi':300})\n",
    "plt.rcParams.update({'font.size': 15})\n",
    "plt.rc('font', family='sans-serif') \n",
    "plt.rc('font', serif='Helvetica Neue')\n",
    "plt.rc('text', usetex=True)"
   ]
  },
  {
   "cell_type": "markdown",
   "id": "717fef62",
   "metadata": {},
   "source": [
    "## Define directories"
   ]
  },
  {
   "cell_type": "code",
   "execution_count": null,
   "id": "33982bba",
   "metadata": {},
   "outputs": [],
   "source": [
    "# To update following with relative repository paths once data and code is up on Zenodo\n",
    "# Current version uses the project template on Github.\n",
    "\n",
    "# Define project repo path\n",
    "inDirName = '/Users/smurugan9/research/aislens/aislens_emulation/'\n",
    "\n",
    "# DATA FILE PATHS\n",
    "# Data containing regridded flux and SSH for 150 years\n",
    "regriddedFluxSSH_filepath = 'data/interim/RegriddedFluxSSH.nc'\n",
    "# File contains all defined ice shelves\n",
    "iceShelvesShape_filepath = 'data/interim/iceShelves.geojson'\n",
    "\n",
    "# Relative directory paths for Data and Figures\n",
    "figures_folderpath = 'reports/figures/'\n",
    "interim_data_folder = 'data/interim/'\n",
    "processed_data_folder = 'data/processed/'\n",
    "flux_dedrafted_data_path = 'dedrafted_flux_IMBIE/'\n",
    "randomized_realizations_path = 'randomized_realizations/'\n",
    "flux_dedrafted_iceshelves_data_path = 'iceshelves_dedrafted_flux/'\n",
    "reconstructions_neofs_path = 'reconstructions_neofs/'\n",
    "cise_file_path = 'cise_data/'\n",
    "std_file_path = 'standardized_rec_data/'\n",
    "\n",
    "\n",
    "pca_1 = '1_pca/'\n",
    "pca_2 = '2_pca_normalized/'\n",
    "pca_3 = '3_pca_normalized_nmodes/'\n",
    "pca_4 = '4_lowpass_ pca_normalized/'"
   ]
  },
  {
   "cell_type": "markdown",
   "id": "898598a8",
   "metadata": {},
   "source": [
    "## Input data files and catchment masks for ice shelves"
   ]
  },
  {
   "cell_type": "markdown",
   "id": "4a3023be",
   "metadata": {},
   "source": [
    "### Catchment boundary masks"
   ]
  },
  {
   "cell_type": "code",
   "execution_count": null,
   "id": "ff0c067d",
   "metadata": {},
   "outputs": [],
   "source": [
    "# Catchment boundary masks for Antarctica, taken from ice shelf definitions in MPAS-Dev/geometric-features\n",
    "# Source: https://github.com/MPAS-Dev/geometric_features/tree/main/geometric_data\n",
    "# These have been combined into one file with 133 defined regions (polygons and multipolygons), \n",
    "# readable via the Geopandas package\n",
    "\n",
    "# Read geoJSON region feature file as GeoDataFrame\n",
    "iceshelvesmask = gpd.read_file(inDirName + iceShelvesShape_filepath)\n",
    "\n",
    "# Convert to south polar stereographic projection\n",
    "#icems = iceshelvesmask.to_crs({'init': 'epsg:3031'}); # This has been deprecated\n",
    "icems = iceshelvesmask.to_crs('epsg:3031');\n",
    "crs = ccrs.SouthPolarStereo();"
   ]
  },
  {
   "cell_type": "markdown",
   "id": "6fd1b450",
   "metadata": {},
   "source": [
    "### Plot catchment boundaries"
   ]
  },
  {
   "cell_type": "code",
   "execution_count": null,
   "id": "9a2f1b88",
   "metadata": {},
   "outputs": [],
   "source": [
    "# Plot boundaries\n",
    "\n",
    "plt.figure(figsize=(5,5))\n",
    "ax1 = plt.subplot(121,projection=ccrs.SouthPolarStereo())\n",
    "ax1.gridlines(color='whitesmoke',zorder=4)\n",
    "icems[34:133].plot(ax=ax1,color='antiquewhite', linewidth=0,zorder=1)\n",
    "icems[34:133].boundary.plot(ax=ax1,color='r', linewidth=0.2,zorder=3)\n",
    "#icems[34:133].boundary.plot(ax=ax1,linewidth=0.25,color='lightgray',zorder=4)\n",
    "#ax1.coastlines(resolution='10m', zorder=6,linewidth=0.75)\n",
    "ax1.patch.set_facecolor(color='lightsteelblue')\n",
    "#ax1.add_feature(cartopy.feature.LAND, color='ghostwhite')\n",
    "ax1.add_feature(cartopy.feature.LAND, color='ghostwhite', zorder=2)\n",
    "plt.title('Catchment Boundaries');"
   ]
  },
  {
   "cell_type": "markdown",
   "id": "350e921a",
   "metadata": {},
   "source": [
    "### Ocean forcing data"
   ]
  },
  {
   "cell_type": "code",
   "execution_count": null,
   "id": "448a7b8b",
   "metadata": {},
   "outputs": [],
   "source": [
    "# Original forcing data: raw MPAS-O output, mapped to the 10km resolution grid\n",
    "# flux is freshwater flux\n",
    "# ssh is sea surface height, used here as a proxy for ice draft / depth.\n",
    "\n",
    "# ssh is used to plot the scatterplot of flux vs. draft for different ice shelves \n",
    "# and as input for the linear regression used in \"dedrafting\" the dataset\n",
    "\n",
    "regridded_data = xr.open_dataset(inDirName+regriddedFluxSSH_filepath)\n",
    "flux = regridded_data.timeMonthly_avg_landIceFreshwaterFlux\n",
    "ssh = regridded_data.timeMonthly_avg_ssh\n",
    "\n",
    "# Pre-processed data: detrended, deseasonalized, dedrafted\n",
    "flux_clean = xr.open_dataset(inDirName+interim_data_folder+'flux_clean')\n",
    "flux_clean = flux_clean.timeMonthly_avg_landIceFreshwaterFlux\n",
    "\n",
    "# Dedrafted flux\n",
    "flux_dedrafted = xr.open_dataset(inDirName+\n",
    "                                 interim_data_folder+\n",
    "                                 flux_dedrafted_iceshelves_data_path+'iceshelves_dedrafted_total.nc')\n",
    "flux_dedrafted = flux_dedrafted.timeMonthly_avg_landIceFreshwaterFlux\n",
    "\n",
    "# Flux datapoints extracted for individual ice shelves, used for the scatter plots\n",
    "catchments_scatter = np.load(inDirName+interim_data_folder+\"catchments_scatter.npy\")\n",
    "catchments_scatter_xr = xr.DataArray(catchments_scatter,dims={'basin','x','y'})\n",
    "\n",
    "# Add reconstructed datasets - seed random"
   ]
  },
  {
   "cell_type": "code",
   "execution_count": null,
   "id": "8bb1eb15",
   "metadata": {},
   "outputs": [],
   "source": [
    "flux_clean = xr.open_dataset(inDirName+interim_data_folder+'flux_clean')\n",
    "flux_clean = flux_clean.timeMonthly_avg_landIceFreshwaterFlux"
   ]
  },
  {
   "cell_type": "code",
   "execution_count": null,
   "id": "a42b7394",
   "metadata": {},
   "outputs": [],
   "source": [
    "%%time\n",
    "flux_regress = flux.polyfit('time',deg=2,full=True)"
   ]
  },
  {
   "cell_type": "code",
   "execution_count": null,
   "id": "1fac7b3c",
   "metadata": {},
   "outputs": [],
   "source": [
    "flux_dedrafted = flux - flux_regress.polyfit_residuals"
   ]
  },
  {
   "cell_type": "code",
   "execution_count": null,
   "id": "e3ca1819",
   "metadata": {},
   "outputs": [],
   "source": [
    "# Deseasonalize\n",
    "# Remove climatologies to isolate anomalies, i.e., internal variability\n",
    "flux_month = flux_dedrafted.groupby(\"time.month\")\n",
    "flux_clm = flux_month.mean(\"time\") # Climatologies\n",
    "flux_anm = flux_month - flux_clm # Deseasonalized anomalies"
   ]
  },
  {
   "cell_type": "code",
   "execution_count": null,
   "id": "860fe303",
   "metadata": {},
   "outputs": [],
   "source": [
    "flux_anm_ts = flux_anm.sum(['y','x'])"
   ]
  },
  {
   "cell_type": "code",
   "execution_count": null,
   "id": "a9e4c369",
   "metadata": {},
   "outputs": [],
   "source": [
    "flux_clean_ts = flux_clean.sum(['y','x'])"
   ]
  },
  {
   "cell_type": "code",
   "execution_count": null,
   "id": "e98f3fa5",
   "metadata": {},
   "outputs": [],
   "source": [
    "plt.figure(figsize=(25,8))\n",
    "plt.plot(flux_anm_ts[300:])\n",
    "plt.plot(flux_clean_ts)"
   ]
  },
  {
   "cell_type": "markdown",
   "id": "a2cab541",
   "metadata": {},
   "source": [
    "### Convert Freshwater Flux [$kg. m^{-2} s^{-1}$] to Melt Rate [$m.yr^{-1}$]\n",
    "Assumes density of freshwater $\\rho_{fw}$ [$kg/m^3$] = 1000"
   ]
  },
  {
   "cell_type": "code",
   "execution_count": null,
   "id": "0e7c9191",
   "metadata": {},
   "outputs": [],
   "source": [
    "sec_per_year = 365*24*60*60\n",
    "rho_fw = 1000"
   ]
  },
  {
   "cell_type": "code",
   "execution_count": null,
   "id": "b60c7786",
   "metadata": {},
   "outputs": [],
   "source": [
    "catchments = np.array([1,27,28,61,70,83,94,71,22])"
   ]
  },
  {
   "cell_type": "markdown",
   "id": "b3554e5a",
   "metadata": {},
   "source": [
    "### Plot sample data for specific ice shelves (melt rate draft dependence)"
   ]
  },
  {
   "cell_type": "code",
   "execution_count": null,
   "id": "00fdad20",
   "metadata": {},
   "outputs": [],
   "source": [
    "# Figure: Melt rate draft dependence for select catchments\n",
    "# The following indices are taken from 'catchment_scatter', defined as\n",
    "# Index of catchments in catchment_scatter = Index of catchments in icems - 33\n",
    "\n",
    "# Sample ice shelves chosen:\n",
    "# Amery = 1\n",
    "# George VI = 27\n",
    "# Getz = 28\n",
    "# Pine Island = 61\n",
    "# Ronne = 70\n",
    "# Totten = 83\n",
    "# Wilkins = 94\n",
    "# Western Ross = 71\n",
    "# Filchner = 22\n",
    "# Thwaites = 81\n",
    "# Eastern_Ross = 72\n",
    "\n",
    "# Full list of ice shelves and indices can be obtained by printing icems\n",
    "\n",
    "catchments = np.array([1,27,28,61,70,83,94,71,22])\n",
    "\n",
    "#fig, ax = plt.subplots(1, 1, figsize=[15, 15],subplot_kw={'projection': ccrs.SouthPolarStereo()})\n",
    "fig, axs = plt.subplots(3,3, figsize=[15, 15])\n",
    "axs=axs.ravel()\n",
    "\n",
    "for i in range(9):\n",
    "    axs[i].scatter(catchments_scatter[catchments[i]],ssh[1],color='r',s=4)\n",
    "    #axs[i].set_xlabel('Melt Flux (kg / m2 / s)')\n",
    "    #axs[i].set_ylabel('Depth (m)')\n",
    "    axs[i].set_ylim(-1000,0) # Specified for consistency across plots, some catchments are not as deep as others\n",
    "    # Uncomment to set xlim values for easy comparison of forcing magnitudes (varies across ice shelves)\n",
    "    axs[i].set_xlim(-0.5e-6,2e-5)\n",
    "    axs[i].set_title(icems.name[33+catchments[i]])\n",
    "    # axs[i].inset_axes([], projection=crs) does not seem to work, hence the workaround below:\n",
    "    # Refer here: https://github.com/matplotlib/matplotlib/pull/22608 for future revisions\n",
    "    axins = inset_axes(axs[i],width=\"30%\", height=\"30%\", loc=\"upper right\", \n",
    "                       axes_class=cartopy.mpl.geoaxes.GeoAxes, \n",
    "                       axes_kwargs=dict(projection=ccrs.SouthPolarStereo()))\n",
    "    icems[33:133].plot(ax=axins,linewidth=0.3,color='lightsteelblue')\n",
    "    axins.coastlines(resolution='10m',linewidth=0.25)\n",
    "    icems.loc[[33+catchments[i]],'geometry'].plot(ax=axins,color='r',linewidth=0.4)\n",
    "    axins.set_axis_off();\n",
    "\n",
    "axs[0].set_ylabel('Depth (m)'); # Ice Draft?\n",
    "axs[3].set_ylabel('Depth (m)');\n",
    "axs[6].set_ylabel('Depth (m)');\n",
    "\n",
    "\n",
    "axs[6].set_xlabel('Forcing Flux ($kg m^{-1}s^{-2}$)');\n",
    "axs[7].set_xlabel('Forcing Flux ($kg m^{-1}s^{-2}$)');\n",
    "axs[8].set_xlabel('Forcing Flux ($kg m^{-1}s^{-2}$)');\n",
    "\n",
    "# TODO: Convert to m SLE units for flux"
   ]
  },
  {
   "cell_type": "code",
   "execution_count": null,
   "id": "ca550c22",
   "metadata": {},
   "outputs": [],
   "source": []
  },
  {
   "cell_type": "markdown",
   "id": "c3b907f7",
   "metadata": {},
   "source": [
    "# Data Pre-Processing"
   ]
  },
  {
   "cell_type": "markdown",
   "id": "d3730698",
   "metadata": {},
   "source": [
    "For time series plots and comparisons, the sum of flux across the spatial domain (or specific ice shelves) is used as a proxy when required. The mean can also be used here, without any loss of information, as the idea is only to compare trendlines.\n",
    "#### TODO: Verify if this is indeed true\n",
    "\n",
    "However, this might not be possible once the data is normalized, as the magnitude of data is removed at that stage."
   ]
  },
  {
   "cell_type": "code",
   "execution_count": null,
   "id": "f10d53a8",
   "metadata": {},
   "outputs": [],
   "source": [
    "flux_ts = flux.sum(['x','y'])\n",
    "flux_dedrafted_ts = flux_dedrafted.sum(['x','y'])\n",
    "\n",
    "# Processed data time series\n",
    "flux_clean_ts = flux_clean.sum(['x','y'])"
   ]
  },
  {
   "cell_type": "code",
   "execution_count": null,
   "id": "4fbad3f2",
   "metadata": {},
   "outputs": [],
   "source": [
    "# Remove temporal mean\n",
    "# Is this necessary?\n",
    "flux_demeaned = flux - flux.mean('time')\n",
    "flux_demeaned_ts = flux_demeaned.sum(['x','y'])"
   ]
  },
  {
   "cell_type": "markdown",
   "id": "1be2ab6e",
   "metadata": {},
   "source": [
    "## Remove seasonality"
   ]
  },
  {
   "cell_type": "code",
   "execution_count": null,
   "id": "f2b34bc8",
   "metadata": {},
   "outputs": [],
   "source": [
    "# Deseasonalize\n",
    "# Remove climatologies to isolate anomalies, i.e., internal variability\n",
    "flux_month = flux_dedrafted.groupby(\"time.month\")\n",
    "flux_clm = flux_month.mean(\"time\") # Climatologies\n",
    "flux_anm = flux_month - flux_clm # Deseasonalized anomalies"
   ]
  },
  {
   "cell_type": "code",
   "execution_count": null,
   "id": "31493913",
   "metadata": {},
   "outputs": [],
   "source": []
  },
  {
   "cell_type": "code",
   "execution_count": null,
   "id": "a2a261e1",
   "metadata": {},
   "outputs": [],
   "source": [
    "flux_clm_ts = flux_clm.sum(['x','y'])\n",
    "flux_anm_ts = flux_anm.sum(['x','y'])"
   ]
  },
  {
   "cell_type": "code",
   "execution_count": null,
   "id": "136c32cf",
   "metadata": {},
   "outputs": [],
   "source": [
    "plt.figure(figsize=(25,6))\n",
    "plt.plot(flux_ts[300:])\n",
    "plt.plot(flux_dedrafted_ts[300:])\n",
    "plt.plot(flux_dedrafted_ts - flux_clean_ts)\n",
    "#plt.plot(flux_clean_ts)\n",
    "plt.plot(flux_anm_ts[300:])"
   ]
  },
  {
   "cell_type": "code",
   "execution_count": null,
   "id": "262e899d",
   "metadata": {},
   "outputs": [],
   "source": [
    "# Sanity check, as \"flux_clean.nc\" was created earlier. The difference here is purely numerical.\n",
    "\n",
    "plt.figure(figsize=(25,6))\n",
    "plt.plot(flux_clean_ts - flux_anm_ts[300:])"
   ]
  },
  {
   "cell_type": "markdown",
   "id": "b40ee2dc",
   "metadata": {},
   "source": [
    "# EOF/PCA Decomposition"
   ]
  },
  {
   "cell_type": "markdown",
   "id": "7a0eec61",
   "metadata": {},
   "source": [
    "## Filter data\n",
    "\n",
    "We are primarily interested in interannual and interdecadal variability. Annual and sub-annual variability is filtered out via a low pass filter."
   ]
  },
  {
   "cell_type": "code",
   "execution_count": null,
   "id": "30f79850",
   "metadata": {},
   "outputs": [],
   "source": [
    "# Define Butterworth filter parameters \n",
    "fs=30/24/3600 # 1 month in Hz (sampling frequency)\n",
    "nyquist = fs / 2 # 0.5 times the sampling frequency\n",
    "cutoff=0.15 # fraction of nyquist frequency, chosen to define the cutoff frequency\n",
    "print('cutoff= ',1/cutoff*nyquist*24*3600) # cutoff=  __  days\n",
    "b, a = signal.butter(1, cutoff, btype='lowpass') #low pass filter, 5 is chosen as order of filter"
   ]
  },
  {
   "cell_type": "code",
   "execution_count": null,
   "id": "868fb1e5",
   "metadata": {},
   "outputs": [],
   "source": [
    "1"
   ]
  },
  {
   "cell_type": "code",
   "execution_count": null,
   "id": "09532f32",
   "metadata": {},
   "outputs": [],
   "source": [
    "%%time\n",
    "y = flux_clean.shape[1]\n",
    "x = flux_clean.shape[2]\n",
    "\n",
    "flux_clean_filtered = np.empty((flux_clean.shape[0],y,x))\n",
    "\n",
    "for i in range(y):\n",
    "    for j in range(x):\n",
    "        fl_filt = signal.filtfilt(b, a, flux_clean[:,i,j])\n",
    "        fl_filt = np.array(fl_filt)\n",
    "        fl_filt = fl_filt.transpose()\n",
    "        flux_clean_filtered[:,i,j] = fl_filt\n",
    "        print(\"filtered at {},{}\".format(i,j))"
   ]
  },
  {
   "cell_type": "code",
   "execution_count": null,
   "id": "9221553c",
   "metadata": {},
   "outputs": [],
   "source": [
    "flux_clean_filtered = xr.DataArray(flux_clean_filtered,\n",
    "                                   dims=flux_clean_normalized.dims,\n",
    "                                   coords=flux_clean_normalized.coords,\n",
    "                                   attrs=flux_clean_normalized.attrs)\n",
    "\n",
    "flux_clean_filtered.to_netcdf(inDirName+interim_data_folder+\n",
    "                              cise_file_path+std_file_path+temp_filtered_path+\"flux_clean_filtered_Order1.nc\")\n",
    "\n",
    "flux_clean_filtered = xr.open_dataset(inDirName+interim_data_folder+\n",
    "                                      cise_file_path+std_file_path+temp_filtered_path+\"flux_clean_filtered_Order1.nc\")\n",
    "\n",
    "flux_clean_filtered = flux_clean_filtered.__xarray_dataarray_variable__"
   ]
  },
  {
   "cell_type": "code",
   "execution_count": null,
   "id": "cd0ff2da",
   "metadata": {},
   "outputs": [],
   "source": [
    "flux_clean_filtered_ts = time_series(flux_clean_filtered)"
   ]
  },
  {
   "cell_type": "code",
   "execution_count": null,
   "id": "054930b2",
   "metadata": {},
   "outputs": [],
   "source": [
    "plt.psd(flux_clean_filtered_ts);"
   ]
  },
  {
   "cell_type": "markdown",
   "id": "9c2c8c7a",
   "metadata": {},
   "source": [
    "### Data Normalization"
   ]
  },
  {
   "cell_type": "code",
   "execution_count": null,
   "id": "09e0b980",
   "metadata": {},
   "outputs": [],
   "source": [
    "flux_clean_tmean = flux_clean.mean('time')\n",
    "flux_clean_tstd = flux_clean.std('time')\n",
    "\n",
    "flux_clean_demeaned = flux_clean - flux_clean_tmean\n",
    "# Why does this introduce a non-zero change? (Artefact of flux variable dimensions?)\n",
    "flux_clean_normalized = flux_clean_demeaned/flux_clean_tstd"
   ]
  },
  {
   "cell_type": "code",
   "execution_count": null,
   "id": "22fde5bc",
   "metadata": {},
   "outputs": [],
   "source": [
    "flux_clean_filtered_tmean = flux_clean_filtered.mean('time')\n",
    "flux_clean_filtered_tstd = flux_clean_filtered.std('time')\n",
    "\n",
    "flux_clean_filtered_demeaned = flux_clean_filtered - flux_clean_filtered_tmean\n",
    "# Why does this introduce a non-zero change? (Artefact of flux variable dimensions?)\n",
    "flux_clean_normalized = flux_clean_filtered_demeaned/flux_clean_filtered_tstd"
   ]
  },
  {
   "cell_type": "code",
   "execution_count": null,
   "id": "fbb3be24",
   "metadata": {},
   "outputs": [],
   "source": []
  },
  {
   "cell_type": "markdown",
   "id": "dfea42cc",
   "metadata": {},
   "source": [
    "Time series of the normalized data is calculated below only for illustrative purposes. It would not make sense to compare the normalized time series to other time series (which use the spatial sum or mean)."
   ]
  },
  {
   "cell_type": "code",
   "execution_count": null,
   "id": "74d34243",
   "metadata": {},
   "outputs": [],
   "source": [
    "flux_clean_normalized_ts = flux_clean_normalized.sum(['x','y'])"
   ]
  },
  {
   "cell_type": "code",
   "execution_count": null,
   "id": "b3b3e23c",
   "metadata": {},
   "outputs": [],
   "source": [
    "plt.figure(figsize=(25,5))\n",
    "plt.plot(flux_clean_normalized_ts,color = '#44546A', linewidth=2)\n",
    "plt.title('Anomalies / Internal Variability Component (Normalized)');\n",
    "plt.ylabel('Standard Deviation Units');\n",
    "plt.xlabel('Time (months)');"
   ]
  },
  {
   "cell_type": "code",
   "execution_count": null,
   "id": "6f27abc7",
   "metadata": {},
   "outputs": [],
   "source": [
    "plt.figure(figsize=(25,8))\n",
    "filtered_flux_ts.plot()\n",
    "flux_clean_normalized_ts.plot()"
   ]
  },
  {
   "cell_type": "markdown",
   "id": "bd882a58",
   "metadata": {},
   "source": [
    "## Spatial Decomposition: EOF Analysis"
   ]
  },
  {
   "cell_type": "markdown",
   "id": "c3b7aafd",
   "metadata": {},
   "source": [
    "EOF decomposition is done using a modified version of the `xeofs` package.\n",
    "Refer [nicrie/xeofs](https://github.com/nicrie/xeofs) on Github for documentation.\n",
    "\n",
    "#### TODO: Upload modification of `xeofs` online, or rewrite Xarray wrapper for the scikit-learn PCA to encompass full workflow"
   ]
  },
  {
   "cell_type": "code",
   "execution_count": null,
   "id": "0c8ac411",
   "metadata": {},
   "outputs": [],
   "source": [
    "%%time\n",
    "model = EOF(flux_clean_normalized) # change accordingly if using original data, or normalized data\n",
    "#model = EOF(flux_clean) # change accordingly if using original data, or normalized data\n",
    "model.solve()\n",
    "eofs = model.eofs()\n",
    "pcs = model.pcs()\n",
    "nmodes = model.n_modes\n",
    "varexpl = model.explained_variance_ratio()\n",
    "pcs_eig = model.pcs(1)\n",
    "pcs_sng = model.pcs(2)"
   ]
  },
  {
   "cell_type": "code",
   "execution_count": null,
   "id": "8132a278",
   "metadata": {},
   "outputs": [],
   "source": [
    "%%time\n",
    "# T-mode\n",
    "model = EOF(flux_clean_normalized, dim=['y', 'x'])\n",
    "model.solve()\n",
    "pcs = model.eofs()\n",
    "eofs = model.pcs()\n",
    "nmodes = model.n_modes\n",
    "varexpl = model.explained_variance_ratio()"
   ]
  },
  {
   "cell_type": "code",
   "execution_count": null,
   "id": "eab98840",
   "metadata": {},
   "outputs": [],
   "source": []
  },
  {
   "cell_type": "markdown",
   "id": "bb710721",
   "metadata": {},
   "source": [
    "### Plot relative power of first m modes from the PCA decomposition"
   ]
  },
  {
   "cell_type": "code",
   "execution_count": null,
   "id": "c87e28c0",
   "metadata": {},
   "outputs": [],
   "source": [
    "# Figure: Relative power of m EOFs\n",
    "m = 300\n",
    "sns.set_theme(style=\"white\")\n",
    "plt.figure(figsize=(15,8))\n",
    "plt.bar(range(m),varexpl[:m]*100, \n",
    "        color='black')\n",
    "plt.ylabel('Relative Power (\\%)')\n",
    "plt.xlabel('EOF Mode')\n",
    "plt.title('Total Relative Power of first {} EOFs: {:.2f}\\%'.format(m, varexpl[:m].sum().values*100));"
   ]
  },
  {
   "cell_type": "markdown",
   "id": "4cb06d70",
   "metadata": {},
   "source": [
    "### Plot dominant modes of variability: EOF spatial modes and PC series\n",
    "The plots show dominant spatial and temporal modes of variability for the normalized dataset. It is difficult to interpret these physically.\n",
    "#### TODO: Define vmax, vmin params for eofs.plot() if plotting for original cleaned dataset (un-normalized data)"
   ]
  },
  {
   "cell_type": "code",
   "execution_count": null,
   "id": "bda10814",
   "metadata": {},
   "outputs": [],
   "source": [
    "nmodes_plot = 3 # Number of modes to plot\n",
    "\n",
    "sns.set_theme(style=\"white\")\n",
    "fig=plt.figure(figsize=(15,8))\n",
    "gs = GridSpec(nmodes_plot,2,width_ratios=[1.5,2.5])\n",
    "ax0 = [fig.add_subplot(gs[i, 0],projection=crs) for i in range(nmodes_plot)]\n",
    "ax1 = [fig.add_subplot(gs[i, 1]) for i in range(nmodes_plot)]\n",
    "\n",
    "for i, (a0, a1) in enumerate(zip(ax0, ax1)):\n",
    "    eofs.sel(mode=i+1).plot(ax=a0,\n",
    "                            cmap='cmo.balance',\n",
    "                            add_colorbar=True,\n",
    "                            cbar_kwargs={'orientation': 'vertical',\n",
    "                                         'label': 'Standard Deviation Units'})\n",
    "    a0.coastlines(resolution='10m',linewidth=0.25,color='0.8')\n",
    "    a1.plot(pcs.sel(mode=i+1),linewidth=1,color='dimgray')\n",
    "    a1.set_xlabel('')\n",
    "\n",
    "a1.set_xlabel('Time (months)');\n",
    "#cb = plt.colorbar(eofs.sel(mode=1), ax=a0, orientation=\"vertical\", pad=0.15)\n",
    "\n",
    "\n",
    "\"\"\"\n",
    "# Figure: Dominant EOF modes\n",
    "sns.set_theme(style=\"white\")\n",
    "fg = eofs[:,:,0:2].plot(aspect=2,\n",
    "                        size=8,\n",
    "                        col=\"mode\", \n",
    "                        col_wrap=2,\n",
    "                        cmap='cmo.balance', # Uses cmocean colorbar - should be installed\n",
    "                        cbar_kwargs={'orientation': 'vertical',\n",
    "                                    'label': 'Standard Deviation Units'},\n",
    "                        subplot_kws=dict(projection=ccrs.SouthPolarStereo()))\n",
    "\n",
    "[ax.coastlines() for ax in fg.axs.flatten()];\n",
    "\"\"\";"
   ]
  },
  {
   "cell_type": "markdown",
   "id": "54b3a41e",
   "metadata": {},
   "source": [
    "## Fourier Phase Randomization\n",
    "\n",
    "Now, the projection co-efficients from the previous step are phase-randomized to generate new realizations of the data. In this step, we sample phases for each FFT(PC) from (0,$2\\pi$), and iterate to generate n realizations.\n",
    "\n",
    "#### 0. No PC filtering (filter done on input dataset before EOF decomposiition"
   ]
  },
  {
   "cell_type": "code",
   "execution_count": null,
   "id": "d7c60888",
   "metadata": {},
   "outputs": [],
   "source": [
    "%%time\n",
    "##############################\n",
    "# FOURIER PHASE RANDOMIZATION \n",
    "##############################\n",
    "\n",
    "# Define number of random Fourier realizations\n",
    "n_realizations = 2\n",
    "t_length = pcs.shape[0]\n",
    "\n",
    "# Define random number generator \n",
    "#rng = np.random.default_rng(2021)\n",
    "#random_phases = np.exp(np.random.default_rng(2023).uniform(0,2*np.pi,int(len(fl)/2+1))*1.0j) in line 26\n",
    "\n",
    "# xeofs_pcs[:,i] when using PCA outputs\n",
    "new_fl = np.empty((n_realizations,pcs.shape[0],pcs.shape[1]))\n",
    "\n",
    "# Time limits for plotting\n",
    "t1 = 0\n",
    "tf = int(t_length/2)\n",
    "\n",
    "for i in range(n_realizations):\n",
    "    for m in range(nmodes):\n",
    "        fl = pcs[:,m] # fluxpcs[:,i] when using PCA outputs\n",
    "        fl_fourier = np.fft.rfft(fl)\n",
    "        #random_phases = np.exp(np.random.uniform(0,2*np.pi,int(len(fl)/2+1))*1.0j)\n",
    "        #random_phases = np.exp(np.random.default_rng(2023).uniform(0,2*np.pi,int(len(fl)/2+1))*1.0j)\n",
    "        random_phases = np.exp(np.random.uniform(0,2*np.pi,int(len(fl)/2+1))*1.0j)\n",
    "        fl_fourier_new = fl_fourier*random_phases\n",
    "        new_fl[i,:,m] = np.fft.irfft(fl_fourier_new)\n",
    "    print('calculated ifft for realization {}, all modes'.format(i))"
   ]
  },
  {
   "cell_type": "code",
   "execution_count": null,
   "id": "d4010c94",
   "metadata": {},
   "outputs": [],
   "source": []
  },
  {
   "cell_type": "code",
   "execution_count": null,
   "id": "ce64f18b",
   "metadata": {},
   "outputs": [],
   "source": [
    "plt.magnitude_spectrum(pcs[:,50]);\n",
    "plt.magnitude_spectrum(new_fl_nothing[0,:,50]);"
   ]
  },
  {
   "cell_type": "code",
   "execution_count": null,
   "id": "d579e8a3",
   "metadata": {},
   "outputs": [],
   "source": [
    "plt.figure(figsize=(25,8))\n",
    "plt.plot(pcs[:,0:2]);\n",
    "#plt.plot(pcs[:,2:4]);"
   ]
  },
  {
   "cell_type": "code",
   "execution_count": null,
   "id": "d95e45cb",
   "metadata": {},
   "outputs": [],
   "source": [
    "m = 10\n",
    "t = len(pcs[:,0]) - m\n",
    "E = 0\n",
    "\n",
    "E_t = np.array([])\n",
    "E = 0\n",
    "\n",
    "for t in range(t):\n",
    "    for i in range(m):\n",
    "        E = E + (pcs[i,0] - pcs[t+i,0])**2\n",
    "    print(E_t)\n",
    "    E_t = np.append(E_t, E) "
   ]
  },
  {
   "cell_type": "code",
   "execution_count": null,
   "id": "dac2d2c6",
   "metadata": {},
   "outputs": [],
   "source": [
    "plt.plot(E_t[1:])"
   ]
  },
  {
   "cell_type": "code",
   "execution_count": null,
   "id": "65701735",
   "metadata": {},
   "outputs": [],
   "source": [
    "### Plot CDFs\n",
    "cdfx = np.sort(fl_fourier)\n",
    "cdfy = np.arange(1500) / float(1500)\n",
    "\n",
    "cdfxorig = np.sort(random_phases)\n",
    "# plotting  \n",
    "plt.title('CDF using sorting the data')\n",
    "#plt.plot(cdfx, marker='.')\n",
    "plt.plot(cdfxorig, marker='.')"
   ]
  },
  {
   "cell_type": "code",
   "execution_count": null,
   "id": "e7bf113e",
   "metadata": {},
   "outputs": [],
   "source": []
  },
  {
   "cell_type": "markdown",
   "id": "1d0c15ae",
   "metadata": {},
   "source": [
    "### IAAFT Surrogate modeling (alternative to normal FFT)"
   ]
  },
  {
   "cell_type": "code",
   "execution_count": null,
   "id": "f91de3c0",
   "metadata": {},
   "outputs": [],
   "source": [
    "xs = np.empty((1500,2,1500))\n",
    "for i in range(1500):\n",
    "    x = iaaft.surrogates(x=pcs[:,i], ns=2, verbose=True)\n",
    "    xs[i] = x"
   ]
  },
  {
   "cell_type": "markdown",
   "id": "76f19e17",
   "metadata": {},
   "source": [
    "### Define Fourier filter\n",
    "This section makes use of filters (Butterworth filter in particular) to cutoff high frequency variability components, which might be spurious artefacts of the high dimensionality dataset, and can lead to noise in the generated outputs."
   ]
  },
  {
   "cell_type": "code",
   "execution_count": null,
   "id": "c3c3b2d3",
   "metadata": {},
   "outputs": [],
   "source": [
    "# Define Butterworth filter parameters \n",
    "fs=30/24/3600 # 1 month in Hz (sampling frequency)\n",
    "nyquist = fs / 2 # 0.5 times the sampling frequency\n",
    "cutoff=0.15 # fraction of nyquist frequency, chosen to define the cutoff frequency\n",
    "print('cutoff= ',1/cutoff*nyquist*24*3600) # cutoff=  __  days\n",
    "bl, al = signal.butter(4, cutoff, btype='lowpass') #low pass filter, 1 is chosen as order of filter\n",
    "bh, ah = signal.butter(4, cutoff, btype='highpass') #high pass filter, 1 is chosen as order of filter"
   ]
  },
  {
   "cell_type": "markdown",
   "id": "48802957",
   "metadata": {},
   "source": [
    "### Fourier functions"
   ]
  },
  {
   "cell_type": "code",
   "execution_count": null,
   "id": "f7fe9241",
   "metadata": {},
   "outputs": [],
   "source": [
    "def butter_lowpass(cutoff, fs, order=1):\n",
    "    return butter(order, cutoff, fs=fs, btype='low', analog=False)\n",
    "\n",
    "def butter_lowpass_filter(data, cutoff, fs, order=1):\n",
    "    b, a = butter_lowpass(cutoff, fs, order=order)\n",
    "    y = lfilter(b, a, data)\n",
    "    return y\n",
    "\n",
    "def butter_highpass(cutoff, fs, order=3):\n",
    "    return butter(order, cutoff, fs=fs, btype='high', analog=False)\n",
    "\n",
    "def butter_highpass_filter(data, cutoff, fs, order=3):\n",
    "    b, a = butter_lowpass(cutoff, fs, order=order)\n",
    "    y = lfilter(b, a, data)\n",
    "    return y"
   ]
  },
  {
   "cell_type": "code",
   "execution_count": null,
   "id": "b44da8a8",
   "metadata": {},
   "outputs": [],
   "source": []
  },
  {
   "cell_type": "code",
   "execution_count": null,
   "id": "714fbfe7",
   "metadata": {},
   "outputs": [],
   "source": [
    "order = 1\n",
    "fs = 30/24/3600     # 30/24/3600  # sample rate, Hz\n",
    "cutoff = 1/24"
   ]
  },
  {
   "cell_type": "markdown",
   "id": "36e3b526",
   "metadata": {},
   "source": [
    "### Randomization over filtered PCs\n",
    "\n",
    "#### 1. Filter PCs before randomization"
   ]
  },
  {
   "cell_type": "code",
   "execution_count": null,
   "id": "3c770189",
   "metadata": {},
   "outputs": [],
   "source": [
    "%%time\n",
    "##############################\n",
    "# FOURIER PHASE RANDOMIZATION \n",
    "##############################\n",
    "\n",
    "# Define number of random Fourier realizations\n",
    "n_realizations = 2\n",
    "t_length = pcs.shape[0]\n",
    "\n",
    "# Define random number generator \n",
    "#rng = np.random.default_rng(2021)\n",
    "#random_phases = np.exp(np.random.default_rng(2023).uniform(0,2*np.pi,int(len(fl)/2+1))*1.0j) in line 26\n",
    "\n",
    "# xeofs_pcs[:,i] when using PCA outputs\n",
    "new_fl = np.empty((n_realizations,pcs.shape[0],pcs.shape[1]))\n",
    "\n",
    "# Time limits for plotting\n",
    "t1 = 0\n",
    "tf = int(t_length/2)\n",
    "\n",
    "for i in range(n_realizations):\n",
    "    for m in range(nmodes):\n",
    "        fl = pcs[:,m] # fluxpcs[:,i] when using PCA outputs\n",
    "        fl_filt = signal.filtfilt(bl, al, fl)\n",
    "        fl_filt=np.array(fl_filt)\n",
    "        fl_filt=fl_filt.transpose()\n",
    "        fl_fourier = np.fft.rfft(fl_filt)\n",
    "        #random_phases = np.exp(np.random.uniform(0,2*np.pi,int(len(fl)/2+1))*1.0j)\n",
    "        #random_phases = np.exp(np.random.default_rng(2023).uniform(0,2*np.pi,int(len(fl)/2+1))*1.0j)\n",
    "        random_phases = np.exp(np.random.uniform(0,2*np.pi,int(len(fl)/2+1))*1.0j)\n",
    "        fl_fourier_new = fl_fourier*random_phases\n",
    "        new_fl[i,:,m] = np.fft.irfft(fl_fourier_new)\n",
    "    print('calculated ifft for realization {}, all modes'.format(i))"
   ]
  },
  {
   "cell_type": "code",
   "execution_count": null,
   "id": "c1c12389",
   "metadata": {},
   "outputs": [],
   "source": [
    "%%time\n",
    "##############################\n",
    "# FOURIER PHASE RANDOMIZATION \n",
    "##############################\n",
    "\n",
    "# Define number of random Fourier realizations\n",
    "n_realizations = 2\n",
    "t_length = pcs.shape[0]\n",
    "\n",
    "# Define random number generator \n",
    "#rng = np.random.default_rng(2021)\n",
    "#random_phases = np.exp(np.random.default_rng(2023).uniform(0,2*np.pi,int(len(fl)/2+1))*1.0j) in line 26\n",
    "\n",
    "# xeofs_pcs[:,i] when using PCA outputs\n",
    "new_fl_prerandom = np.empty((n_realizations,pcs.shape[0],pcs.shape[1]))\n",
    "\n",
    "# Time limits for plotting\n",
    "t1 = 0\n",
    "tf = int(t_length/2)\n",
    "\n",
    "for i in range(n_realizations):\n",
    "    for m in range(nmodes):\n",
    "        fl = pcs[:,m] # fluxpcs[:,i] when using PCA outputs\n",
    "        fl_filt = signal.filtfilt(bl, al, fl)\n",
    "        fl_filt=np.array(fl_filt)\n",
    "        fl_filt=fl_filt.transpose()\n",
    "        fl_fourier = np.fft.rfft(fl_filt)\n",
    "        #random_phases = np.exp(np.random.uniform(0,2*np.pi,int(len(fl)/2+1))*1.0j)\n",
    "        #random_phases = np.exp(np.random.default_rng(2023).uniform(0,2*np.pi,int(len(fl)/2+1))*1.0j)\n",
    "        random_phases = np.exp(np.random.uniform(0,2*np.pi,int(len(fl)/2+1))*1.0j)\n",
    "        fl_fourier_new = fl_fourier*random_phases\n",
    "        new_fl_prerandom[i,:,m] = np.fft.irfft(fl_fourier_new)\n",
    "    print('calculated ifft for realization {}, all modes'.format(i))"
   ]
  },
  {
   "cell_type": "code",
   "execution_count": null,
   "id": "68a11e34",
   "metadata": {},
   "outputs": [],
   "source": [
    "### Plot CDFs\n",
    "cdfx = np.sort(fl_fourier_new)\n",
    "cdfy = np.arange(1500) / float(1500)\n",
    "\n",
    "cdfxorig = np.sort(fl_fourier)\n",
    "# plotting  \n",
    "plt.title('CDF using sorting the data')\n",
    "plt.plot(cdfx, marker='.')\n",
    "plt.plot(cdfxorig, marker='.')"
   ]
  },
  {
   "cell_type": "markdown",
   "id": "c2393566",
   "metadata": {},
   "source": [
    "#### 1.5 Combine (1) and (2): Low-Pass filter before randomization, High-Pass filter after randomization"
   ]
  },
  {
   "cell_type": "code",
   "execution_count": null,
   "id": "66be09f4",
   "metadata": {},
   "outputs": [],
   "source": [
    "%%time\n",
    "##############################\n",
    "# FOURIER PHASE RANDOMIZATION \n",
    "##############################\n",
    "\n",
    "# Define number of random Fourier realizations\n",
    "n_realizations = 2\n",
    "t_length = pcs.shape[0]\n",
    "\n",
    "# Define random number generator \n",
    "#rng = np.random.default_rng(2021)\n",
    "#random_phases = np.exp(np.random.default_rng(2023).uniform(0,2*np.pi,int(len(fl)/2+1))*1.0j) in line 26\n",
    "\n",
    "# xeofs_pcs[:,i] when using PCA outputs\n",
    "new_fl = np.empty((n_realizations,pcs.shape[0],pcs.shape[1]))\n",
    "\n",
    "# Time limits for plotting\n",
    "t1 = 0\n",
    "tf = int(t_length/2)\n",
    "\n",
    "for i in range(n_realizations):\n",
    "    for m in range(nmodes):\n",
    "        fl = pcs[:,m] # fluxpcs[:,i] when using PCA outputs\n",
    "        fl_filt = signal.filtfilt(bl, al, fl)\n",
    "        fl_filt=np.array(fl_filt)\n",
    "        fl_filt=fl_filt.transpose()\n",
    "        fl_fourier = np.fft.rfft(fl_filt)\n",
    "        #random_phases = np.exp(np.random.uniform(0,2*np.pi,int(len(fl)/2+1))*1.0j)\n",
    "        #random_phases = np.exp(np.random.default_rng(2023).uniform(0,2*np.pi,int(len(fl)/2+1))*1.0j)\n",
    "        random_phases = np.exp(np.random.uniform(0,2*np.pi,int(len(fl)/2+1))*1.0j)\n",
    "        fl_fourier_new = fl_fourier*random_phases\n",
    "        new_fl_filt = np.fft.irfft(fl_fourier_new)\n",
    "        new_fl_filt = signal.filtfilt(bh, ah, new_fl_filt)\n",
    "        new_fl_filt = np.array(new_fl_filt)\n",
    "        new_fl_filt = new_fl_filt.transpose()\n",
    "        new_fl[i,:,m] = new_fl_filt + np.fft.irfft(fl_fourier_new)\n",
    "        # new_fl[i,:,m] = np.fft.irfft(fl_fourier_new)\n",
    "    print('calculated ifft for realization {}, all modes'.format(i))"
   ]
  },
  {
   "cell_type": "markdown",
   "id": "0dee0083",
   "metadata": {},
   "source": [
    "#### 1.5 [b] Combine (1) and (2): Low-Pass filter before randomization, High-Pass filter after randomization, USE FUNCTIONS"
   ]
  },
  {
   "cell_type": "code",
   "execution_count": null,
   "id": "f557fa7e",
   "metadata": {},
   "outputs": [],
   "source": [
    "%%time\n",
    "##############################\n",
    "# FOURIER PHASE RANDOMIZATION \n",
    "##############################\n",
    "\n",
    "# Define number of random Fourier realizations\n",
    "n_realizations = 2\n",
    "t_length = pcs.shape[0]\n",
    "\n",
    "# Define random number generator \n",
    "#rng = np.random.default_rng(2021)\n",
    "#random_phases = np.exp(np.random.default_rng(2023).uniform(0,2*np.pi,int(len(fl)/2+1))*1.0j) in line 26\n",
    "\n",
    "# xeofs_pcs[:,i] when using PCA outputs\n",
    "new_fl = np.empty((n_realizations,pcs.shape[0],pcs.shape[1]))\n",
    "\n",
    "# Time limits for plotting\n",
    "t1 = 0\n",
    "tf = int(t_length/2)\n",
    "\n",
    "for i in range(n_realizations):\n",
    "    for m in range(nmodes):\n",
    "        fl = pcs[:,m] # fluxpcs[:,i] when using PCA outputs\n",
    "        fl_filt = butter_lowpass_filter(fl,cutoff,fs,order)\n",
    "        #fl_filt = signal.filtfilt(bl, al, fl)\n",
    "        #fl_filt=np.array(fl_filt)\n",
    "        #fl_filt=fl_filt.transpose()\n",
    "        fl_fourier = np.fft.rfft(fl_filt)\n",
    "        #random_phases = np.exp(np.random.uniform(0,2*np.pi,int(len(fl)/2+1))*1.0j)\n",
    "        #random_phases = np.exp(np.random.default_rng(2023).uniform(0,2*np.pi,int(len(fl)/2+1))*1.0j)\n",
    "        random_phases = np.exp(np.random.uniform(0,2*np.pi,int(len(fl)/2+1))*1.0j)\n",
    "        fl_fourier_new = fl_fourier*random_phases\n",
    "        new_fl_filt = np.fft.irfft(fl_fourier_new)\n",
    "        new_fl_filt = butter_highpass_filter(new_fl_filt,cutoff,fs,order)\n",
    "        new_fl[i,:,m] = new_fl_filt + np.fft.irfft(fl_fourier_new)\n",
    "        # new_fl[i,:,m] = np.fft.irfft(fl_fourier_new)\n",
    "    print('calculated ifft for realization {}, all modes'.format(i))"
   ]
  },
  {
   "cell_type": "markdown",
   "id": "db4b5a25",
   "metadata": {},
   "source": [
    "#### 2. Filter PCs after randomization (before generation)"
   ]
  },
  {
   "cell_type": "code",
   "execution_count": null,
   "id": "0bfb46c6",
   "metadata": {},
   "outputs": [],
   "source": [
    "%%time\n",
    "##############################\n",
    "# FOURIER PHASE RANDOMIZATION \n",
    "##############################\n",
    "\n",
    "# Define number of random Fourier realizations\n",
    "n_realizations = 2\n",
    "t_length = pcs.shape[0]\n",
    "\n",
    "# Define random number generator \n",
    "#rng = np.random.default_rng(2021)\n",
    "#random_phases = np.exp(np.random.default_rng(2023).uniform(0,2*np.pi,int(len(fl)/2+1))*1.0j) in line 26\n",
    "\n",
    "# xeofs_pcs[:,i] when using PCA outputs\n",
    "new_fl = np.empty((n_realizations,pcs.shape[0],pcs.shape[1]))\n",
    "\n",
    "# Time limits for plotting\n",
    "t1 = 0\n",
    "tf = int(t_length/2)\n",
    "\n",
    "for i in range(n_realizations):\n",
    "    for m in range(nmodes):\n",
    "        fl = pcs[:,m] # fluxpcs[:,i] when using PCA outputs\n",
    "        fl_fourier = np.fft.rfft(fl)\n",
    "        #random_phases = np.exp(np.random.uniform(0,2*np.pi,int(len(fl)/2+1))*1.0j)\n",
    "        #random_phases = np.exp(np.random.default_rng(2023).uniform(0,2*np.pi,int(len(fl)/2+1))*1.0j)\n",
    "        random_phases = np.exp(np.random.uniform(0,2*np.pi,int(len(fl)/2+1))*1.0j)\n",
    "        fl_fourier_new = fl_fourier*random_phases\n",
    "        new_fl_filt = np.fft.irfft(fl_fourier_new)\n",
    "        new_fl_filt = signal.filtfilt(b, a, new_fl_filt)\n",
    "        new_fl_filt = np.array(new_fl_filt)\n",
    "        new_fl_filt = new_fl_filt.transpose()\n",
    "        new_fl[i,:,m] = new_fl_filt #np.fft.irfft(fl_fourier_new)\n",
    "    print('calculated ifft for realization {}, all modes'.format(i))"
   ]
  },
  {
   "cell_type": "markdown",
   "id": "4e8c6297",
   "metadata": {},
   "source": [
    "### Plot PCs and their PSDs\n",
    "\n",
    "PCs are generated using 1 of the three methods above"
   ]
  },
  {
   "cell_type": "code",
   "execution_count": null,
   "id": "f611ae54",
   "metadata": {},
   "outputs": [],
   "source": [
    "nmodes_plot = 4 # Number of modes to plot\n",
    "nrealizations_to_plot = 2 # to be lesser than absolute total number, defined in the Fourier randomization step\n",
    "\n",
    "sns.set_theme(style=\"white\")\n",
    "fig=plt.figure(figsize=(25,20))\n",
    "\n",
    "gs = GridSpec(nmodes_plot, 2, width_ratios=[4, 2])\n",
    "ax0 = [fig.add_subplot(gs[i, 0]) for i in range(nmodes_plot)]\n",
    "ax1 = [fig.add_subplot(gs[i, 1]) for i in range(nmodes_plot)]\n",
    "\n",
    "for i, (a0,a1) in enumerate(zip(ax0,ax1)):\n",
    "    for n_realization in range(0,nrealizations_to_plot):\n",
    "        a0.plot(new_fl[n_realization,:,i],color='b', linewidth=0.5)\n",
    "        a1.psd(new_fl[n_realization,:,i],color='b', linewidth=0.5)\n",
    "    a0.plot(new_fl[0,:,i],color='b', linewidth=0.25,label='Randomized')\n",
    "    a1.psd(new_fl[0,:,i],color='b', linewidth=0.25,label='Randomized')\n",
    "    a0.plot(pcs[:,i],color='k', linewidth=2.5,label='Original')\n",
    "    a1.psd(pcs[:,i],color='k', linewidth=2.5,label='Original')\n",
    "    a0.set_title('PC for EOF mode {}'.format(i+1))\n",
    "    a1.set_title('PSD for PC mode {}'.format(i+1))\n",
    "    a1.set_xlabel('')\n",
    "\n",
    "a0.set_xlabel('Time (months)')\n",
    "a1.set_xlabel('Frequency')\n",
    "plt.legend();"
   ]
  },
  {
   "cell_type": "code",
   "execution_count": null,
   "id": "56e2971d",
   "metadata": {},
   "outputs": [],
   "source": [
    "### Plot CDFs\n",
    "cdfx = np.sort(new_fl[0,:,0])\n",
    "cdfxnewfilt = np.sort(new_fl_prerandom[0,:,0])\n",
    "cdfy = np.arange(1500) / float(1500)\n",
    "cdfxorig = np.sort(pcs[:,0])\n",
    "# plotting  \n",
    "plt.title('CDF using sorting the data')\n",
    "plt.plot(cdfx, marker='.')\n",
    "plt.plot(cdfxorig, marker='.')\n",
    "plt.plot(cdfxnewfilt, marker='.')"
   ]
  },
  {
   "cell_type": "code",
   "execution_count": null,
   "id": "7f797a5b",
   "metadata": {},
   "outputs": [],
   "source": []
  },
  {
   "cell_type": "code",
   "execution_count": null,
   "id": "d33b724d",
   "metadata": {},
   "outputs": [],
   "source": [
    "import matplotlib as mpl\n",
    "\n",
    "ncolors=5\n",
    "nstart = 0\n",
    "cmap1 = mpl.colormaps['Greys'](np.linspace(0,1,ncolors))\n",
    "cmap2 = mpl.colormaps['Blues'](np.linspace(0,1,ncolors))\n",
    "cmap3 = mpl.colormaps['Oranges'](np.linspace(0,1,ncolors))\n",
    "cmap4 = mpl.colormaps['Greens'](np.linspace(0,1,ncolors))\n",
    "plt.figure(figsize=(15,8))\n",
    "\n",
    "plt.psd(pcs[:,nstart],noverlap=8,NFFT=256,color=cmap1[ncolors-1], label='Input data (Actual)');\n",
    "plt.psd(new_fl_nothing[0,:,nstart],noverlap=8,NFFT=256,color=cmap2[ncolors-1], label='Randomized PCs (No filtering)');\n",
    "plt.psd(new_fl_prerandom[0,:,nstart],noverlap=8,NFFT=256,color=cmap2[ncolors-1], label='Filter PCs before Randomization');\n",
    "plt.psd(new_fl[0,:,nstart],noverlap=8,NFFT=256,color=cmap3[ncolors-1], label='Filter Randomized PCs before Generation');\n",
    "\n",
    "for i in range(nstart,nstart+ncolors):\n",
    "    plt.psd(pcs[:,i],noverlap=8,NFFT=256,color=cmap1[i-nstart]);\n",
    "    plt.psd(new_fl_prerandom[0,:,i],noverlap=8,NFFT=256,color=cmap2[i-nstart]);\n",
    "    plt.psd(new_fl_nothing[0,:,i],noverlap=8,NFFT=256,color=cmap4[i-nstart]);\n",
    "    plt.psd(new_fl[0,:,i],noverlap=8,NFFT=256,color=cmap3[i-nstart]);\n",
    "plt.legend()"
   ]
  },
  {
   "cell_type": "code",
   "execution_count": null,
   "id": "7147d3ad",
   "metadata": {},
   "outputs": [],
   "source": [
    "nmodes_plot = 4 # Number of modes to plot\n",
    "nrealizations_to_plot = 2 # to be lesser than absolute total number, defined in the Fourier randomization step\n",
    "\n",
    "sns.set_theme(style=\"white\")\n",
    "fig=plt.figure(figsize=(25,20))\n",
    "\n",
    "gs = GridSpec(nmodes_plot, 2, width_ratios=[4, 2])\n",
    "ax0 = [fig.add_subplot(gs[i, 0]) for i in range(nmodes_plot)]\n",
    "ax1 = [fig.add_subplot(gs[i, 1]) for i in range(nmodes_plot)]\n",
    "\n",
    "for i, (a0,a1) in enumerate(zip(ax0,ax1)):\n",
    "    for n_realization in range(0,nrealizations_to_plot):\n",
    "        a0.plot(new_fl[n_realization,:,i],color='b', linewidth=0.5)\n",
    "        a1.psd(new_fl[n_realization,:,i],color='b', linewidth=0.5)\n",
    "    a0.plot(new_fl[0,:,i]+new_fl_high[0,:,i],color='b', linewidth=0.25,label='Randomized')\n",
    "    a1.psd(new_fl[0,:,i]+new_fl_high[0,:,i],color='b', linewidth=0.25,label='Randomized')\n",
    "    a0.plot(pcs[:,i],color='k', linewidth=2.5,label='Original')\n",
    "    a1.psd(pcs[:,i],color='k', linewidth=2.5,label='Original')\n",
    "    a0.set_title('PC for EOF mode {}'.format(i+1))\n",
    "    a1.set_title('PSD for PC mode {}'.format(i+1))\n",
    "    a1.set_xlabel('')\n",
    "\n",
    "a0.set_xlabel('Time (months)')\n",
    "a1.set_xlabel('Frequency')\n",
    "plt.legend();"
   ]
  },
  {
   "cell_type": "markdown",
   "id": "8c9ec0ba",
   "metadata": {},
   "source": [
    "## Statistical Generation\n",
    "\n",
    "This uses a custom function presently committed to the `xeofs` package. There is the possibility that this might break should `xeofs` be upgraded.\n",
    "\n",
    "*Ref: For commit diff details, see [mshiv/xeofs-rand](https://github.com/nicrie/xeofs/compare/main...mshiv:xeofs-rand:main).*\n",
    "#### TODO: Rewrite generator function using PCA as a standalone package and remove `xeofs` dependency."
   ]
  },
  {
   "cell_type": "code",
   "execution_count": null,
   "id": "a6ff7ccb",
   "metadata": {},
   "outputs": [],
   "source": [
    "#modified to not return f - in calculation of RMSE, only Px required\n",
    "def psd_calc_grid(data,y,x):\n",
    "    f, Px = scipy.signal.welch(data[:,y,x])\n",
    "    return Px\n",
    "\n",
    "def time_series(clipped_data):\n",
    "    clipped_ts = clipped_data.sum(['y','x'])\n",
    "    return clipped_ts\n",
    "\n",
    "# Reconstruct flux dataset using phase randomized PCs\n",
    "# This section is to be called iteratively for ensemble runs with multiple realizations\n",
    "# This method also takes 'modes' as a parameter: \n",
    "# which is used to reconstruct dataset with different number of selected modes\n",
    "\n",
    "def generate_data(n_realization,mode,mode_skip):\n",
    "    flux_reconstr = model.reconstruct_randomized_X(new_fl[n_realization],slice(1,mode,mode_skip))\n",
    "    #flux_reconstr = flux_reconstr.dropna('time',how='all')\n",
    "    #flux_reconstr = flux_reconstr.dropna('y',how='all')\n",
    "    #flux_reconstr = flux_reconstr.dropna('x',how='all')\n",
    "    #flux_reconstr = flux_reconstr.drop(\"month\")\n",
    "    return flux_reconstr\n",
    "\n",
    "def generate_noise(n_realization,mode,mode_skip):\n",
    "    flux_reconstr_noise = model.reconstruct_randomized_X(new_fl_high[n_realization],slice(1,mode,mode_skip))\n",
    "    #flux_reconstr = flux_reconstr.dropna('time',how='all')\n",
    "    #flux_reconstr = flux_reconstr.dropna('y',how='all')\n",
    "    #flux_reconstr = flux_reconstr.dropna('x',how='all')\n",
    "    #flux_reconstr = flux_reconstr.drop(\"month\")\n",
    "    return flux_reconstr_noise\n",
    "\n",
    "\n",
    "def clip_data(total_data, basin):\n",
    "    clipped_data = total_data.rio.clip(icems.loc[[basin],'geometry'].apply(mapping))\n",
    "    #clipped_data = clipped_data.dropna('time',how='all')\n",
    "    #clipped_data = clipped_data.dropna('y',how='all')\n",
    "    #clipped_data = clipped_data.dropna('x',how='all')\n",
    "    clipped_data = clipped_data.drop(\"month\")\n",
    "    return clipped_data"
   ]
  },
  {
   "cell_type": "code",
   "execution_count": null,
   "id": "a12ed7b9",
   "metadata": {},
   "outputs": [],
   "source": [
    "# Generate dataset realizations\n",
    "# Note standardized input data to the initial PCA \n",
    "for i in range(2):\n",
    "    flux_reconstr = generate_data(i, 1500, 1)\n",
    "    #flux_reconstr_noise = generate_noise(i, 1500, 1)\n",
    "    flux_reconstr = (flux_reconstr*flux_clean_tstd)+flux_clean_tmean\n",
    "    #flux_reconstr_noise = (flux_reconstr_noise*flux_clean_tstd)+flux_clean_tmean\n",
    "    #flux_reconstr = flux_reconstr + flux_reconstr_noise\n",
    "    flux_reconstr.to_netcdf(inDirName+interim_data_folder+\n",
    "                            cise_file_path+std_file_path+temp_filtered_path+\"REC_{}.nc\".format(i))\n",
    "    del flux_reconstr\n",
    "    gc.collect()\n",
    "    print('reconstructed realization # {}'.format(i))"
   ]
  },
  {
   "cell_type": "code",
   "execution_count": null,
   "id": "a9039b03",
   "metadata": {},
   "outputs": [],
   "source": [
    "correlation = xr.corr(flux_clean, flux_reconstr0, dim='time')"
   ]
  },
  {
   "cell_type": "code",
   "execution_count": null,
   "id": "e51247ce",
   "metadata": {},
   "outputs": [],
   "source": [
    "flux_clean"
   ]
  },
  {
   "cell_type": "code",
   "execution_count": null,
   "id": "b5d12fd2",
   "metadata": {},
   "outputs": [],
   "source": []
  },
  {
   "cell_type": "code",
   "execution_count": null,
   "id": "a3d5d290",
   "metadata": {},
   "outputs": [],
   "source": []
  },
  {
   "cell_type": "markdown",
   "id": "2ac2d64e",
   "metadata": {},
   "source": [
    "### Reconstruct with IAAFT surrogates"
   ]
  },
  {
   "cell_type": "code",
   "execution_count": null,
   "id": "81143b43",
   "metadata": {},
   "outputs": [],
   "source": [
    "def generate_iaaft_data(n_realization,mode,mode_skip):\n",
    "    flux_reconstr = model.reconstruct_randomized_X(xsnew[n_realization],slice(1,mode,mode_skip))\n",
    "    #flux_reconstr = flux_reconstr.dropna('time',how='all')\n",
    "    #flux_reconstr = flux_reconstr.dropna('y',how='all')\n",
    "    #flux_reconstr = flux_reconstr.dropna('x',how='all')\n",
    "    #flux_reconstr = flux_reconstr.drop(\"month\")\n",
    "    return flux_reconstr"
   ]
  },
  {
   "cell_type": "code",
   "execution_count": null,
   "id": "e4d133e9",
   "metadata": {},
   "outputs": [],
   "source": [
    "xsnew = np.moveaxis(xs,0,-1)"
   ]
  },
  {
   "cell_type": "code",
   "execution_count": null,
   "id": "091ae6e4",
   "metadata": {},
   "outputs": [],
   "source": []
  },
  {
   "cell_type": "code",
   "execution_count": null,
   "id": "01dbac14",
   "metadata": {},
   "outputs": [],
   "source": [
    "# Generate dataset realizations\n",
    "# Note standardized input data to the initial PCA \n",
    "for i in range(2):\n",
    "    flux_reconstr = generate_iaaft_data(i, 1500, 1)\n",
    "    #flux_reconstr_noise = generate_noise(i, 1500, 1)\n",
    "    flux_reconstr = (flux_reconstr*flux_clean_tstd)+flux_clean_tmean\n",
    "    #flux_reconstr_noise = (flux_reconstr_noise*flux_clean_tstd)+flux_clean_tmean\n",
    "    #flux_reconstr = flux_reconstr + flux_reconstr_noise\n",
    "    flux_reconstr.to_netcdf(inDirName+interim_data_folder+\n",
    "                            cise_file_path+std_file_path+\"iaaft/REC_{}.nc\".format(i))\n",
    "    del flux_reconstr\n",
    "    gc.collect()\n",
    "    print('reconstructed realization # {}'.format(i))"
   ]
  },
  {
   "cell_type": "code",
   "execution_count": null,
   "id": "51d8f531",
   "metadata": {},
   "outputs": [],
   "source": [
    "# change file name for other realizations\n",
    "flux_reconstr0 = xr.open_dataset(inDirName+interim_data_folder+\n",
    "                                 cise_file_path+std_file_path+'iaaft/REC_0.nc')\n",
    "flux_reconstr0 = flux_reconstr0.__xarray_dataarray_variable__\n",
    "\n",
    "flux_reconstr1 = xr.open_dataset(inDirName+interim_data_folder+\n",
    "                                 cise_file_path+std_file_path+'iaaft/REC_1.nc')\n",
    "flux_reconstr1 = flux_reconstr1.__xarray_dataarray_variable__"
   ]
  },
  {
   "cell_type": "code",
   "execution_count": null,
   "id": "e631f339",
   "metadata": {},
   "outputs": [],
   "source": [
    "modes_used = [200, 500, 1500]\n",
    "catchments = np.array([1,27,28,61,70,83])\n",
    "#catchments = np.array([1,27,28,61])\n",
    "basins = catchments+33\n",
    "n_basins = len(basins)\n",
    "color_orig = 'k'\n",
    "color_gen = 'dimgray'\n",
    "\n",
    "sns.set_theme(style=\"white\")\n",
    "fig=plt.figure(figsize=(18,5*n_basins))\n",
    "\n",
    "gs = GridSpec(n_basins, 2, width_ratios=[3, 1])\n",
    "ax0 = [fig.add_subplot(gs[i, 0]) for i in range(n_basins)]\n",
    "ax1 = [fig.add_subplot(gs[i, 1]) for i in range(n_basins)]\n",
    "\n",
    "for i,(a0,a1) in enumerate(zip(ax0,ax1)):\n",
    "    orig = clip_data(flux_clean, basins[i])\n",
    "    rec0 = clip_data(flux_reconstr0, basins[i])\n",
    "    rec1 = clip_data(flux_reconstr1, basins[i])\n",
    "    #rec2 = clip_data(flux_reconstr2, basins[i])\n",
    "    orig = orig.rename('orig')\n",
    "    rec0 = rec0.rename('rec0')\n",
    "    rec1 = rec1.rename('rec1')\n",
    "    #rec2 = rec2.rename('rec2')\n",
    "    combined = xr.merge([orig,rec0,rec1])\n",
    "    combined_ts = time_series(combined)\n",
    "    a0.plot(combined_ts.orig,color=color_orig, linewidth=1.5,label='Original')\n",
    "    a0.plot(combined_ts.rec0,color=color_gen, linewidth=0.25,label='Randomized')\n",
    "    a0.plot(combined_ts.rec1,color=color_gen, linewidth=0.25)\n",
    "    #a0.plot(combined_ts.rec2,color=color_gen, linewidth=0.25)\n",
    "    a1.psd(combined_ts.orig,color=color_orig, linewidth=1.5,label='Original')\n",
    "    a1.psd(combined_ts.rec0,color=color_gen, linewidth=0.25,label='Randomized')\n",
    "    a1.psd(combined_ts.rec1,color=color_gen, linewidth=0.25)\n",
    "    #a1.psd(combined_ts.rec2,color=color_gen, linewidth=0.25)\n",
    "    a0.set_title('Time Series: {}'.format(icems.name[basins[i]]))\n",
    "    a1.set_title('PSD: {}'.format(icems.name[basins[i]]))\n",
    "    a0.set_xlabel('')\n",
    "    a1.set_xlabel('')\n",
    "    axins = inset_axes(a0, width=\"30%\", height=\"30%\", loc=\"upper right\", \n",
    "                       axes_class=cartopy.mpl.geoaxes.GeoAxes, \n",
    "                       axes_kwargs=dict(projection=ccrs.SouthPolarStereo()))\n",
    "    icems[33:133].plot(ax=axins,linewidth=0.3,color='lightsteelblue')\n",
    "    axins.coastlines(resolution='10m',linewidth=0.25)\n",
    "    icems.loc[[33+catchments[i]],'geometry'].plot(ax=axins,color='k',linewidth=0.4)\n",
    "    del orig, rec0, rec1, combined\n",
    "a1.legend();\n",
    "a0.set_xlabel('Time (months)');\n",
    "a1.set_xlabel('Frequency');\n",
    "#plt.savefig(inDirName+processed_data_folder+pca_3+'generator-compare_{}-modes'.format(mode_number))\n",
    "gc.collect()"
   ]
  },
  {
   "cell_type": "markdown",
   "id": "3115f672",
   "metadata": {},
   "source": [
    "## Helper Functions\n",
    "\n",
    "Functions defined for the generation and follow on calculations"
   ]
  },
  {
   "cell_type": "markdown",
   "id": "81745fad",
   "metadata": {},
   "source": [
    "## Input generated dataset files\n",
    "\n",
    "Versions of these files from different experimental runs are currently housed in the project repo at ```/data/interim```. Note that the ```/data``` directory is ignored for remote commits, and is currently available only on local.\n",
    "Location can be changed above when saving the file to NETCDF in the Generation step."
   ]
  },
  {
   "cell_type": "code",
   "execution_count": null,
   "id": "6288f752",
   "metadata": {},
   "outputs": [],
   "source": [
    "# change file name for other realizations\n",
    "flux_reconstr0 = xr.open_dataset(inDirName+interim_data_folder+\n",
    "                                 cise_file_path+std_file_path+temp_filtered_path+'REC_0.nc')\n",
    "flux_reconstr0 = flux_reconstr0.__xarray_dataarray_variable__\n",
    "\n",
    "flux_reconstr1 = xr.open_dataset(inDirName+interim_data_folder+\n",
    "                                 cise_file_path+std_file_path+temp_filtered_path+'REC_1.nc')\n",
    "flux_reconstr1 = flux_reconstr1.__xarray_dataarray_variable__"
   ]
  },
  {
   "cell_type": "code",
   "execution_count": null,
   "id": "7b6a60b4",
   "metadata": {},
   "outputs": [],
   "source": [
    "# Specify catchments to clip data and plot for comparisons\n",
    "#Old reconstructions: \n",
    "# basins = np.array((34,55,114,103,104,105))\n",
    "# From previous section on chosen catchments (Scatter plot):\n",
    "#catchments = np.array([1,27,28,61,70,83,94,71,22])\n",
    "catchments = np.array([1,27,28,61])\n",
    "basins = catchments+33\n",
    "\n",
    "# Sample ice shelves chosen:\n",
    "# Amery = 1 ~ 34\n",
    "# George VI = 27 ~ \n",
    "# Getz = 28\n",
    "# Pine Island = 61\n",
    "# Ronne = 70\n",
    "# Totten = 83\n",
    "# Wilkins = 94\n",
    "# Western Ross = 71\n",
    "# Filchner = 22\n",
    "# Thwaites = 81\n",
    "# Eastern_Ross = 72"
   ]
  },
  {
   "cell_type": "markdown",
   "id": "cf9004b7",
   "metadata": {},
   "source": [
    "Create subsets of data (original and reconstructed realizations) for individual catchments. The data variables in each are named so that they may be easily input using the `xarray.open_mfdataset` method. Note however that `CDO` terminal commands are better suited for this if the number of realizations is significantly high (beyond 30?)"
   ]
  },
  {
   "cell_type": "markdown",
   "id": "99128bab",
   "metadata": {},
   "source": [
    "#### Clip data to each basin"
   ]
  },
  {
   "cell_type": "code",
   "execution_count": null,
   "id": "12a8ccdf",
   "metadata": {},
   "outputs": [],
   "source": [
    "for basin in basins:\n",
    "    orig = clip_data(flux_clean, basin)\n",
    "    #orig = clip_data(flux_clean_filtered, basin)\n",
    "    rec0 = clip_data(flux_reconstr0, basin)\n",
    "    rec1 = clip_data(flux_reconstr1, basin)\n",
    "    orig.rename('orig'.format(basin)).to_netcdf(inDirName+interim_data_folder+\n",
    "                                                   cise_file_path+std_file_path+temp_filtered_path+\"orig_{}_filt.nc\".format(basin))\n",
    "    rec0.rename('rec0'.format(basin)).to_netcdf(inDirName+interim_data_folder+\n",
    "                                                   cise_file_path+std_file_path+temp_filtered_path+\"rec0_{}_filt.nc\".format(basin))\n",
    "    rec1.rename('rec1'.format(basin)).to_netcdf(inDirName+interim_data_folder+\n",
    "                                                   cise_file_path+std_file_path+temp_filtered_path+\"rec1_{}_filt.nc\".format(basin))\n",
    "    del orig, rec0, rec1\n",
    "    gc.collect()"
   ]
  },
  {
   "cell_type": "markdown",
   "id": "ae93c9e1",
   "metadata": {},
   "source": [
    "#### Combine realizations and original data as separate data variables in `NETCDF` files."
   ]
  },
  {
   "cell_type": "code",
   "execution_count": null,
   "id": "ff9b7eb5",
   "metadata": {},
   "outputs": [],
   "source": [
    "for basin in basins:\n",
    "    basin_combined_datasets = xr.open_mfdataset(inDirName+interim_data_folder+\n",
    "                                                cise_file_path+std_file_path+\n",
    "                                                temp_filtered_path+\"*{}_filt.nc\".format(basin),\n",
    "                                                combine=\"nested\")\n",
    "    basin_combined_datasets.to_netcdf(inDirName+interim_data_folder+\n",
    "                                      cise_file_path+std_file_path+\n",
    "                                      temp_filtered_path+\"combined_{}.nc\".format(basin))\n",
    "    del basin_combined_datasets\n",
    "    gc.collect()"
   ]
  },
  {
   "cell_type": "markdown",
   "id": "df18b3ac",
   "metadata": {},
   "source": [
    "#### Plot figure (time series and PSD comparisons for each basin)"
   ]
  },
  {
   "cell_type": "code",
   "execution_count": null,
   "id": "dd42a6a1",
   "metadata": {
    "scrolled": false
   },
   "outputs": [],
   "source": [
    "n_basins = len(basins)\n",
    "\n",
    "color_orig = 'k'\n",
    "color_gen = 'dimgray'\n",
    "\n",
    "sns.set_theme(style=\"white\")\n",
    "fig=plt.figure(figsize=(18,5*n_basins))\n",
    "\n",
    "gs = GridSpec(n_basins, 2, width_ratios=[3, 1])\n",
    "ax0 = [fig.add_subplot(gs[i, 0]) for i in range(n_basins)]\n",
    "ax1 = [fig.add_subplot(gs[i, 1]) for i in range(n_basins)]\n",
    "\n",
    "for i,(a0,a1) in enumerate(zip(ax0,ax1)):\n",
    "    combined_ds = xr.open_dataset(inDirName+interim_data_folder+\n",
    "                              cise_file_path+std_file_path+temp_filtered_path+\"combined_{}.nc\".format(basins[i]))\n",
    "    combined_ds_ts = time_series(combined_ds)\n",
    "    a0.plot(combined_ds_ts.orig,color=color_orig, linewidth=1.5,label='Original')\n",
    "    a0.plot(combined_ds_ts.rec0,color=color_gen, linewidth=0.25,label='Randomized')\n",
    "    a0.plot(combined_ds_ts.rec1,color=color_gen, linewidth=0.25)\n",
    "    a1.psd(combined_ds_ts.orig,color=color_orig, linewidth=1.5,label='Original')\n",
    "    a1.psd(combined_ds_ts.rec0,color=color_gen, linewidth=0.25,label='Randomized')\n",
    "    a1.psd(combined_ds_ts.rec1,color=color_gen, linewidth=0.25)\n",
    "    a0.set_title('Time Series: {}'.format(icems.name[basins[i]]))\n",
    "    a1.set_title('PSD: {}'.format(icems.name[basins[i]]))\n",
    "    a0.set_xlabel('')\n",
    "    a1.set_xlabel('')\n",
    "    #axins.set_axis_off();\n",
    "#a0.legend();\n",
    "a1.legend();\n",
    "a0.set_xlabel('Time (months)');\n",
    "a1.set_xlabel('Frequency');\n",
    "#gs.tight_layout(fig)"
   ]
  },
  {
   "cell_type": "code",
   "execution_count": null,
   "id": "5082b80f",
   "metadata": {},
   "outputs": [],
   "source": [
    "%%time\n",
    "model = EOF(flux_reconstr0) # change accordingly if using original data, or normalized data\n",
    "#model = EOF(flux_clean) # change accordingly if using original data, or normalized data\n",
    "model.solve()\n",
    "eofsnew = model.eofs()\n",
    "pcsnew = model.pcs()"
   ]
  },
  {
   "cell_type": "code",
   "execution_count": null,
   "id": "5483d879",
   "metadata": {},
   "outputs": [],
   "source": [
    "eofsnew[:,:,100].plot()"
   ]
  },
  {
   "cell_type": "markdown",
   "id": "6b18d681",
   "metadata": {},
   "source": [
    "### Plot comparisons of full AIS time series\n",
    "\n",
    "#### Input full dataset (if not already done) and sum over entire domain to obtain time series."
   ]
  },
  {
   "cell_type": "code",
   "execution_count": null,
   "id": "56ca32c3",
   "metadata": {},
   "outputs": [],
   "source": [
    "# Full AIS data comparisons\n",
    "flux_clean_ts = time_series(flux_clean)\n",
    "flux_reconstr0_ts = time_series(flux_reconstr0)\n",
    "flux_reconstr1_ts = time_series(flux_reconstr1)"
   ]
  },
  {
   "cell_type": "markdown",
   "id": "5c8b68c6",
   "metadata": {},
   "source": [
    "#### Plot figure\n",
    "\n",
    "#### TODO: Add formatting and animate spatial variability fields for 2 generated realizations and original data. \n",
    "This will be added as a supplement."
   ]
  },
  {
   "cell_type": "code",
   "execution_count": null,
   "id": "cb41e161",
   "metadata": {},
   "outputs": [],
   "source": [
    "sns.set_theme(style=\"white\")\n",
    "fig=plt.figure(figsize=(25,8))\n",
    "\n",
    "plt.plot(flux_clean_ts, color='k', linewidth=1.5,label='Original')\n",
    "#plt.plot(filtered_flux_ts, color='k', linewidth=1.5,label='Original')\n",
    "plt.plot(flux_reconstr0_ts, color='b', linewidth=0.25,label='Randomized')\n",
    "#plt.plot(flux_reconstr1_ts, color='b', linewidth=0.25)"
   ]
  },
  {
   "cell_type": "code",
   "execution_count": null,
   "id": "3f2b4750",
   "metadata": {},
   "outputs": [],
   "source": [
    "sns.set_theme(style=\"white\")\n",
    "fig=plt.figure(figsize=(25,8))\n",
    "\n",
    "plt.plot(flux_clean_ts*sec_per_year/rho_fw, color='k', linewidth=1.5,label='Original')\n",
    "plt.plot(flux_reconstr0_ts*sec_per_year/rho_fw, color='b', linewidth=0.25,label='Randomized')\n",
    "plt.plot(flux_reconstr1_ts*sec_per_year/rho_fw, color='b', linewidth=0.25)"
   ]
  },
  {
   "cell_type": "code",
   "execution_count": null,
   "id": "97fe01b6",
   "metadata": {},
   "outputs": [],
   "source": [
    "nmodes_plot = 4 # Number of modes to plot\n",
    "nrealizations_to_plot = 2 # to be lesser than absolute total number, defined in the Fourier randomization step\n",
    "\n",
    "sns.set_theme(style=\"white\")\n",
    "fig=plt.figure(figsize=(25,20))\n",
    "\n",
    "gs = GridSpec(nmodes_plot, 2, width_ratios=[4, 2])\n",
    "ax0 = [fig.add_subplot(gs[i, 0]) for i in range(nmodes_plot)]\n",
    "ax1 = [fig.add_subplot(gs[i, 1]) for i in range(nmodes_plot)]\n",
    "\n",
    "for i, (a0,a1) in enumerate(zip(ax0,ax1)):\n",
    "    for n_realization in range(0,nrealizations_to_plot):\n",
    "        a0.plot(xsnew[n_realization,:,i],color='b', linewidth=0.5)\n",
    "        a1.psd(xsnew[n_realization,:,i],color='b', linewidth=0.5)\n",
    "    a0.plot(xsnew[0,:,i],color='b', linewidth=0.25,label='Randomized')\n",
    "    a1.psd(xsnew[0,:,i],color='b', noverlap=120,NFFT=256,linewidth=0.25,label='Randomized')\n",
    "    a0.plot(pcs[:,i],color='k', linewidth=2.5,label='Original')\n",
    "    a1.psd(pcs[:,i],color='k', noverlap=120,NFFT=256,linewidth=2.5,label='Original')\n",
    "    a0.set_title('PC for EOF mode {}'.format(i+1))\n",
    "    a1.set_title('PSD for PC mode {}'.format(i+1))\n",
    "    a1.set_xlabel('')\n",
    "\n",
    "a0.set_xlabel('Time (months)')\n",
    "a1.set_xlabel('Frequency')\n",
    "plt.legend();"
   ]
  },
  {
   "cell_type": "code",
   "execution_count": null,
   "id": "b81ca3f8",
   "metadata": {},
   "outputs": [],
   "source": [
    "sns.set_theme(style=\"white\")\n",
    "fig=plt.figure(figsize=(15,8))\n",
    "\n",
    "plt.subplot(211)\n",
    "plt.plot(flux_clean_ts, color='k', linewidth=1.5,label='Original');\n",
    "plt.plot(flux_reconstr0_ts, color='b', linewidth=0.25,label='Randomized');\n",
    "plt.plot(flux_reconstr1_ts, color='b', linewidth=0.25);\n",
    "\n",
    "plt.subplot(212)\n",
    "plt.psd(flux_clean_ts, color='k', linewidth=1.5,label='Original');\n",
    "plt.psd(flux_reconstr0_ts, color='b', linewidth=0.25,label='Randomized');\n",
    "plt.psd(flux_reconstr1_ts, color='b', linewidth=0.25);"
   ]
  },
  {
   "cell_type": "markdown",
   "id": "d92f93f9",
   "metadata": {},
   "source": [
    "## PSD calculations for AIS domain"
   ]
  },
  {
   "cell_type": "code",
   "execution_count": null,
   "id": "857d3d74",
   "metadata": {},
   "outputs": [],
   "source": [
    "from scipy import signal\n",
    "freqs0, psd0 = signal.welch(flux_clean_ts)\n",
    "freqs1, psd1 = signal.welch(flux_reconstr0_ts)\n",
    "freqs2, psd2 = signal.welch(flux_reconstr1_ts)"
   ]
  },
  {
   "cell_type": "code",
   "execution_count": null,
   "id": "8eeebc1b",
   "metadata": {},
   "outputs": [],
   "source": [
    "from scipy import signal\n",
    "freqs0, psd0 = signal.welch(combined_ds_ts.orig)\n",
    "freqs1, psd1 = signal.welch(combined_ds_ts.rec0)\n",
    "freqs2, psd2 = signal.welch(combined_ds_ts.rec1)"
   ]
  },
  {
   "cell_type": "code",
   "execution_count": null,
   "id": "4f75345d",
   "metadata": {},
   "outputs": [],
   "source": []
  },
  {
   "cell_type": "markdown",
   "id": "68ec6a82",
   "metadata": {},
   "source": [
    "## PSD plot for AIS domain\n",
    "\n",
    "This uses a normalized (semilog?) power in the y-axis, as opposed to [dB/Hz] shown earlier.\n",
    "\n",
    "#### TODO: Check all PSDs for different catchments"
   ]
  },
  {
   "cell_type": "code",
   "execution_count": null,
   "id": "faab2cb5",
   "metadata": {},
   "outputs": [],
   "source": [
    "plt.figure(figsize=(10, 4))\n",
    "plt.semilogx(freqs0, psd0,color='k', linewidth=1.5,label='Original')\n",
    "plt.semilogx(freqs1, psd1,color='b', linewidth=1.25,label='Randomized')\n",
    "plt.semilogx(freqs2, psd2,color='b', linewidth=1.25)\n",
    "plt.ylabel('Power')\n",
    "plt.xlabel('Frequency ($month^{-1}$)')"
   ]
  },
  {
   "cell_type": "code",
   "execution_count": null,
   "id": "a5a7eebd",
   "metadata": {},
   "outputs": [],
   "source": []
  },
  {
   "cell_type": "markdown",
   "id": "d4bfc449",
   "metadata": {},
   "source": [
    "### Spectral Filtering on dataset\n",
    "\n",
    "### TODO: \n",
    "#### 3 tests:\n",
    "    - [ ] Filter on original data input - easiest?\n",
    "    - [ ] Filter on projection co-efficients before randomization\n",
    "    - [ ] Filter on generated projection co-efficients after randomization, before generation\n",
    "    - [ ] Filter after generation - NO"
   ]
  },
  {
   "cell_type": "code",
   "execution_count": null,
   "id": "c1011cdc",
   "metadata": {},
   "outputs": [],
   "source": [
    "# Define Butterworth filter parameters \n",
    "fs=30/24/3600 # 1 month in Hz (sampling frequency)\n",
    "nyquist = fs / 2 # 0.5 times the sampling frequency\n",
    "cutoff=0.15 # fraction of nyquist frequency, chosen to define the cutoff frequency\n",
    "print('cutoff= ',1/cutoff*nyquist*24*3600) # cutoff=  __  days\n",
    "b, a = signal.butter(1, cutoff, btype='lowpass') #low pass filter, 5 is chosen as order of filter"
   ]
  },
  {
   "cell_type": "code",
   "execution_count": null,
   "id": "13ce4e9b",
   "metadata": {},
   "outputs": [],
   "source": [
    "mode_number = 1500\n",
    "flux_reconstr0 = xr.open_dataset(inDirName+processed_data_folder+pca_3+'REC_{}-modes_0.nc'.format(mode_number))\n",
    "flux_reconstr0 = flux_reconstr0.__xarray_dataarray_variable__"
   ]
  },
  {
   "cell_type": "code",
   "execution_count": null,
   "id": "3d37e7b1",
   "metadata": {},
   "outputs": [],
   "source": [
    "mode_number = 1500\n",
    "flux_reconstr0 = xr.open_dataset(inDirName+processed_data_folder+pca_3+'REC_{}-modes_0.nc'.format(mode_number))\n",
    "flux_reconstr0 = flux_reconstr0.__xarray_dataarray_variable__"
   ]
  },
  {
   "cell_type": "code",
   "execution_count": null,
   "id": "283c87a9",
   "metadata": {},
   "outputs": [],
   "source": [
    "fl_filt = signal.filtfilt(b, a, flux_reconstr0, axis=0) # axis=time axis (0) \n",
    "fl_filt = xr.DataArray(fl_filt, dims = flux_reconstr0.dims, coords = flux_reconstr0.coords, attrs = flux_reconstr0.attrs)"
   ]
  },
  {
   "cell_type": "code",
   "execution_count": null,
   "id": "047a714a",
   "metadata": {},
   "outputs": [],
   "source": [
    "flux_reconstr0_ts = time_series(flux_reconstr0) # Filter Randomized PC before Generation"
   ]
  },
  {
   "cell_type": "code",
   "execution_count": null,
   "id": "8211fa4c",
   "metadata": {},
   "outputs": [],
   "source": [
    "flux_reconstr0_pre_random = xr.open_dataset(inDirName+interim_data_folder+\n",
    "                                            cise_file_path+std_file_path+temp_filtered_path+'REC_0.nc')\n",
    "flux_reconstr0_pre_random = flux_reconstr0_pre_random.__xarray_dataarray_variable__\n",
    "flux_reconstr0_pre_random_ts = time_series(flux_reconstr0_pre_random)"
   ]
  },
  {
   "cell_type": "code",
   "execution_count": null,
   "id": "50668f19",
   "metadata": {},
   "outputs": [],
   "source": [
    "flux_filtered_input_reconstruction = xr.open_dataset(inDirName+interim_data_folder+\n",
    "                                                     cise_file_path+std_file_path+\n",
    "                                                     temp_filtered_path+\"1500_modes_24mon_cutoff/REC_0.nc\")\n",
    "flux_filtered_input_reconstruction = flux_filtered_input_reconstruction.__xarray_dataarray_variable__\n",
    "flux_filtered_input_reconstruction_TS = time_series(flux_filtered_input_reconstruction)"
   ]
  },
  {
   "cell_type": "code",
   "execution_count": null,
   "id": "37c0f994",
   "metadata": {},
   "outputs": [],
   "source": [
    "flux_filtered_reconstruction_noise = xr.open_dataset(inDirName+interim_data_folder+\n",
    "                                                     cise_file_path+std_file_path+\n",
    "                                                     temp_filtered_path+\"1500_modes_24mon_cutoff/flux_clean_reconstr_noise_24mon.nc\")\n",
    "\n",
    "flux_filtered_input_reconstruction = flux_clean - flux_filtered_reconstruction_noise\n",
    "flux_filtered_input_reconstruction_ts = time_series(flux_filtered_input_reconstruction)"
   ]
  },
  {
   "cell_type": "code",
   "execution_count": null,
   "id": "4d10e6ff",
   "metadata": {},
   "outputs": [],
   "source": [
    "flux_filtered_input_reconstruction_ts = flux_filtered_input_reconstruction_ts.__xarray_dataarray_variable__"
   ]
  },
  {
   "cell_type": "code",
   "execution_count": null,
   "id": "d900d468",
   "metadata": {},
   "outputs": [],
   "source": [
    "flux_clean.plot()"
   ]
  },
  {
   "cell_type": "code",
   "execution_count": null,
   "id": "d23a3f6b",
   "metadata": {},
   "outputs": [],
   "source": []
  },
  {
   "cell_type": "code",
   "execution_count": null,
   "id": "1f443861",
   "metadata": {},
   "outputs": [],
   "source": [
    "plt.figure(figsize=(25,8))\n",
    "plt.plot(flux_clean_ts, color='k', lw=2,label='Input data (Actual)');\n",
    "plt.plot(flux_filtered_input_reconstruction_ts, color='gray',lw=0.5,label='Filter Generator Input')\n",
    "plt.plot(flux_reconstr0_pre_random_ts,color='b', lw=0.5,label='Filter PCs before Randomization');\n",
    "plt.plot(flux_reconstr0_ts, color='g',lw=0.5,label='Filter Randomized PCs before Generation');\n",
    "plt.plot(fl_filt_ts, color='r',lw=0.5,label='Filter Generated Output');\n",
    "plt.legend()"
   ]
  },
  {
   "cell_type": "code",
   "execution_count": null,
   "id": "c3094c4f",
   "metadata": {},
   "outputs": [],
   "source": [
    "plt.figure(figsize=(12,8))\n",
    "plt.psd(flux_clean_ts, color='k', lw=2,label='Input data (Actual)');\n",
    "#plt.psd(flux_filtered_input_reconstruction_ts, color='m',lw=0.5,label='Filter Generator Input')\n",
    "plt.psd(flux_reconstr0_pre_random_ts,color='b', lw=1.5,label='Filter PCs before Randomization');\n",
    "plt.psd(flux_reconstr0_ts, color='g',lw=0.5,label='Filter Randomized PCs before Generation');\n",
    "plt.psd(fl_filt_ts, color='r',lw=0.5,label='Filter Generated Output');\n",
    "plt.legend()"
   ]
  },
  {
   "cell_type": "code",
   "execution_count": null,
   "id": "a760a1bb",
   "metadata": {},
   "outputs": [],
   "source": [
    "flux_clean_ts = time_series(flux_clean)\n",
    "fl_filt_ts = time_series(fl_filt)"
   ]
  },
  {
   "cell_type": "code",
   "execution_count": null,
   "id": "f3e168a0",
   "metadata": {},
   "outputs": [],
   "source": [
    "plt.figure(figsize=(25,8))\n",
    "plt.plot(flux_clean_ts)\n",
    "plt.plot(fl_filt_ts)"
   ]
  },
  {
   "cell_type": "code",
   "execution_count": null,
   "id": "6a75e12f",
   "metadata": {},
   "outputs": [],
   "source": [
    "plt.psd(flux_clean_ts)\n",
    "plt.psd(fl_filt_ts)"
   ]
  },
  {
   "cell_type": "code",
   "execution_count": null,
   "id": "3261c64d",
   "metadata": {},
   "outputs": [],
   "source": [
    "%%time\n",
    "y = flux_clean.shape[1]\n",
    "x = flux_clean.shape[2]\n",
    "\n",
    "flux_gen_filtered = np.empty((flux_clean.shape[0],y,x))\n",
    "\n",
    "for i in range(y):\n",
    "    for j in range(x):\n",
    "        fl_filt = signal.filtfilt(b, a, flux_reconstr0[:,i,j])\n",
    "        fl_filt = np.array(fl_filt)\n",
    "        fl_filt = fl_filt.transpose()\n",
    "        flux_gen_filtered[:,i,j] = fl_filt\n",
    "        print(\"filtered at {},{}\".format(i,j))\n",
    "\n",
    "flux_gen_filtered.to_netcdf(inDirName+processed_data_folder+pca_3+\"REC_1500-modes_0_filtered.nc\")"
   ]
  }
 ],
 "metadata": {
  "kernelspec": {
   "display_name": "Python 3 (ipykernel)",
   "language": "python",
   "name": "python3"
  },
  "language_info": {
   "codemirror_mode": {
    "name": "ipython",
    "version": 3
   },
   "file_extension": ".py",
   "mimetype": "text/x-python",
   "name": "python",
   "nbconvert_exporter": "python",
   "pygments_lexer": "ipython3",
   "version": "3.10.8"
  }
 },
 "nbformat": 4,
 "nbformat_minor": 5
}
